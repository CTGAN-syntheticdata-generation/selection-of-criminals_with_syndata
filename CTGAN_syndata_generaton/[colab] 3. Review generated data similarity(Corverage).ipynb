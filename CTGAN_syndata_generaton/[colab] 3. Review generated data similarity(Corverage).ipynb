{
 "cells": [
  {
   "cell_type": "code",
   "execution_count": null,
   "id": "1bdf8b51-882e-424d-8a60-115acd2d1a84",
   "metadata": {},
   "outputs": [],
   "source": [
    "from google.colab import drive\n",
    "drive.mount('/content/drive')"
   ]
  },
  {
   "cell_type": "code",
   "execution_count": null,
   "id": "fc0cb265-3f3e-4d8b-b1e4-5ab202837bc6",
   "metadata": {},
   "outputs": [],
   "source": [
    "cd \"/content/drive/MyDrive\""
   ]
  },
  {
   "cell_type": "code",
   "execution_count": null,
   "id": "ac98844f-0c7c-4b6c-88e5-7574e11bf064",
   "metadata": {},
   "outputs": [],
   "source": [
    "cd \"/content/drive/MyDrive/selection-of-criminals_with_syndata/CTGAN_syndata_generaton\" "
   ]
  },
  {
   "cell_type": "code",
   "execution_count": null,
   "id": "b2c17c7e-42cc-4a76-a9c5-2d6a68b0a70c",
   "metadata": {},
   "outputs": [],
   "source": [
    "!pip install sdmetrics"
   ]
  },
  {
   "cell_type": "markdown",
   "id": "e976cc0b-dbc6-4828-837d-0dca98dd3cf2",
   "metadata": {},
   "source": [
    "# 3. Review generated data similarity(Coverage)"
   ]
  },
  {
   "cell_type": "markdown",
   "id": "05ed8695-b04c-4577-812c-c358d0211818",
   "metadata": {
    "tags": []
   },
   "source": [
    " ## Data load"
   ]
  },
  {
   "cell_type": "code",
   "execution_count": 1,
   "id": "42da2389-e027-4ac5-8a82-df9429ed39e5",
   "metadata": {},
   "outputs": [],
   "source": [
    "import pandas as pd\n",
    "import copy"
   ]
  },
  {
   "cell_type": "code",
   "execution_count": 2,
   "id": "b793c233-cdd5-4aec-babe-3b7bf52ccc20",
   "metadata": {},
   "outputs": [
    {
     "ename": "FileNotFoundError",
     "evalue": "[Errno 2] No such file or directory: './data_sample/df_syn_en_09.csv'",
     "output_type": "error",
     "traceback": [
      "\u001b[1;31m---------------------------------------------------------------------------\u001b[0m",
      "\u001b[1;31mFileNotFoundError\u001b[0m                         Traceback (most recent call last)",
      "Cell \u001b[1;32mIn[2], line 1\u001b[0m\n\u001b[1;32m----> 1\u001b[0m df_syn_01 \u001b[38;5;241m=\u001b[39m \u001b[43mpd\u001b[49m\u001b[38;5;241;43m.\u001b[39;49m\u001b[43mread_csv\u001b[49m\u001b[43m(\u001b[49m\u001b[38;5;124;43m'\u001b[39;49m\u001b[38;5;124;43m./data_sample/df_syn_en_09.csv\u001b[39;49m\u001b[38;5;124;43m'\u001b[39;49m\u001b[43m,\u001b[49m\u001b[43m \u001b[49m\u001b[43mencoding\u001b[49m\u001b[38;5;241;43m=\u001b[39;49m\u001b[38;5;124;43m'\u001b[39;49m\u001b[38;5;124;43mutf-8-sig\u001b[39;49m\u001b[38;5;124;43m'\u001b[39;49m\u001b[43m)\u001b[49m \u001b[38;5;66;03m#새로운 가상데이터\u001b[39;00m\n",
      "File \u001b[1;32m~\\anaconda3\\envs\\wco_ctgan\\lib\\site-packages\\pandas\\util\\_decorators.py:211\u001b[0m, in \u001b[0;36mdeprecate_kwarg.<locals>._deprecate_kwarg.<locals>.wrapper\u001b[1;34m(*args, **kwargs)\u001b[0m\n\u001b[0;32m    209\u001b[0m     \u001b[38;5;28;01melse\u001b[39;00m:\n\u001b[0;32m    210\u001b[0m         kwargs[new_arg_name] \u001b[38;5;241m=\u001b[39m new_arg_value\n\u001b[1;32m--> 211\u001b[0m \u001b[38;5;28;01mreturn\u001b[39;00m func(\u001b[38;5;241m*\u001b[39margs, \u001b[38;5;241m*\u001b[39m\u001b[38;5;241m*\u001b[39mkwargs)\n",
      "File \u001b[1;32m~\\anaconda3\\envs\\wco_ctgan\\lib\\site-packages\\pandas\\util\\_decorators.py:331\u001b[0m, in \u001b[0;36mdeprecate_nonkeyword_arguments.<locals>.decorate.<locals>.wrapper\u001b[1;34m(*args, **kwargs)\u001b[0m\n\u001b[0;32m    325\u001b[0m \u001b[38;5;28;01mif\u001b[39;00m \u001b[38;5;28mlen\u001b[39m(args) \u001b[38;5;241m>\u001b[39m num_allow_args:\n\u001b[0;32m    326\u001b[0m     warnings\u001b[38;5;241m.\u001b[39mwarn(\n\u001b[0;32m    327\u001b[0m         msg\u001b[38;5;241m.\u001b[39mformat(arguments\u001b[38;5;241m=\u001b[39m_format_argument_list(allow_args)),\n\u001b[0;32m    328\u001b[0m         \u001b[38;5;167;01mFutureWarning\u001b[39;00m,\n\u001b[0;32m    329\u001b[0m         stacklevel\u001b[38;5;241m=\u001b[39mfind_stack_level(),\n\u001b[0;32m    330\u001b[0m     )\n\u001b[1;32m--> 331\u001b[0m \u001b[38;5;28;01mreturn\u001b[39;00m func(\u001b[38;5;241m*\u001b[39margs, \u001b[38;5;241m*\u001b[39m\u001b[38;5;241m*\u001b[39mkwargs)\n",
      "File \u001b[1;32m~\\anaconda3\\envs\\wco_ctgan\\lib\\site-packages\\pandas\\io\\parsers\\readers.py:950\u001b[0m, in \u001b[0;36mread_csv\u001b[1;34m(filepath_or_buffer, sep, delimiter, header, names, index_col, usecols, squeeze, prefix, mangle_dupe_cols, dtype, engine, converters, true_values, false_values, skipinitialspace, skiprows, skipfooter, nrows, na_values, keep_default_na, na_filter, verbose, skip_blank_lines, parse_dates, infer_datetime_format, keep_date_col, date_parser, dayfirst, cache_dates, iterator, chunksize, compression, thousands, decimal, lineterminator, quotechar, quoting, doublequote, escapechar, comment, encoding, encoding_errors, dialect, error_bad_lines, warn_bad_lines, on_bad_lines, delim_whitespace, low_memory, memory_map, float_precision, storage_options)\u001b[0m\n\u001b[0;32m    935\u001b[0m kwds_defaults \u001b[38;5;241m=\u001b[39m _refine_defaults_read(\n\u001b[0;32m    936\u001b[0m     dialect,\n\u001b[0;32m    937\u001b[0m     delimiter,\n\u001b[1;32m   (...)\u001b[0m\n\u001b[0;32m    946\u001b[0m     defaults\u001b[38;5;241m=\u001b[39m{\u001b[38;5;124m\"\u001b[39m\u001b[38;5;124mdelimiter\u001b[39m\u001b[38;5;124m\"\u001b[39m: \u001b[38;5;124m\"\u001b[39m\u001b[38;5;124m,\u001b[39m\u001b[38;5;124m\"\u001b[39m},\n\u001b[0;32m    947\u001b[0m )\n\u001b[0;32m    948\u001b[0m kwds\u001b[38;5;241m.\u001b[39mupdate(kwds_defaults)\n\u001b[1;32m--> 950\u001b[0m \u001b[38;5;28;01mreturn\u001b[39;00m \u001b[43m_read\u001b[49m\u001b[43m(\u001b[49m\u001b[43mfilepath_or_buffer\u001b[49m\u001b[43m,\u001b[49m\u001b[43m \u001b[49m\u001b[43mkwds\u001b[49m\u001b[43m)\u001b[49m\n",
      "File \u001b[1;32m~\\anaconda3\\envs\\wco_ctgan\\lib\\site-packages\\pandas\\io\\parsers\\readers.py:605\u001b[0m, in \u001b[0;36m_read\u001b[1;34m(filepath_or_buffer, kwds)\u001b[0m\n\u001b[0;32m    602\u001b[0m _validate_names(kwds\u001b[38;5;241m.\u001b[39mget(\u001b[38;5;124m\"\u001b[39m\u001b[38;5;124mnames\u001b[39m\u001b[38;5;124m\"\u001b[39m, \u001b[38;5;28;01mNone\u001b[39;00m))\n\u001b[0;32m    604\u001b[0m \u001b[38;5;66;03m# Create the parser.\u001b[39;00m\n\u001b[1;32m--> 605\u001b[0m parser \u001b[38;5;241m=\u001b[39m TextFileReader(filepath_or_buffer, \u001b[38;5;241m*\u001b[39m\u001b[38;5;241m*\u001b[39mkwds)\n\u001b[0;32m    607\u001b[0m \u001b[38;5;28;01mif\u001b[39;00m chunksize \u001b[38;5;129;01mor\u001b[39;00m iterator:\n\u001b[0;32m    608\u001b[0m     \u001b[38;5;28;01mreturn\u001b[39;00m parser\n",
      "File \u001b[1;32m~\\anaconda3\\envs\\wco_ctgan\\lib\\site-packages\\pandas\\io\\parsers\\readers.py:1442\u001b[0m, in \u001b[0;36mTextFileReader.__init__\u001b[1;34m(self, f, engine, **kwds)\u001b[0m\n\u001b[0;32m   1439\u001b[0m     \u001b[38;5;28mself\u001b[39m\u001b[38;5;241m.\u001b[39moptions[\u001b[38;5;124m\"\u001b[39m\u001b[38;5;124mhas_index_names\u001b[39m\u001b[38;5;124m\"\u001b[39m] \u001b[38;5;241m=\u001b[39m kwds[\u001b[38;5;124m\"\u001b[39m\u001b[38;5;124mhas_index_names\u001b[39m\u001b[38;5;124m\"\u001b[39m]\n\u001b[0;32m   1441\u001b[0m \u001b[38;5;28mself\u001b[39m\u001b[38;5;241m.\u001b[39mhandles: IOHandles \u001b[38;5;241m|\u001b[39m \u001b[38;5;28;01mNone\u001b[39;00m \u001b[38;5;241m=\u001b[39m \u001b[38;5;28;01mNone\u001b[39;00m\n\u001b[1;32m-> 1442\u001b[0m \u001b[38;5;28mself\u001b[39m\u001b[38;5;241m.\u001b[39m_engine \u001b[38;5;241m=\u001b[39m \u001b[38;5;28;43mself\u001b[39;49m\u001b[38;5;241;43m.\u001b[39;49m\u001b[43m_make_engine\u001b[49m\u001b[43m(\u001b[49m\u001b[43mf\u001b[49m\u001b[43m,\u001b[49m\u001b[43m \u001b[49m\u001b[38;5;28;43mself\u001b[39;49m\u001b[38;5;241;43m.\u001b[39;49m\u001b[43mengine\u001b[49m\u001b[43m)\u001b[49m\n",
      "File \u001b[1;32m~\\anaconda3\\envs\\wco_ctgan\\lib\\site-packages\\pandas\\io\\parsers\\readers.py:1735\u001b[0m, in \u001b[0;36mTextFileReader._make_engine\u001b[1;34m(self, f, engine)\u001b[0m\n\u001b[0;32m   1733\u001b[0m     \u001b[38;5;28;01mif\u001b[39;00m \u001b[38;5;124m\"\u001b[39m\u001b[38;5;124mb\u001b[39m\u001b[38;5;124m\"\u001b[39m \u001b[38;5;129;01mnot\u001b[39;00m \u001b[38;5;129;01min\u001b[39;00m mode:\n\u001b[0;32m   1734\u001b[0m         mode \u001b[38;5;241m+\u001b[39m\u001b[38;5;241m=\u001b[39m \u001b[38;5;124m\"\u001b[39m\u001b[38;5;124mb\u001b[39m\u001b[38;5;124m\"\u001b[39m\n\u001b[1;32m-> 1735\u001b[0m \u001b[38;5;28mself\u001b[39m\u001b[38;5;241m.\u001b[39mhandles \u001b[38;5;241m=\u001b[39m \u001b[43mget_handle\u001b[49m\u001b[43m(\u001b[49m\n\u001b[0;32m   1736\u001b[0m \u001b[43m    \u001b[49m\u001b[43mf\u001b[49m\u001b[43m,\u001b[49m\n\u001b[0;32m   1737\u001b[0m \u001b[43m    \u001b[49m\u001b[43mmode\u001b[49m\u001b[43m,\u001b[49m\n\u001b[0;32m   1738\u001b[0m \u001b[43m    \u001b[49m\u001b[43mencoding\u001b[49m\u001b[38;5;241;43m=\u001b[39;49m\u001b[38;5;28;43mself\u001b[39;49m\u001b[38;5;241;43m.\u001b[39;49m\u001b[43moptions\u001b[49m\u001b[38;5;241;43m.\u001b[39;49m\u001b[43mget\u001b[49m\u001b[43m(\u001b[49m\u001b[38;5;124;43m\"\u001b[39;49m\u001b[38;5;124;43mencoding\u001b[39;49m\u001b[38;5;124;43m\"\u001b[39;49m\u001b[43m,\u001b[49m\u001b[43m \u001b[49m\u001b[38;5;28;43;01mNone\u001b[39;49;00m\u001b[43m)\u001b[49m\u001b[43m,\u001b[49m\n\u001b[0;32m   1739\u001b[0m \u001b[43m    \u001b[49m\u001b[43mcompression\u001b[49m\u001b[38;5;241;43m=\u001b[39;49m\u001b[38;5;28;43mself\u001b[39;49m\u001b[38;5;241;43m.\u001b[39;49m\u001b[43moptions\u001b[49m\u001b[38;5;241;43m.\u001b[39;49m\u001b[43mget\u001b[49m\u001b[43m(\u001b[49m\u001b[38;5;124;43m\"\u001b[39;49m\u001b[38;5;124;43mcompression\u001b[39;49m\u001b[38;5;124;43m\"\u001b[39;49m\u001b[43m,\u001b[49m\u001b[43m \u001b[49m\u001b[38;5;28;43;01mNone\u001b[39;49;00m\u001b[43m)\u001b[49m\u001b[43m,\u001b[49m\n\u001b[0;32m   1740\u001b[0m \u001b[43m    \u001b[49m\u001b[43mmemory_map\u001b[49m\u001b[38;5;241;43m=\u001b[39;49m\u001b[38;5;28;43mself\u001b[39;49m\u001b[38;5;241;43m.\u001b[39;49m\u001b[43moptions\u001b[49m\u001b[38;5;241;43m.\u001b[39;49m\u001b[43mget\u001b[49m\u001b[43m(\u001b[49m\u001b[38;5;124;43m\"\u001b[39;49m\u001b[38;5;124;43mmemory_map\u001b[39;49m\u001b[38;5;124;43m\"\u001b[39;49m\u001b[43m,\u001b[49m\u001b[43m \u001b[49m\u001b[38;5;28;43;01mFalse\u001b[39;49;00m\u001b[43m)\u001b[49m\u001b[43m,\u001b[49m\n\u001b[0;32m   1741\u001b[0m \u001b[43m    \u001b[49m\u001b[43mis_text\u001b[49m\u001b[38;5;241;43m=\u001b[39;49m\u001b[43mis_text\u001b[49m\u001b[43m,\u001b[49m\n\u001b[0;32m   1742\u001b[0m \u001b[43m    \u001b[49m\u001b[43merrors\u001b[49m\u001b[38;5;241;43m=\u001b[39;49m\u001b[38;5;28;43mself\u001b[39;49m\u001b[38;5;241;43m.\u001b[39;49m\u001b[43moptions\u001b[49m\u001b[38;5;241;43m.\u001b[39;49m\u001b[43mget\u001b[49m\u001b[43m(\u001b[49m\u001b[38;5;124;43m\"\u001b[39;49m\u001b[38;5;124;43mencoding_errors\u001b[39;49m\u001b[38;5;124;43m\"\u001b[39;49m\u001b[43m,\u001b[49m\u001b[43m \u001b[49m\u001b[38;5;124;43m\"\u001b[39;49m\u001b[38;5;124;43mstrict\u001b[39;49m\u001b[38;5;124;43m\"\u001b[39;49m\u001b[43m)\u001b[49m\u001b[43m,\u001b[49m\n\u001b[0;32m   1743\u001b[0m \u001b[43m    \u001b[49m\u001b[43mstorage_options\u001b[49m\u001b[38;5;241;43m=\u001b[39;49m\u001b[38;5;28;43mself\u001b[39;49m\u001b[38;5;241;43m.\u001b[39;49m\u001b[43moptions\u001b[49m\u001b[38;5;241;43m.\u001b[39;49m\u001b[43mget\u001b[49m\u001b[43m(\u001b[49m\u001b[38;5;124;43m\"\u001b[39;49m\u001b[38;5;124;43mstorage_options\u001b[39;49m\u001b[38;5;124;43m\"\u001b[39;49m\u001b[43m,\u001b[49m\u001b[43m \u001b[49m\u001b[38;5;28;43;01mNone\u001b[39;49;00m\u001b[43m)\u001b[49m\u001b[43m,\u001b[49m\n\u001b[0;32m   1744\u001b[0m \u001b[43m\u001b[49m\u001b[43m)\u001b[49m\n\u001b[0;32m   1745\u001b[0m \u001b[38;5;28;01massert\u001b[39;00m \u001b[38;5;28mself\u001b[39m\u001b[38;5;241m.\u001b[39mhandles \u001b[38;5;129;01mis\u001b[39;00m \u001b[38;5;129;01mnot\u001b[39;00m \u001b[38;5;28;01mNone\u001b[39;00m\n\u001b[0;32m   1746\u001b[0m f \u001b[38;5;241m=\u001b[39m \u001b[38;5;28mself\u001b[39m\u001b[38;5;241m.\u001b[39mhandles\u001b[38;5;241m.\u001b[39mhandle\n",
      "File \u001b[1;32m~\\anaconda3\\envs\\wco_ctgan\\lib\\site-packages\\pandas\\io\\common.py:856\u001b[0m, in \u001b[0;36mget_handle\u001b[1;34m(path_or_buf, mode, encoding, compression, memory_map, is_text, errors, storage_options)\u001b[0m\n\u001b[0;32m    851\u001b[0m \u001b[38;5;28;01melif\u001b[39;00m \u001b[38;5;28misinstance\u001b[39m(handle, \u001b[38;5;28mstr\u001b[39m):\n\u001b[0;32m    852\u001b[0m     \u001b[38;5;66;03m# Check whether the filename is to be opened in binary mode.\u001b[39;00m\n\u001b[0;32m    853\u001b[0m     \u001b[38;5;66;03m# Binary mode does not support 'encoding' and 'newline'.\u001b[39;00m\n\u001b[0;32m    854\u001b[0m     \u001b[38;5;28;01mif\u001b[39;00m ioargs\u001b[38;5;241m.\u001b[39mencoding \u001b[38;5;129;01mand\u001b[39;00m \u001b[38;5;124m\"\u001b[39m\u001b[38;5;124mb\u001b[39m\u001b[38;5;124m\"\u001b[39m \u001b[38;5;129;01mnot\u001b[39;00m \u001b[38;5;129;01min\u001b[39;00m ioargs\u001b[38;5;241m.\u001b[39mmode:\n\u001b[0;32m    855\u001b[0m         \u001b[38;5;66;03m# Encoding\u001b[39;00m\n\u001b[1;32m--> 856\u001b[0m         handle \u001b[38;5;241m=\u001b[39m \u001b[38;5;28;43mopen\u001b[39;49m\u001b[43m(\u001b[49m\n\u001b[0;32m    857\u001b[0m \u001b[43m            \u001b[49m\u001b[43mhandle\u001b[49m\u001b[43m,\u001b[49m\n\u001b[0;32m    858\u001b[0m \u001b[43m            \u001b[49m\u001b[43mioargs\u001b[49m\u001b[38;5;241;43m.\u001b[39;49m\u001b[43mmode\u001b[49m\u001b[43m,\u001b[49m\n\u001b[0;32m    859\u001b[0m \u001b[43m            \u001b[49m\u001b[43mencoding\u001b[49m\u001b[38;5;241;43m=\u001b[39;49m\u001b[43mioargs\u001b[49m\u001b[38;5;241;43m.\u001b[39;49m\u001b[43mencoding\u001b[49m\u001b[43m,\u001b[49m\n\u001b[0;32m    860\u001b[0m \u001b[43m            \u001b[49m\u001b[43merrors\u001b[49m\u001b[38;5;241;43m=\u001b[39;49m\u001b[43merrors\u001b[49m\u001b[43m,\u001b[49m\n\u001b[0;32m    861\u001b[0m \u001b[43m            \u001b[49m\u001b[43mnewline\u001b[49m\u001b[38;5;241;43m=\u001b[39;49m\u001b[38;5;124;43m\"\u001b[39;49m\u001b[38;5;124;43m\"\u001b[39;49m\u001b[43m,\u001b[49m\n\u001b[0;32m    862\u001b[0m \u001b[43m        \u001b[49m\u001b[43m)\u001b[49m\n\u001b[0;32m    863\u001b[0m     \u001b[38;5;28;01melse\u001b[39;00m:\n\u001b[0;32m    864\u001b[0m         \u001b[38;5;66;03m# Binary mode\u001b[39;00m\n\u001b[0;32m    865\u001b[0m         handle \u001b[38;5;241m=\u001b[39m \u001b[38;5;28mopen\u001b[39m(handle, ioargs\u001b[38;5;241m.\u001b[39mmode)\n",
      "\u001b[1;31mFileNotFoundError\u001b[0m: [Errno 2] No such file or directory: './data_sample/df_syn_en_09.csv'"
     ]
    }
   ],
   "source": [
    "df_syn_01 = pd.read_csv('./data_sample/df_syn_en_14.csv', encoding='utf-8-sig') #새로운 가상데이터"
   ]
  },
  {
   "cell_type": "code",
   "execution_count": null,
   "id": "313122ac-cce2-4571-b866-1514c76bde12",
   "metadata": {},
   "outputs": [],
   "source": [
    "df_syn_base = pd.read_csv('df_syn_en.csv', encoding='utf-8-sig') #기존 가상데이터"
   ]
  },
  {
   "cell_type": "code",
   "execution_count": null,
   "id": "29153265-95f7-4a43-91aa-6ba2f9aa3fed",
   "metadata": {},
   "outputs": [],
   "source": [
    "copy_syn = copy.deepcopy(df_syn_01)"
   ]
  },
  {
   "cell_type": "code",
   "execution_count": null,
   "id": "cc781fab-e070-4c1c-8ce7-9ad417988549",
   "metadata": {
    "tags": []
   },
   "outputs": [],
   "source": [
    "copy_base = copy.deepcopy(df_syn_base)"
   ]
  },
  {
   "cell_type": "markdown",
   "id": "6a1eb89b-8721-4311-8b88-0c8d0e0b368b",
   "metadata": {
    "tags": []
   },
   "source": [
    "## 생성된 데이터의 기존 데이터 포함 범위 확인"
   ]
  },
  {
   "cell_type": "markdown",
   "id": "dbc82792-f0ab-49f3-ac8a-811abf926f6c",
   "metadata": {
    "tags": []
   },
   "source": [
    "### 카테고리 타입 데이터 커버리지 확인"
   ]
  },
  {
   "cell_type": "markdown",
   "id": "06332f57-0339-4919-a0fb-d569a0e9ca2e",
   "metadata": {},
   "source": [
    "This metric measures whether a synthetic column covers all the possible categories that are present in a real column."
   ]
  },
  {
   "cell_type": "markdown",
   "id": "f2c426a4-9695-4004-a7cb-e6584d0449d3",
   "metadata": {},
   "source": [
    "Data Compatibility\n",
    "Categorical: This metric is meant for discrete, categorical data\n",
    "Boolean: This metric is meant for boolean data"
   ]
  },
  {
   "cell_type": "markdown",
   "id": "b61d4e77-e572-4e8a-8bf8-1a9a423b6079",
   "metadata": {},
   "source": [
    "Score\n",
    "- (best) 1.0: The synthetic column contains all the unique categories present in the real column\n",
    "- (worst) 0.0: The synthetic column contains none of the categories present in the real column\n",
    "* The plot below shows some fictitious real and synthetic data (black and green respectively) with CategoryCoverage=0.6."
   ]
  },
  {
   "cell_type": "markdown",
   "id": "b10bda63-926e-498a-9dca-5705c72bfdb8",
   "metadata": {},
   "source": [
    "![Category Coverage](https://1485348715-files.gitbook.io/~/files/v0/b/gitbook-x-prod.appspot.com/o/spaces%2FrNLha4DaPNwVJ930KhmB%2Fuploads%2F2yn1OQLODOesNLVjnpe2%2FCategory%20Coverage.png?alt=media&token=e12f6f08-d3b0-4e05-9a41-58b8a28d4a4e)"
   ]
  },
  {
   "cell_type": "markdown",
   "id": "615231e0-eabf-4c97-b912-3cdcca1689ba",
   "metadata": {},
   "source": [
    "How does it work?\n",
    "This metric first computes the number of unique categories, c, that are present in the real column r. Then it computes the number of those categories present in the synthetic column, s. It returns the proportion of real categories that are in the synthetic data."
   ]
  },
  {
   "cell_type": "code",
   "execution_count": null,
   "id": "e97a1c9d-dff3-4c6f-855c-1df0c28f4cbe",
   "metadata": {},
   "outputs": [],
   "source": [
    "# 'dec_custom_code' 칼럼의의 커버리지 점수를 구합니다. \n",
    "from sdmetrics.single_column import CategoryCoverage\n",
    "\n",
    "CategoryCoverage.compute(\n",
    "    real_data=copy_base['dec_custom_code'],\n",
    "    synthetic_data=copy_syn['dec_custom_code']\n",
    ")"
   ]
  },
  {
   "cell_type": "markdown",
   "id": "8297c1fe-16d2-4e8f-813f-041500b64d49",
   "metadata": {
    "tags": []
   },
   "source": [
    "### 카테고리 타입의 항목별 커버리지 그래프 그리기"
   ]
  },
  {
   "cell_type": "markdown",
   "id": "58a76ddf-ea15-436d-8fc1-d8cbeaa0d0dd",
   "metadata": {},
   "source": [
    "- 카테고리 타입의 항목별 커버리지 점수를 저장할 데이터 프레임을 생성합니다. "
   ]
  },
  {
   "cell_type": "code",
   "execution_count": null,
   "id": "1be452f2-820f-4cfe-9dda-517be93518a5",
   "metadata": {},
   "outputs": [],
   "source": [
    "# 카테고리 타입의 항목별 커버리지 점수를 저장할 데이터 프레임을 생성합니다. \n",
    "CC_score = pd.DataFrame({'Category':[],'Score':[]})\n",
    "\n",
    "#카테고리 타입의 칼럼을 변수에 입력합니다. \n",
    "Range_columns = ['dec_num','dec_custom_code','imp_dec_code','imp_trd_code','imp_typ_code',\\\n",
    "                 'collect_code','typ_transport_code','dec_mark','importer','ovs_cust_code',\\\n",
    "                 'exps_carr_code','HS10','country_ship_code','country_orig_code','trff_class_code',\\\n",
    "                 'country_orig_mark_code','crime_yn','key_exposure']\n",
    "\n",
    "#원본 데이터의 인덱스와 값을 가지고 가상데이터와의 커버리지 점수를 구하여 데이터 프렝임에 저장합니다. \n",
    "for idx,val in enumerate(copy_base):\n",
    "    score = 0 \n",
    "    if val in Range_columns:\n",
    "        score = CategoryCoverage.compute(\n",
    "            real_data=copy_base[val],\n",
    "            synthetic_data=copy_syn[val]\n",
    "        )\n",
    "    CC_score.loc[idx] = [val,score]"
   ]
  },
  {
   "cell_type": "markdown",
   "id": "dc6ef19a-f7bf-44ac-b7fc-87b24e4ef22f",
   "metadata": {},
   "source": [
    "- 커버리지 점수가 담긴 데이터 프레임을 그래프화 하기 위한 라이브러리를 로드 합니다. "
   ]
  },
  {
   "cell_type": "code",
   "execution_count": null,
   "id": "43f2308d-934b-450c-8d5f-826c2b224f92",
   "metadata": {},
   "outputs": [],
   "source": [
    "import seaborn as sns\n",
    "import matplotlib.pyplot as plt\n",
    "import matplotlib.font_manager as fm"
   ]
  },
  {
   "cell_type": "markdown",
   "id": "ee369a34-ae6e-4a6e-8b78-9ca9483595bc",
   "metadata": {},
   "source": [
    "- 계산된 커버리지 점수를 활용해 막대 그래프를 그립니다. "
   ]
  },
  {
   "cell_type": "code",
   "execution_count": null,
   "id": "ab538dba-375e-4755-af98-7b562749e9b9",
   "metadata": {
    "tags": []
   },
   "outputs": [],
   "source": [
    "#카테고리 데이터의 수식상 음수는 나올 수 없기 때문에 data 변수에 음수를 제거하여 입력하는 조건을 붙였습니다. \n",
    "sns.barplot(x='Category',y ='Score', data = CC_score[CC_score['Score'] > 0])\n",
    "plt.rcParams['font.family'] = 'DejaVu Sans'\n",
    "plt.rcParams['font.size'] = 10\n",
    "plt.xticks(rotation =70)"
   ]
  },
  {
   "cell_type": "markdown",
   "id": "a6b7aa22-2651-40e0-882d-48bc428807f3",
   "metadata": {
    "tags": []
   },
   "source": [
    "### 수치형 타입  데이터 커버리지 확인"
   ]
  },
  {
   "cell_type": "markdown",
   "id": "5492c54c-b642-4ed1-9648-ac31d64ab7a6",
   "metadata": {},
   "source": [
    "This metric measures whether a synthetic column covers the full range of values that are present in a real column."
   ]
  },
  {
   "cell_type": "markdown",
   "id": "3460e99a-4452-4f7f-b5dc-b409187aa935",
   "metadata": {},
   "source": [
    "Data Compatibility\n",
    "- Numerical : This metric is meant for continuous, numerical data\n",
    "- Datetime : This metric converts datetime values into numerical values\n",
    "\n",
    "Score\n",
    "- (best) 1.0: The synthetic column covers the range of values present in the real column\n",
    "- (worst) 0.0: The synthetic column does not overlap at all with the range of values in the real column\n",
    "* The plot below shows some fictitious real and synthetic data (black and green respectively) with RangeCoverage=0.82."
   ]
  },
  {
   "cell_type": "markdown",
   "id": "e40beb10-d9e2-4a9b-accd-7c86b29c48bd",
   "metadata": {},
   "source": [
    "![Value](https://1485348715-files.gitbook.io/~/files/v0/b/gitbook-x-prod.appspot.com/o/spaces%2FrNLha4DaPNwVJ930KhmB%2Fuploads%2FUa21ikMRPxduAFIpovjM%2FRange%20Coverage.png?alt=media&token=bb7dca22-ad7d-4521-8523-e683588deb2b)"
   ]
  },
  {
   "cell_type": "code",
   "execution_count": null,
   "id": "b0543d39-533d-4e48-b8e8-100fa5db8196",
   "metadata": {},
   "outputs": [],
   "source": [
    "# 'trff_rate' 칼럼의의 커버리지 점수를 구합니다. \n",
    "from sdmetrics.single_column import RangeCoverage\n",
    "\n",
    "RangeCoverage.compute(\n",
    "    real_data=copy_base['trff_rate'],\n",
    "    synthetic_data=copy_syn['trff_rate']\n",
    ")"
   ]
  },
  {
   "cell_type": "markdown",
   "id": "ccfc1c33-65e6-4546-82c9-9ad777f2a5d4",
   "metadata": {
    "tags": []
   },
   "source": [
    "### 수치형 타입의 항목별 커버리지 그래프 그리기"
   ]
  },
  {
   "cell_type": "markdown",
   "id": "46a274ac-f715-464a-9818-f34710e28550",
   "metadata": {},
   "source": [
    "- 수치형 타입의 항목별 커버리지 점수를 저장할 데이터 프레임을 생성합니다. "
   ]
  },
  {
   "cell_type": "code",
   "execution_count": null,
   "id": "8aa5a01d-d6f6-479e-88b4-db20d3c5718e",
   "metadata": {},
   "outputs": [],
   "source": [
    "# 수치형 타입의 항목별 커버리지 점수를 담을 데이터 프레임을 생성합니다. \n",
    "RC_score = pd.DataFrame({'Category':[],'Score':[]})\n",
    "\n",
    "#수치형 타입의 칼럼을 변수에 입력합니다. \n",
    "Range_columns = ['trff_rate','dec_weight','taxabal_price_KRW']\n",
    "\n",
    "#원본 데이터의 인덱스와 값을 가지고 가상데이터와의 커버리지 점수를 구하여 데이터 프렝임에 저장합니다. \n",
    "for idx,val in enumerate(copy_base):\n",
    "    score = 0 \n",
    "    if val in Range_columns:\n",
    "        score = RangeCoverage.compute(\n",
    "            real_data=copy_base[val],\n",
    "            synthetic_data=copy_syn[val]\n",
    "        )\n",
    "    RC_score.loc[idx] = [val,score]"
   ]
  },
  {
   "cell_type": "markdown",
   "id": "378b10a6-e0b0-4953-bc5f-8d37fdaaa783",
   "metadata": {},
   "source": [
    "- 계산된 커버리지 점수를 활용해 막대 그래프를 그립니다. "
   ]
  },
  {
   "cell_type": "code",
   "execution_count": null,
   "id": "46cf65ba-9e26-497d-a272-70643bdb254b",
   "metadata": {},
   "outputs": [],
   "source": [
    "sns.barplot(x='Category',y ='Score', data = RC_score[RC_score['Score'] > 0])\n",
    "plt.rcParams['font.family'] = 'DejaVu Sans'\n",
    "plt.rcParams['font.size'] = 10\n",
    "plt.xticks(rotation =70)"
   ]
  },
  {
   "cell_type": "markdown",
   "id": "0118dd67-1e07-40ae-ad6a-920be1a96a40",
   "metadata": {
    "tags": []
   },
   "source": [
    "## 결과 통합하기"
   ]
  },
  {
   "cell_type": "markdown",
   "id": "05684122-88dc-49f6-a025-16c9e3ef51aa",
   "metadata": {},
   "source": [
    "### 두개의 결과 데이터 프레임을 결합하기"
   ]
  },
  {
   "cell_type": "markdown",
   "id": "7864a308-f6f6-4764-a52c-d5bdf9f660e4",
   "metadata": {},
   "source": [
    "- CC_score의 'trff_rate','dec_weight','taxabal_price_KRW' 칼럼에 RC_score가 가지고 있는 값을 대입한다. "
   ]
  },
  {
   "cell_type": "code",
   "execution_count": null,
   "id": "df33bfdb-ca70-4859-8d5f-9a1769349867",
   "metadata": {},
   "outputs": [],
   "source": [
    "CC_score.loc[[15,18,19],'Score'] = RC_score.loc[[15,18,19],'Score']"
   ]
  },
  {
   "cell_type": "markdown",
   "id": "9ef8b3e7-b619-4e92-b887-f25d41ca839f",
   "metadata": {},
   "source": [
    "- 전체 score를 확인한다. "
   ]
  },
  {
   "cell_type": "code",
   "execution_count": null,
   "id": "63589e0f-7c0c-4c52-9e19-7311563d8f19",
   "metadata": {},
   "outputs": [],
   "source": [
    "Total_score = CC_score"
   ]
  },
  {
   "cell_type": "code",
   "execution_count": null,
   "id": "f5c4be00-c1ad-4f73-99f9-315d23194163",
   "metadata": {
    "tags": []
   },
   "outputs": [],
   "source": [
    "plt.figure(figsize=(10,10))\n",
    "colors = sns.color_palette('Greys', 1)\n",
    "sns.barplot(x='Category',y ='Score', data = Total_score[Total_score['Score'] > 0])\n",
    "plt.rcParams['font.family'] = 'DejaVu Sans'\n",
    "plt.rcParams['font.size'] = 10\n",
    "plt.xticks(rotation =70)"
   ]
  }
 ],
 "metadata": {
  "kernelspec": {
   "display_name": "wco_ctgan",
   "language": "python",
   "name": "wco_ctgan"
  },
  "language_info": {
   "codemirror_mode": {
    "name": "ipython",
    "version": 3
   },
   "file_extension": ".py",
   "mimetype": "text/x-python",
   "name": "python",
   "nbconvert_exporter": "python",
   "pygments_lexer": "ipython3",
   "version": "3.9.7"
  }
 },
 "nbformat": 4,
 "nbformat_minor": 5
}
