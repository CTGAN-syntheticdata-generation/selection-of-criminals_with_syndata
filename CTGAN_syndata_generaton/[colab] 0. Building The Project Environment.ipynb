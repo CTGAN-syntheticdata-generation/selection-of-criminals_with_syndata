{
 "cells": [
  {
   "cell_type": "markdown",
   "id": "17d62188-9470-478c-bc8e-f9779d059e74",
   "metadata": {},
   "source": [
    "# 0. 프로젝트 환경구축 하기"
   ]
  },
  {
   "cell_type": "markdown",
   "id": "1ed4992a-6e49-47c2-b203-10138586c6f9",
   "metadata": {},
   "source": [
    "## Colab과 Github 활용하기"
   ]
  },
  {
   "cell_type": "markdown",
   "id": "d05a8e30-5f27-42f1-a67e-157bbb040a18",
   "metadata": {},
   "source": [
    "### Colab에 drive 마운트 하기\n",
    "- 자신의 구글 계정 drive에 접근합니다. \n",
    "- 구글에서 인증요청이 오면 동의하고 진행합니다.\n",
    "- 순서대로 진행하게 되면 좌측 카테고리에 drive 폴더가 생성됩니다. \n",
    "- 생성되지 않았다면 새로고침 버튼을 통해 drive 폴더가 표시되게 합니다. "
   ]
  },
  {
   "cell_type": "code",
   "execution_count": 1,
   "id": "71ab5110-10c5-46e5-92a4-7ecc179c43de",
   "metadata": {},
   "outputs": [
    {
     "ename": "ModuleNotFoundError",
     "evalue": "No module named 'google'",
     "output_type": "error",
     "traceback": [
      "\u001b[1;31m---------------------------------------------------------------------------\u001b[0m",
      "\u001b[1;31mModuleNotFoundError\u001b[0m                       Traceback (most recent call last)",
      "Cell \u001b[1;32mIn[1], line 1\u001b[0m\n\u001b[1;32m----> 1\u001b[0m \u001b[38;5;28;01mfrom\u001b[39;00m \u001b[38;5;21;01mgoogle\u001b[39;00m\u001b[38;5;21;01m.\u001b[39;00m\u001b[38;5;21;01mcolab\u001b[39;00m \u001b[38;5;28;01mimport\u001b[39;00m drive\n\u001b[0;32m      2\u001b[0m drive\u001b[38;5;241m.\u001b[39mmount(\u001b[38;5;124m'\u001b[39m\u001b[38;5;124m/content/drive\u001b[39m\u001b[38;5;124m'\u001b[39m)\n",
      "\u001b[1;31mModuleNotFoundError\u001b[0m: No module named 'google'"
     ]
    }
   ],
   "source": [
    "from google.colab import drive\n",
    "drive.mount('/content/drive')"
   ]
  },
  {
   "cell_type": "markdown",
   "id": "59c931e7-dfe2-4a54-a720-baaab92f95c3",
   "metadata": {},
   "source": [
    "- 드라이브의 MyDrive 폴더로 현재 위치를 변경합니다.\n",
    "- 이곳에 우리가 작업할 프로젝트를 불러올 것입니다. "
   ]
  },
  {
   "cell_type": "code",
   "execution_count": null,
   "id": "bdbad159-efd0-47dc-b948-7e15cdd5e52c",
   "metadata": {},
   "outputs": [],
   "source": [
    "cd \"/content/drive/MyDrive\""
   ]
  },
  {
   "cell_type": "markdown",
   "id": "99c0b3d8-3749-4203-a143-6065702aacb1",
   "metadata": {},
   "source": [
    "### Github에서 프로젝트 불러오기"
   ]
  },
  {
   "cell_type": "markdown",
   "id": "41b055ff-1870-4357-89ed-63d8a02f070a",
   "metadata": {},
   "source": [
    "- Github를 통해서 실습 프로젝트를 불러옵니다. "
   ]
  },
  {
   "cell_type": "code",
   "execution_count": null,
   "id": "7ea93739-703c-46d3-b160-3a167ec6071c",
   "metadata": {},
   "outputs": [],
   "source": [
    "!git clone https://github.com/CTGAN-syntheticdata-generation/Selection-of-criminals_with_syndata.git"
   ]
  },
  {
   "cell_type": "markdown",
   "id": "7eddb6e3-72b1-469c-881b-9520c43f81df",
   "metadata": {},
   "source": [
    "- 실습데이터가 있는 폴더로 현재 위치를 변경합니다. "
   ]
  },
  {
   "cell_type": "code",
   "execution_count": null,
   "id": "a0187204-3477-4221-b09a-45db86f9240c",
   "metadata": {},
   "outputs": [],
   "source": [
    "cd \"/content/drive/MyDrive/Selection-of-criminals_with_syndata/CTGAN_syndata_generaton\" "
   ]
  }
 ],
 "metadata": {
  "kernelspec": {
   "display_name": "Python 3 (ipykernel)",
   "language": "python",
   "name": "python3"
  },
  "language_info": {
   "codemirror_mode": {
    "name": "ipython",
    "version": 3
   },
   "file_extension": ".py",
   "mimetype": "text/x-python",
   "name": "python",
   "nbconvert_exporter": "python",
   "pygments_lexer": "ipython3",
   "version": "3.9.7"
  }
 },
 "nbformat": 4,
 "nbformat_minor": 5
}
