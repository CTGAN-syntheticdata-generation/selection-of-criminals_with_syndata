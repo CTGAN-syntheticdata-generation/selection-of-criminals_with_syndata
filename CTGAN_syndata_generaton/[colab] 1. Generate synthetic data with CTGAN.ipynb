{
 "cells": [
  {
   "cell_type": "markdown",
   "id": "b242c512-a3c8-401e-8318-d8a5aea5c25d",
   "metadata": {},
   "source": [
    "# 0. 프로젝트 환경구축 하기"
   ]
  },
  {
   "cell_type": "markdown",
   "id": "b08f15b6-64c6-4e02-8c43-c874ae6f5b24",
   "metadata": {},
   "source": [
    "## Colab과 Github 활용하기"
   ]
  },
  {
   "cell_type": "markdown",
   "id": "43274a38-073a-4d34-9029-1b7368965084",
   "metadata": {},
   "source": [
    "### Colab에 drive 마운트 하기\n",
    "- 자신의 구글 계정 drive에 접근합니다. \n",
    "- 구글에서 인증요청이 오면 동의하고 진행합니다.\n",
    "- 순서대로 진행하게 되면 좌측 카테고리에 drive 폴더가 생성됩니다. \n",
    "- 생성되지 않았다면 새로고침 버튼을 통해 drive 폴더가 표시되게 합니다. "
   ]
  },
  {
   "cell_type": "code",
   "execution_count": 1,
   "id": "c0f2811b-eaba-4329-8c0a-f72674a289d9",
   "metadata": {},
   "outputs": [],
   "source": [
    "from google.colab import drive\n",
    "drive.mount('/content/drive')"
   ]
  },
  {
   "cell_type": "markdown",
   "id": "bcfbc223-2b11-49ea-aa16-74dac73c1276",
   "metadata": {},
   "source": [
    "- 드라이브의 MyDrive 폴더로 현재 위치를 변경합니다.\n",
    "- 이곳에 우리가 작업할 프로젝트를 불러올 것입니다. "
   ]
  },
  {
   "cell_type": "code",
   "execution_count": 2,
   "id": "f59d94b9-0860-46db-897a-af55846cbce4",
   "metadata": {},
   "outputs": [],
   "source": [
    "cd \"/content/drive/MyDrive\""
   ]
  },
  {
   "cell_type": "markdown",
   "id": "924330cd-a6a0-4ae0-94b8-9b02dab50e26",
   "metadata": {},
   "source": [
    "### Github에서 프로젝트 불러오기"
   ]
  },
  {
   "cell_type": "markdown",
   "id": "a01fcf60-7c70-4511-93db-eec589830b50",
   "metadata": {},
   "source": [
    "- Github를 통해서 실습 프로젝트를 불러옵니다. "
   ]
  },
  {
   "cell_type": "code",
   "execution_count": 3,
   "id": "4b8c5444-0a3e-4c42-b444-f72df2e06e0f",
   "metadata": {},
   "outputs": [],
   "source": [
    "!git clone https://github.com/CTGAN-syntheticdata-generation/Selection-of-criminals_with_syndata.git"
   ]
  },
  {
   "cell_type": "markdown",
   "id": "19b4bd88-e06c-4c7f-8fb5-5ea4c5313707",
   "metadata": {},
   "source": [
    "- 실습데이터가 있는 폴더로 현재 위치를 변경합니다. "
   ]
  },
  {
   "cell_type": "code",
   "execution_count": 4,
   "id": "56cefe1c-8d0a-42fa-8d79-a6c85403a813",
   "metadata": {},
   "outputs": [],
   "source": [
    "cd \"/content/drive/MyDrive/Selection-of-criminals_with_syndata/CTGAN_syndata_generaton\" "
   ]
  },
  {
   "cell_type": "markdown",
   "id": "229da667-9a33-4822-ad0e-c70fc63beb04",
   "metadata": {},
   "source": [
    "# 1. Generate synthetic data with CTGAN"
   ]
  },
  {
   "cell_type": "markdown",
   "id": "6469e0de-de22-43d0-812c-9cf063cddeb5",
   "metadata": {},
   "source": [
    "## CTGAN에 대한 소개"
   ]
  },
  {
   "cell_type": "markdown",
   "id": "f60843db-aeff-4844-9f67-6b03f5e40476",
   "metadata": {},
   "source": [
    "- CTGAN은 Conditional Tabular GAN의 약자이며 테이블 형식 데이터를 생성하기 위해 특별히 설계된 GAN 아키텍처 유형입니다. \n",
    "- CTGAN은 원본 데이터의 통계적 특성을 유지하면서 실제 데이터와 유사한 표 형식 데이터의 새 행을 생성할 수 있습니다.\n",
    "- CTGAN은 실제 데이터와 합성 데이터를 구분하는 판별자와 실제 데이터 분포와 일치하는 합성 데이터를 생성하는 생성기를 사용하여 실제 데이터와 합성 데이터 모두에 대해 모델을 교육하여 작동합니다. \n",
    "- 생성기는 실제 데이터와 유사하고 사실적인 합성 데이터를 생성하도록 훈련되는 반면 판별자는 실제 데이터와 합성 데이터를 구별하도록 훈련됩니다."
   ]
  },
  {
   "cell_type": "markdown",
   "id": "cc01c3bf-9eb5-419a-a516-481c076b70e1",
   "metadata": {
    "tags": []
   },
   "source": [
    "## Load Library"
   ]
  },
  {
   "cell_type": "markdown",
   "id": "f78d9360-9ee6-4f6b-aa3e-3cd3bfdd806c",
   "metadata": {},
   "source": [
    "- CTGAN 라이브러리 설치하기\n",
    "- 최초 실행시 사용자 환경에 따라 오류가 발생할 수 있으나 다시 실행하면 일부 문제 해결 가능"
   ]
  },
  {
   "cell_type": "code",
   "execution_count": 5,
   "id": "935333fa-c8c5-4212-a271-dd825e10a612",
   "metadata": {},
   "outputs": [
    {
     "name": "stdout",
     "output_type": "stream",
     "text": [
      "Requirement already satisfied: ctgan in c:\\users\\0614_\\anaconda3\\envs\\wco_ctgan\\lib\\site-packages (0.7.0)\n",
      "Requirement already satisfied: torch<2,>=1.8.0 in c:\\users\\0614_\\anaconda3\\envs\\wco_ctgan\\lib\\site-packages (from ctgan) (1.12.1)\n",
      "Requirement already satisfied: numpy<2,>=1.20.0 in c:\\users\\0614_\\anaconda3\\envs\\wco_ctgan\\lib\\site-packages (from ctgan) (1.23.2)\n",
      "Requirement already satisfied: rdt<2.0,>=1.3.0 in c:\\users\\0614_\\anaconda3\\envs\\wco_ctgan\\lib\\site-packages (from ctgan) (1.3.0)\n",
      "Requirement already satisfied: packaging<22,>=20 in c:\\users\\0614_\\anaconda3\\envs\\wco_ctgan\\lib\\site-packages (from ctgan) (21.3)\n",
      "Requirement already satisfied: pandas<2,>=1.1.3 in c:\\users\\0614_\\anaconda3\\envs\\wco_ctgan\\lib\\site-packages (from ctgan) (1.5.3)\n",
      "Requirement already satisfied: pyparsing!=3.0.5,>=2.0.2 in c:\\users\\0614_\\anaconda3\\envs\\wco_ctgan\\lib\\site-packages (from packaging<22,>=20->ctgan) (3.0.9)\n",
      "Requirement already satisfied: pytz>=2020.1 in c:\\users\\0614_\\anaconda3\\envs\\wco_ctgan\\lib\\site-packages (from pandas<2,>=1.1.3->ctgan) (2022.7.1)\n",
      "Requirement already satisfied: python-dateutil>=2.8.1 in c:\\users\\0614_\\anaconda3\\envs\\wco_ctgan\\lib\\site-packages (from pandas<2,>=1.1.3->ctgan) (2.8.2)\n",
      "Requirement already satisfied: scipy<2,>=1.5.4 in c:\\users\\0614_\\anaconda3\\envs\\wco_ctgan\\lib\\site-packages (from rdt<2.0,>=1.3.0->ctgan) (1.10.0)\n",
      "Requirement already satisfied: psutil<6,>=5.7 in c:\\users\\0614_\\anaconda3\\envs\\wco_ctgan\\lib\\site-packages (from rdt<2.0,>=1.3.0->ctgan) (5.9.4)\n",
      "Requirement already satisfied: Faker>=10 in c:\\users\\0614_\\anaconda3\\envs\\wco_ctgan\\lib\\site-packages (from rdt<2.0,>=1.3.0->ctgan) (16.6.1)\n",
      "Requirement already satisfied: scikit-learn<2,>=0.24 in c:\\users\\0614_\\anaconda3\\envs\\wco_ctgan\\lib\\site-packages (from rdt<2.0,>=1.3.0->ctgan) (1.2.1)\n",
      "Requirement already satisfied: typing_extensions in c:\\users\\0614_\\anaconda3\\envs\\wco_ctgan\\lib\\site-packages (from torch<2,>=1.8.0->ctgan) (4.4.0)\n",
      "Requirement already satisfied: six>=1.5 in c:\\users\\0614_\\anaconda3\\envs\\wco_ctgan\\lib\\site-packages (from python-dateutil>=2.8.1->pandas<2,>=1.1.3->ctgan) (1.16.0)\n",
      "Requirement already satisfied: threadpoolctl>=2.0.0 in c:\\users\\0614_\\anaconda3\\envs\\wco_ctgan\\lib\\site-packages (from scikit-learn<2,>=0.24->rdt<2.0,>=1.3.0->ctgan) (3.1.0)\n",
      "Requirement already satisfied: joblib>=1.1.1 in c:\\users\\0614_\\anaconda3\\envs\\wco_ctgan\\lib\\site-packages (from scikit-learn<2,>=0.24->rdt<2.0,>=1.3.0->ctgan) (1.2.0)\n"
     ]
    }
   ],
   "source": [
    "!pip install ctgan"
   ]
  },
  {
   "cell_type": "markdown",
   "id": "276aeeb8-0d05-479b-859f-864f9c712217",
   "metadata": {},
   "source": [
    "- Library for data type\n",
    "- 데이터 프레임을 사용하기 위해 판다스 라이브러리를 활용합니다. "
   ]
  },
  {
   "cell_type": "code",
   "execution_count": 6,
   "id": "8e93ddcb-2960-4891-b63d-8ebe61e4b3e9",
   "metadata": {},
   "outputs": [],
   "source": [
    "import pandas as pd"
   ]
  },
  {
   "cell_type": "markdown",
   "id": "eb3f5ed5-1968-4a37-991e-3c5b01e41942",
   "metadata": {},
   "source": [
    "- Library for model trainning \n",
    "- Use torch to facilitate computation using GPU"
   ]
  },
  {
   "cell_type": "code",
   "execution_count": 7,
   "id": "1e6dce13-6179-4c71-8c0c-da1f88ebf601",
   "metadata": {},
   "outputs": [
    {
     "name": "stderr",
     "output_type": "stream",
     "text": [
      "C:\\Users\\0614_\\anaconda3\\envs\\wco_ctgan\\lib\\site-packages\\tqdm\\auto.py:22: TqdmWarning: IProgress not found. Please update jupyter and ipywidgets. See https://ipywidgets.readthedocs.io/en/stable/user_install.html\n",
      "  from .autonotebook import tqdm as notebook_tqdm\n"
     ]
    }
   ],
   "source": [
    "import torch\n",
    "#Tools for Python Memory Management\n",
    "import gc \n",
    "from ctgan import CTGAN"
   ]
  },
  {
   "cell_type": "markdown",
   "id": "96696afe-b171-4bee-a820-9800ed22c496",
   "metadata": {},
   "source": [
    "- Check we can use GPU(with cuda)"
   ]
  },
  {
   "cell_type": "code",
   "execution_count": 8,
   "id": "1f627c44-312c-4f2a-9044-f893e2097101",
   "metadata": {},
   "outputs": [
    {
     "data": {
      "text/plain": [
       "True"
      ]
     },
     "execution_count": 8,
     "metadata": {},
     "output_type": "execute_result"
    }
   ],
   "source": [
    "torch.cuda.is_available()"
   ]
  },
  {
   "cell_type": "code",
   "execution_count": 9,
   "id": "281d742a-a5dd-4f2a-ba51-b3e737edec01",
   "metadata": {},
   "outputs": [],
   "source": [
    "# Manually turn off objects that are not currently needed\n",
    "gc.collect()\n",
    "# Function to clear the CUDA memory cache curently in use\n",
    "torch.cuda.empty_cache()"
   ]
  },
  {
   "cell_type": "markdown",
   "id": "0e79380b-1ac7-4168-a0e9-377217469796",
   "metadata": {},
   "source": [
    "- Library for graphing\n",
    "- seaborn과 matplotlib를 통해서 데이터를 시각화 합니다. "
   ]
  },
  {
   "cell_type": "code",
   "execution_count": 10,
   "id": "a80c381b-d543-4e68-80c9-435414e40cc3",
   "metadata": {},
   "outputs": [],
   "source": [
    "import seaborn as sns\n",
    "import matplotlib.pyplot as plt"
   ]
  },
  {
   "cell_type": "markdown",
   "id": "825d1736-24d3-4c03-bb74-d97018fa1729",
   "metadata": {},
   "source": [
    "- setting etc \n",
    "- copy는 데이터를 복사하는 라이브러리\n",
    "- time은 시스템의 시간을 확인할 수 있는 라이브러리"
   ]
  },
  {
   "cell_type": "code",
   "execution_count": 11,
   "id": "d9df851c-fb3a-4a43-8852-360c629d11b0",
   "metadata": {},
   "outputs": [],
   "source": [
    "import copy\n",
    "import time\n",
    "\n",
    "import warnings\n",
    "warnings.filterwarnings(\"ignore\")"
   ]
  },
  {
   "cell_type": "markdown",
   "id": "7393c535-197d-4129-be24-513c3a1a012c",
   "metadata": {},
   "source": [
    "- setting Jupyter Notebook"
   ]
  },
  {
   "cell_type": "code",
   "execution_count": 12,
   "id": "28a351fe-0977-416b-833c-2635cac7f311",
   "metadata": {},
   "outputs": [
    {
     "data": {
      "text/html": [
       "<style>.container { width:100% !important; }</style>"
      ],
      "text/plain": [
       "<IPython.core.display.HTML object>"
      ]
     },
     "metadata": {},
     "output_type": "display_data"
    },
    {
     "name": "stdout",
     "output_type": "stream",
     "text": [
      "ready to run\n"
     ]
    }
   ],
   "source": [
    "#Jupiter Cell Full Screen View\n",
    "from IPython.core.display import display, HTML\n",
    "display(HTML(\"<style>.container { width:100% !important; }</style>\"))\n",
    "# useful for debuging (print the results of both formulas and functions entered in one cell of Jupiter)\n",
    "#from IPython.core.interactiveshell import InteractiveShell\n",
    "#InteractiveShell.ast_node_interactivity = \"all\"\n",
    "# Each column width at maximum (print all column contents)\n",
    "pd.set_option('display.max_colwidth', -1)\n",
    "# Show up to 500 rows\n",
    "pd.set_option('display.max_rows', 500)\n",
    "# Display up to 500 columns\n",
    "pd.set_option('display.max_columns', 500)\n",
    "# Total length of data frame\n",
    "pd.set_option('display.width', 1000)\n",
    "\n",
    "print('ready to run')\n",
    "# logging starttime \n",
    "startTime = time.time()"
   ]
  },
  {
   "cell_type": "markdown",
   "id": "5521ec0e-0b42-4a4e-9deb-1e7bb8876998",
   "metadata": {
    "tags": []
   },
   "source": [
    "## Load Data"
   ]
  },
  {
   "cell_type": "markdown",
   "id": "80ee081a-ee1c-42ed-85f4-8b1be026fef6",
   "metadata": {},
   "source": [
    "- 미리 준비해둔 가상의 관세청 데이터를 불러온다."
   ]
  },
  {
   "cell_type": "code",
   "execution_count": 13,
   "id": "4f9c71de-c978-47f0-a625-9b2e762709d7",
   "metadata": {
    "collapsed": true,
    "jupyter": {
     "outputs_hidden": true
    },
    "tags": []
   },
   "outputs": [
    {
     "ename": "FileNotFoundError",
     "evalue": "[Errno 2] No such file or directory: 'df_syn_en.csv'",
     "output_type": "error",
     "traceback": [
      "\u001b[1;31m---------------------------------------------------------------------------\u001b[0m",
      "\u001b[1;31mFileNotFoundError\u001b[0m                         Traceback (most recent call last)",
      "Cell \u001b[1;32mIn[13], line 1\u001b[0m\n\u001b[1;32m----> 1\u001b[0m df_raw\u001b[38;5;241m=\u001b[39m\u001b[43mpd\u001b[49m\u001b[38;5;241;43m.\u001b[39;49m\u001b[43mread_csv\u001b[49m\u001b[43m(\u001b[49m\u001b[38;5;124;43m'\u001b[39;49m\u001b[38;5;124;43mdf_syn_en.csv\u001b[39;49m\u001b[38;5;124;43m'\u001b[39;49m\u001b[43m,\u001b[49m\u001b[43m \u001b[49m\u001b[43mencoding\u001b[49m\u001b[38;5;241;43m=\u001b[39;49m\u001b[38;5;124;43m'\u001b[39;49m\u001b[38;5;124;43mutf-8-sig\u001b[39;49m\u001b[38;5;124;43m'\u001b[39;49m\u001b[43m)\u001b[49m\n",
      "File \u001b[1;32m~\\anaconda3\\envs\\wco_ctgan\\lib\\site-packages\\pandas\\util\\_decorators.py:211\u001b[0m, in \u001b[0;36mdeprecate_kwarg.<locals>._deprecate_kwarg.<locals>.wrapper\u001b[1;34m(*args, **kwargs)\u001b[0m\n\u001b[0;32m    209\u001b[0m     \u001b[38;5;28;01melse\u001b[39;00m:\n\u001b[0;32m    210\u001b[0m         kwargs[new_arg_name] \u001b[38;5;241m=\u001b[39m new_arg_value\n\u001b[1;32m--> 211\u001b[0m \u001b[38;5;28;01mreturn\u001b[39;00m func(\u001b[38;5;241m*\u001b[39margs, \u001b[38;5;241m*\u001b[39m\u001b[38;5;241m*\u001b[39mkwargs)\n",
      "File \u001b[1;32m~\\anaconda3\\envs\\wco_ctgan\\lib\\site-packages\\pandas\\util\\_decorators.py:331\u001b[0m, in \u001b[0;36mdeprecate_nonkeyword_arguments.<locals>.decorate.<locals>.wrapper\u001b[1;34m(*args, **kwargs)\u001b[0m\n\u001b[0;32m    325\u001b[0m \u001b[38;5;28;01mif\u001b[39;00m \u001b[38;5;28mlen\u001b[39m(args) \u001b[38;5;241m>\u001b[39m num_allow_args:\n\u001b[0;32m    326\u001b[0m     warnings\u001b[38;5;241m.\u001b[39mwarn(\n\u001b[0;32m    327\u001b[0m         msg\u001b[38;5;241m.\u001b[39mformat(arguments\u001b[38;5;241m=\u001b[39m_format_argument_list(allow_args)),\n\u001b[0;32m    328\u001b[0m         \u001b[38;5;167;01mFutureWarning\u001b[39;00m,\n\u001b[0;32m    329\u001b[0m         stacklevel\u001b[38;5;241m=\u001b[39mfind_stack_level(),\n\u001b[0;32m    330\u001b[0m     )\n\u001b[1;32m--> 331\u001b[0m \u001b[38;5;28;01mreturn\u001b[39;00m func(\u001b[38;5;241m*\u001b[39margs, \u001b[38;5;241m*\u001b[39m\u001b[38;5;241m*\u001b[39mkwargs)\n",
      "File \u001b[1;32m~\\anaconda3\\envs\\wco_ctgan\\lib\\site-packages\\pandas\\io\\parsers\\readers.py:950\u001b[0m, in \u001b[0;36mread_csv\u001b[1;34m(filepath_or_buffer, sep, delimiter, header, names, index_col, usecols, squeeze, prefix, mangle_dupe_cols, dtype, engine, converters, true_values, false_values, skipinitialspace, skiprows, skipfooter, nrows, na_values, keep_default_na, na_filter, verbose, skip_blank_lines, parse_dates, infer_datetime_format, keep_date_col, date_parser, dayfirst, cache_dates, iterator, chunksize, compression, thousands, decimal, lineterminator, quotechar, quoting, doublequote, escapechar, comment, encoding, encoding_errors, dialect, error_bad_lines, warn_bad_lines, on_bad_lines, delim_whitespace, low_memory, memory_map, float_precision, storage_options)\u001b[0m\n\u001b[0;32m    935\u001b[0m kwds_defaults \u001b[38;5;241m=\u001b[39m _refine_defaults_read(\n\u001b[0;32m    936\u001b[0m     dialect,\n\u001b[0;32m    937\u001b[0m     delimiter,\n\u001b[1;32m   (...)\u001b[0m\n\u001b[0;32m    946\u001b[0m     defaults\u001b[38;5;241m=\u001b[39m{\u001b[38;5;124m\"\u001b[39m\u001b[38;5;124mdelimiter\u001b[39m\u001b[38;5;124m\"\u001b[39m: \u001b[38;5;124m\"\u001b[39m\u001b[38;5;124m,\u001b[39m\u001b[38;5;124m\"\u001b[39m},\n\u001b[0;32m    947\u001b[0m )\n\u001b[0;32m    948\u001b[0m kwds\u001b[38;5;241m.\u001b[39mupdate(kwds_defaults)\n\u001b[1;32m--> 950\u001b[0m \u001b[38;5;28;01mreturn\u001b[39;00m \u001b[43m_read\u001b[49m\u001b[43m(\u001b[49m\u001b[43mfilepath_or_buffer\u001b[49m\u001b[43m,\u001b[49m\u001b[43m \u001b[49m\u001b[43mkwds\u001b[49m\u001b[43m)\u001b[49m\n",
      "File \u001b[1;32m~\\anaconda3\\envs\\wco_ctgan\\lib\\site-packages\\pandas\\io\\parsers\\readers.py:605\u001b[0m, in \u001b[0;36m_read\u001b[1;34m(filepath_or_buffer, kwds)\u001b[0m\n\u001b[0;32m    602\u001b[0m _validate_names(kwds\u001b[38;5;241m.\u001b[39mget(\u001b[38;5;124m\"\u001b[39m\u001b[38;5;124mnames\u001b[39m\u001b[38;5;124m\"\u001b[39m, \u001b[38;5;28;01mNone\u001b[39;00m))\n\u001b[0;32m    604\u001b[0m \u001b[38;5;66;03m# Create the parser.\u001b[39;00m\n\u001b[1;32m--> 605\u001b[0m parser \u001b[38;5;241m=\u001b[39m TextFileReader(filepath_or_buffer, \u001b[38;5;241m*\u001b[39m\u001b[38;5;241m*\u001b[39mkwds)\n\u001b[0;32m    607\u001b[0m \u001b[38;5;28;01mif\u001b[39;00m chunksize \u001b[38;5;129;01mor\u001b[39;00m iterator:\n\u001b[0;32m    608\u001b[0m     \u001b[38;5;28;01mreturn\u001b[39;00m parser\n",
      "File \u001b[1;32m~\\anaconda3\\envs\\wco_ctgan\\lib\\site-packages\\pandas\\io\\parsers\\readers.py:1442\u001b[0m, in \u001b[0;36mTextFileReader.__init__\u001b[1;34m(self, f, engine, **kwds)\u001b[0m\n\u001b[0;32m   1439\u001b[0m     \u001b[38;5;28mself\u001b[39m\u001b[38;5;241m.\u001b[39moptions[\u001b[38;5;124m\"\u001b[39m\u001b[38;5;124mhas_index_names\u001b[39m\u001b[38;5;124m\"\u001b[39m] \u001b[38;5;241m=\u001b[39m kwds[\u001b[38;5;124m\"\u001b[39m\u001b[38;5;124mhas_index_names\u001b[39m\u001b[38;5;124m\"\u001b[39m]\n\u001b[0;32m   1441\u001b[0m \u001b[38;5;28mself\u001b[39m\u001b[38;5;241m.\u001b[39mhandles: IOHandles \u001b[38;5;241m|\u001b[39m \u001b[38;5;28;01mNone\u001b[39;00m \u001b[38;5;241m=\u001b[39m \u001b[38;5;28;01mNone\u001b[39;00m\n\u001b[1;32m-> 1442\u001b[0m \u001b[38;5;28mself\u001b[39m\u001b[38;5;241m.\u001b[39m_engine \u001b[38;5;241m=\u001b[39m \u001b[38;5;28;43mself\u001b[39;49m\u001b[38;5;241;43m.\u001b[39;49m\u001b[43m_make_engine\u001b[49m\u001b[43m(\u001b[49m\u001b[43mf\u001b[49m\u001b[43m,\u001b[49m\u001b[43m \u001b[49m\u001b[38;5;28;43mself\u001b[39;49m\u001b[38;5;241;43m.\u001b[39;49m\u001b[43mengine\u001b[49m\u001b[43m)\u001b[49m\n",
      "File \u001b[1;32m~\\anaconda3\\envs\\wco_ctgan\\lib\\site-packages\\pandas\\io\\parsers\\readers.py:1735\u001b[0m, in \u001b[0;36mTextFileReader._make_engine\u001b[1;34m(self, f, engine)\u001b[0m\n\u001b[0;32m   1733\u001b[0m     \u001b[38;5;28;01mif\u001b[39;00m \u001b[38;5;124m\"\u001b[39m\u001b[38;5;124mb\u001b[39m\u001b[38;5;124m\"\u001b[39m \u001b[38;5;129;01mnot\u001b[39;00m \u001b[38;5;129;01min\u001b[39;00m mode:\n\u001b[0;32m   1734\u001b[0m         mode \u001b[38;5;241m+\u001b[39m\u001b[38;5;241m=\u001b[39m \u001b[38;5;124m\"\u001b[39m\u001b[38;5;124mb\u001b[39m\u001b[38;5;124m\"\u001b[39m\n\u001b[1;32m-> 1735\u001b[0m \u001b[38;5;28mself\u001b[39m\u001b[38;5;241m.\u001b[39mhandles \u001b[38;5;241m=\u001b[39m \u001b[43mget_handle\u001b[49m\u001b[43m(\u001b[49m\n\u001b[0;32m   1736\u001b[0m \u001b[43m    \u001b[49m\u001b[43mf\u001b[49m\u001b[43m,\u001b[49m\n\u001b[0;32m   1737\u001b[0m \u001b[43m    \u001b[49m\u001b[43mmode\u001b[49m\u001b[43m,\u001b[49m\n\u001b[0;32m   1738\u001b[0m \u001b[43m    \u001b[49m\u001b[43mencoding\u001b[49m\u001b[38;5;241;43m=\u001b[39;49m\u001b[38;5;28;43mself\u001b[39;49m\u001b[38;5;241;43m.\u001b[39;49m\u001b[43moptions\u001b[49m\u001b[38;5;241;43m.\u001b[39;49m\u001b[43mget\u001b[49m\u001b[43m(\u001b[49m\u001b[38;5;124;43m\"\u001b[39;49m\u001b[38;5;124;43mencoding\u001b[39;49m\u001b[38;5;124;43m\"\u001b[39;49m\u001b[43m,\u001b[49m\u001b[43m \u001b[49m\u001b[38;5;28;43;01mNone\u001b[39;49;00m\u001b[43m)\u001b[49m\u001b[43m,\u001b[49m\n\u001b[0;32m   1739\u001b[0m \u001b[43m    \u001b[49m\u001b[43mcompression\u001b[49m\u001b[38;5;241;43m=\u001b[39;49m\u001b[38;5;28;43mself\u001b[39;49m\u001b[38;5;241;43m.\u001b[39;49m\u001b[43moptions\u001b[49m\u001b[38;5;241;43m.\u001b[39;49m\u001b[43mget\u001b[49m\u001b[43m(\u001b[49m\u001b[38;5;124;43m\"\u001b[39;49m\u001b[38;5;124;43mcompression\u001b[39;49m\u001b[38;5;124;43m\"\u001b[39;49m\u001b[43m,\u001b[49m\u001b[43m \u001b[49m\u001b[38;5;28;43;01mNone\u001b[39;49;00m\u001b[43m)\u001b[49m\u001b[43m,\u001b[49m\n\u001b[0;32m   1740\u001b[0m \u001b[43m    \u001b[49m\u001b[43mmemory_map\u001b[49m\u001b[38;5;241;43m=\u001b[39;49m\u001b[38;5;28;43mself\u001b[39;49m\u001b[38;5;241;43m.\u001b[39;49m\u001b[43moptions\u001b[49m\u001b[38;5;241;43m.\u001b[39;49m\u001b[43mget\u001b[49m\u001b[43m(\u001b[49m\u001b[38;5;124;43m\"\u001b[39;49m\u001b[38;5;124;43mmemory_map\u001b[39;49m\u001b[38;5;124;43m\"\u001b[39;49m\u001b[43m,\u001b[49m\u001b[43m \u001b[49m\u001b[38;5;28;43;01mFalse\u001b[39;49;00m\u001b[43m)\u001b[49m\u001b[43m,\u001b[49m\n\u001b[0;32m   1741\u001b[0m \u001b[43m    \u001b[49m\u001b[43mis_text\u001b[49m\u001b[38;5;241;43m=\u001b[39;49m\u001b[43mis_text\u001b[49m\u001b[43m,\u001b[49m\n\u001b[0;32m   1742\u001b[0m \u001b[43m    \u001b[49m\u001b[43merrors\u001b[49m\u001b[38;5;241;43m=\u001b[39;49m\u001b[38;5;28;43mself\u001b[39;49m\u001b[38;5;241;43m.\u001b[39;49m\u001b[43moptions\u001b[49m\u001b[38;5;241;43m.\u001b[39;49m\u001b[43mget\u001b[49m\u001b[43m(\u001b[49m\u001b[38;5;124;43m\"\u001b[39;49m\u001b[38;5;124;43mencoding_errors\u001b[39;49m\u001b[38;5;124;43m\"\u001b[39;49m\u001b[43m,\u001b[49m\u001b[43m \u001b[49m\u001b[38;5;124;43m\"\u001b[39;49m\u001b[38;5;124;43mstrict\u001b[39;49m\u001b[38;5;124;43m\"\u001b[39;49m\u001b[43m)\u001b[49m\u001b[43m,\u001b[49m\n\u001b[0;32m   1743\u001b[0m \u001b[43m    \u001b[49m\u001b[43mstorage_options\u001b[49m\u001b[38;5;241;43m=\u001b[39;49m\u001b[38;5;28;43mself\u001b[39;49m\u001b[38;5;241;43m.\u001b[39;49m\u001b[43moptions\u001b[49m\u001b[38;5;241;43m.\u001b[39;49m\u001b[43mget\u001b[49m\u001b[43m(\u001b[49m\u001b[38;5;124;43m\"\u001b[39;49m\u001b[38;5;124;43mstorage_options\u001b[39;49m\u001b[38;5;124;43m\"\u001b[39;49m\u001b[43m,\u001b[49m\u001b[43m \u001b[49m\u001b[38;5;28;43;01mNone\u001b[39;49;00m\u001b[43m)\u001b[49m\u001b[43m,\u001b[49m\n\u001b[0;32m   1744\u001b[0m \u001b[43m\u001b[49m\u001b[43m)\u001b[49m\n\u001b[0;32m   1745\u001b[0m \u001b[38;5;28;01massert\u001b[39;00m \u001b[38;5;28mself\u001b[39m\u001b[38;5;241m.\u001b[39mhandles \u001b[38;5;129;01mis\u001b[39;00m \u001b[38;5;129;01mnot\u001b[39;00m \u001b[38;5;28;01mNone\u001b[39;00m\n\u001b[0;32m   1746\u001b[0m f \u001b[38;5;241m=\u001b[39m \u001b[38;5;28mself\u001b[39m\u001b[38;5;241m.\u001b[39mhandles\u001b[38;5;241m.\u001b[39mhandle\n",
      "File \u001b[1;32m~\\anaconda3\\envs\\wco_ctgan\\lib\\site-packages\\pandas\\io\\common.py:856\u001b[0m, in \u001b[0;36mget_handle\u001b[1;34m(path_or_buf, mode, encoding, compression, memory_map, is_text, errors, storage_options)\u001b[0m\n\u001b[0;32m    851\u001b[0m \u001b[38;5;28;01melif\u001b[39;00m \u001b[38;5;28misinstance\u001b[39m(handle, \u001b[38;5;28mstr\u001b[39m):\n\u001b[0;32m    852\u001b[0m     \u001b[38;5;66;03m# Check whether the filename is to be opened in binary mode.\u001b[39;00m\n\u001b[0;32m    853\u001b[0m     \u001b[38;5;66;03m# Binary mode does not support 'encoding' and 'newline'.\u001b[39;00m\n\u001b[0;32m    854\u001b[0m     \u001b[38;5;28;01mif\u001b[39;00m ioargs\u001b[38;5;241m.\u001b[39mencoding \u001b[38;5;129;01mand\u001b[39;00m \u001b[38;5;124m\"\u001b[39m\u001b[38;5;124mb\u001b[39m\u001b[38;5;124m\"\u001b[39m \u001b[38;5;129;01mnot\u001b[39;00m \u001b[38;5;129;01min\u001b[39;00m ioargs\u001b[38;5;241m.\u001b[39mmode:\n\u001b[0;32m    855\u001b[0m         \u001b[38;5;66;03m# Encoding\u001b[39;00m\n\u001b[1;32m--> 856\u001b[0m         handle \u001b[38;5;241m=\u001b[39m \u001b[38;5;28;43mopen\u001b[39;49m\u001b[43m(\u001b[49m\n\u001b[0;32m    857\u001b[0m \u001b[43m            \u001b[49m\u001b[43mhandle\u001b[49m\u001b[43m,\u001b[49m\n\u001b[0;32m    858\u001b[0m \u001b[43m            \u001b[49m\u001b[43mioargs\u001b[49m\u001b[38;5;241;43m.\u001b[39;49m\u001b[43mmode\u001b[49m\u001b[43m,\u001b[49m\n\u001b[0;32m    859\u001b[0m \u001b[43m            \u001b[49m\u001b[43mencoding\u001b[49m\u001b[38;5;241;43m=\u001b[39;49m\u001b[43mioargs\u001b[49m\u001b[38;5;241;43m.\u001b[39;49m\u001b[43mencoding\u001b[49m\u001b[43m,\u001b[49m\n\u001b[0;32m    860\u001b[0m \u001b[43m            \u001b[49m\u001b[43merrors\u001b[49m\u001b[38;5;241;43m=\u001b[39;49m\u001b[43merrors\u001b[49m\u001b[43m,\u001b[49m\n\u001b[0;32m    861\u001b[0m \u001b[43m            \u001b[49m\u001b[43mnewline\u001b[49m\u001b[38;5;241;43m=\u001b[39;49m\u001b[38;5;124;43m\"\u001b[39;49m\u001b[38;5;124;43m\"\u001b[39;49m\u001b[43m,\u001b[49m\n\u001b[0;32m    862\u001b[0m \u001b[43m        \u001b[49m\u001b[43m)\u001b[49m\n\u001b[0;32m    863\u001b[0m     \u001b[38;5;28;01melse\u001b[39;00m:\n\u001b[0;32m    864\u001b[0m         \u001b[38;5;66;03m# Binary mode\u001b[39;00m\n\u001b[0;32m    865\u001b[0m         handle \u001b[38;5;241m=\u001b[39m \u001b[38;5;28mopen\u001b[39m(handle, ioargs\u001b[38;5;241m.\u001b[39mmode)\n",
      "\u001b[1;31mFileNotFoundError\u001b[0m: [Errno 2] No such file or directory: 'df_syn_en.csv'"
     ]
    }
   ],
   "source": [
    "df_raw=pd.read_csv('df_syn_en.csv', encoding='utf-8-sig')"
   ]
  },
  {
   "cell_type": "markdown",
   "id": "9d02e5dd-b55e-45ec-938f-4c8796b4dc48",
   "metadata": {
    "tags": []
   },
   "source": [
    "## Data copy"
   ]
  },
  {
   "cell_type": "markdown",
   "id": "b7b636cf-55a3-41ec-a673-5cdc1b2b492a",
   "metadata": {},
   "source": [
    "- 불러온 데이터를 안전하게 사용하기 위해 복사함 "
   ]
  },
  {
   "cell_type": "code",
   "execution_count": null,
   "id": "3113b4ed-b5be-4a7b-b0fd-a5036102ff87",
   "metadata": {},
   "outputs": [],
   "source": [
    "df_raw_copy = copy.deepcopy(df_raw)"
   ]
  },
  {
   "cell_type": "markdown",
   "id": "5799e12e-0534-49c7-b478-383898bc8972",
   "metadata": {
    "tags": []
   },
   "source": [
    "## Check the data\n",
    "- 'dec_num' deduplication (unique value)\n",
    "- Sorting by 'dec_date' (ASC)\n",
    "- Check for outliers ('imp_dec_code')"
   ]
  },
  {
   "cell_type": "code",
   "execution_count": null,
   "id": "c98da689-cc8a-4488-8534-91aafcc46efd",
   "metadata": {},
   "outputs": [],
   "source": [
    "#Change of 'dec_date' type\n",
    "df_raw_copy['dec_date'] = pd.to_datetime(df_raw_copy['dec_date']) \n",
    "#'dec_num' deduplication\n",
    "df_org = df_raw_copy.drop_duplicates(['dec_num'], keep = 'first') \n",
    "#'dec_date' sorting ASC\n",
    "df_org = df_org.sort_values(by = ['dec_date'], axis = 0) "
   ]
  },
  {
   "cell_type": "code",
   "execution_count": null,
   "id": "4012cca4-e92c-4874-a7b7-cacfe69d7c4a",
   "metadata": {
    "tags": []
   },
   "outputs": [],
   "source": [
    "#불러온 데이터의 형태를 확인\n",
    "df_org.shape"
   ]
  },
  {
   "cell_type": "code",
   "execution_count": null,
   "id": "ee7d9064-dca7-40e8-b606-7245b4a1372c",
   "metadata": {},
   "outputs": [],
   "source": [
    "#불러온 데이터의 예시를 확인\n",
    "df_org.head()"
   ]
  },
  {
   "cell_type": "markdown",
   "id": "3f16c874-bab8-44cc-a8f0-b612f50f090f",
   "metadata": {},
   "source": [
    "- 불러온 데이터의 기본 정보를 확인 \n",
    "- 일부 데이터가 적은 것을 확인할 수 있음"
   ]
  },
  {
   "cell_type": "code",
   "execution_count": null,
   "id": "2fbdcb2a-4282-4338-9209-05811f79781e",
   "metadata": {
    "tags": []
   },
   "outputs": [],
   "source": [
    "#dec_date의 타입이 유일하게 다른 datetime64[ns]임을 확인\n",
    "df_org.info()"
   ]
  },
  {
   "cell_type": "markdown",
   "id": "ba377abb-bc6e-4bc0-b600-2890c51184f6",
   "metadata": {},
   "source": [
    "- describe을 활용해 모든 칼럼에 대한 데이터 요약을 확인\n",
    "- 수치형 데이터의 mean, std 등 통계정보를 요약해줌 "
   ]
  },
  {
   "cell_type": "code",
   "execution_count": null,
   "id": "9912ed87-7ac4-4b5c-9674-829d09b7d568",
   "metadata": {
    "tags": []
   },
   "outputs": [],
   "source": [
    "# 범주형 데이터의 가장 빈번하게 등장하는 변수 빈번하게 등장한 횟수 등의 정보를 요약해줌\n",
    "df_org.describe(include = 'all')"
   ]
  },
  {
   "cell_type": "markdown",
   "id": "358e665c-469f-4a4d-b501-01dc94b398be",
   "metadata": {},
   "source": [
    "### Outlier Found\n",
    "- Ensure that a particular value is concentrated in one column\n",
    "- Recognizes that only one value can be biased and extracted during sampling"
   ]
  },
  {
   "cell_type": "code",
   "execution_count": null,
   "id": "e3badb41-46cb-4939-b2b2-092a900fe9ae",
   "metadata": {},
   "outputs": [],
   "source": [
    "df_org['imp_dec_code'].value_counts()"
   ]
  },
  {
   "cell_type": "markdown",
   "id": "81f62bb4-5dca-484d-83a6-13346e8dc7fb",
   "metadata": {
    "tags": []
   },
   "source": [
    "### Check the correlation\n",
    "- 상관도 분석은 두 변수간의 선형적인 상관관계를 분석하는 방법입니다. \n",
    "- 두 변수간에 어떤 종류의 연관성이 있는 지 파악하는데 활용합니다. \n",
    "- Heatmap을 통해서 각 'imp_dec_code' 칼럼이 다른 칼럼에 어떤 영향을 미치는 지 시각적으로 확인하고자 합니다. "
   ]
  },
  {
   "cell_type": "markdown",
   "id": "05e8f36f-e341-4f30-85ec-83601b458cb3",
   "metadata": {},
   "source": [
    "#### Working with encoding data frames as numeric data"
   ]
  },
  {
   "cell_type": "markdown",
   "id": "5a5f04b5-255c-4a9b-aeb1-f32befdee3f2",
   "metadata": {},
   "source": [
    "- sklearn에서 데이터 전처리를 위해 사용하는 라이브러리 LableEncoder를 활용\n",
    "- LabelEncoder는 범주형 데이터에 라벨링을 통해서 수치형 변수로 변환합니다."
   ]
  },
  {
   "cell_type": "code",
   "execution_count": 1,
   "id": "26f9d3e5-73fa-49fc-8d2d-560b9b3135cf",
   "metadata": {
    "collapsed": true,
    "jupyter": {
     "outputs_hidden": true
    },
    "tags": []
   },
   "outputs": [
    {
     "ename": "NameError",
     "evalue": "name 'df_raw_copy' is not defined",
     "output_type": "error",
     "traceback": [
      "\u001b[1;31m---------------------------------------------------------------------------\u001b[0m",
      "\u001b[1;31mNameError\u001b[0m                                 Traceback (most recent call last)",
      "Cell \u001b[1;32mIn[1], line 5\u001b[0m\n\u001b[0;32m      2\u001b[0m encoder \u001b[38;5;241m=\u001b[39m LabelEncoder()\n\u001b[0;32m      4\u001b[0m \u001b[38;5;66;03m#복사한 데이터를 순서대로 가져와 encoding 후에 데이터를 입력합니다. \u001b[39;00m\n\u001b[1;32m----> 5\u001b[0m \u001b[38;5;28;01mfor\u001b[39;00m column_name,item \u001b[38;5;129;01min\u001b[39;00m \u001b[43mdf_raw_copy\u001b[49m\u001b[38;5;241m.\u001b[39miteritems(): \n\u001b[0;32m      6\u001b[0m     encoder\u001b[38;5;241m.\u001b[39mfit(item)\n\u001b[0;32m      7\u001b[0m     labels \u001b[38;5;241m=\u001b[39m encoder\u001b[38;5;241m.\u001b[39mtransform(item)\n",
      "\u001b[1;31mNameError\u001b[0m: name 'df_raw_copy' is not defined"
     ]
    }
   ],
   "source": [
    "from sklearn.preprocessing import LabelEncoder\n",
    "encoder = LabelEncoder()\n",
    "\n",
    "#복사한 데이터를 순서대로 가져와 encoding 후에 데이터를 입력합니다. \n",
    "for column_name,item in df_raw_copy.iteritems(): \n",
    "    encoder.fit(item)\n",
    "    labels = encoder.transform(item)\n",
    "    df_raw_copy[column_name] = labels"
   ]
  },
  {
   "cell_type": "markdown",
   "id": "c914f3c2-41f7-4441-8c11-5f2c66e6063e",
   "metadata": {},
   "source": [
    "#### Making Heatmap"
   ]
  },
  {
   "cell_type": "code",
   "execution_count": null,
   "id": "f79e6d63-6836-4b53-a997-b399d1284306",
   "metadata": {},
   "outputs": [],
   "source": [
    "#matplotlib의 font_manager 객체를 통해 우리가 그릴 Heatmap의 폰트를 설정합니다.\n",
    "import matplotlib.font_manager as fm\n",
    "\n",
    "#구글 코랩에 기본으로 제공되는 DejaVu Sans라는 글꼴을 활용합니다. \n",
    "plt.rcParams['font.family'] = 'DejaVu Sans'\n",
    "\n",
    "#font 설정을 위한 함수, 폰트가 설치되어있는 경로와 사이즈를 결정한다. \n",
    "def set_font():\n",
    "    font_path = '/usr/local/lib/python3.7/dist-packages/matplotlib/mpl-data/fonts/ttf/'\n",
    "    fontprop = fm.FontProperties(fname=font_path, size=12)\n",
    "    return fontprop\n",
    "\n",
    "fontprop = set_font()"
   ]
  },
  {
   "cell_type": "code",
   "execution_count": null,
   "id": "507d2976-b53e-44e8-aa25-12de1dd28eca",
   "metadata": {},
   "outputs": [],
   "source": [
    "#데이터프레임의 상관도를 구합니다. \n",
    "corr = df_raw_copy.corr()"
   ]
  },
  {
   "cell_type": "markdown",
   "id": "bafdcda6-4336-49a1-a833-8a91ded948db",
   "metadata": {},
   "source": [
    "- Heatmap을 확인해 보니 imp_dec_code와 높은 상관도를 가지는 칼럼은 존재하지 않습니다. \n",
    "- 특별한 조치를 취하지 않고 그대로 작업을 진행하겠습니다. "
   ]
  },
  {
   "cell_type": "code",
   "execution_count": null,
   "id": "5f0ad8a6-48a8-45f6-88b2-783b3c5bf44c",
   "metadata": {
    "tags": []
   },
   "outputs": [],
   "source": [
    "sns.heatmap(corr, cmap='coolwarm', annot=False, linewidths =0.5, annot_kws={'size':10, 'fontproperties':fontprop},vmin=-1.0)"
   ]
  },
  {
   "cell_type": "markdown",
   "id": "61376403-81b4-443d-9f43-f8c5d1f232d8",
   "metadata": {
    "tags": []
   },
   "source": [
    "## Random data sampling \n",
    "- 기본 데이터에서 훈련시킬 데이터를 추출합니다. \n",
    "- 데이터의 양은 1500개 정도가 적당합니다. 샘플 양이 많아지면 작업시간이 크게 증가합니다."
   ]
  },
  {
   "cell_type": "code",
   "execution_count": null,
   "id": "3e2347db-4fe4-44c1-a508-1620ecb6921e",
   "metadata": {},
   "outputs": [],
   "source": [
    "df_sample=df_org.sample(1500,replace=False)"
   ]
  },
  {
   "cell_type": "markdown",
   "id": "a3a190ae-3964-4d11-88de-da3227e9b266",
   "metadata": {
    "tags": []
   },
   "source": [
    "## 샘플 데이터 처리"
   ]
  },
  {
   "cell_type": "markdown",
   "id": "88f96319-3a5b-4c1e-8e52-62897b0e3860",
   "metadata": {},
   "source": [
    "- Preserve correlation by grouping well-correlated columns into a single multiple column\n",
    "- Correlation may not be preserved during data generation"
   ]
  },
  {
   "cell_type": "code",
   "execution_count": null,
   "id": "840e6dae-7b22-4860-9b79-a2e34be1efea",
   "metadata": {},
   "outputs": [],
   "source": [
    "cols = ['HS10', 'country_ship_code', 'country_orig_code', 'trff_rate', 'trff_class_code', 'dec_weight','taxabal_price_KRW','crime_yn', 'key_exposure']\n",
    "df_sample['HS10_ship_orig_tffrt_tffcd_weight_taxprice_crime_key'] = df_sample[cols].apply(lambda row: '^'.join(row.values.astype(str)), axis=1)"
   ]
  },
  {
   "cell_type": "markdown",
   "id": "2d71c347-507d-439c-b3ce-f997551ae3f8",
   "metadata": {},
   "source": [
    "### 불필요한 칼럼 삭제\n",
    "- Delete Duplicate Columns\n",
    "- 'dec_date'의 데이터 타입은 일부 colab 환경에서 오류가 발생하여 삭제하고 진행하겠습니다. (학습에는 큰 지장을 주지 않습니다.)"
   ]
  },
  {
   "cell_type": "code",
   "execution_count": null,
   "id": "fb4a4f67-578c-479e-978f-16a76ad7ef75",
   "metadata": {},
   "outputs": [],
   "source": [
    "df_sample=df_sample.drop(cols, axis=1)\n",
    "df_sample=df_sample.drop('dec_date', axis=1)"
   ]
  },
  {
   "cell_type": "markdown",
   "id": "0b364b37-1d67-4274-a4a7-0a39d3040a02",
   "metadata": {
    "tags": []
   },
   "source": [
    "## Trainning model with CTGAN "
   ]
  },
  {
   "cell_type": "markdown",
   "id": "3efc899d-1da5-4821-adb5-042ce6746592",
   "metadata": {},
   "source": [
    "- CTGAN 알고리즘을 활용하여 모델 학습을 실시합니다. "
   ]
  },
  {
   "cell_type": "code",
   "execution_count": null,
   "id": "7f4935c8-663a-4673-98d9-5ee48c9d1a36",
   "metadata": {},
   "outputs": [],
   "source": [
    "# 학습할 카테고리의 리스트를 변수로 선언합니다. \n",
    "categorical_columns =[ 'dec_num', 'dec_custom_code','imp_dec_code','imp_trd_code',\\\n",
    "                      'imp_typ_code','collect_code', 'typ_transport_code','dec_mark','importer',\\\n",
    "                      'ovs_cust_code','exps_carr_code','country_orig_mark_code','HS10_ship_orig_tffrt_tffcd_weight_taxprice_crime_key']"
   ]
  },
  {
   "cell_type": "code",
   "execution_count": null,
   "id": "7bdf7b59-173c-4d8c-aed1-2ee5f02a04f0",
   "metadata": {
    "tags": []
   },
   "outputs": [],
   "source": [
    "#CTGAN 모델을 학습합니다. \n",
    "ctgan = CTGAN(verbose=True)\n",
    "startTime = time.time()\n",
    "ctgan.fit(df_sample, categorical_columns, epochs = 500)\n",
    "endTime = time.time()\n",
    "\n",
    "print('time:', endTime - startTime )"
   ]
  },
  {
   "cell_type": "markdown",
   "id": "e881953e-a550-4643-89cc-4f1dd2e8d23b",
   "metadata": {
    "tags": []
   },
   "source": [
    "## Generating synthetic data with trained model"
   ]
  },
  {
   "cell_type": "markdown",
   "id": "5fb1d30f-2be9-49ed-9c5b-5b1879409ee2",
   "metadata": {},
   "source": [
    "- 샘플링 한 데이터 갯수 만큼 데이터를 생성함\n",
    "- 더 많은 데이터를 생성할 경우 상관도를 비롯해 두 테이블간 통계적 유사함을 점차 잃게 된다. "
   ]
  },
  {
   "cell_type": "code",
   "execution_count": null,
   "id": "c8e82535-0587-4e57-a633-dde173310b22",
   "metadata": {},
   "outputs": [],
   "source": [
    "#샘플링 한 데이터 갯수 만큼 데이터를 생성함\n",
    "df_syn = ctgan.sample(len(df_sample))"
   ]
  },
  {
   "cell_type": "code",
   "execution_count": null,
   "id": "0896dc96-c474-4ac0-913f-418dc4ea80a0",
   "metadata": {},
   "outputs": [],
   "source": [
    "#신고번호를 기준으로 정렬함\n",
    "df_syn = df_syn.sort_values('dec_num')"
   ]
  },
  {
   "cell_type": "markdown",
   "id": "38650e6d-7d24-42bf-9b13-612a173c767f",
   "metadata": {
    "tags": []
   },
   "source": [
    "## Save the new data"
   ]
  },
  {
   "cell_type": "code",
   "execution_count": null,
   "id": "5844beb4-c097-469b-a523-0070a7ed0fe6",
   "metadata": {},
   "outputs": [],
   "source": [
    "# 합성된 데이터의 정보를 확인 합니다. \n",
    "df_syn.info()"
   ]
  },
  {
   "cell_type": "code",
   "execution_count": null,
   "id": "9b990a0c-4632-4016-afe0-74717fcfbbaf",
   "metadata": {},
   "outputs": [],
   "source": [
    "#여러 칼럼을 합쳐두었던 데이터를 분리하여 각 칼럼을 생성합니다. \n",
    "df_syn['HS10']=df_syn.HS10_ship_orig_tffrt_tffcd_weight_taxprice_crime_key.str.split('^').str[0]\n",
    "df_syn['country_ship_code']=df_syn.HS10_ship_orig_tffrt_tffcd_weight_taxprice_crime_key.str.split('^').str[1]\n",
    "df_syn['country_orig_code']=df_syn.HS10_ship_orig_tffrt_tffcd_weight_taxprice_crime_key.str.split('^').str[2]\n",
    "df_syn['trff_rate']=df_syn.HS10_ship_orig_tffrt_tffcd_weight_taxprice_crime_key.str.split('^').str[3]\n",
    "df_syn['trff_class_code']=df_syn.HS10_ship_orig_tffrt_tffcd_weight_taxprice_crime_key.str.split('^').str[4]\n",
    "df_syn['dec_weight']=df_syn.HS10_ship_orig_tffrt_tffcd_weight_taxprice_crime_key.str.split('^').str[5]\n",
    "df_syn['taxabal_price_KRW']=df_syn.HS10_ship_orig_tffrt_tffcd_weight_taxprice_crime_key.str.split('^').str[6]\n",
    "df_syn['crime_yn']=df_syn.HS10_ship_orig_tffrt_tffcd_weight_taxprice_crime_key.str.split('^').str[7]\n",
    "df_syn['key_exposure']=df_syn.HS10_ship_orig_tffrt_tffcd_weight_taxprice_crime_key.str.split('^').str[8]"
   ]
  },
  {
   "cell_type": "code",
   "execution_count": null,
   "id": "946ae4d3-1393-4f8c-82c5-a39b31294c9b",
   "metadata": {},
   "outputs": [],
   "source": [
    "#여러 칼럼이 합쳐진 칼럼을 삭제 합니다.\n",
    "df_syn = df_syn.drop(['HS10_ship_orig_tffrt_tffcd_weight_taxprice_crime_key'],axis=1)"
   ]
  },
  {
   "cell_type": "markdown",
   "id": "f3b9e0d3-01ad-445d-97ef-e7d85c853e4c",
   "metadata": {},
   "source": [
    "- Sort columns the same as the original data\n",
    "- 여러 칼럼을 합쳤다가 분리가 되었기 때문에 칼럼의 순서가 뒤섞였습니다. "
   ]
  },
  {
   "cell_type": "code",
   "execution_count": 2,
   "id": "69d9c149-68a1-40af-92fb-e80314053474",
   "metadata": {},
   "outputs": [
    {
     "ename": "NameError",
     "evalue": "name 'df_syn' is not defined",
     "output_type": "error",
     "traceback": [
      "\u001b[1;31m---------------------------------------------------------------------------\u001b[0m",
      "\u001b[1;31mNameError\u001b[0m                                 Traceback (most recent call last)",
      "Cell \u001b[1;32mIn[2], line 2\u001b[0m\n\u001b[0;32m      1\u001b[0m \u001b[38;5;66;03m#기존 데이터의 칼럼 순서대로 정렬하는 코드입니다. \u001b[39;00m\n\u001b[1;32m----> 2\u001b[0m df_tmp \u001b[38;5;241m=\u001b[39m \u001b[43mdf_syn\u001b[49m[[\u001b[38;5;124m'\u001b[39m\u001b[38;5;124mHS10\u001b[39m\u001b[38;5;124m'\u001b[39m,\u001b[38;5;124m'\u001b[39m\u001b[38;5;124mcountry_ship_code\u001b[39m\u001b[38;5;124m'\u001b[39m,\u001b[38;5;124m'\u001b[39m\u001b[38;5;124mcountry_orig_code\u001b[39m\u001b[38;5;124m'\u001b[39m,\u001b[38;5;124m'\u001b[39m\u001b[38;5;124mtrff_rate\u001b[39m\u001b[38;5;124m'\u001b[39m,\\\n\u001b[0;32m      3\u001b[0m                  \u001b[38;5;124m'\u001b[39m\u001b[38;5;124mtrff_class_code\u001b[39m\u001b[38;5;124m'\u001b[39m,\u001b[38;5;124m'\u001b[39m\u001b[38;5;124mcountry_orig_mark_code\u001b[39m\u001b[38;5;124m'\u001b[39m,\u001b[38;5;124m'\u001b[39m\u001b[38;5;124mdec_weight\u001b[39m\u001b[38;5;124m'\u001b[39m,\u001b[38;5;124m'\u001b[39m\u001b[38;5;124mtaxabal_price_KRW\u001b[39m\u001b[38;5;124m'\u001b[39m,\u001b[38;5;124m'\u001b[39m\u001b[38;5;124mcrime_yn\u001b[39m\u001b[38;5;124m'\u001b[39m,\u001b[38;5;124m'\u001b[39m\u001b[38;5;124mkey_exposure\u001b[39m\u001b[38;5;124m'\u001b[39m]]\n\u001b[0;32m      4\u001b[0m df_syn \u001b[38;5;241m=\u001b[39m df_syn\u001b[38;5;241m.\u001b[39mdrop([\u001b[38;5;124m'\u001b[39m\u001b[38;5;124mHS10\u001b[39m\u001b[38;5;124m'\u001b[39m,\u001b[38;5;124m'\u001b[39m\u001b[38;5;124mcountry_ship_code\u001b[39m\u001b[38;5;124m'\u001b[39m,\u001b[38;5;124m'\u001b[39m\u001b[38;5;124mcountry_orig_code\u001b[39m\u001b[38;5;124m'\u001b[39m,\u001b[38;5;124m'\u001b[39m\u001b[38;5;124mtrff_rate\u001b[39m\u001b[38;5;124m'\u001b[39m,\\\n\u001b[0;32m      5\u001b[0m                  \u001b[38;5;124m'\u001b[39m\u001b[38;5;124mtrff_class_code\u001b[39m\u001b[38;5;124m'\u001b[39m,\u001b[38;5;124m'\u001b[39m\u001b[38;5;124mcountry_orig_mark_code\u001b[39m\u001b[38;5;124m'\u001b[39m,\u001b[38;5;124m'\u001b[39m\u001b[38;5;124mdec_weight\u001b[39m\u001b[38;5;124m'\u001b[39m,\u001b[38;5;124m'\u001b[39m\u001b[38;5;124mtaxabal_price_KRW\u001b[39m\u001b[38;5;124m'\u001b[39m,\u001b[38;5;124m'\u001b[39m\u001b[38;5;124mcrime_yn\u001b[39m\u001b[38;5;124m'\u001b[39m,\u001b[38;5;124m'\u001b[39m\u001b[38;5;124mkey_exposure\u001b[39m\u001b[38;5;124m'\u001b[39m],axis\u001b[38;5;241m=\u001b[39m\u001b[38;5;241m1\u001b[39m)\n\u001b[0;32m      6\u001b[0m df_syn \u001b[38;5;241m=\u001b[39m pd\u001b[38;5;241m.\u001b[39mconcat([df_syn, df_tmp], axis \u001b[38;5;241m=\u001b[39m \u001b[38;5;241m1\u001b[39m)\n",
      "\u001b[1;31mNameError\u001b[0m: name 'df_syn' is not defined"
     ]
    }
   ],
   "source": [
    "#기존 데이터의 칼럼 순서대로 정렬합니다.\n",
    "df_tmp = df_syn[['HS10','country_ship_code','country_orig_code','trff_rate',\\\n",
    "                 'trff_class_code','country_orig_mark_code','dec_weight','taxabal_price_KRW','crime_yn','key_exposure']]\n",
    "df_syn = df_syn.drop(['HS10','country_ship_code','country_orig_code','trff_rate',\\\n",
    "                 'trff_class_code','country_orig_mark_code','dec_weight','taxabal_price_KRW','crime_yn','key_exposure'],axis=1)\n",
    "df_syn = pd.concat([df_syn, df_tmp], axis = 1)"
   ]
  },
  {
   "cell_type": "code",
   "execution_count": null,
   "id": "d0ae9659-f915-4574-af2b-bc0c1c904430",
   "metadata": {},
   "outputs": [],
   "source": [
    "# 합성데이터의 정보를 점검합니다.\n",
    "df_syn.info()"
   ]
  },
  {
   "cell_type": "code",
   "execution_count": null,
   "id": "8d1395a3-3fdc-4f9b-a725-a8c97f9dbb0e",
   "metadata": {},
   "outputs": [],
   "source": [
    "#데이터를 지정된 경로에 저장합니다. \n",
    "df_syn.to_csv('./data_sample/df_syn_en_14.csv', index=False, encoding='utf-8-sig')"
   ]
  }
 ],
 "metadata": {
  "kernelspec": {
   "display_name": "wco_ctgan",
   "language": "python",
   "name": "wco_ctgan"
  },
  "language_info": {
   "codemirror_mode": {
    "name": "ipython",
    "version": 3
   },
   "file_extension": ".py",
   "mimetype": "text/x-python",
   "name": "python",
   "nbconvert_exporter": "python",
   "pygments_lexer": "ipython3",
   "version": "3.9.7"
  }
 },
 "nbformat": 4,
 "nbformat_minor": 5
}
