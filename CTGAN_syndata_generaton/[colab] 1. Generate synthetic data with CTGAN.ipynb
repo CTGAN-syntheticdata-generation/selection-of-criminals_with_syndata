{
 "cells": [
  {
   "cell_type": "markdown",
   "id": "b242c512-a3c8-401e-8318-d8a5aea5c25d",
   "metadata": {},
   "source": [
    "# 0. 프로젝트 환경구축 하기"
   ]
  },
  {
   "cell_type": "markdown",
   "id": "b08f15b6-64c6-4e02-8c43-c874ae6f5b24",
   "metadata": {},
   "source": [
    "## Colab과 Github 활용하기"
   ]
  },
  {
   "cell_type": "markdown",
   "id": "43274a38-073a-4d34-9029-1b7368965084",
   "metadata": {},
   "source": [
    "### Colab에 drive 마운트 하기\n",
    "- 자신의 구글 계정 drive에 접근합니다. \n",
    "- 구글에서 인증요청이 오면 동의하고 진행합니다.\n",
    "- 순서대로 진행하게 되면 좌측 카테고리에 drive 폴더가 생성됩니다. \n",
    "- 생성되지 않았다면 새로고침 버튼을 통해 drive 폴더가 표시되게 합니다. "
   ]
  },
  {
   "cell_type": "code",
   "execution_count": 1,
   "id": "c0f2811b-eaba-4329-8c0a-f72674a289d9",
   "metadata": {},
   "outputs": [
    {
     "ename": "ModuleNotFoundError",
     "evalue": "No module named 'google'",
     "output_type": "error",
     "traceback": [
      "\u001b[1;31m---------------------------------------------------------------------------\u001b[0m",
      "\u001b[1;31mModuleNotFoundError\u001b[0m                       Traceback (most recent call last)",
      "Cell \u001b[1;32mIn[1], line 1\u001b[0m\n\u001b[1;32m----> 1\u001b[0m \u001b[38;5;28;01mfrom\u001b[39;00m \u001b[38;5;21;01mgoogle\u001b[39;00m\u001b[38;5;21;01m.\u001b[39;00m\u001b[38;5;21;01mcolab\u001b[39;00m \u001b[38;5;28;01mimport\u001b[39;00m drive\n\u001b[0;32m      2\u001b[0m drive\u001b[38;5;241m.\u001b[39mmount(\u001b[38;5;124m'\u001b[39m\u001b[38;5;124m/content/drive\u001b[39m\u001b[38;5;124m'\u001b[39m)\n",
      "\u001b[1;31mModuleNotFoundError\u001b[0m: No module named 'google'"
     ]
    }
   ],
   "source": [
    "from google.colab import drive\n",
    "drive.mount('/content/drive')"
   ]
  },
  {
   "cell_type": "markdown",
   "id": "bcfbc223-2b11-49ea-aa16-74dac73c1276",
   "metadata": {},
   "source": [
    "- 드라이브의 MyDrive 폴더로 현재 위치를 변경합니다.\n",
    "- 이곳에 우리가 작업할 프로젝트를 불러올 것입니다. "
   ]
  },
  {
   "cell_type": "code",
   "execution_count": null,
   "id": "f59d94b9-0860-46db-897a-af55846cbce4",
   "metadata": {},
   "outputs": [],
   "source": [
    "cd \"/content/drive/MyDrive\""
   ]
  },
  {
   "cell_type": "markdown",
   "id": "924330cd-a6a0-4ae0-94b8-9b02dab50e26",
   "metadata": {},
   "source": [
    "### Github에서 프로젝트 불러오기"
   ]
  },
  {
   "cell_type": "markdown",
   "id": "a01fcf60-7c70-4511-93db-eec589830b50",
   "metadata": {},
   "source": [
    "- Github를 통해서 실습 프로젝트를 불러옵니다. "
   ]
  },
  {
   "cell_type": "code",
   "execution_count": null,
   "id": "4b8c5444-0a3e-4c42-b444-f72df2e06e0f",
   "metadata": {},
   "outputs": [],
   "source": [
    "!git clone https://github.com/CTGAN-syntheticdata-generation/Selection-of-criminals_with_syndata.git"
   ]
  },
  {
   "cell_type": "markdown",
   "id": "19b4bd88-e06c-4c7f-8fb5-5ea4c5313707",
   "metadata": {},
   "source": [
    "- 실습데이터가 있는 폴더로 현재 위치를 변경합니다. "
   ]
  },
  {
   "cell_type": "code",
   "execution_count": null,
   "id": "56cefe1c-8d0a-42fa-8d79-a6c85403a813",
   "metadata": {},
   "outputs": [],
   "source": [
    "cd \"/content/drive/MyDrive/Selection-of-criminals_with_syndata/CTGAN_syndata_generaton\" "
   ]
  },
  {
   "cell_type": "markdown",
   "id": "229da667-9a33-4822-ad0e-c70fc63beb04",
   "metadata": {},
   "source": [
    "# 1. Generate synthetic data with CTGAN"
   ]
  },
  {
   "cell_type": "markdown",
   "id": "6469e0de-de22-43d0-812c-9cf063cddeb5",
   "metadata": {},
   "source": [
    "## CTGAN에 대한 소개"
   ]
  },
  {
   "cell_type": "markdown",
   "id": "f60843db-aeff-4844-9f67-6b03f5e40476",
   "metadata": {},
   "source": [
    "- CTGAN은 Conditional Tabular GAN의 약자이며 테이블 형식 데이터를 생성하기 위해 특별히 설계된 GAN 아키텍처 유형입니다. \n",
    "- CTGAN은 원본 데이터의 통계적 특성을 유지하면서 실제 데이터와 유사한 표 형식 데이터를 생성할 수 있습니다.\n",
    "- CTGAN은 실제 데이터와 합성 데이터를 구분하는 판별자와 실제 데이터 분포와 일치하는 합성 데이터를 생성하는 생성기를 사용하여 실제 데이터와 합성 데이터 모두에 대해 모델을 교육하여 작동합니다. \n",
    "- 생성기는 실제 데이터와 유사하고 사실적인 합성 데이터를 생성하도록 훈련되는 반면 판별자는 실제 데이터와 합성 데이터를 구별하도록 훈련됩니다."
   ]
  },
  {
   "cell_type": "markdown",
   "id": "cc01c3bf-9eb5-419a-a516-481c076b70e1",
   "metadata": {
    "tags": []
   },
   "source": [
    "## Load Library"
   ]
  },
  {
   "cell_type": "markdown",
   "id": "f78d9360-9ee6-4f6b-aa3e-3cd3bfdd806c",
   "metadata": {},
   "source": [
    "- CTGAN 라이브러리 설치하기\n",
    "- 최초 실행시 사용자 환경에 따라 오류가 발생할 수 있으나 다시 실행하면 일부 문제 해결 가능"
   ]
  },
  {
   "cell_type": "code",
   "execution_count": null,
   "id": "935333fa-c8c5-4212-a271-dd825e10a612",
   "metadata": {},
   "outputs": [],
   "source": [
    "!pip install ctgan"
   ]
  },
  {
   "cell_type": "markdown",
   "id": "276aeeb8-0d05-479b-859f-864f9c712217",
   "metadata": {},
   "source": [
    "- Library for data type\n",
    "- 데이터 프레임을 사용하기 위해 판다스 라이브러리를 활용합니다. "
   ]
  },
  {
   "cell_type": "code",
   "execution_count": 1,
   "id": "8e93ddcb-2960-4891-b63d-8ebe61e4b3e9",
   "metadata": {},
   "outputs": [],
   "source": [
    "import pandas as pd"
   ]
  },
  {
   "cell_type": "markdown",
   "id": "eb3f5ed5-1968-4a37-991e-3c5b01e41942",
   "metadata": {},
   "source": [
    "- Library for model trainning \n",
    "- Use torch to facilitate computation using GPU"
   ]
  },
  {
   "cell_type": "code",
   "execution_count": 2,
   "id": "1e6dce13-6179-4c71-8c0c-da1f88ebf601",
   "metadata": {},
   "outputs": [
    {
     "name": "stderr",
     "output_type": "stream",
     "text": [
      "C:\\Users\\0614_\\anaconda3\\envs\\wco_ctgan\\lib\\site-packages\\tqdm\\auto.py:22: TqdmWarning: IProgress not found. Please update jupyter and ipywidgets. See https://ipywidgets.readthedocs.io/en/stable/user_install.html\n",
      "  from .autonotebook import tqdm as notebook_tqdm\n"
     ]
    }
   ],
   "source": [
    "import torch\n",
    "#Tools for Python Memory Management\n",
    "import gc \n",
    "from ctgan import CTGAN"
   ]
  },
  {
   "cell_type": "markdown",
   "id": "96696afe-b171-4bee-a820-9800ed22c496",
   "metadata": {},
   "source": [
    "- Check we can use GPU(with cuda)"
   ]
  },
  {
   "cell_type": "code",
   "execution_count": 3,
   "id": "1f627c44-312c-4f2a-9044-f893e2097101",
   "metadata": {},
   "outputs": [
    {
     "data": {
      "text/plain": [
       "True"
      ]
     },
     "execution_count": 3,
     "metadata": {},
     "output_type": "execute_result"
    }
   ],
   "source": [
    "torch.cuda.is_available()"
   ]
  },
  {
   "cell_type": "code",
   "execution_count": 4,
   "id": "281d742a-a5dd-4f2a-ba51-b3e737edec01",
   "metadata": {},
   "outputs": [],
   "source": [
    "# Manually turn off objects that are not currently needed\n",
    "gc.collect()\n",
    "# Function to clear the CUDA memory cache curently in use\n",
    "torch.cuda.empty_cache()"
   ]
  },
  {
   "cell_type": "markdown",
   "id": "0e79380b-1ac7-4168-a0e9-377217469796",
   "metadata": {},
   "source": [
    "- Library for graphing\n",
    "- seaborn과 matplotlib를 통해서 데이터를 시각화 합니다. "
   ]
  },
  {
   "cell_type": "code",
   "execution_count": 5,
   "id": "a80c381b-d543-4e68-80c9-435414e40cc3",
   "metadata": {},
   "outputs": [],
   "source": [
    "import seaborn as sns\n",
    "import matplotlib.pyplot as plt"
   ]
  },
  {
   "cell_type": "markdown",
   "id": "825d1736-24d3-4c03-bb74-d97018fa1729",
   "metadata": {},
   "source": [
    "- setting etc \n",
    "- copy는 데이터를 복사하는 라이브러리\n",
    "- time은 시스템의 시간을 확인할 수 있는 라이브러리"
   ]
  },
  {
   "cell_type": "code",
   "execution_count": 6,
   "id": "d9df851c-fb3a-4a43-8852-360c629d11b0",
   "metadata": {},
   "outputs": [],
   "source": [
    "import copy\n",
    "import time\n",
    "\n",
    "import warnings\n",
    "warnings.filterwarnings(\"ignore\")"
   ]
  },
  {
   "cell_type": "markdown",
   "id": "7393c535-197d-4129-be24-513c3a1a012c",
   "metadata": {},
   "source": [
    "- setting Jupyter Notebook"
   ]
  },
  {
   "cell_type": "code",
   "execution_count": 7,
   "id": "28a351fe-0977-416b-833c-2635cac7f311",
   "metadata": {},
   "outputs": [
    {
     "data": {
      "text/html": [
       "<style>.container { width:100% !important; }</style>"
      ],
      "text/plain": [
       "<IPython.core.display.HTML object>"
      ]
     },
     "metadata": {},
     "output_type": "display_data"
    },
    {
     "name": "stdout",
     "output_type": "stream",
     "text": [
      "ready to run\n"
     ]
    }
   ],
   "source": [
    "#Jupiter Cell Full Screen View\n",
    "from IPython.core.display import display, HTML\n",
    "display(HTML(\"<style>.container { width:100% !important; }</style>\"))\n",
    "# useful for debuging (print the results of both formulas and functions entered in one cell of Jupiter)\n",
    "#from IPython.core.interactiveshell import InteractiveShell\n",
    "#InteractiveShell.ast_node_interactivity = \"all\"\n",
    "# Each column width at maximum (print all column contents)\n",
    "pd.set_option('display.max_colwidth', -1)\n",
    "# Show up to 500 rows\n",
    "pd.set_option('display.max_rows', 500)\n",
    "# Display up to 500 columns\n",
    "pd.set_option('display.max_columns', 500)\n",
    "# Total length of data frame\n",
    "pd.set_option('display.width', 1000)\n",
    "\n",
    "print('ready to run')\n",
    "# logging starttime \n",
    "startTime = time.time()"
   ]
  },
  {
   "cell_type": "markdown",
   "id": "5521ec0e-0b42-4a4e-9deb-1e7bb8876998",
   "metadata": {
    "tags": []
   },
   "source": [
    "## Load Data"
   ]
  },
  {
   "cell_type": "markdown",
   "id": "80ee081a-ee1c-42ed-85f4-8b1be026fef6",
   "metadata": {},
   "source": [
    "- 미리 준비해둔 가상의 관세청 데이터를 불러옵니다."
   ]
  },
  {
   "cell_type": "code",
   "execution_count": 8,
   "id": "4f9c71de-c978-47f0-a625-9b2e762709d7",
   "metadata": {
    "tags": []
   },
   "outputs": [],
   "source": [
    "df_raw=pd.read_csv('df_syn_en.csv', encoding='utf-8-sig')"
   ]
  },
  {
   "cell_type": "markdown",
   "id": "9d02e5dd-b55e-45ec-938f-4c8796b4dc48",
   "metadata": {
    "tags": []
   },
   "source": [
    "## Data copy"
   ]
  },
  {
   "cell_type": "markdown",
   "id": "b7b636cf-55a3-41ec-a673-5cdc1b2b492a",
   "metadata": {},
   "source": [
    "- 불러온 데이터를 안전하게 사용하기 위해 복사합니다."
   ]
  },
  {
   "cell_type": "code",
   "execution_count": 9,
   "id": "3113b4ed-b5be-4a7b-b0fd-a5036102ff87",
   "metadata": {},
   "outputs": [],
   "source": [
    "df_raw_copy = copy.deepcopy(df_raw)"
   ]
  },
  {
   "cell_type": "markdown",
   "id": "5799e12e-0534-49c7-b478-383898bc8972",
   "metadata": {
    "tags": []
   },
   "source": [
    "## Check the data\n",
    "- 'dec_num' deduplication (unique value)\n",
    "- Sorting by 'dec_date' (ASC)\n",
    "- Check for outliers ('imp_dec_code')"
   ]
  },
  {
   "cell_type": "code",
   "execution_count": 10,
   "id": "c98da689-cc8a-4488-8534-91aafcc46efd",
   "metadata": {},
   "outputs": [],
   "source": [
    "#Change of 'dec_date' type\n",
    "df_raw_copy['dec_date'] = pd.to_datetime(df_raw_copy['dec_date']) \n",
    "#'dec_num' deduplication\n",
    "df_org = df_raw_copy.drop_duplicates(['dec_num'], keep = 'first') \n",
    "#'dec_date' sorting ASC\n",
    "df_org = df_org.sort_values(by = ['dec_date'], axis = 0) "
   ]
  },
  {
   "cell_type": "code",
   "execution_count": 11,
   "id": "4012cca4-e92c-4874-a7b7-cacfe69d7c4a",
   "metadata": {
    "tags": []
   },
   "outputs": [
    {
     "data": {
      "text/plain": [
       "(54000, 22)"
      ]
     },
     "execution_count": 11,
     "metadata": {},
     "output_type": "execute_result"
    }
   ],
   "source": [
    "#불러온 데이터의 형태를 확인\n",
    "df_org.shape"
   ]
  },
  {
   "cell_type": "code",
   "execution_count": 12,
   "id": "ee7d9064-dca7-40e8-b606-7245b4a1372c",
   "metadata": {},
   "outputs": [
    {
     "data": {
      "text/html": [
       "<div>\n",
       "<style scoped>\n",
       "    .dataframe tbody tr th:only-of-type {\n",
       "        vertical-align: middle;\n",
       "    }\n",
       "\n",
       "    .dataframe tbody tr th {\n",
       "        vertical-align: top;\n",
       "    }\n",
       "\n",
       "    .dataframe thead th {\n",
       "        text-align: right;\n",
       "    }\n",
       "</style>\n",
       "<table border=\"1\" class=\"dataframe\">\n",
       "  <thead>\n",
       "    <tr style=\"text-align: right;\">\n",
       "      <th></th>\n",
       "      <th>dec_num</th>\n",
       "      <th>dec_date</th>\n",
       "      <th>dec_custom_code</th>\n",
       "      <th>imp_dec_code</th>\n",
       "      <th>imp_trd_code</th>\n",
       "      <th>imp_typ_code</th>\n",
       "      <th>collect_code</th>\n",
       "      <th>typ_transport_code</th>\n",
       "      <th>dec_mark</th>\n",
       "      <th>importer</th>\n",
       "      <th>ovs_cust_code</th>\n",
       "      <th>exps_carr_code</th>\n",
       "      <th>HS10</th>\n",
       "      <th>country_ship_code</th>\n",
       "      <th>country_orig_code</th>\n",
       "      <th>trff_rate</th>\n",
       "      <th>trff_class_code</th>\n",
       "      <th>country_orig_mark_code</th>\n",
       "      <th>dec_weight</th>\n",
       "      <th>taxabal_price_KRW</th>\n",
       "      <th>crime_yn</th>\n",
       "      <th>key_exposure</th>\n",
       "    </tr>\n",
       "  </thead>\n",
       "  <tbody>\n",
       "    <tr>\n",
       "      <th>0</th>\n",
       "      <td>97061800</td>\n",
       "      <td>2020-01-01</td>\n",
       "      <td>30</td>\n",
       "      <td>B</td>\n",
       "      <td>11</td>\n",
       "      <td>21</td>\n",
       "      <td>11</td>\n",
       "      <td>10</td>\n",
       "      <td>ZZR1LT6</td>\n",
       "      <td>QLRUBN9</td>\n",
       "      <td>0VKY2BR</td>\n",
       "      <td>NaN</td>\n",
       "      <td>4408909195</td>\n",
       "      <td>BE</td>\n",
       "      <td>BE</td>\n",
       "      <td>0.0</td>\n",
       "      <td>FEU1</td>\n",
       "      <td>G</td>\n",
       "      <td>108.0</td>\n",
       "      <td>372254.40</td>\n",
       "      <td>0</td>\n",
       "      <td>0</td>\n",
       "    </tr>\n",
       "    <tr>\n",
       "      <th>25</th>\n",
       "      <td>21073696</td>\n",
       "      <td>2020-01-01</td>\n",
       "      <td>70</td>\n",
       "      <td>B</td>\n",
       "      <td>11</td>\n",
       "      <td>21</td>\n",
       "      <td>11</td>\n",
       "      <td>10</td>\n",
       "      <td>0M7YBNH</td>\n",
       "      <td>55BH1VM</td>\n",
       "      <td>OOZO637</td>\n",
       "      <td>NaN</td>\n",
       "      <td>9206009000</td>\n",
       "      <td>NP</td>\n",
       "      <td>NP</td>\n",
       "      <td>0.0</td>\n",
       "      <td>R</td>\n",
       "      <td>S</td>\n",
       "      <td>60.0</td>\n",
       "      <td>3486.00</td>\n",
       "      <td>0</td>\n",
       "      <td>0</td>\n",
       "    </tr>\n",
       "    <tr>\n",
       "      <th>23</th>\n",
       "      <td>64705381</td>\n",
       "      <td>2020-01-01</td>\n",
       "      <td>30</td>\n",
       "      <td>B</td>\n",
       "      <td>11</td>\n",
       "      <td>21</td>\n",
       "      <td>11</td>\n",
       "      <td>10</td>\n",
       "      <td>CSYO98C</td>\n",
       "      <td>Y3QS787</td>\n",
       "      <td>KQ8UJP7</td>\n",
       "      <td>NaN</td>\n",
       "      <td>7326909000</td>\n",
       "      <td>DE</td>\n",
       "      <td>DE</td>\n",
       "      <td>0.0</td>\n",
       "      <td>FEU1</td>\n",
       "      <td>Y</td>\n",
       "      <td>22.0</td>\n",
       "      <td>33.00</td>\n",
       "      <td>0</td>\n",
       "      <td>0</td>\n",
       "    </tr>\n",
       "    <tr>\n",
       "      <th>22</th>\n",
       "      <td>25886903</td>\n",
       "      <td>2020-01-01</td>\n",
       "      <td>20</td>\n",
       "      <td>B</td>\n",
       "      <td>11</td>\n",
       "      <td>21</td>\n",
       "      <td>11</td>\n",
       "      <td>10</td>\n",
       "      <td>5K1441H</td>\n",
       "      <td>EHXQG9A</td>\n",
       "      <td>W3K0JC6</td>\n",
       "      <td>NaN</td>\n",
       "      <td>8517623900</td>\n",
       "      <td>CA</td>\n",
       "      <td>CA</td>\n",
       "      <td>0.0</td>\n",
       "      <td>CIT</td>\n",
       "      <td>Y</td>\n",
       "      <td>14.1</td>\n",
       "      <td>13320.27</td>\n",
       "      <td>0</td>\n",
       "      <td>0</td>\n",
       "    </tr>\n",
       "    <tr>\n",
       "      <th>21</th>\n",
       "      <td>19201172</td>\n",
       "      <td>2020-01-01</td>\n",
       "      <td>40</td>\n",
       "      <td>B</td>\n",
       "      <td>11</td>\n",
       "      <td>21</td>\n",
       "      <td>11</td>\n",
       "      <td>10</td>\n",
       "      <td>A7POIBB</td>\n",
       "      <td>Q8MAKJD</td>\n",
       "      <td>KILND1W</td>\n",
       "      <td>NaN</td>\n",
       "      <td>2005999000</td>\n",
       "      <td>CN</td>\n",
       "      <td>CN</td>\n",
       "      <td>18.0</td>\n",
       "      <td>FCN1</td>\n",
       "      <td>G</td>\n",
       "      <td>48320.0</td>\n",
       "      <td>4575904.00</td>\n",
       "      <td>0</td>\n",
       "      <td>0</td>\n",
       "    </tr>\n",
       "  </tbody>\n",
       "</table>\n",
       "</div>"
      ],
      "text/plain": [
       "     dec_num   dec_date  dec_custom_code imp_dec_code  imp_trd_code  imp_typ_code  collect_code  typ_transport_code dec_mark importer ovs_cust_code exps_carr_code        HS10 country_ship_code country_orig_code  trff_rate trff_class_code country_orig_mark_code  dec_weight  taxabal_price_KRW  crime_yn  key_exposure\n",
       "0   97061800 2020-01-01  30               B            11            21            11            10                  ZZR1LT6  QLRUBN9  0VKY2BR       NaN            4408909195  BE                BE                0.0        FEU1            G                      108.0       372254.40          0         0           \n",
       "25  21073696 2020-01-01  70               B            11            21            11            10                  0M7YBNH  55BH1VM  OOZO637       NaN            9206009000  NP                NP                0.0        R               S                      60.0        3486.00            0         0           \n",
       "23  64705381 2020-01-01  30               B            11            21            11            10                  CSYO98C  Y3QS787  KQ8UJP7       NaN            7326909000  DE                DE                0.0        FEU1            Y                      22.0        33.00              0         0           \n",
       "22  25886903 2020-01-01  20               B            11            21            11            10                  5K1441H  EHXQG9A  W3K0JC6       NaN            8517623900  CA                CA                0.0        CIT             Y                      14.1        13320.27           0         0           \n",
       "21  19201172 2020-01-01  40               B            11            21            11            10                  A7POIBB  Q8MAKJD  KILND1W       NaN            2005999000  CN                CN                18.0       FCN1            G                      48320.0     4575904.00         0         0           "
      ]
     },
     "execution_count": 12,
     "metadata": {},
     "output_type": "execute_result"
    }
   ],
   "source": [
    "#불러온 데이터의 예시를 확인\n",
    "df_org.head()"
   ]
  },
  {
   "cell_type": "markdown",
   "id": "3f16c874-bab8-44cc-a8f0-b612f50f090f",
   "metadata": {},
   "source": [
    "- 불러온 데이터의 기본 정보를 확인 합니다.\n",
    "- 일부 데이터가 적은 것을 확인할 수 있습니다."
   ]
  },
  {
   "cell_type": "code",
   "execution_count": 13,
   "id": "2fbdcb2a-4282-4338-9209-05811f79781e",
   "metadata": {
    "tags": []
   },
   "outputs": [
    {
     "name": "stdout",
     "output_type": "stream",
     "text": [
      "<class 'pandas.core.frame.DataFrame'>\n",
      "Int64Index: 54000 entries, 0 to 53999\n",
      "Data columns (total 22 columns):\n",
      " #   Column                  Non-Null Count  Dtype         \n",
      "---  ------                  --------------  -----         \n",
      " 0   dec_num                 54000 non-null  int64         \n",
      " 1   dec_date                54000 non-null  datetime64[ns]\n",
      " 2   dec_custom_code         54000 non-null  int64         \n",
      " 3   imp_dec_code            54000 non-null  object        \n",
      " 4   imp_trd_code            54000 non-null  int64         \n",
      " 5   imp_typ_code            54000 non-null  int64         \n",
      " 6   collect_code            54000 non-null  int64         \n",
      " 7   typ_transport_code      54000 non-null  int64         \n",
      " 8   dec_mark                54000 non-null  object        \n",
      " 9   importer                54000 non-null  object        \n",
      " 10  ovs_cust_code           48799 non-null  object        \n",
      " 11  exps_carr_code          9538 non-null   object        \n",
      " 12  HS10                    54000 non-null  int64         \n",
      " 13  country_ship_code       54000 non-null  object        \n",
      " 14  country_orig_code       54000 non-null  object        \n",
      " 15  trff_rate               54000 non-null  float64       \n",
      " 16  trff_class_code         54000 non-null  object        \n",
      " 17  country_orig_mark_code  54000 non-null  object        \n",
      " 18  dec_weight              54000 non-null  float64       \n",
      " 19  taxabal_price_KRW       54000 non-null  float64       \n",
      " 20  crime_yn                54000 non-null  int64         \n",
      " 21  key_exposure            54000 non-null  int64         \n",
      "dtypes: datetime64[ns](1), float64(3), int64(9), object(9)\n",
      "memory usage: 9.5+ MB\n"
     ]
    }
   ],
   "source": [
    "#dec_date의 타입이 유일하게 다른 datetime64[ns]임을 확인\n",
    "df_org.info()"
   ]
  },
  {
   "cell_type": "markdown",
   "id": "ba377abb-bc6e-4bc0-b600-2890c51184f6",
   "metadata": {},
   "source": [
    "- describe을 활용해 모든 칼럼에 대한 데이터 요약을 확인합니다.\n",
    "- 수치형 데이터의 mean, std 등 통계정보를 요약합니다."
   ]
  },
  {
   "cell_type": "code",
   "execution_count": 14,
   "id": "9912ed87-7ac4-4b5c-9674-829d09b7d568",
   "metadata": {
    "tags": []
   },
   "outputs": [
    {
     "data": {
      "text/html": [
       "<div>\n",
       "<style scoped>\n",
       "    .dataframe tbody tr th:only-of-type {\n",
       "        vertical-align: middle;\n",
       "    }\n",
       "\n",
       "    .dataframe tbody tr th {\n",
       "        vertical-align: top;\n",
       "    }\n",
       "\n",
       "    .dataframe thead th {\n",
       "        text-align: right;\n",
       "    }\n",
       "</style>\n",
       "<table border=\"1\" class=\"dataframe\">\n",
       "  <thead>\n",
       "    <tr style=\"text-align: right;\">\n",
       "      <th></th>\n",
       "      <th>dec_num</th>\n",
       "      <th>dec_date</th>\n",
       "      <th>dec_custom_code</th>\n",
       "      <th>imp_dec_code</th>\n",
       "      <th>imp_trd_code</th>\n",
       "      <th>imp_typ_code</th>\n",
       "      <th>collect_code</th>\n",
       "      <th>typ_transport_code</th>\n",
       "      <th>dec_mark</th>\n",
       "      <th>importer</th>\n",
       "      <th>ovs_cust_code</th>\n",
       "      <th>exps_carr_code</th>\n",
       "      <th>HS10</th>\n",
       "      <th>country_ship_code</th>\n",
       "      <th>country_orig_code</th>\n",
       "      <th>trff_rate</th>\n",
       "      <th>trff_class_code</th>\n",
       "      <th>country_orig_mark_code</th>\n",
       "      <th>dec_weight</th>\n",
       "      <th>taxabal_price_KRW</th>\n",
       "      <th>crime_yn</th>\n",
       "      <th>key_exposure</th>\n",
       "    </tr>\n",
       "  </thead>\n",
       "  <tbody>\n",
       "    <tr>\n",
       "      <th>count</th>\n",
       "      <td>5.400000e+04</td>\n",
       "      <td>54000</td>\n",
       "      <td>54000.000000</td>\n",
       "      <td>54000</td>\n",
       "      <td>54000.000000</td>\n",
       "      <td>54000.000000</td>\n",
       "      <td>54000.000000</td>\n",
       "      <td>54000.000000</td>\n",
       "      <td>54000</td>\n",
       "      <td>54000</td>\n",
       "      <td>48799</td>\n",
       "      <td>9538</td>\n",
       "      <td>5.400000e+04</td>\n",
       "      <td>54000</td>\n",
       "      <td>54000</td>\n",
       "      <td>54000.000000</td>\n",
       "      <td>54000</td>\n",
       "      <td>54000</td>\n",
       "      <td>5.400000e+04</td>\n",
       "      <td>5.400000e+04</td>\n",
       "      <td>54000.000000</td>\n",
       "      <td>54000.000000</td>\n",
       "    </tr>\n",
       "    <tr>\n",
       "      <th>unique</th>\n",
       "      <td>NaN</td>\n",
       "      <td>547</td>\n",
       "      <td>NaN</td>\n",
       "      <td>3</td>\n",
       "      <td>NaN</td>\n",
       "      <td>NaN</td>\n",
       "      <td>NaN</td>\n",
       "      <td>NaN</td>\n",
       "      <td>1238</td>\n",
       "      <td>14482</td>\n",
       "      <td>12201</td>\n",
       "      <td>81</td>\n",
       "      <td>NaN</td>\n",
       "      <td>102</td>\n",
       "      <td>119</td>\n",
       "      <td>NaN</td>\n",
       "      <td>49</td>\n",
       "      <td>6</td>\n",
       "      <td>NaN</td>\n",
       "      <td>NaN</td>\n",
       "      <td>NaN</td>\n",
       "      <td>NaN</td>\n",
       "    </tr>\n",
       "    <tr>\n",
       "      <th>top</th>\n",
       "      <td>NaN</td>\n",
       "      <td>2021-02-01 00:00:00</td>\n",
       "      <td>NaN</td>\n",
       "      <td>B</td>\n",
       "      <td>NaN</td>\n",
       "      <td>NaN</td>\n",
       "      <td>NaN</td>\n",
       "      <td>NaN</td>\n",
       "      <td>DWNJQL8</td>\n",
       "      <td>708A72F</td>\n",
       "      <td>7PN0VA5</td>\n",
       "      <td>MWIDNS</td>\n",
       "      <td>NaN</td>\n",
       "      <td>CN</td>\n",
       "      <td>CN</td>\n",
       "      <td>NaN</td>\n",
       "      <td>A</td>\n",
       "      <td>E</td>\n",
       "      <td>NaN</td>\n",
       "      <td>NaN</td>\n",
       "      <td>NaN</td>\n",
       "      <td>NaN</td>\n",
       "    </tr>\n",
       "    <tr>\n",
       "      <th>freq</th>\n",
       "      <td>NaN</td>\n",
       "      <td>505</td>\n",
       "      <td>NaN</td>\n",
       "      <td>53992</td>\n",
       "      <td>NaN</td>\n",
       "      <td>NaN</td>\n",
       "      <td>NaN</td>\n",
       "      <td>NaN</td>\n",
       "      <td>1777</td>\n",
       "      <td>196</td>\n",
       "      <td>271</td>\n",
       "      <td>3109</td>\n",
       "      <td>NaN</td>\n",
       "      <td>24956</td>\n",
       "      <td>27486</td>\n",
       "      <td>NaN</td>\n",
       "      <td>20367</td>\n",
       "      <td>15269</td>\n",
       "      <td>NaN</td>\n",
       "      <td>NaN</td>\n",
       "      <td>NaN</td>\n",
       "      <td>NaN</td>\n",
       "    </tr>\n",
       "    <tr>\n",
       "      <th>first</th>\n",
       "      <td>NaN</td>\n",
       "      <td>2020-01-01 00:00:00</td>\n",
       "      <td>NaN</td>\n",
       "      <td>NaN</td>\n",
       "      <td>NaN</td>\n",
       "      <td>NaN</td>\n",
       "      <td>NaN</td>\n",
       "      <td>NaN</td>\n",
       "      <td>NaN</td>\n",
       "      <td>NaN</td>\n",
       "      <td>NaN</td>\n",
       "      <td>NaN</td>\n",
       "      <td>NaN</td>\n",
       "      <td>NaN</td>\n",
       "      <td>NaN</td>\n",
       "      <td>NaN</td>\n",
       "      <td>NaN</td>\n",
       "      <td>NaN</td>\n",
       "      <td>NaN</td>\n",
       "      <td>NaN</td>\n",
       "      <td>NaN</td>\n",
       "      <td>NaN</td>\n",
       "    </tr>\n",
       "    <tr>\n",
       "      <th>last</th>\n",
       "      <td>NaN</td>\n",
       "      <td>2021-06-30 00:00:00</td>\n",
       "      <td>NaN</td>\n",
       "      <td>NaN</td>\n",
       "      <td>NaN</td>\n",
       "      <td>NaN</td>\n",
       "      <td>NaN</td>\n",
       "      <td>NaN</td>\n",
       "      <td>NaN</td>\n",
       "      <td>NaN</td>\n",
       "      <td>NaN</td>\n",
       "      <td>NaN</td>\n",
       "      <td>NaN</td>\n",
       "      <td>NaN</td>\n",
       "      <td>NaN</td>\n",
       "      <td>NaN</td>\n",
       "      <td>NaN</td>\n",
       "      <td>NaN</td>\n",
       "      <td>NaN</td>\n",
       "      <td>NaN</td>\n",
       "      <td>NaN</td>\n",
       "      <td>NaN</td>\n",
       "    </tr>\n",
       "    <tr>\n",
       "      <th>mean</th>\n",
       "      <td>5.507171e+07</td>\n",
       "      <td>NaN</td>\n",
       "      <td>31.227241</td>\n",
       "      <td>NaN</td>\n",
       "      <td>19.554000</td>\n",
       "      <td>20.666093</td>\n",
       "      <td>17.532352</td>\n",
       "      <td>23.166111</td>\n",
       "      <td>NaN</td>\n",
       "      <td>NaN</td>\n",
       "      <td>NaN</td>\n",
       "      <td>NaN</td>\n",
       "      <td>6.172031e+09</td>\n",
       "      <td>NaN</td>\n",
       "      <td>NaN</td>\n",
       "      <td>7.430657</td>\n",
       "      <td>NaN</td>\n",
       "      <td>NaN</td>\n",
       "      <td>2.674132e+04</td>\n",
       "      <td>3.512241e+06</td>\n",
       "      <td>0.215796</td>\n",
       "      <td>0.225889</td>\n",
       "    </tr>\n",
       "    <tr>\n",
       "      <th>std</th>\n",
       "      <td>2.596503e+07</td>\n",
       "      <td>NaN</td>\n",
       "      <td>16.053572</td>\n",
       "      <td>NaN</td>\n",
       "      <td>24.107826</td>\n",
       "      <td>2.393293</td>\n",
       "      <td>12.319247</td>\n",
       "      <td>15.378693</td>\n",
       "      <td>NaN</td>\n",
       "      <td>NaN</td>\n",
       "      <td>NaN</td>\n",
       "      <td>NaN</td>\n",
       "      <td>2.615394e+09</td>\n",
       "      <td>NaN</td>\n",
       "      <td>NaN</td>\n",
       "      <td>26.708652</td>\n",
       "      <td>NaN</td>\n",
       "      <td>NaN</td>\n",
       "      <td>6.659435e+05</td>\n",
       "      <td>5.405280e+07</td>\n",
       "      <td>0.411377</td>\n",
       "      <td>0.441647</td>\n",
       "    </tr>\n",
       "    <tr>\n",
       "      <th>min</th>\n",
       "      <td>1.000019e+07</td>\n",
       "      <td>NaN</td>\n",
       "      <td>10.000000</td>\n",
       "      <td>NaN</td>\n",
       "      <td>11.000000</td>\n",
       "      <td>11.000000</td>\n",
       "      <td>0.000000</td>\n",
       "      <td>10.000000</td>\n",
       "      <td>NaN</td>\n",
       "      <td>NaN</td>\n",
       "      <td>NaN</td>\n",
       "      <td>NaN</td>\n",
       "      <td>1.012910e+08</td>\n",
       "      <td>NaN</td>\n",
       "      <td>NaN</td>\n",
       "      <td>0.000000</td>\n",
       "      <td>NaN</td>\n",
       "      <td>NaN</td>\n",
       "      <td>0.000000e+00</td>\n",
       "      <td>0.000000e+00</td>\n",
       "      <td>0.000000</td>\n",
       "      <td>0.000000</td>\n",
       "    </tr>\n",
       "    <tr>\n",
       "      <th>25%</th>\n",
       "      <td>3.256710e+07</td>\n",
       "      <td>NaN</td>\n",
       "      <td>20.000000</td>\n",
       "      <td>NaN</td>\n",
       "      <td>11.000000</td>\n",
       "      <td>21.000000</td>\n",
       "      <td>11.000000</td>\n",
       "      <td>10.000000</td>\n",
       "      <td>NaN</td>\n",
       "      <td>NaN</td>\n",
       "      <td>NaN</td>\n",
       "      <td>NaN</td>\n",
       "      <td>3.926909e+09</td>\n",
       "      <td>NaN</td>\n",
       "      <td>NaN</td>\n",
       "      <td>0.000000</td>\n",
       "      <td>NaN</td>\n",
       "      <td>NaN</td>\n",
       "      <td>9.400000e+00</td>\n",
       "      <td>5.071350e+02</td>\n",
       "      <td>0.000000</td>\n",
       "      <td>0.000000</td>\n",
       "    </tr>\n",
       "    <tr>\n",
       "      <th>50%</th>\n",
       "      <td>5.499228e+07</td>\n",
       "      <td>NaN</td>\n",
       "      <td>30.000000</td>\n",
       "      <td>NaN</td>\n",
       "      <td>11.000000</td>\n",
       "      <td>21.000000</td>\n",
       "      <td>11.000000</td>\n",
       "      <td>10.000000</td>\n",
       "      <td>NaN</td>\n",
       "      <td>NaN</td>\n",
       "      <td>NaN</td>\n",
       "      <td>NaN</td>\n",
       "      <td>6.307909e+09</td>\n",
       "      <td>NaN</td>\n",
       "      <td>NaN</td>\n",
       "      <td>5.000000</td>\n",
       "      <td>NaN</td>\n",
       "      <td>NaN</td>\n",
       "      <td>9.500000e+01</td>\n",
       "      <td>9.672000e+03</td>\n",
       "      <td>0.000000</td>\n",
       "      <td>0.000000</td>\n",
       "    </tr>\n",
       "    <tr>\n",
       "      <th>75%</th>\n",
       "      <td>7.747199e+07</td>\n",
       "      <td>NaN</td>\n",
       "      <td>40.000000</td>\n",
       "      <td>NaN</td>\n",
       "      <td>11.000000</td>\n",
       "      <td>21.000000</td>\n",
       "      <td>18.000000</td>\n",
       "      <td>40.000000</td>\n",
       "      <td>NaN</td>\n",
       "      <td>NaN</td>\n",
       "      <td>NaN</td>\n",
       "      <td>NaN</td>\n",
       "      <td>8.518291e+09</td>\n",
       "      <td>NaN</td>\n",
       "      <td>NaN</td>\n",
       "      <td>8.000000</td>\n",
       "      <td>NaN</td>\n",
       "      <td>NaN</td>\n",
       "      <td>1.532000e+03</td>\n",
       "      <td>2.338245e+05</td>\n",
       "      <td>0.000000</td>\n",
       "      <td>0.000000</td>\n",
       "    </tr>\n",
       "    <tr>\n",
       "      <th>max</th>\n",
       "      <td>9.999981e+07</td>\n",
       "      <td>NaN</td>\n",
       "      <td>154.000000</td>\n",
       "      <td>NaN</td>\n",
       "      <td>100.000000</td>\n",
       "      <td>31.000000</td>\n",
       "      <td>43.000000</td>\n",
       "      <td>90.000000</td>\n",
       "      <td>NaN</td>\n",
       "      <td>NaN</td>\n",
       "      <td>NaN</td>\n",
       "      <td>NaN</td>\n",
       "      <td>9.706002e+09</td>\n",
       "      <td>NaN</td>\n",
       "      <td>NaN</td>\n",
       "      <td>754.300000</td>\n",
       "      <td>NaN</td>\n",
       "      <td>NaN</td>\n",
       "      <td>6.002500e+07</td>\n",
       "      <td>7.045682e+09</td>\n",
       "      <td>1.000000</td>\n",
       "      <td>2.000000</td>\n",
       "    </tr>\n",
       "  </tbody>\n",
       "</table>\n",
       "</div>"
      ],
      "text/plain": [
       "             dec_num             dec_date  dec_custom_code imp_dec_code  imp_trd_code  imp_typ_code  collect_code  typ_transport_code dec_mark importer ovs_cust_code exps_carr_code          HS10 country_ship_code country_orig_code     trff_rate trff_class_code country_orig_mark_code    dec_weight  taxabal_price_KRW      crime_yn  key_exposure\n",
       "count   5.400000e+04  54000                54000.000000     54000        54000.000000  54000.000000  54000.000000  54000.000000        54000    54000    48799         9538           5.400000e+04  54000             54000             54000.000000  54000           54000                  5.400000e+04  5.400000e+04       54000.000000  54000.000000\n",
       "unique NaN            547                 NaN               3           NaN           NaN           NaN           NaN                  1238     14482    12201         81            NaN            102               119              NaN            49              6                     NaN           NaN                NaN           NaN          \n",
       "top    NaN            2021-02-01 00:00:00 NaN               B           NaN           NaN           NaN           NaN                  DWNJQL8  708A72F  7PN0VA5       MWIDNS        NaN            CN                CN               NaN            A               E                     NaN           NaN                NaN           NaN          \n",
       "freq   NaN            505                 NaN               53992       NaN           NaN           NaN           NaN                  1777     196      271           3109          NaN            24956             27486            NaN            20367           15269                 NaN           NaN                NaN           NaN          \n",
       "first  NaN            2020-01-01 00:00:00 NaN               NaN         NaN           NaN           NaN           NaN                  NaN      NaN      NaN           NaN           NaN            NaN               NaN              NaN            NaN             NaN                   NaN           NaN                NaN           NaN          \n",
       "last   NaN            2021-06-30 00:00:00 NaN               NaN         NaN           NaN           NaN           NaN                  NaN      NaN      NaN           NaN           NaN            NaN               NaN              NaN            NaN             NaN                   NaN           NaN                NaN           NaN          \n",
       "mean    5.507171e+07  NaN                  31.227241        NaN          19.554000     20.666093     17.532352     23.166111           NaN      NaN      NaN           NaN            6.172031e+09  NaN               NaN               7.430657      NaN             NaN                    2.674132e+04  3.512241e+06       0.215796      0.225889    \n",
       "std     2.596503e+07  NaN                  16.053572        NaN          24.107826     2.393293      12.319247     15.378693           NaN      NaN      NaN           NaN            2.615394e+09  NaN               NaN               26.708652     NaN             NaN                    6.659435e+05  5.405280e+07       0.411377      0.441647    \n",
       "min     1.000019e+07  NaN                  10.000000        NaN          11.000000     11.000000     0.000000      10.000000           NaN      NaN      NaN           NaN            1.012910e+08  NaN               NaN               0.000000      NaN             NaN                    0.000000e+00  0.000000e+00       0.000000      0.000000    \n",
       "25%     3.256710e+07  NaN                  20.000000        NaN          11.000000     21.000000     11.000000     10.000000           NaN      NaN      NaN           NaN            3.926909e+09  NaN               NaN               0.000000      NaN             NaN                    9.400000e+00  5.071350e+02       0.000000      0.000000    \n",
       "50%     5.499228e+07  NaN                  30.000000        NaN          11.000000     21.000000     11.000000     10.000000           NaN      NaN      NaN           NaN            6.307909e+09  NaN               NaN               5.000000      NaN             NaN                    9.500000e+01  9.672000e+03       0.000000      0.000000    \n",
       "75%     7.747199e+07  NaN                  40.000000        NaN          11.000000     21.000000     18.000000     40.000000           NaN      NaN      NaN           NaN            8.518291e+09  NaN               NaN               8.000000      NaN             NaN                    1.532000e+03  2.338245e+05       0.000000      0.000000    \n",
       "max     9.999981e+07  NaN                  154.000000       NaN          100.000000    31.000000     43.000000     90.000000           NaN      NaN      NaN           NaN            9.706002e+09  NaN               NaN               754.300000    NaN             NaN                    6.002500e+07  7.045682e+09       1.000000      2.000000    "
      ]
     },
     "execution_count": 14,
     "metadata": {},
     "output_type": "execute_result"
    }
   ],
   "source": [
    "# 범주형 데이터의 가장 빈번하게 등장하는 변수 빈번하게 등장한 횟수 등의 정보를 요약해줌\n",
    "df_org.describe(include = 'all')"
   ]
  },
  {
   "cell_type": "markdown",
   "id": "358e665c-469f-4a4d-b501-01dc94b398be",
   "metadata": {},
   "source": [
    "### Outlier Found\n",
    "- Ensure that a particular value is concentrated in one column\n",
    "- Recognizes that only one value can be biased and extracted during sampling"
   ]
  },
  {
   "cell_type": "code",
   "execution_count": 15,
   "id": "e3badb41-46cb-4939-b2b2-092a900fe9ae",
   "metadata": {},
   "outputs": [
    {
     "data": {
      "text/plain": [
       "B    53992\n",
       "D    7    \n",
       "A    1    \n",
       "Name: imp_dec_code, dtype: int64"
      ]
     },
     "execution_count": 15,
     "metadata": {},
     "output_type": "execute_result"
    }
   ],
   "source": [
    "df_org['imp_dec_code'].value_counts()"
   ]
  },
  {
   "cell_type": "markdown",
   "id": "81f62bb4-5dca-484d-83a6-13346e8dc7fb",
   "metadata": {
    "tags": []
   },
   "source": [
    "### Check the correlation\n",
    "- 상관도 분석은 두 변수간의 선형적인 상관관계를 분석하는 방법입니다. \n",
    "- 두 변수간에 어떤 종류의 연관성이 있는 지 파악하는데 활용합니다. \n",
    "- Heatmap을 통해서 각 'imp_dec_code' 칼럼이 다른 칼럼에 어떤 영향을 미치는 지 시각적으로 확인하고자 합니다. "
   ]
  },
  {
   "cell_type": "markdown",
   "id": "05e8f36f-e341-4f30-85ec-83601b458cb3",
   "metadata": {},
   "source": [
    "#### Working with encoding data frames as numeric data"
   ]
  },
  {
   "cell_type": "markdown",
   "id": "5a5f04b5-255c-4a9b-aeb1-f32befdee3f2",
   "metadata": {},
   "source": [
    "- sklearn에서 데이터 전처리를 위해 사용하는 라이브러리 LableEncoder를 활용\n",
    "- LabelEncoder는 범주형 데이터에 라벨링을 통해서 수치형 변수로 변환합니다."
   ]
  },
  {
   "cell_type": "code",
   "execution_count": 16,
   "id": "26f9d3e5-73fa-49fc-8d2d-560b9b3135cf",
   "metadata": {
    "tags": []
   },
   "outputs": [],
   "source": [
    "from sklearn.preprocessing import LabelEncoder\n",
    "encoder = LabelEncoder()\n",
    "\n",
    "#복사한 데이터를 순서대로 가져와 encoding 후에 데이터를 입력합니다. \n",
    "for column_name,item in df_raw_copy.iteritems(): \n",
    "    encoder.fit(item)\n",
    "    labels = encoder.transform(item)\n",
    "    df_raw_copy[column_name] = labels"
   ]
  },
  {
   "cell_type": "markdown",
   "id": "c914f3c2-41f7-4441-8c11-5f2c66e6063e",
   "metadata": {},
   "source": [
    "#### Making Heatmap"
   ]
  },
  {
   "cell_type": "code",
   "execution_count": 17,
   "id": "f79e6d63-6836-4b53-a997-b399d1284306",
   "metadata": {},
   "outputs": [],
   "source": [
    "#matplotlib의 font_manager 객체를 통해 우리가 그릴 Heatmap의 폰트를 설정합니다.\n",
    "import matplotlib.font_manager as fm\n",
    "\n",
    "#구글 코랩에 기본으로 제공되는 DejaVu Sans라는 글꼴을 활용합니다. \n",
    "plt.rcParams['font.family'] = 'DejaVu Sans'\n",
    "\n",
    "#font 설정을 위한 함수, 폰트가 설치되어있는 경로와 사이즈를 결정한다. \n",
    "def set_font():\n",
    "    font_path = '/usr/local/lib/python3.7/dist-packages/matplotlib/mpl-data/fonts/ttf/'\n",
    "    fontprop = fm.FontProperties(fname=font_path, size=12)\n",
    "    return fontprop\n",
    "\n",
    "fontprop = set_font()"
   ]
  },
  {
   "cell_type": "code",
   "execution_count": 18,
   "id": "507d2976-b53e-44e8-aa25-12de1dd28eca",
   "metadata": {},
   "outputs": [],
   "source": [
    "#데이터프레임의 상관도를 구합니다. \n",
    "corr = df_raw_copy.corr()"
   ]
  },
  {
   "cell_type": "markdown",
   "id": "bafdcda6-4336-49a1-a833-8a91ded948db",
   "metadata": {},
   "source": [
    "- Heatmap을 확인해 보니 imp_dec_code와 높은 상관도를 가지는 칼럼은 존재하지 않습니다. \n",
    "- 특별한 조치를 취하지 않고 그대로 작업을 진행하겠습니다. "
   ]
  },
  {
   "cell_type": "code",
   "execution_count": 19,
   "id": "5f0ad8a6-48a8-45f6-88b2-783b3c5bf44c",
   "metadata": {
    "tags": []
   },
   "outputs": [
    {
     "data": {
      "text/plain": [
       "<AxesSubplot: >"
      ]
     },
     "execution_count": 19,
     "metadata": {},
     "output_type": "execute_result"
    },
    {
     "data": {
      "image/png": "[encoded data removed]",
      "text/plain": [
       "<Figure size 640x480 with 2 Axes>"
      ]
     },
     "metadata": {},
     "output_type": "display_data"
    }
   ],
   "source": [
    "sns.heatmap(corr, cmap='coolwarm', annot=False, linewidths =0.5, annot_kws={'size':10, 'fontproperties':fontprop},vmin=-1.0)"
   ]
  },
  {
   "cell_type": "markdown",
   "id": "61376403-81b4-443d-9f43-f8c5d1f232d8",
   "metadata": {
    "tags": []
   },
   "source": [
    "## Random data sampling \n",
    "- 기본 데이터에서 훈련시킬 데이터를 추출합니다. \n",
    "- 이번 실습에서 데이터의 양은 1600개 정도가 적당합니다. 샘플 양이 많아지면 작업시간이 크게 증가합니다."
   ]
  },
  {
   "cell_type": "code",
   "execution_count": 20,
   "id": "3e2347db-4fe4-44c1-a508-1620ecb6921e",
   "metadata": {},
   "outputs": [],
   "source": [
    "df_sample=df_org.sample(1600,replace=False)"
   ]
  },
  {
   "cell_type": "markdown",
   "id": "a3a190ae-3964-4d11-88de-da3227e9b266",
   "metadata": {
    "tags": []
   },
   "source": [
    "## 샘플 데이터 처리"
   ]
  },
  {
   "cell_type": "markdown",
   "id": "88f96319-3a5b-4c1e-8e52-62897b0e3860",
   "metadata": {},
   "source": [
    "- Preserve correlation by grouping well-correlated columns into a single multiple column\n",
    "- Correlation may not be preserved during data generation"
   ]
  },
  {
   "cell_type": "code",
   "execution_count": 21,
   "id": "840e6dae-7b22-4860-9b79-a2e34be1efea",
   "metadata": {},
   "outputs": [],
   "source": [
    "cols = ['HS10', 'country_ship_code', 'country_orig_code', 'trff_rate', 'trff_class_code', 'dec_weight','taxabal_price_KRW','crime_yn', 'key_exposure']\n",
    "df_sample['HS10_ship_orig_tffrt_tffcd_weight_taxprice_crime_key'] = df_sample[cols].apply(lambda row: '^'.join(row.values.astype(str)), axis=1)"
   ]
  },
  {
   "cell_type": "markdown",
   "id": "2d71c347-507d-439c-b3ce-f997551ae3f8",
   "metadata": {},
   "source": [
    "### 불필요한 칼럼 삭제\n",
    "- Delete Duplicate Columns\n",
    "- 'dec_date'의 데이터 타입은 일부 colab 환경에서 오류가 발생하여 삭제하고 진행하겠습니다. (우범화물과 관련성이 적어 학습에는 큰 지장을 주지 않습니다.)\n",
    "- 'dec_num'은 우범화물과 관련이 없기 때문에 삭제합니다. "
   ]
  },
  {
   "cell_type": "code",
   "execution_count": 22,
   "id": "fb4a4f67-578c-479e-978f-16a76ad7ef75",
   "metadata": {},
   "outputs": [],
   "source": [
    "df_sample=df_sample.drop(cols, axis=1)\n",
    "df_sample=df_sample.drop('dec_date', axis=1)\n",
    "df_sample=df_sample.drop('dec_num', axis=1)"
   ]
  },
  {
   "cell_type": "markdown",
   "id": "0b364b37-1d67-4274-a4a7-0a39d3040a02",
   "metadata": {
    "tags": []
   },
   "source": [
    "## Trainning model with CTGAN "
   ]
  },
  {
   "cell_type": "markdown",
   "id": "3efc899d-1da5-4821-adb5-042ce6746592",
   "metadata": {},
   "source": [
    "- CTGAN 알고리즘을 활용하여 모델 학습을 실시합니다. "
   ]
  },
  {
   "cell_type": "code",
   "execution_count": 23,
   "id": "7f4935c8-663a-4673-98d9-5ee48c9d1a36",
   "metadata": {},
   "outputs": [],
   "source": [
    "# 학습할 카테고리의 리스트를 변수로 선언합니다. \n",
    "categorical_columns =[ 'dec_custom_code','imp_dec_code','imp_trd_code',\\\n",
    "                      'imp_typ_code','collect_code', 'typ_transport_code','dec_mark','importer',\\\n",
    "                      'ovs_cust_code','exps_carr_code','country_orig_mark_code','HS10_ship_orig_tffrt_tffcd_weight_taxprice_crime_key']"
   ]
  },
  {
   "cell_type": "code",
   "execution_count": 24,
   "id": "7bdf7b59-173c-4d8c-aed1-2ee5f02a04f0",
   "metadata": {
    "collapsed": true,
    "jupyter": {
     "outputs_hidden": true
    },
    "tags": []
   },
   "outputs": [
    {
     "name": "stdout",
     "output_type": "stream",
     "text": [
      "Epoch 1, Loss G:  3.8310,Loss D: -0.0520\n",
      "Epoch 2, Loss G:  4.0989,Loss D: -0.1743\n",
      "Epoch 3, Loss G:  3.8946,Loss D: -0.2838\n",
      "Epoch 4, Loss G:  3.8887,Loss D: -0.3796\n",
      "Epoch 5, Loss G:  4.0918,Loss D: -0.5185\n",
      "Epoch 6, Loss G:  4.2221,Loss D: -0.6170\n",
      "Epoch 7, Loss G:  4.1497,Loss D: -0.7361\n",
      "Epoch 8, Loss G:  3.9492,Loss D: -0.8472\n",
      "Epoch 9, Loss G:  3.7739,Loss D: -0.9153\n",
      "Epoch 10, Loss G:  3.9598,Loss D: -1.0082\n",
      "Epoch 11, Loss G:  3.8923,Loss D: -1.0743\n",
      "Epoch 12, Loss G:  3.8698,Loss D: -1.0941\n",
      "Epoch 13, Loss G:  3.8037,Loss D: -1.0067\n",
      "Epoch 14, Loss G:  3.7235,Loss D: -0.9786\n",
      "Epoch 15, Loss G:  3.4319,Loss D: -0.6864\n",
      "Epoch 16, Loss G:  3.5355,Loss D: -0.6627\n",
      "Epoch 17, Loss G:  3.2464,Loss D: -0.5205\n",
      "Epoch 18, Loss G:  3.3128,Loss D: -0.3927\n",
      "Epoch 19, Loss G:  2.9462,Loss D: -0.2827\n",
      "Epoch 20, Loss G:  3.2278,Loss D: -0.1698\n",
      "Epoch 21, Loss G:  3.1603,Loss D: -0.2608\n",
      "Epoch 22, Loss G:  2.9976,Loss D: -0.0029\n",
      "Epoch 23, Loss G:  2.9420,Loss D:  0.0226\n",
      "Epoch 24, Loss G:  3.0395,Loss D:  0.0295\n",
      "Epoch 25, Loss G:  3.0441,Loss D:  0.0128\n",
      "Epoch 26, Loss G:  2.8559,Loss D:  0.0109\n",
      "Epoch 27, Loss G:  2.9047,Loss D:  0.0280\n",
      "Epoch 28, Loss G:  2.7836,Loss D:  0.0796\n",
      "Epoch 29, Loss G:  2.8569,Loss D:  0.1009\n",
      "Epoch 30, Loss G:  2.7917,Loss D:  0.0221\n",
      "Epoch 31, Loss G:  2.9032,Loss D:  0.0382\n",
      "Epoch 32, Loss G:  2.7833,Loss D:  0.0595\n",
      "Epoch 33, Loss G:  2.8033,Loss D:  0.0285\n",
      "Epoch 34, Loss G:  2.7409,Loss D:  0.0731\n",
      "Epoch 35, Loss G:  2.8598,Loss D:  0.0482\n",
      "Epoch 36, Loss G:  2.8402,Loss D:  0.0345\n",
      "Epoch 37, Loss G:  2.8361,Loss D:  0.0537\n",
      "Epoch 38, Loss G:  2.8506,Loss D:  0.0363\n",
      "Epoch 39, Loss G:  2.8643,Loss D:  0.0026\n",
      "Epoch 40, Loss G:  3.1110,Loss D:  0.0407\n",
      "Epoch 41, Loss G:  2.8145,Loss D:  0.1705\n",
      "Epoch 42, Loss G:  2.7951,Loss D:  0.1480\n",
      "Epoch 43, Loss G:  2.7812,Loss D:  0.0045\n",
      "Epoch 44, Loss G:  2.8077,Loss D:  0.0526\n",
      "Epoch 45, Loss G:  2.9993,Loss D: -0.0220\n",
      "Epoch 46, Loss G:  2.7227,Loss D:  0.0617\n",
      "Epoch 47, Loss G:  2.7364,Loss D:  0.0007\n",
      "Epoch 48, Loss G:  2.4654,Loss D:  0.0935\n",
      "Epoch 49, Loss G:  2.4504,Loss D: -0.0139\n",
      "Epoch 50, Loss G:  2.8190,Loss D: -0.0136\n",
      "Epoch 51, Loss G:  2.6368,Loss D: -0.0374\n",
      "Epoch 52, Loss G:  2.5709,Loss D: -0.0204\n",
      "Epoch 53, Loss G:  2.5457,Loss D: -0.0951\n",
      "Epoch 54, Loss G:  2.5673,Loss D: -0.0932\n",
      "Epoch 55, Loss G:  2.5724,Loss D: -0.0837\n",
      "Epoch 56, Loss G:  2.6902,Loss D: -0.1023\n",
      "Epoch 57, Loss G:  2.5652,Loss D: -0.0675\n",
      "Epoch 58, Loss G:  2.2114,Loss D: -0.1076\n",
      "Epoch 59, Loss G:  2.7193,Loss D: -0.1383\n",
      "Epoch 60, Loss G:  2.8010,Loss D: -0.0997\n",
      "Epoch 61, Loss G:  2.5889,Loss D: -0.1123\n",
      "Epoch 62, Loss G:  2.5511,Loss D: -0.1438\n",
      "Epoch 63, Loss G:  2.6012,Loss D: -0.0787\n",
      "Epoch 64, Loss G:  2.3745,Loss D:  0.0099\n",
      "Epoch 65, Loss G:  2.5740,Loss D: -0.1522\n",
      "Epoch 66, Loss G:  2.4309,Loss D: -0.0558\n",
      "Epoch 67, Loss G:  2.5836,Loss D: -0.0623\n",
      "Epoch 68, Loss G:  2.5214,Loss D:  0.0131\n",
      "Epoch 69, Loss G:  2.2989,Loss D: -0.0701\n",
      "Epoch 70, Loss G:  2.7132,Loss D:  0.0856\n",
      "Epoch 71, Loss G:  2.6162,Loss D:  0.0201\n",
      "Epoch 72, Loss G:  2.3913,Loss D:  0.0627\n",
      "Epoch 73, Loss G:  2.7978,Loss D:  0.0306\n",
      "Epoch 74, Loss G:  2.3397,Loss D: -0.0960\n",
      "Epoch 75, Loss G:  2.6867,Loss D: -0.0299\n",
      "Epoch 76, Loss G:  2.5911,Loss D: -0.0506\n",
      "Epoch 77, Loss G:  2.1928,Loss D: -0.1447\n",
      "Epoch 78, Loss G:  2.2945,Loss D: -0.0188\n",
      "Epoch 79, Loss G:  2.3032,Loss D: -0.0072\n",
      "Epoch 80, Loss G:  2.4338,Loss D:  0.0378\n",
      "Epoch 81, Loss G:  2.7040,Loss D: -0.0245\n",
      "Epoch 82, Loss G:  2.4180,Loss D: -0.0537\n",
      "Epoch 83, Loss G:  2.2353,Loss D: -0.0713\n",
      "Epoch 84, Loss G:  2.6144,Loss D: -0.1398\n",
      "Epoch 85, Loss G:  2.4529,Loss D: -0.0373\n",
      "Epoch 86, Loss G:  2.3820,Loss D:  0.0724\n",
      "Epoch 87, Loss G:  2.3583,Loss D:  0.0388\n",
      "Epoch 88, Loss G:  2.4095,Loss D:  0.0058\n",
      "Epoch 89, Loss G:  2.3977,Loss D: -0.0071\n",
      "Epoch 90, Loss G:  2.3094,Loss D: -0.0373\n",
      "Epoch 91, Loss G:  2.4291,Loss D: -0.0306\n",
      "Epoch 92, Loss G:  2.1867,Loss D: -0.0689\n",
      "Epoch 93, Loss G:  2.5204,Loss D: -0.1198\n",
      "Epoch 94, Loss G:  2.2664,Loss D:  0.0690\n",
      "Epoch 95, Loss G:  2.1147,Loss D:  0.0122\n",
      "Epoch 96, Loss G:  2.3659,Loss D: -0.0785\n",
      "Epoch 97, Loss G:  2.1223,Loss D: -0.0419\n",
      "Epoch 98, Loss G:  2.2421,Loss D:  0.0207\n",
      "Epoch 99, Loss G:  2.2087,Loss D:  0.0093\n",
      "Epoch 100, Loss G:  2.3912,Loss D:  0.0073\n",
      "Epoch 101, Loss G:  2.3445,Loss D:  0.0145\n",
      "Epoch 102, Loss G:  2.5765,Loss D: -0.0572\n",
      "Epoch 103, Loss G:  1.8955,Loss D: -0.0895\n",
      "Epoch 104, Loss G:  2.5544,Loss D:  0.0955\n",
      "Epoch 105, Loss G:  2.3147,Loss D: -0.0187\n",
      "Epoch 106, Loss G:  2.4181,Loss D: -0.0341\n",
      "Epoch 107, Loss G:  2.2671,Loss D: -0.0429\n",
      "Epoch 108, Loss G:  2.1176,Loss D: -0.0077\n",
      "Epoch 109, Loss G:  2.4188,Loss D:  0.0762\n",
      "Epoch 110, Loss G:  2.1690,Loss D:  0.0132\n",
      "Epoch 111, Loss G:  2.3384,Loss D: -0.0325\n",
      "Epoch 112, Loss G:  2.1444,Loss D:  0.0943\n",
      "Epoch 113, Loss G:  2.1094,Loss D: -0.0887\n",
      "Epoch 114, Loss G:  2.4211,Loss D: -0.0870\n",
      "Epoch 115, Loss G:  2.2325,Loss D: -0.0861\n",
      "Epoch 116, Loss G:  2.1408,Loss D:  0.0263\n",
      "Epoch 117, Loss G:  2.1192,Loss D:  0.0525\n",
      "Epoch 118, Loss G:  2.2884,Loss D: -0.0402\n",
      "Epoch 119, Loss G:  2.6544,Loss D:  0.0929\n",
      "Epoch 120, Loss G:  1.9033,Loss D:  0.0793\n",
      "Epoch 121, Loss G:  2.2136,Loss D:  0.0055\n",
      "Epoch 122, Loss G:  1.9907,Loss D: -0.0034\n",
      "Epoch 123, Loss G:  2.3865,Loss D: -0.0562\n",
      "Epoch 124, Loss G:  1.9478,Loss D:  0.0168\n",
      "Epoch 125, Loss G:  2.0558,Loss D: -0.0255\n",
      "Epoch 126, Loss G:  2.1406,Loss D:  0.0105\n",
      "Epoch 127, Loss G:  2.1897,Loss D:  0.0622\n",
      "Epoch 128, Loss G:  2.0150,Loss D:  0.0150\n",
      "Epoch 129, Loss G:  1.8650,Loss D: -0.0265\n",
      "Epoch 130, Loss G:  2.3746,Loss D:  0.0037\n",
      "Epoch 131, Loss G:  2.0079,Loss D:  0.0083\n",
      "Epoch 132, Loss G:  1.8391,Loss D: -0.0186\n",
      "Epoch 133, Loss G:  2.2588,Loss D: -0.0495\n",
      "Epoch 134, Loss G:  2.2183,Loss D:  0.0626\n",
      "Epoch 135, Loss G:  2.0973,Loss D: -0.0716\n",
      "Epoch 136, Loss G:  1.9404,Loss D:  0.0768\n",
      "Epoch 137, Loss G:  1.8885,Loss D: -0.1053\n",
      "Epoch 138, Loss G:  2.1418,Loss D: -0.0110\n",
      "Epoch 139, Loss G:  1.9639,Loss D:  0.0655\n",
      "Epoch 140, Loss G:  2.1166,Loss D: -0.0636\n",
      "Epoch 141, Loss G:  2.1980,Loss D: -0.0242\n",
      "Epoch 142, Loss G:  1.8421,Loss D: -0.0439\n",
      "Epoch 143, Loss G:  2.0664,Loss D:  0.0382\n",
      "Epoch 144, Loss G:  1.7469,Loss D: -0.0654\n",
      "Epoch 145, Loss G:  1.8636,Loss D: -0.0803\n",
      "Epoch 146, Loss G:  2.0233,Loss D:  0.0662\n",
      "Epoch 147, Loss G:  1.8267,Loss D: -0.0463\n",
      "Epoch 148, Loss G:  1.8396,Loss D: -0.0108\n",
      "Epoch 149, Loss G:  1.7960,Loss D:  0.0102\n",
      "Epoch 150, Loss G:  2.1374,Loss D: -0.0906\n",
      "Epoch 151, Loss G:  2.0765,Loss D:  0.0141\n",
      "Epoch 152, Loss G:  1.9838,Loss D: -0.1649\n",
      "Epoch 153, Loss G:  2.2756,Loss D: -0.0523\n",
      "Epoch 154, Loss G:  2.3126,Loss D:  0.0386\n",
      "Epoch 155, Loss G:  2.2045,Loss D:  0.0136\n",
      "Epoch 156, Loss G:  2.0625,Loss D: -0.0516\n",
      "Epoch 157, Loss G:  1.9626,Loss D: -0.0653\n",
      "Epoch 158, Loss G:  1.6892,Loss D:  0.0637\n",
      "Epoch 159, Loss G:  2.1416,Loss D: -0.0049\n",
      "Epoch 160, Loss G:  1.7402,Loss D: -0.0628\n",
      "Epoch 161, Loss G:  1.9634,Loss D:  0.1423\n",
      "Epoch 162, Loss G:  2.0260,Loss D:  0.0636\n",
      "Epoch 163, Loss G:  1.7416,Loss D:  0.0174\n",
      "Epoch 164, Loss G:  1.8691,Loss D:  0.0545\n",
      "Epoch 165, Loss G:  1.9609,Loss D: -0.0359\n",
      "Epoch 166, Loss G:  1.8142,Loss D: -0.0669\n",
      "Epoch 167, Loss G:  1.8253,Loss D: -0.1649\n",
      "Epoch 168, Loss G:  1.8862,Loss D: -0.0975\n",
      "Epoch 169, Loss G:  1.9271,Loss D: -0.0022\n",
      "Epoch 170, Loss G:  1.9761,Loss D:  0.0023\n",
      "Epoch 171, Loss G:  2.0625,Loss D: -0.0222\n",
      "Epoch 172, Loss G:  1.8187,Loss D:  0.0222\n",
      "Epoch 173, Loss G:  2.1609,Loss D:  0.0157\n",
      "Epoch 174, Loss G:  2.0200,Loss D: -0.0038\n",
      "Epoch 175, Loss G:  1.9882,Loss D: -0.0781\n",
      "Epoch 176, Loss G:  1.8628,Loss D:  0.0084\n",
      "Epoch 177, Loss G:  1.9984,Loss D:  0.0830\n",
      "Epoch 178, Loss G:  1.9727,Loss D: -0.0491\n",
      "Epoch 179, Loss G:  1.6810,Loss D: -0.0781\n",
      "Epoch 180, Loss G:  2.0063,Loss D: -0.0741\n",
      "Epoch 181, Loss G:  1.8595,Loss D: -0.0028\n",
      "Epoch 182, Loss G:  1.6317,Loss D:  0.0899\n",
      "Epoch 183, Loss G:  1.3869,Loss D: -0.0519\n",
      "Epoch 184, Loss G:  1.5626,Loss D:  0.0333\n",
      "Epoch 185, Loss G:  1.5167,Loss D:  0.0106\n",
      "Epoch 186, Loss G:  1.5853,Loss D: -0.0021\n",
      "Epoch 187, Loss G:  1.5781,Loss D: -0.0338\n",
      "Epoch 188, Loss G:  1.4028,Loss D: -0.0301\n",
      "Epoch 189, Loss G:  1.7016,Loss D:  0.0983\n",
      "Epoch 190, Loss G:  1.8689,Loss D: -0.0959\n",
      "Epoch 191, Loss G:  1.7518,Loss D:  0.0438\n",
      "Epoch 192, Loss G:  1.6155,Loss D:  0.0088\n",
      "Epoch 193, Loss G:  1.5805,Loss D: -0.0204\n",
      "Epoch 194, Loss G:  1.4726,Loss D:  0.0678\n",
      "Epoch 195, Loss G:  1.5885,Loss D: -0.0547\n",
      "Epoch 196, Loss G:  1.4840,Loss D:  0.0593\n",
      "Epoch 197, Loss G:  1.5494,Loss D:  0.0486\n",
      "Epoch 198, Loss G:  1.5286,Loss D:  0.0655\n",
      "Epoch 199, Loss G:  1.6084,Loss D: -0.0190\n",
      "Epoch 200, Loss G:  1.5442,Loss D: -0.0561\n",
      "Epoch 201, Loss G:  1.4332,Loss D: -0.0315\n",
      "Epoch 202, Loss G:  1.6348,Loss D: -0.0776\n",
      "Epoch 203, Loss G:  1.4533,Loss D: -0.0196\n",
      "Epoch 204, Loss G:  1.5874,Loss D: -0.0318\n",
      "Epoch 205, Loss G:  1.4822,Loss D: -0.1166\n",
      "Epoch 206, Loss G:  1.1487,Loss D: -0.0200\n",
      "Epoch 207, Loss G:  1.1434,Loss D:  0.0031\n",
      "Epoch 208, Loss G:  1.2409,Loss D:  0.0020\n",
      "Epoch 209, Loss G:  1.3127,Loss D: -0.0544\n",
      "Epoch 210, Loss G:  1.1146,Loss D:  0.0176\n",
      "Epoch 211, Loss G:  1.0592,Loss D: -0.0365\n",
      "Epoch 212, Loss G:  1.2740,Loss D:  0.0023\n",
      "Epoch 213, Loss G:  1.2803,Loss D:  0.1141\n",
      "Epoch 214, Loss G:  1.0635,Loss D: -0.0417\n",
      "Epoch 215, Loss G:  1.1043,Loss D: -0.0806\n",
      "Epoch 216, Loss G:  1.3682,Loss D: -0.0518\n",
      "Epoch 217, Loss G:  1.1856,Loss D:  0.0593\n",
      "Epoch 218, Loss G:  1.2860,Loss D: -0.0551\n",
      "Epoch 219, Loss G:  1.3152,Loss D:  0.0458\n",
      "Epoch 220, Loss G:  1.2674,Loss D:  0.0198\n",
      "Epoch 221, Loss G:  1.2828,Loss D: -0.0165\n",
      "Epoch 222, Loss G:  1.1930,Loss D:  0.0521\n",
      "Epoch 223, Loss G:  1.3277,Loss D:  0.0219\n",
      "Epoch 224, Loss G:  1.1805,Loss D:  0.0944\n",
      "Epoch 225, Loss G:  1.1022,Loss D: -0.1165\n",
      "Epoch 226, Loss G:  1.2543,Loss D:  0.0020\n",
      "Epoch 227, Loss G:  1.1857,Loss D: -0.0802\n",
      "Epoch 228, Loss G:  1.3191,Loss D: -0.0493\n",
      "Epoch 229, Loss G:  0.9820,Loss D: -0.0370\n",
      "Epoch 230, Loss G:  0.9161,Loss D: -0.0033\n",
      "Epoch 231, Loss G:  0.9002,Loss D:  0.0579\n",
      "Epoch 232, Loss G:  0.9456,Loss D:  0.0016\n",
      "Epoch 233, Loss G:  0.9236,Loss D: -0.0382\n",
      "Epoch 234, Loss G:  1.0251,Loss D:  0.0934\n",
      "Epoch 235, Loss G:  0.9632,Loss D:  0.0218\n",
      "Epoch 236, Loss G:  0.8218,Loss D: -0.0388\n",
      "Epoch 237, Loss G:  0.8263,Loss D: -0.0297\n",
      "Epoch 238, Loss G:  0.9027,Loss D: -0.1167\n",
      "Epoch 239, Loss G:  0.9393,Loss D: -0.0012\n",
      "Epoch 240, Loss G:  0.7091,Loss D: -0.0269\n",
      "Epoch 241, Loss G:  0.8250,Loss D: -0.0100\n",
      "Epoch 242, Loss G:  0.8269,Loss D: -0.0121\n",
      "Epoch 243, Loss G:  0.7822,Loss D:  0.0273\n",
      "Epoch 244, Loss G:  0.8930,Loss D: -0.0598\n",
      "Epoch 245, Loss G:  0.7996,Loss D:  0.0790\n",
      "Epoch 246, Loss G:  0.7172,Loss D:  0.0042\n",
      "Epoch 247, Loss G:  0.7180,Loss D:  0.0127\n",
      "Epoch 248, Loss G:  0.8492,Loss D: -0.0649\n",
      "Epoch 249, Loss G:  0.7256,Loss D: -0.0341\n",
      "Epoch 250, Loss G:  0.6735,Loss D:  0.0049\n",
      "Epoch 251, Loss G:  0.7230,Loss D:  0.0415\n",
      "Epoch 252, Loss G:  0.9033,Loss D: -0.1194\n",
      "Epoch 253, Loss G:  0.7799,Loss D: -0.0490\n",
      "Epoch 254, Loss G:  0.7276,Loss D: -0.0789\n",
      "Epoch 255, Loss G:  0.4402,Loss D: -0.0265\n",
      "Epoch 256, Loss G:  0.6732,Loss D:  0.0187\n",
      "Epoch 257, Loss G:  0.5459,Loss D:  0.0087\n",
      "Epoch 258, Loss G:  0.5602,Loss D:  0.0287\n",
      "Epoch 259, Loss G:  0.5870,Loss D:  0.0752\n",
      "Epoch 260, Loss G:  0.7380,Loss D:  0.0324\n",
      "Epoch 261, Loss G:  0.6553,Loss D:  0.0053\n",
      "Epoch 262, Loss G:  0.6564,Loss D: -0.1015\n",
      "Epoch 263, Loss G:  0.6327,Loss D: -0.1339\n",
      "Epoch 264, Loss G:  0.6212,Loss D: -0.0097\n",
      "Epoch 265, Loss G:  0.5199,Loss D: -0.0823\n",
      "Epoch 266, Loss G:  0.4837,Loss D:  0.0163\n",
      "Epoch 267, Loss G:  0.4809,Loss D:  0.0035\n",
      "Epoch 268, Loss G:  0.2799,Loss D:  0.0948\n",
      "Epoch 269, Loss G:  0.6201,Loss D: -0.0100\n",
      "Epoch 270, Loss G:  0.5790,Loss D:  0.0476\n",
      "Epoch 271, Loss G:  0.4372,Loss D:  0.1027\n",
      "Epoch 272, Loss G:  0.5121,Loss D:  0.0540\n",
      "Epoch 273, Loss G:  0.4002,Loss D: -0.0653\n",
      "Epoch 274, Loss G:  0.4373,Loss D: -0.0551\n",
      "Epoch 275, Loss G:  0.5329,Loss D:  0.0092\n",
      "Epoch 276, Loss G:  0.4842,Loss D: -0.0687\n",
      "Epoch 277, Loss G:  0.3461,Loss D: -0.0847\n",
      "Epoch 278, Loss G:  0.2532,Loss D: -0.0213\n",
      "Epoch 279, Loss G:  0.2108,Loss D: -0.0144\n",
      "Epoch 280, Loss G:  0.2255,Loss D: -0.0292\n",
      "Epoch 281, Loss G:  0.2678,Loss D:  0.0206\n",
      "Epoch 282, Loss G:  0.2700,Loss D:  0.0509\n",
      "Epoch 283, Loss G:  0.3946,Loss D:  0.1171\n",
      "Epoch 284, Loss G:  0.1485,Loss D: -0.0824\n",
      "Epoch 285, Loss G:  0.3263,Loss D:  0.0412\n",
      "Epoch 286, Loss G:  0.4383,Loss D: -0.0110\n",
      "Epoch 287, Loss G:  0.3130,Loss D: -0.0392\n",
      "Epoch 288, Loss G:  0.3852,Loss D: -0.0037\n",
      "Epoch 289, Loss G:  0.2413,Loss D:  0.0459\n",
      "Epoch 290, Loss G:  0.2527,Loss D:  0.0024\n",
      "Epoch 291, Loss G:  0.1705,Loss D:  0.0023\n",
      "Epoch 292, Loss G:  0.3284,Loss D: -0.0321\n",
      "Epoch 293, Loss G:  0.0478,Loss D: -0.0105\n",
      "Epoch 294, Loss G:  0.2179,Loss D:  0.0452\n",
      "Epoch 295, Loss G:  0.1512,Loss D: -0.0533\n",
      "Epoch 296, Loss G:  0.2154,Loss D: -0.0443\n",
      "Epoch 297, Loss G:  0.1395,Loss D: -0.0472\n",
      "Epoch 298, Loss G:  0.1585,Loss D: -0.0607\n",
      "Epoch 299, Loss G:  0.1591,Loss D: -0.0565\n",
      "Epoch 300, Loss G:  0.0419,Loss D: -0.0177\n",
      "Epoch 301, Loss G:  0.0173,Loss D: -0.0710\n",
      "Epoch 302, Loss G:  0.0369,Loss D: -0.0031\n",
      "Epoch 303, Loss G:  0.0317,Loss D:  0.1081\n",
      "Epoch 304, Loss G:  0.0719,Loss D:  0.0081\n",
      "Epoch 305, Loss G: -0.0068,Loss D: -0.0178\n",
      "Epoch 306, Loss G: -0.0464,Loss D: -0.1182\n",
      "Epoch 307, Loss G: -0.0244,Loss D: -0.0692\n",
      "Epoch 308, Loss G:  0.0136,Loss D: -0.0227\n",
      "Epoch 309, Loss G:  0.0914,Loss D: -0.0779\n",
      "Epoch 310, Loss G:  0.1236,Loss D:  0.0305\n",
      "Epoch 311, Loss G: -0.0808,Loss D: -0.0312\n",
      "Epoch 312, Loss G:  0.1233,Loss D:  0.0002\n",
      "Epoch 313, Loss G:  0.0110,Loss D: -0.0519\n",
      "Epoch 314, Loss G: -0.0350,Loss D:  0.1263\n",
      "Epoch 315, Loss G: -0.0543,Loss D: -0.0248\n",
      "Epoch 316, Loss G: -0.0548,Loss D: -0.0088\n",
      "Epoch 317, Loss G: -0.0158,Loss D: -0.0207\n",
      "Epoch 318, Loss G: -0.0322,Loss D: -0.0352\n",
      "Epoch 319, Loss G: -0.1321,Loss D: -0.0936\n",
      "Epoch 320, Loss G:  0.0249,Loss D: -0.0238\n",
      "Epoch 321, Loss G: -0.0252,Loss D: -0.0627\n",
      "Epoch 322, Loss G: -0.0988,Loss D: -0.1438\n",
      "Epoch 323, Loss G: -0.1206,Loss D: -0.1091\n",
      "Epoch 324, Loss G: -0.0863,Loss D:  0.0601\n",
      "Epoch 325, Loss G: -0.0872,Loss D:  0.0698\n",
      "Epoch 326, Loss G: -0.1442,Loss D: -0.0847\n",
      "Epoch 327, Loss G: -0.0686,Loss D: -0.0396\n",
      "Epoch 328, Loss G: -0.0836,Loss D:  0.0078\n",
      "Epoch 329, Loss G: -0.0450,Loss D:  0.0160\n",
      "Epoch 330, Loss G:  0.0063,Loss D: -0.1453\n",
      "Epoch 331, Loss G: -0.0060,Loss D: -0.2060\n",
      "Epoch 332, Loss G: -0.0310,Loss D: -0.1086\n",
      "Epoch 333, Loss G: -0.0527,Loss D: -0.0300\n",
      "Epoch 334, Loss G: -0.0727,Loss D: -0.0305\n",
      "Epoch 335, Loss G:  0.0405,Loss D: -0.0615\n",
      "Epoch 336, Loss G: -0.0540,Loss D:  0.0583\n",
      "Epoch 337, Loss G: -0.0935,Loss D:  0.1451\n",
      "Epoch 338, Loss G: -0.1142,Loss D:  0.0656\n",
      "Epoch 339, Loss G: -0.1030,Loss D: -0.0648\n",
      "Epoch 340, Loss G: -0.0543,Loss D:  0.0924\n",
      "Epoch 341, Loss G: -0.0423,Loss D: -0.0698\n",
      "Epoch 342, Loss G: -0.0084,Loss D: -0.0580\n",
      "Epoch 343, Loss G: -0.0346,Loss D: -0.0836\n",
      "Epoch 344, Loss G: -0.0425,Loss D: -0.1525\n",
      "Epoch 345, Loss G: -0.2027,Loss D: -0.0319\n",
      "Epoch 346, Loss G: -0.0930,Loss D:  0.1001\n",
      "Epoch 347, Loss G: -0.0892,Loss D: -0.0709\n",
      "Epoch 348, Loss G: -0.1471,Loss D: -0.0280\n",
      "Epoch 349, Loss G: -0.1074,Loss D:  0.0296\n",
      "Epoch 350, Loss G: -0.0792,Loss D:  0.0773\n",
      "Epoch 351, Loss G: -0.0514,Loss D:  0.0974\n",
      "Epoch 352, Loss G: -0.0331,Loss D: -0.0395\n",
      "Epoch 353, Loss G: -0.0437,Loss D: -0.1195\n",
      "Epoch 354, Loss G:  0.0882,Loss D: -0.0072\n",
      "Epoch 355, Loss G: -0.0278,Loss D:  0.0365\n",
      "Epoch 356, Loss G:  0.0637,Loss D: -0.0069\n",
      "Epoch 357, Loss G:  0.0446,Loss D: -0.0129\n",
      "Epoch 358, Loss G:  0.0124,Loss D: -0.0807\n",
      "Epoch 359, Loss G: -0.0358,Loss D:  0.0779\n",
      "Epoch 360, Loss G: -0.0789,Loss D: -0.0005\n",
      "Epoch 361, Loss G: -0.0337,Loss D:  0.0308\n",
      "Epoch 362, Loss G: -0.0233,Loss D: -0.0363\n",
      "Epoch 363, Loss G:  0.0071,Loss D: -0.0161\n",
      "Epoch 364, Loss G: -0.0976,Loss D: -0.1344\n",
      "Epoch 365, Loss G: -0.0899,Loss D: -0.0672\n",
      "Epoch 366, Loss G: -0.0818,Loss D: -0.0646\n",
      "Epoch 367, Loss G: -0.1008,Loss D: -0.0477\n",
      "Epoch 368, Loss G: -0.0452,Loss D: -0.0489\n",
      "Epoch 369, Loss G: -0.1612,Loss D: -0.0695\n",
      "Epoch 370, Loss G: -0.0135,Loss D:  0.0257\n",
      "Epoch 371, Loss G: -0.1188,Loss D: -0.0343\n",
      "Epoch 372, Loss G: -0.0204,Loss D:  0.0943\n",
      "Epoch 373, Loss G: -0.0639,Loss D:  0.0036\n",
      "Epoch 374, Loss G: -0.0612,Loss D:  0.0343\n",
      "Epoch 375, Loss G: -0.0600,Loss D: -0.0589\n",
      "Epoch 376, Loss G: -0.0181,Loss D: -0.1010\n",
      "Epoch 377, Loss G:  0.0352,Loss D: -0.0242\n",
      "Epoch 378, Loss G:  0.0627,Loss D: -0.0788\n",
      "Epoch 379, Loss G: -0.0472,Loss D: -0.0035\n",
      "Epoch 380, Loss G: -0.0545,Loss D:  0.0604\n",
      "Epoch 381, Loss G: -0.0813,Loss D:  0.0603\n",
      "Epoch 382, Loss G: -0.1060,Loss D: -0.0171\n",
      "Epoch 383, Loss G: -0.1975,Loss D:  0.0275\n",
      "Epoch 384, Loss G: -0.1126,Loss D:  0.0767\n",
      "Epoch 385, Loss G: -0.1607,Loss D:  0.0694\n",
      "Epoch 386, Loss G: -0.0459,Loss D:  0.0079\n",
      "Epoch 387, Loss G: -0.0871,Loss D:  0.0571\n",
      "Epoch 388, Loss G: -0.0334,Loss D: -0.0349\n",
      "Epoch 389, Loss G: -0.0227,Loss D: -0.1023\n",
      "Epoch 390, Loss G: -0.0111,Loss D: -0.0716\n",
      "Epoch 391, Loss G: -0.1008,Loss D: -0.1162\n",
      "Epoch 392, Loss G: -0.2088,Loss D:  0.0046\n",
      "Epoch 393, Loss G: -0.1497,Loss D:  0.1389\n",
      "Epoch 394, Loss G: -0.1191,Loss D: -0.0234\n",
      "Epoch 395, Loss G: -0.1857,Loss D:  0.0260\n",
      "Epoch 396, Loss G: -0.1000,Loss D:  0.0996\n",
      "Epoch 397, Loss G: -0.0734,Loss D:  0.0208\n",
      "Epoch 398, Loss G: -0.0607,Loss D:  0.0037\n",
      "Epoch 399, Loss G: -0.0542,Loss D: -0.0585\n",
      "Epoch 400, Loss G: -0.0197,Loss D: -0.1067\n",
      "Epoch 401, Loss G: -0.0223,Loss D: -0.0477\n",
      "Epoch 402, Loss G: -0.0955,Loss D: -0.0333\n",
      "Epoch 403, Loss G: -0.0929,Loss D: -0.1920\n",
      "Epoch 404, Loss G: -0.0997,Loss D:  0.1118\n",
      "Epoch 405, Loss G: -0.0749,Loss D:  0.0406\n",
      "Epoch 406, Loss G: -0.0583,Loss D:  0.0903\n",
      "Epoch 407, Loss G: -0.2054,Loss D:  0.0520\n",
      "Epoch 408, Loss G: -0.1577,Loss D: -0.0022\n",
      "Epoch 409, Loss G: -0.1068,Loss D:  0.0530\n",
      "Epoch 410, Loss G: -0.1418,Loss D: -0.0042\n",
      "Epoch 411, Loss G: -0.0949,Loss D: -0.0668\n",
      "Epoch 412, Loss G: -0.1176,Loss D: -0.0433\n",
      "Epoch 413, Loss G: -0.0898,Loss D: -0.1466\n",
      "Epoch 414, Loss G: -0.2056,Loss D: -0.0306\n",
      "Epoch 415, Loss G: -0.0992,Loss D: -0.0187\n",
      "Epoch 416, Loss G: -0.1106,Loss D: -0.0273\n",
      "Epoch 417, Loss G: -0.1445,Loss D: -0.0153\n",
      "Epoch 418, Loss G: -0.0952,Loss D:  0.0097\n",
      "Epoch 419, Loss G: -0.1166,Loss D:  0.0029\n",
      "Epoch 420, Loss G: -0.0481,Loss D:  0.1374\n",
      "Epoch 421, Loss G: -0.0369,Loss D: -0.0273\n",
      "Epoch 422, Loss G: -0.1034,Loss D: -0.0053\n",
      "Epoch 423, Loss G: -0.1365,Loss D: -0.0709\n",
      "Epoch 424, Loss G: -0.0811,Loss D: -0.0559\n",
      "Epoch 425, Loss G: -0.0871,Loss D: -0.0041\n",
      "Epoch 426, Loss G: -0.0986,Loss D: -0.0437\n",
      "Epoch 427, Loss G: -0.1045,Loss D: -0.0525\n",
      "Epoch 428, Loss G: -0.2170,Loss D: -0.0851\n",
      "Epoch 429, Loss G: -0.1548,Loss D: -0.0270\n",
      "Epoch 430, Loss G: -0.0506,Loss D:  0.0727\n",
      "Epoch 431, Loss G: -0.1549,Loss D: -0.0149\n",
      "Epoch 432, Loss G: -0.2527,Loss D:  0.0083\n",
      "Epoch 433, Loss G: -0.1747,Loss D:  0.0430\n",
      "Epoch 434, Loss G: -0.1495,Loss D:  0.0180\n",
      "Epoch 435, Loss G: -0.0513,Loss D: -0.0261\n",
      "Epoch 436, Loss G: -0.0311,Loss D: -0.1311\n",
      "Epoch 437, Loss G: -0.0912,Loss D: -0.1038\n",
      "Epoch 438, Loss G: -0.0610,Loss D: -0.1601\n",
      "Epoch 439, Loss G: -0.0349,Loss D: -0.0701\n",
      "Epoch 440, Loss G: -0.0940,Loss D: -0.0742\n",
      "Epoch 441, Loss G: -0.0385,Loss D: -0.0955\n",
      "Epoch 442, Loss G: -0.1436,Loss D:  0.0214\n",
      "Epoch 443, Loss G: -0.1128,Loss D:  0.0483\n",
      "Epoch 444, Loss G: -0.1918,Loss D:  0.0009\n",
      "Epoch 445, Loss G: -0.1732,Loss D:  0.0121\n",
      "Epoch 446, Loss G: -0.2001,Loss D:  0.0320\n",
      "Epoch 447, Loss G: -0.1075,Loss D:  0.0019\n",
      "Epoch 448, Loss G: -0.1462,Loss D: -0.1286\n",
      "Epoch 449, Loss G: -0.0472,Loss D: -0.0060\n",
      "Epoch 450, Loss G: -0.1738,Loss D: -0.1131\n",
      "Epoch 451, Loss G: -0.1830,Loss D:  0.0085\n",
      "Epoch 452, Loss G: -0.2389,Loss D: -0.1240\n",
      "Epoch 453, Loss G: -0.2138,Loss D:  0.0828\n",
      "Epoch 454, Loss G: -0.2096,Loss D:  0.0881\n",
      "Epoch 455, Loss G: -0.1722,Loss D:  0.1505\n",
      "Epoch 456, Loss G: -0.0694,Loss D:  0.0075\n",
      "Epoch 457, Loss G: -0.1955,Loss D:  0.0529\n",
      "Epoch 458, Loss G: -0.0985,Loss D:  0.0312\n",
      "Epoch 459, Loss G: -0.0518,Loss D: -0.1059\n",
      "Epoch 460, Loss G:  0.0812,Loss D: -0.0694\n",
      "Epoch 461, Loss G: -0.0070,Loss D:  0.0189\n",
      "Epoch 462, Loss G: -0.0105,Loss D: -0.1285\n",
      "Epoch 463, Loss G:  0.0792,Loss D: -0.1784\n",
      "Epoch 464, Loss G: -0.1882,Loss D: -0.1732\n",
      "Epoch 465, Loss G: -0.1037,Loss D: -0.0707\n",
      "Epoch 466, Loss G: -0.1581,Loss D: -0.0696\n",
      "Epoch 467, Loss G: -0.2964,Loss D: -0.0015\n",
      "Epoch 468, Loss G: -0.2580,Loss D:  0.0834\n",
      "Epoch 469, Loss G: -0.1582,Loss D:  0.1041\n",
      "Epoch 470, Loss G: -0.2506,Loss D:  0.0074\n",
      "Epoch 471, Loss G: -0.2215,Loss D:  0.0113\n",
      "Epoch 472, Loss G: -0.2421,Loss D:  0.0346\n",
      "Epoch 473, Loss G: -0.1538,Loss D: -0.0406\n",
      "Epoch 474, Loss G: -0.1459,Loss D: -0.0347\n",
      "Epoch 475, Loss G: -0.1379,Loss D: -0.1175\n",
      "Epoch 476, Loss G: -0.0454,Loss D: -0.0070\n",
      "Epoch 477, Loss G: -0.0739,Loss D: -0.1048\n",
      "Epoch 478, Loss G: -0.1080,Loss D: -0.0633\n",
      "Epoch 479, Loss G: -0.0265,Loss D: -0.0170\n",
      "Epoch 480, Loss G: -0.0984,Loss D:  0.0789\n",
      "Epoch 481, Loss G: -0.1972,Loss D:  0.0682\n",
      "Epoch 482, Loss G: -0.1488,Loss D:  0.0173\n",
      "Epoch 483, Loss G: -0.1201,Loss D:  0.0429\n",
      "Epoch 484, Loss G: -0.1166,Loss D: -0.0200\n",
      "Epoch 485, Loss G: -0.1024,Loss D: -0.0453\n",
      "Epoch 486, Loss G: -0.0850,Loss D:  0.0237\n",
      "Epoch 487, Loss G: -0.0602,Loss D: -0.0747\n",
      "Epoch 488, Loss G: -0.1585,Loss D: -0.0911\n",
      "Epoch 489, Loss G: -0.0845,Loss D: -0.1396\n",
      "Epoch 490, Loss G: -0.2268,Loss D: -0.0808\n",
      "Epoch 491, Loss G: -0.3159,Loss D: -0.0827\n",
      "Epoch 492, Loss G: -0.2504,Loss D:  0.0017\n",
      "Epoch 493, Loss G: -0.3617,Loss D:  0.0945\n",
      "Epoch 494, Loss G: -0.2747,Loss D:  0.0798\n",
      "Epoch 495, Loss G: -0.2420,Loss D:  0.1058\n",
      "Epoch 496, Loss G: -0.1369,Loss D:  0.0576\n",
      "Epoch 497, Loss G: -0.1645,Loss D: -0.0266\n",
      "Epoch 498, Loss G: -0.0896,Loss D:  0.0985\n",
      "Epoch 499, Loss G: -0.1032,Loss D: -0.0994\n",
      "Epoch 500, Loss G: -0.2000,Loss D: -0.0595\n",
      "time: 251.30081248283386\n"
     ]
    }
   ],
   "source": [
    "#CTGAN 모델을 학습합니다. \n",
    "ctgan = CTGAN(verbose=True)\n",
    "startTime = time.time()\n",
    "ctgan.fit(df_sample, categorical_columns, epochs = 500)\n",
    "endTime = time.time()\n",
    "\n",
    "print('time:', endTime - startTime )"
   ]
  },
  {
   "cell_type": "markdown",
   "id": "e881953e-a550-4643-89cc-4f1dd2e8d23b",
   "metadata": {
    "tags": []
   },
   "source": [
    "## Generating synthetic data with trained model"
   ]
  },
  {
   "cell_type": "markdown",
   "id": "5fb1d30f-2be9-49ed-9c5b-5b1879409ee2",
   "metadata": {},
   "source": [
    "- 샘플링 한 데이터 갯수 만큼 데이터를 생성합니다.\n",
    "- 더 많은 데이터를 생성할 경우 상관도를 비롯해 두 테이블간 통계적 유사함을 점차 잃게 됩니다."
   ]
  },
  {
   "cell_type": "code",
   "execution_count": 25,
   "id": "c8e82535-0587-4e57-a633-dde173310b22",
   "metadata": {},
   "outputs": [],
   "source": [
    "#샘플링 한 데이터 갯수 만큼 데이터를 생성함\n",
    "df_syn = ctgan.sample(len(df_sample))"
   ]
  },
  {
   "cell_type": "markdown",
   "id": "38650e6d-7d24-42bf-9b13-612a173c767f",
   "metadata": {
    "tags": []
   },
   "source": [
    "## Save the new data"
   ]
  },
  {
   "cell_type": "code",
   "execution_count": 26,
   "id": "5844beb4-c097-469b-a523-0070a7ed0fe6",
   "metadata": {},
   "outputs": [
    {
     "name": "stdout",
     "output_type": "stream",
     "text": [
      "<class 'pandas.core.frame.DataFrame'>\n",
      "RangeIndex: 1600 entries, 0 to 1599\n",
      "Data columns (total 12 columns):\n",
      " #   Column                                                Non-Null Count  Dtype \n",
      "---  ------                                                --------------  ----- \n",
      " 0   dec_custom_code                                       1600 non-null   int64 \n",
      " 1   imp_dec_code                                          1600 non-null   object\n",
      " 2   imp_trd_code                                          1600 non-null   int64 \n",
      " 3   imp_typ_code                                          1600 non-null   int64 \n",
      " 4   collect_code                                          1600 non-null   int64 \n",
      " 5   typ_transport_code                                    1600 non-null   int64 \n",
      " 6   dec_mark                                              1600 non-null   object\n",
      " 7   importer                                              1600 non-null   object\n",
      " 8   ovs_cust_code                                         1395 non-null   object\n",
      " 9   exps_carr_code                                        438 non-null    object\n",
      " 10  country_orig_mark_code                                1600 non-null   object\n",
      " 11  HS10_ship_orig_tffrt_tffcd_weight_taxprice_crime_key  1600 non-null   object\n",
      "dtypes: int64(5), object(7)\n",
      "memory usage: 150.1+ KB\n"
     ]
    }
   ],
   "source": [
    "# 합성된 데이터의 정보를 확인 합니다. \n",
    "df_syn.info()"
   ]
  },
  {
   "cell_type": "code",
   "execution_count": 27,
   "id": "9b990a0c-4632-4016-afe0-74717fcfbbaf",
   "metadata": {},
   "outputs": [],
   "source": [
    "#여러 칼럼을 합쳐두었던 데이터를 분리하여 각 칼럼을 생성합니다. \n",
    "df_syn['HS10']=df_syn.HS10_ship_orig_tffrt_tffcd_weight_taxprice_crime_key.str.split('^').str[0]\n",
    "df_syn['country_ship_code']=df_syn.HS10_ship_orig_tffrt_tffcd_weight_taxprice_crime_key.str.split('^').str[1]\n",
    "df_syn['country_orig_code']=df_syn.HS10_ship_orig_tffrt_tffcd_weight_taxprice_crime_key.str.split('^').str[2]\n",
    "df_syn['trff_rate']=df_syn.HS10_ship_orig_tffrt_tffcd_weight_taxprice_crime_key.str.split('^').str[3]\n",
    "df_syn['trff_class_code']=df_syn.HS10_ship_orig_tffrt_tffcd_weight_taxprice_crime_key.str.split('^').str[4]\n",
    "df_syn['dec_weight']=df_syn.HS10_ship_orig_tffrt_tffcd_weight_taxprice_crime_key.str.split('^').str[5]\n",
    "df_syn['taxabal_price_KRW']=df_syn.HS10_ship_orig_tffrt_tffcd_weight_taxprice_crime_key.str.split('^').str[6]\n",
    "df_syn['crime_yn']=df_syn.HS10_ship_orig_tffrt_tffcd_weight_taxprice_crime_key.str.split('^').str[7]\n",
    "df_syn['key_exposure']=df_syn.HS10_ship_orig_tffrt_tffcd_weight_taxprice_crime_key.str.split('^').str[8]"
   ]
  },
  {
   "cell_type": "code",
   "execution_count": 28,
   "id": "946ae4d3-1393-4f8c-82c5-a39b31294c9b",
   "metadata": {},
   "outputs": [],
   "source": [
    "#여러 칼럼이 합쳐진 칼럼을 삭제 합니다.\n",
    "df_syn = df_syn.drop(['HS10_ship_orig_tffrt_tffcd_weight_taxprice_crime_key'],axis=1)"
   ]
  },
  {
   "cell_type": "markdown",
   "id": "f3b9e0d3-01ad-445d-97ef-e7d85c853e4c",
   "metadata": {},
   "source": [
    "- Sort columns the same as the original data\n",
    "- 여러 칼럼을 합친 뒤 분리가 되었기 때문에 칼럼의 순서가 뒤섞였습니다. \n",
    "- 원본 데이터와 원활한 비교를 위해 칼럼 순서대로 정렬합니다."
   ]
  },
  {
   "cell_type": "code",
   "execution_count": 29,
   "id": "69d9c149-68a1-40af-92fb-e80314053474",
   "metadata": {
    "tags": []
   },
   "outputs": [],
   "source": [
    "#칼럼을 순서대로 추출하여 임시데이터프레임에 담는다.\n",
    "df_tmp = df_syn[['HS10','country_ship_code','country_orig_code','trff_rate',\\\n",
    "                 'trff_class_code','country_orig_mark_code','dec_weight','taxabal_price_KRW','crime_yn','key_exposure']]\n",
    "#추출된 칼럼을 합성데이터가 담긴 데이터프레임에서 삭제한다. \n",
    "df_syn = df_syn.drop(['HS10','country_ship_code','country_orig_code','trff_rate',\\\n",
    "                 'trff_class_code','country_orig_mark_code','dec_weight','taxabal_price_KRW','crime_yn','key_exposure'],axis=1)\n",
    "#concat 함수를 통해 임시 데이터프레임을 기존 데이터프레임 뒤에 붙인다. \n",
    "df_syn = pd.concat([df_syn, df_tmp], axis = 1)"
   ]
  },
  {
   "cell_type": "code",
   "execution_count": 30,
   "id": "d0ae9659-f915-4574-af2b-bc0c1c904430",
   "metadata": {},
   "outputs": [
    {
     "name": "stdout",
     "output_type": "stream",
     "text": [
      "<class 'pandas.core.frame.DataFrame'>\n",
      "RangeIndex: 1600 entries, 0 to 1599\n",
      "Data columns (total 20 columns):\n",
      " #   Column                  Non-Null Count  Dtype \n",
      "---  ------                  --------------  ----- \n",
      " 0   dec_custom_code         1600 non-null   int64 \n",
      " 1   imp_dec_code            1600 non-null   object\n",
      " 2   imp_trd_code            1600 non-null   int64 \n",
      " 3   imp_typ_code            1600 non-null   int64 \n",
      " 4   collect_code            1600 non-null   int64 \n",
      " 5   typ_transport_code      1600 non-null   int64 \n",
      " 6   dec_mark                1600 non-null   object\n",
      " 7   importer                1600 non-null   object\n",
      " 8   ovs_cust_code           1395 non-null   object\n",
      " 9   exps_carr_code          438 non-null    object\n",
      " 10  HS10                    1600 non-null   object\n",
      " 11  country_ship_code       1600 non-null   object\n",
      " 12  country_orig_code       1600 non-null   object\n",
      " 13  trff_rate               1600 non-null   object\n",
      " 14  trff_class_code         1600 non-null   object\n",
      " 15  country_orig_mark_code  1600 non-null   object\n",
      " 16  dec_weight              1600 non-null   object\n",
      " 17  taxabal_price_KRW       1600 non-null   object\n",
      " 18  crime_yn                1600 non-null   object\n",
      " 19  key_exposure            1600 non-null   object\n",
      "dtypes: int64(5), object(15)\n",
      "memory usage: 250.1+ KB\n"
     ]
    }
   ],
   "source": [
    "# 합성데이터의 정보를 점검합니다.\n",
    "df_syn.info()"
   ]
  },
  {
   "cell_type": "code",
   "execution_count": 31,
   "id": "8d1395a3-3fdc-4f9b-a725-a8c97f9dbb0e",
   "metadata": {},
   "outputs": [],
   "source": [
    "#데이터를 지정된 경로에 저장합니다. \n",
    "df_syn.to_csv('./data_sample/df_syn_en_14.csv', index=False, encoding='utf-8-sig')"
   ]
  }
 ],
 "metadata": {
  "kernelspec": {
   "display_name": "wco_ctgan",
   "language": "python",
   "name": "wco_ctgan"
  },
  "language_info": {
   "codemirror_mode": {
    "name": "ipython",
    "version": 3
   },
   "file_extension": ".py",
   "mimetype": "text/x-python",
   "name": "python",
   "nbconvert_exporter": "python",
   "pygments_lexer": "ipython3",
   "version": "3.9.7"
  }
 },
 "nbformat": 4,
 "nbformat_minor": 5
}
