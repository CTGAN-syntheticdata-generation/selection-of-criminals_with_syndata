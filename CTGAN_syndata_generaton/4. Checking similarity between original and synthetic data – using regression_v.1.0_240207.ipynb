{
 "cells": [
  {
   "cell_type": "markdown",
   "id": "4b89332a-f3dd-4bac-a1a4-28892cea5b92",
   "metadata": {
    "id": "4b89332a-f3dd-4bac-a1a4-28892cea5b92",
    "tags": []
   },
   "source": [
    "# 4. Checking Similarity between Original and Synthetic Data – Using Regression"
   ]
  },
  {
   "cell_type": "markdown",
   "id": "d7f0c32b",
   "metadata": {},
   "source": [
    "- One way of assessing whether synthetic data shares similar statistical characteristics with the original data is to build a model using both datasets and compare their results.\n",
    "- The original and synthetic data we have at hand are import declaration data, consisting of declaration element columns and a detection record column indicating whether a fraud was detected for each declaration during customs inspection.\n",
    "- In this lesson, two models predicting the fraudulence of a declaration will be trained on original and synthetic datasets. Then, the results of the two models will be compared to assess the statistical similarity between the two datasets. "
   ]
  },
  {
   "cell_type": "markdown",
   "id": "81e05ba9-19b2-40af-9124-c84da1997094",
   "metadata": {
    "id": "81e05ba9-19b2-40af-9124-c84da1997094",
    "tags": []
   },
   "source": [
    "## Check Statistical Similarity using Regression Model\n",
    "\n",
    "The methodology to be used to check statistical similarity between original and synthetic datasets is as follows:\n",
    "1. Train two models predicting the fraudulence of a declaration on original and synthetic datasets\n",
    "2. For each model, select declarations predicted as having a high likelihood of fraud \n",
    "3. Verify actual detection records for selected declarations and calculate each model’s detection rate\n",
    "4. Compare the detection rates of the two models to assess statistical similarity\n",
    "\n",
    "We will repeat the process above three times, utilizing Linear Regression, Random Forest, and XGBoost algorithms."
   ]
  },
  {
   "cell_type": "markdown",
   "id": "d7da02a3-ca72-4a33-a375-05e8cf624fc6",
   "metadata": {
    "id": "d7da02a3-ca72-4a33-a375-05e8cf624fc6",
    "tags": []
   },
   "source": [
    "## Import Library\n",
    "- Let’s import the necessary libraries."
   ]
  },
  {
   "cell_type": "code",
   "execution_count": 2,
   "id": "533b72ac-3121-413d-8689-82819812cc7f",
   "metadata": {
    "executionInfo": {
     "elapsed": 810,
     "status": "ok",
     "timestamp": 1680598223113,
     "user": {
      "displayName": "김형준",
      "userId": "10277863568716562689"
     },
     "user_tz": -540
    },
    "id": "533b72ac-3121-413d-8689-82819812cc7f"
   },
   "outputs": [],
   "source": [
    "import pandas as pd\n",
    "import copy\n",
    "import numpy as np\n",
    "from sklearn.model_selection import train_test_split\n",
    "from sklearn.preprocessing import LabelEncoder\n",
    "\n",
    "import seaborn as sns\n",
    "from matplotlib import pyplot as plt \n",
    "\n",
    "import time\n",
    "import warnings\n",
    "warnings.filterwarnings(\"ignore\")"
   ]
  },
  {
   "cell_type": "markdown",
   "id": "287351c2",
   "metadata": {},
   "source": [
    "- Set the basic configuration of the Jupyter Notebook. "
   ]
  },
  {
   "cell_type": "code",
   "execution_count": 3,
   "id": "68ae4128-2f45-4775-9dbf-0a1196efde01",
   "metadata": {
    "colab": {
     "base_uri": "https://localhost:8080/",
     "height": 35
    },
    "executionInfo": {
     "elapsed": 11,
     "status": "ok",
     "timestamp": 1680598223114,
     "user": {
      "displayName": "김형준",
      "userId": "10277863568716562689"
     },
     "user_tz": -540
    },
    "id": "68ae4128-2f45-4775-9dbf-0a1196efde01",
    "outputId": "165f425f-7a6b-4aa3-f395-bc7907b6a806"
   },
   "outputs": [
    {
     "data": {
      "text/html": [
       "<style>.container { width:100% !important; }</style>"
      ],
      "text/plain": [
       "<IPython.core.display.HTML object>"
      ]
     },
     "metadata": {},
     "output_type": "display_data"
    },
    {
     "name": "stdout",
     "output_type": "stream",
     "text": [
      "ready to run\n"
     ]
    }
   ],
   "source": [
    "# Jupiter cell full screen view\n",
    "from IPython.core.display import display, HTML\n",
    "display(HTML(\"<style>.container { width:100% !important; }</style>\"))\n",
    "\n",
    "# Each column width at maximum (print all column contents)\n",
    "pd.set_option('display.max_colwidth', -1)\n",
    "# Show up to 500 rows\n",
    "pd.set_option('display.max_rows', 500)\n",
    "# Display up to 500 columns\n",
    "pd.set_option('display.max_columns', 500)\n",
    "# Total length of dataframe\n",
    "pd.set_option('display.width', 1000)\n",
    "\n",
    "print('ready to run')\n",
    "# Logging starttime \n",
    "startTime = time.time()"
   ]
  },
  {
   "cell_type": "markdown",
   "id": "5c06dab4-bc2b-4b3f-a1d6-8a3ae949ef23",
   "metadata": {
    "id": "5c06dab4-bc2b-4b3f-a1d6-8a3ae949ef23",
    "tags": []
   },
   "source": [
    "## Declaring Functions"
   ]
  },
  {
   "cell_type": "markdown",
   "id": "2f5e45ee-7829-4a1e-aa2b-cce873082a86",
   "metadata": {
    "id": "2f5e45ee-7829-4a1e-aa2b-cce873082a86"
   },
   "source": [
    "- Since training models using multiple algorithms involve repetitive tasks, we usually declare functions in advance for later use. \n",
    "- In this practice, the number of repetitions is even larger because we will train each algorithm on two different datasets. Using functions will enhance code readability."
   ]
  },
  {
   "cell_type": "markdown",
   "id": "3bdbb440-b632-43ef-ba6e-1da47033c280",
   "metadata": {
    "id": "3bdbb440-b632-43ef-ba6e-1da47033c280"
   },
   "source": [
    "### Declaring variables\n",
    "- Declare the variables to be used for preprocessing. \n",
    "- Separate columns into categorical and numeric types."
   ]
  },
  {
   "cell_type": "code",
   "execution_count": 4,
   "id": "943f3fef-4768-4e91-8815-a2a3e0451ea6",
   "metadata": {
    "executionInfo": {
     "elapsed": 9,
     "status": "ok",
     "timestamp": 1680598223114,
     "user": {
      "displayName": "김형준",
      "userId": "10277863568716562689"
     },
     "user_tz": -540
    },
    "id": "943f3fef-4768-4e91-8815-a2a3e0451ea6"
   },
   "outputs": [],
   "source": [
    "category_cols = ['imp_dec_code','dec_custom_code','imp_trd_code','imp_typ_code',\\\n",
    "                 'collect_code','typ_transport_code','dec_mark','importer','ovs_cust_code',\\\n",
    "                 'exps_carr_code','HS10','country_ship_code','country_orig_code','trff_class_code',\\\n",
    "                 'country_orig_mark_code','crime_yn','key_exposure']"
   ]
  },
  {
   "cell_type": "code",
   "execution_count": 5,
   "id": "a53cf07c-981f-4673-9b13-65a47fbf4ee8",
   "metadata": {
    "executionInfo": {
     "elapsed": 10,
     "status": "ok",
     "timestamp": 1680598223115,
     "user": {
      "displayName": "김형준",
      "userId": "10277863568716562689"
     },
     "user_tz": -540
    },
    "id": "a53cf07c-981f-4673-9b13-65a47fbf4ee8"
   },
   "outputs": [],
   "source": [
    "number_cols = ['trff_rate','dec_weight','taxabal_price_KRW']"
   ]
  },
  {
   "cell_type": "markdown",
   "id": "a9e4e6ed-a5df-4e61-aabb-a670fa61e4de",
   "metadata": {
    "id": "a9e4e6ed-a5df-4e61-aabb-a670fa61e4de"
   },
   "source": [
    "### Min-max normalization function\n",
    "\n",
    "- Let’s first declare a function that normalizes column values using the min and max values."
   ]
  },
  {
   "cell_type": "code",
   "execution_count": 6,
   "id": "f432a550-521e-4902-bd60-2778ec7eb85a",
   "metadata": {
    "executionInfo": {
     "elapsed": 9,
     "status": "ok",
     "timestamp": 1680598223115,
     "user": {
      "displayName": "김형준",
      "userId": "10277863568716562689"
     },
     "user_tz": -540
    },
    "id": "f432a550-521e-4902-bd60-2778ec7eb85a"
   },
   "outputs": [],
   "source": [
    "def normalize(column):\n",
    "    return (column - column.min())/(column.max() - column.min())"
   ]
  },
  {
   "cell_type": "markdown",
   "id": "c0652507-e5c3-42be-81d2-13a1202c9d23",
   "metadata": {
    "id": "c0652507-e5c3-42be-81d2-13a1202c9d23",
    "tags": []
   },
   "source": [
    "### Function for data preprocessing\n",
    "- Now, we will declare a preprocessing function."
   ]
  },
  {
   "cell_type": "code",
   "execution_count": 7,
   "id": "aeed1239-9bd8-4de9-b7e3-7835fd8bbb3b",
   "metadata": {
    "executionInfo": {
     "elapsed": 9,
     "status": "ok",
     "timestamp": 1680598223115,
     "user": {
      "displayName": "김형준",
      "userId": "10277863568716562689"
     },
     "user_tz": -540
    },
    "id": "aeed1239-9bd8-4de9-b7e3-7835fd8bbb3b"
   },
   "outputs": [],
   "source": [
    "def df_preprocessing(df):\n",
    "    # Copy dataset for a safe use\n",
    "    copy_df = copy.deepcopy(df)\n",
    "\n",
    "    # Separate dataset by data type\n",
    "    copy_df_category = copy_df[category_cols]\n",
    "    copy_df_number = copy_df[number_cols]\n",
    "    \n",
    "    # Load encoding object \n",
    "    encoder = LabelEncoder()\n",
    "\n",
    "    # Encode dataframe containing categorical data\n",
    "    for column_name,item in copy_df_category.iteritems(): \n",
    "        encoder.fit(item)\n",
    "        labels = encoder.transform(item)\n",
    "        copy_df_category[column_name] = labels\n",
    "        \n",
    "    # Perform min-max normalization on dataframe containing numerical data\n",
    "    copy_df_number_norm = copy_df_number.apply(normalize)\n",
    "    \n",
    "    # Return results\n",
    "    return copy_df_category, copy_df_number_norm"
   ]
  },
  {
   "cell_type": "markdown",
   "id": "49f31a4c-bad8-4218-9dd0-6ed3e49f88b1",
   "metadata": {
    "id": "49f31a4c-bad8-4218-9dd0-6ed3e49f88b1"
   },
   "source": [
    "### Function that separates data into training data and test data"
   ]
  },
  {
   "cell_type": "markdown",
   "id": "7f21adaa-b0bd-4d9e-bc89-d818e2b39341",
   "metadata": {
    "id": "7f21adaa-b0bd-4d9e-bc89-d818e2b39341"
   },
   "source": [
    "- The next function is ‘train_test_split’, which is a preprocessing function included in scikit-learn. \n",
    "- The label column is 'crime_yn,' which denotes whether a fraudulent action has occurred.\n",
    "- For feature columns, the function excludes the label column 'crime_yn'. It also excludes 'key_exposure,' which has extremly high correlation with 'crime_yn' and hence will make it challenging to use other columns. 'imp_dec_code’ is also excluded, as it has been verified to lack meaningful correlation with other columns. \n",
    "- Finally, the function splits the training and test data in an 8:2 ratio.\n"
   ]
  },
  {
   "cell_type": "code",
   "execution_count": 8,
   "id": "be7000ff-237f-42d9-85cc-57f07839608c",
   "metadata": {
    "executionInfo": {
     "elapsed": 9,
     "status": "ok",
     "timestamp": 1680598223116,
     "user": {
      "displayName": "김형준",
      "userId": "10277863568716562689"
     },
     "user_tz": -540
    },
    "id": "be7000ff-237f-42d9-85cc-57f07839608c"
   },
   "outputs": [],
   "source": [
    "def df_splist(df):\n",
    "\n",
    "    # Set label column\n",
    "    y = df['crime_yn']\n",
    "    # Remove columns that have too high/low correlation with the label column\n",
    "    X = df.drop(columns=['crime_yn','key_exposure','imp_dec_code'])\n",
    "    # Separate data\n",
    "    X_train, X_test, y_train, y_test = train_test_split(X, y, test_size=0.2, random_state=42)\n",
    "    \n",
    "    return X_train, X_test, y_train, y_test"
   ]
  },
  {
   "cell_type": "markdown",
   "id": "40b60c89-6e22-4652-996a-207b7660488b",
   "metadata": {
    "id": "40b60c89-6e22-4652-996a-207b7660488b"
   },
   "source": [
    "### Detection rate calculation function for top 5% high-risk predicted declarations\n",
    "\n",
    "- The following function calculates a model's detection rate on the declaration group with the top 5% highest predicted values by comparing the predictions with actual detection records."
   ]
  },
  {
   "cell_type": "code",
   "execution_count": 9,
   "id": "a462622f-2de2-4c7c-89d3-7d19cb300f23",
   "metadata": {
    "executionInfo": {
     "elapsed": 9,
     "status": "ok",
     "timestamp": 1680598223116,
     "user": {
      "displayName": "김형준",
      "userId": "10277863568716562689"
     },
     "user_tz": -540
    },
    "id": "a462622f-2de2-4c7c-89d3-7d19cb300f23"
   },
   "outputs": [],
   "source": [
    "def reg_top_5per(df_reg, target_y):\n",
    "    \n",
    "    # Select the rows where predicted values are higher than the threshold defining top 5% of predicted values using conditional expression\n",
    "    top_5percent = df_reg['pred'].quantile(0.95)\n",
    "    result = df_reg[df_reg['pred'] > top_5percent]\n",
    "    # From the label dataframe, filter the rows having the same indices as the top 5% predicted values and store them in ‘y_test_top5’ variable\n",
    "    y_test_top5 = target_y[target_y.index.isin(result['index'])]\n",
    "    # Create a dataframe containing ‘y_test_top5’ values under ‘crime_yn’ column for quick calculation\n",
    "    y_test_top5_df = pd.DataFrame({'crime_yn' :y_test_top5})\n",
    "    # Get detection rate by calculating the proportion of the number of rows where ‘crime_yn == 1’ to the total count of top 5% predicted values\n",
    "    top_5_detectionrate = y_test_top5_df[y_test_top5_df['crime_yn']==1].count() / y_test_top5_df.count()\n",
    "    \n",
    "    return top_5_detectionrate"
   ]
  },
  {
   "cell_type": "markdown",
   "id": "90ed7fd5-6118-485f-8a0d-d9bd6381c884",
   "metadata": {
    "id": "90ed7fd5-6118-485f-8a0d-d9bd6381c884"
   },
   "source": [
    "### Detection rate calculation function for top 10% high-risk predicted declarations\n",
    "- The following function calculates the model's detection rate on the declaration group with the top 10% highest predicted values by comparing the predictions with actual detection records."
   ]
  },
  {
   "cell_type": "code",
   "execution_count": 12,
   "id": "b225b7cd-0cef-41ec-a580-6b6b4afdd4c6",
   "metadata": {
    "executionInfo": {
     "elapsed": 10,
     "status": "ok",
     "timestamp": 1680598223117,
     "user": {
      "displayName": "김형준",
      "userId": "10277863568716562689"
     },
     "user_tz": -540
    },
    "id": "b225b7cd-0cef-41ec-a580-6b6b4afdd4c6"
   },
   "outputs": [],
   "source": [
    "def reg_top_10per(df_reg, target_y):\n",
    "    \n",
    "    # Select the rows where predicted values are higher than the threshold defining top 10% of predicted values using conditional expression\n",
    "    top_10percent = df_reg['pred'].quantile(0.90)\n",
    "    result = df_reg[df_reg['pred'] > top_10percent]\n",
    "    # From the label dataframe, filter the rows having the same indices as the top 10% predicted values and store them in ‘y_test_top10’ variable\n",
    "    y_test_top10 = target_y[target_y.index.isin(result['index'])]\n",
    "    # Create a dataframe containing ‘y_test_top10’ values under ‘crime_yn’ column for quick calculation\n",
    "    y_test_top10_df = pd.DataFrame({'crime_yn' :y_test_top10})\n",
    "    # Get detection rate by calculating the proportion of the number of rows where ‘crime_yn == 1’ to the total count of top 10% predicted values\n",
    "    top_10_detectionrate = y_test_top10_df[y_test_top10_df['crime_yn']==1].count() / y_test_top10_df.count()\n",
    "    \n",
    "    return top_10_detectionrate"
   ]
  },
  {
   "cell_type": "markdown",
   "id": "0f32c257-cce4-455a-b92b-9d2572a16cfe",
   "metadata": {
    "id": "0f32c257-cce4-455a-b92b-9d2572a16cfe",
    "tags": []
   },
   "source": [
    "## Data Loading & Preprocessing"
   ]
  },
  {
   "cell_type": "markdown",
   "id": "82c4ca7e-8223-409e-ac9f-c1c35340c65d",
   "metadata": {
    "id": "82c4ca7e-8223-409e-ac9f-c1c35340c65d"
   },
   "source": [
    "- When training a model, a dataset is usually divided into a training set and a test set, with each set containing feature variables (X) and a label variable (y).\n",
    "- This means that we need four dataframes to train a single model. \n",
    "- Since we are going to train two models with two datasets (original and synthetic data), we are going to create 8 dataframes in this practice. \n",
    "\n"
   ]
  },
  {
   "cell_type": "markdown",
   "id": "i9T90buqPUGg",
   "metadata": {
    "id": "i9T90buqPUGg"
   },
   "source": [
    "- Original data (X_train, X_test, y_train, y_test) -> 4 data frames\n",
    "- Synthetic data (X_syn_train, X_syn_test, y_syn_train, y_syn_test) -> 4 data frames"
   ]
  },
  {
   "cell_type": "markdown",
   "id": "23514163-79c8-486c-8e49-138abdc94480",
   "metadata": {
    "id": "23514163-79c8-486c-8e49-138abdc94480",
    "tags": []
   },
   "source": [
    "### Real data"
   ]
  },
  {
   "cell_type": "markdown",
   "id": "b09a0740-15f2-43f6-b3a9-6ccc26877f58",
   "metadata": {
    "id": "b09a0740-15f2-43f6-b3a9-6ccc26877f58"
   },
   "source": [
    "- Now, we will delve into the model training process. Let’s first load the original dataset."
   ]
  },
  {
   "cell_type": "code",
   "execution_count": 11,
   "id": "0feddd48-56b1-4fce-af28-6ba4555a5334",
   "metadata": {
    "executionInfo": {
     "elapsed": 620,
     "status": "ok",
     "timestamp": 1680598223728,
     "user": {
      "displayName": "김형준",
      "userId": "10277863568716562689"
     },
     "user_tz": -540
    },
    "id": "0feddd48-56b1-4fce-af28-6ba4555a5334"
   },
   "outputs": [],
   "source": [
    "df_base = pd.read_csv('df_syn_en.csv', encoding='utf-8-sig')"
   ]
  },
  {
   "cell_type": "markdown",
   "id": "075536ff-932e-45b1-8b8d-dfd86bdfcc59",
   "metadata": {
    "id": "075536ff-932e-45b1-8b8d-dfd86bdfcc59"
   },
   "source": [
    "- Let’s normalize both categorical and numerical data using the preprocessing function."
   ]
  },
  {
   "cell_type": "code",
   "execution_count": 13,
   "id": "cddb8232-9af6-4efe-90ff-fec7be9e5ea9",
   "metadata": {
    "executionInfo": {
     "elapsed": 654,
     "status": "ok",
     "timestamp": 1680598224380,
     "user": {
      "displayName": "김형준",
      "userId": "10277863568716562689"
     },
     "user_tz": -540
    },
    "id": "cddb8232-9af6-4efe-90ff-fec7be9e5ea9"
   },
   "outputs": [],
   "source": [
    "copy_base_category, copy_base_number_norm = df_preprocessing(df_base)"
   ]
  },
  {
   "cell_type": "markdown",
   "id": "29fd5462-1352-4d6d-8738-9a3f8cb57920",
   "metadata": {
    "id": "29fd5462-1352-4d6d-8738-9a3f8cb57920"
   },
   "source": [
    "#### Combining data"
   ]
  },
  {
   "cell_type": "markdown",
   "id": "415a10b9-be56-4fc1-8d23-0802eed75baf",
   "metadata": {
    "id": "415a10b9-be56-4fc1-8d23-0802eed75baf"
   },
   "source": [
    "- Since the preprocessing function divides the dataframe into categorical and numerical dataframes, we will concatenate them back into a single dataframe."
   ]
  },
  {
   "cell_type": "code",
   "execution_count": 14,
   "id": "27828aa8-1878-4f12-b105-2f603f62ad94",
   "metadata": {
    "executionInfo": {
     "elapsed": 14,
     "status": "ok",
     "timestamp": 1680598224381,
     "user": {
      "displayName": "김형준",
      "userId": "10277863568716562689"
     },
     "user_tz": -540
    },
    "id": "27828aa8-1878-4f12-b105-2f603f62ad94"
   },
   "outputs": [],
   "source": [
    "copy_base_total = pd.concat([copy_base_category,copy_base_number_norm], axis=1)"
   ]
  },
  {
   "cell_type": "markdown",
   "id": "9a7864a6-a714-4640-9892-d41b4e5c6739",
   "metadata": {
    "id": "9a7864a6-a714-4640-9892-d41b4e5c6739"
   },
   "source": [
    "#### Separate training data and test data\n",
    "- Let’s separate the dataset into training and test sets."
   ]
  },
  {
   "cell_type": "code",
   "execution_count": 15,
   "id": "54740373-4206-44ef-8c4a-db50eb994029",
   "metadata": {
    "executionInfo": {
     "elapsed": 13,
     "status": "ok",
     "timestamp": 1680598224381,
     "user": {
      "displayName": "김형준",
      "userId": "10277863568716562689"
     },
     "user_tz": -540
    },
    "id": "54740373-4206-44ef-8c4a-db50eb994029"
   },
   "outputs": [],
   "source": [
    "X_train, X_test, y_train, y_test = df_splist(copy_base_total)"
   ]
  },
  {
   "cell_type": "markdown",
   "id": "07fd7012-f1fa-45af-a3d3-8a21fe62c236",
   "metadata": {
    "id": "07fd7012-f1fa-45af-a3d3-8a21fe62c236",
    "tags": []
   },
   "source": [
    "### Synthetic data"
   ]
  },
  {
   "cell_type": "markdown",
   "id": "46644e80-0521-43e3-afd3-038a44d505fd",
   "metadata": {
    "id": "46644e80-0521-43e3-afd3-038a44d505fd"
   },
   "source": [
    "- Following the same methodology as applied to the original dataset, we will also conduct data preprocessing and splitting for the synthetic dataset. \n",
    "- Let’s start by loading the synthetic dataset.\n",
    "\n"
   ]
  },
  {
   "cell_type": "code",
   "execution_count": 1,
   "id": "1059b400-34ce-4a29-a12a-93239053ecfc",
   "metadata": {
    "executionInfo": {
     "elapsed": 13,
     "status": "ok",
     "timestamp": 1680598224381,
     "user": {
      "displayName": "김형준",
      "userId": "10277863568716562689"
     },
     "user_tz": -540
    },
    "id": "1059b400-34ce-4a29-a12a-93239053ecfc"
   },
   "outputs": [
    {
     "ename": "NameError",
     "evalue": "name 'pd' is not defined",
     "output_type": "error",
     "traceback": [
      "\u001b[1;31m---------------------------------------------------------------------------\u001b[0m",
      "\u001b[1;31mNameError\u001b[0m                                 Traceback (most recent call last)",
      "Cell \u001b[1;32mIn[1], line 1\u001b[0m\n\u001b[1;32m----> 1\u001b[0m df_syn \u001b[38;5;241m=\u001b[39m \u001b[43mpd\u001b[49m\u001b[38;5;241m.\u001b[39mread_csv(\u001b[38;5;124m'\u001b[39m\u001b[38;5;124m./data_sample/df_syn_en_14.csv\u001b[39m\u001b[38;5;124m'\u001b[39m, encoding\u001b[38;5;241m=\u001b[39m\u001b[38;5;124m'\u001b[39m\u001b[38;5;124mutf-8-sig\u001b[39m\u001b[38;5;124m'\u001b[39m)\n",
      "\u001b[1;31mNameError\u001b[0m: name 'pd' is not defined"
     ]
    }
   ],
   "source": [
    "# Synthetic data\n",
    "df_syn = pd.read_csv('./data_sample/df_syn_en_14.csv', encoding='utf-8-sig') "
   ]
  },
  {
   "cell_type": "markdown",
   "id": "ff9443ec-b21e-46d4-8bc4-5b15c09edc37",
   "metadata": {
    "id": "ff9443ec-b21e-46d4-8bc4-5b15c09edc37"
   },
   "source": [
    "- Normalize the dataset using the preprocessing function."
   ]
  },
  {
   "cell_type": "code",
   "execution_count": 19,
   "id": "04c5ac02-a7a8-4eee-aee5-03b7711dbb3a",
   "metadata": {
    "executionInfo": {
     "elapsed": 13,
     "status": "ok",
     "timestamp": 1680598224382,
     "user": {
      "displayName": "김형준",
      "userId": "10277863568716562689"
     },
     "user_tz": -540
    },
    "id": "04c5ac02-a7a8-4eee-aee5-03b7711dbb3a"
   },
   "outputs": [],
   "source": [
    "copy_syn_category, copy_syn_number_norm = df_preprocessing(df_syn)"
   ]
  },
  {
   "cell_type": "markdown",
   "id": "e4cdd0fc-28bc-4c81-9843-cc773724c379",
   "metadata": {
    "id": "e4cdd0fc-28bc-4c81-9843-cc773724c379"
   },
   "source": [
    "#### Combining data"
   ]
  },
  {
   "cell_type": "markdown",
   "id": "7712a36e-0ffc-48c0-ae19-f83c3dfacacc",
   "metadata": {
    "id": "7712a36e-0ffc-48c0-ae19-f83c3dfacacc"
   },
   "source": [
    "- Combine the preprocessed data into a single table."
   ]
  },
  {
   "cell_type": "code",
   "execution_count": 20,
   "id": "c5f67b8d-1911-4d36-861f-5af2d12d2adc",
   "metadata": {
    "executionInfo": {
     "elapsed": 13,
     "status": "ok",
     "timestamp": 1680598224382,
     "user": {
      "displayName": "김형준",
      "userId": "10277863568716562689"
     },
     "user_tz": -540
    },
    "id": "c5f67b8d-1911-4d36-861f-5af2d12d2adc"
   },
   "outputs": [],
   "source": [
    "copy_syn_total = pd.concat([copy_syn_category,copy_syn_number_norm], axis=1)"
   ]
  },
  {
   "cell_type": "markdown",
   "id": "a79a0388-3735-49c0-bccc-ecdad76c2da4",
   "metadata": {
    "id": "a79a0388-3735-49c0-bccc-ecdad76c2da4"
   },
   "source": [
    "#### Separate training data and test data\n",
    "- Separate the data into training and test sets."
   ]
  },
  {
   "cell_type": "code",
   "execution_count": 21,
   "id": "7b9eb55f-d1ee-45d8-a47d-653c8f6979e1",
   "metadata": {
    "executionInfo": {
     "elapsed": 14,
     "status": "ok",
     "timestamp": 1680598224383,
     "user": {
      "displayName": "김형준",
      "userId": "10277863568716562689"
     },
     "user_tz": -540
    },
    "id": "7b9eb55f-d1ee-45d8-a47d-653c8f6979e1"
   },
   "outputs": [],
   "source": [
    "X_syn_train, X_syn_test, y_syn_train, y_syn_test = df_splist(copy_syn_total)"
   ]
  },
  {
   "cell_type": "markdown",
   "id": "4ce79955-41e4-48af-b369-9070769f9158",
   "metadata": {
    "id": "4ce79955-41e4-48af-b369-9070769f9158",
    "tags": []
   },
   "source": [
    "## Evaluating Model\n",
    "- The model produces a predicted value (fraud label) for each data point (import declaration), which ranges from 0 to 1. \n",
    "- The evaluation metric for the model will be the model’s hit rate (fraud detection rate) for the top 5% and top 10% of declarations with the highest predicted values.   \n",
    "- The fraud detection rates on the top 5% and 10% declaration groups will be used to compare the two models trained on original and synthetic data and verify the statistical similarity between the two datasets.\n",
    "\n",
    "\n"
   ]
  },
  {
   "cell_type": "markdown",
   "id": "aed7f4cf-0d7a-4231-9628-1a64899a4102",
   "metadata": {
    "id": "aed7f4cf-0d7a-4231-9628-1a64899a4102",
    "tags": []
   },
   "source": [
    "### Linear regression analysis"
   ]
  },
  {
   "cell_type": "markdown",
   "id": "34ee91ef-efdd-4e86-9f49-18842dfdae2d",
   "metadata": {
    "id": "34ee91ef-efdd-4e86-9f49-18842dfdae2d"
   },
   "source": [
    "- Linear regression is a statistical method used to model the relationship between a dependent variable and one or more independent variables.\n",
    "- We assume linear relationship between the variables, and use method of least square to approximate regression parameters.\n",
    "- Linear regression is used for prediction and inference in various fields, but we need to carefully consider assumptions and limitations. "
   ]
  },
  {
   "cell_type": "code",
   "execution_count": 23,
   "id": "8b82971f-0ecd-435d-99f9-afb3c5d24760",
   "metadata": {
    "executionInfo": {
     "elapsed": 13,
     "status": "ok",
     "timestamp": 1680598224383,
     "user": {
      "displayName": "김형준",
      "userId": "10277863568716562689"
     },
     "user_tz": -540
    },
    "id": "8b82971f-0ecd-435d-99f9-afb3c5d24760"
   },
   "outputs": [],
   "source": [
    "from sklearn.linear_model import LinearRegression"
   ]
  },
  {
   "cell_type": "markdown",
   "id": "6661becc-b2e3-4d6a-9982-78d8918c5d88",
   "metadata": {
    "id": "6661becc-b2e3-4d6a-9982-78d8918c5d88",
    "tags": []
   },
   "source": [
    "#### Original data (X_train, X_test, y_train, y_test)"
   ]
  },
  {
   "cell_type": "markdown",
   "id": "37b2aa7f-5f67-477c-8528-caf93d93bd23",
   "metadata": {
    "id": "37b2aa7f-5f67-477c-8528-caf93d93bd23",
    "jp-MarkdownHeadingCollapsed": true,
    "tags": []
   },
   "source": [
    "- Let’s train a linear regression model with the original data. "
   ]
  },
  {
   "cell_type": "code",
   "execution_count": 24,
   "id": "1e774912-d3cb-4255-8356-1982f974b9d1",
   "metadata": {
    "colab": {
     "base_uri": "https://localhost:8080/",
     "height": 75
    },
    "executionInfo": {
     "elapsed": 13,
     "status": "ok",
     "timestamp": 1680598224383,
     "user": {
      "displayName": "김형준",
      "userId": "10277863568716562689"
     },
     "user_tz": -540
    },
    "id": "1e774912-d3cb-4255-8356-1982f974b9d1",
    "outputId": "b9055eff-b1b8-44de-cfef-e139d3a23dc7",
    "tags": []
   },
   "outputs": [
    {
     "data": {
      "text/plain": [
       "LinearRegression()"
      ]
     },
     "execution_count": 24,
     "metadata": {},
     "output_type": "execute_result"
    }
   ],
   "source": [
    "lr = LinearRegression()\n",
    "lr.fit(X_train, y_train)"
   ]
  },
  {
   "cell_type": "markdown",
   "id": "1bb5f4fe-62dd-42b4-a139-f23248d10161",
   "metadata": {
    "id": "1bb5f4fe-62dd-42b4-a139-f23248d10161",
    "tags": []
   },
   "source": [
    "- Now that the model training is complete, let's check the model's predictions on the test set.\n",
    "- The model will output the label value (fraud label)   for each declaration ranging from 0 to 1.\n",
    "- We will use the model’s fraud detection rate for the top 5% and 10% of declarations with the highest predicted values as an evaluation metric.\n",
    "- For the calculation, the model’s predictions on the test set will be first stored in a dataframe. "
   ]
  },
  {
   "cell_type": "code",
   "execution_count": 25,
   "id": "f160df75-7d18-40e4-9803-7a2868cf82db",
   "metadata": {
    "executionInfo": {
     "elapsed": 3,
     "status": "ok",
     "timestamp": 1680598225041,
     "user": {
      "displayName": "김형준",
      "userId": "10277863568716562689"
     },
     "user_tz": -540
    },
    "id": "f160df75-7d18-40e4-9803-7a2868cf82db"
   },
   "outputs": [],
   "source": [
    "y_pred = lr.predict(X_test)\n",
    "index = X_test.index.tolist()\n",
    "df = pd.DataFrame({'index' : index ,'pred': y_pred})"
   ]
  },
  {
   "cell_type": "markdown",
   "id": "bb506120-f749-4b08-b3ad-de5696a733b0",
   "metadata": {
    "id": "bb506120-f749-4b08-b3ad-de5696a733b0"
   },
   "source": [
    "- Let’s calculate the model’s fraud detection rate for the top 5% of declarations using the 'reg_top_5per()' function declared earlier. "
   ]
  },
  {
   "cell_type": "code",
   "execution_count": 28,
   "id": "14d13bc4-bdc9-40d3-93e9-7a3d79cd5d3f",
   "metadata": {
    "executionInfo": {
     "elapsed": 2,
     "status": "ok",
     "timestamp": 1680598225041,
     "user": {
      "displayName": "김형준",
      "userId": "10277863568716562689"
     },
     "user_tz": -540
    },
    "id": "14d13bc4-bdc9-40d3-93e9-7a3d79cd5d3f"
   },
   "outputs": [],
   "source": [
    "base_5 = reg_top_5per(df,y_test)"
   ]
  },
  {
   "cell_type": "markdown",
   "id": "bd73cc04-99fc-41ac-a61b-324fb81868a1",
   "metadata": {
    "id": "bd73cc04-99fc-41ac-a61b-324fb81868a1"
   },
   "source": [
    "- Let’s calculate the model's detection rate for the top 10% of declarations in the same manner. "
   ]
  },
  {
   "cell_type": "code",
   "execution_count": 28,
   "id": "40c35527-e44f-426f-b271-bf02c6eaad26",
   "metadata": {
    "executionInfo": {
     "elapsed": 2,
     "status": "ok",
     "timestamp": 1680598225041,
     "user": {
      "displayName": "김형준",
      "userId": "10277863568716562689"
     },
     "user_tz": -540
    },
    "id": "40c35527-e44f-426f-b271-bf02c6eaad26"
   },
   "outputs": [],
   "source": [
    "base_10 = reg_top_10per(df,y_test)"
   ]
  },
  {
   "cell_type": "markdown",
   "id": "3ef414b1-b925-446f-a1bb-b19fa4a8a8c1",
   "metadata": {
    "id": "3ef414b1-b925-446f-a1bb-b19fa4a8a8c1",
    "tags": []
   },
   "source": [
    "#### Synthetic data (X_syn_train, X_syn_test, y_syn_train, y_syn_test)"
   ]
  },
  {
   "cell_type": "markdown",
   "id": "bdd1242a-427f-4f5d-b29b-f8d93ec53bc4",
   "metadata": {
    "id": "bdd1242a-427f-4f5d-b29b-f8d93ec53bc4",
    "tags": []
   },
   "source": [
    "- Now, we will train another linear regression model using the same algorithm on the synthetic data and calculate the model's detection rates for the top 5% and top 10% of predictions, following the same approach as for the original dataset. \n",
    "- Let’s start by training a linear regression model on the synthetic dataset."
   ]
  },
  {
   "cell_type": "code",
   "execution_count": 29,
   "id": "66ff0172-af4d-4875-ab71-5175b6d2d0fa",
   "metadata": {
    "colab": {
     "base_uri": "https://localhost:8080/",
     "height": 75
    },
    "executionInfo": {
     "elapsed": 11,
     "status": "ok",
     "timestamp": 1680598225503,
     "user": {
      "displayName": "김형준",
      "userId": "10277863568716562689"
     },
     "user_tz": -540
    },
    "id": "66ff0172-af4d-4875-ab71-5175b6d2d0fa",
    "outputId": "7538ba4b-b057-424d-f737-cef4aebf5687",
    "tags": []
   },
   "outputs": [
    {
     "data": {
      "text/html": [
       "<style>#sk-container-id-2 {color: black;background-color: white;}#sk-container-id-2 pre{padding: 0;}#sk-container-id-2 div.sk-toggleable {background-color: white;}#sk-container-id-2 label.sk-toggleable__label {cursor: pointer;display: block;width: 100%;margin-bottom: 0;padding: 0.3em;box-sizing: border-box;text-align: center;}#sk-container-id-2 label.sk-toggleable__label-arrow:before {content: \"▸\";float: left;margin-right: 0.25em;color: #696969;}#sk-container-id-2 label.sk-toggleable__label-arrow:hover:before {color: black;}#sk-container-id-2 div.sk-estimator:hover label.sk-toggleable__label-arrow:before {color: black;}#sk-container-id-2 div.sk-toggleable__content {max-height: 0;max-width: 0;overflow: hidden;text-align: left;background-color: #f0f8ff;}#sk-container-id-2 div.sk-toggleable__content pre {margin: 0.2em;color: black;border-radius: 0.25em;background-color: #f0f8ff;}#sk-container-id-2 input.sk-toggleable__control:checked~div.sk-toggleable__content {max-height: 200px;max-width: 100%;overflow: auto;}#sk-container-id-2 input.sk-toggleable__control:checked~label.sk-toggleable__label-arrow:before {content: \"▾\";}#sk-container-id-2 div.sk-estimator input.sk-toggleable__control:checked~label.sk-toggleable__label {background-color: #d4ebff;}#sk-container-id-2 div.sk-label input.sk-toggleable__control:checked~label.sk-toggleable__label {background-color: #d4ebff;}#sk-container-id-2 input.sk-hidden--visually {border: 0;clip: rect(1px 1px 1px 1px);clip: rect(1px, 1px, 1px, 1px);height: 1px;margin: -1px;overflow: hidden;padding: 0;position: absolute;width: 1px;}#sk-container-id-2 div.sk-estimator {font-family: monospace;background-color: #f0f8ff;border: 1px dotted black;border-radius: 0.25em;box-sizing: border-box;margin-bottom: 0.5em;}#sk-container-id-2 div.sk-estimator:hover {background-color: #d4ebff;}#sk-container-id-2 div.sk-parallel-item::after {content: \"\";width: 100%;border-bottom: 1px solid gray;flex-grow: 1;}#sk-container-id-2 div.sk-label:hover label.sk-toggleable__label {background-color: #d4ebff;}#sk-container-id-2 div.sk-serial::before {content: \"\";position: absolute;border-left: 1px solid gray;box-sizing: border-box;top: 0;bottom: 0;left: 50%;z-index: 0;}#sk-container-id-2 div.sk-serial {display: flex;flex-direction: column;align-items: center;background-color: white;padding-right: 0.2em;padding-left: 0.2em;position: relative;}#sk-container-id-2 div.sk-item {position: relative;z-index: 1;}#sk-container-id-2 div.sk-parallel {display: flex;align-items: stretch;justify-content: center;background-color: white;position: relative;}#sk-container-id-2 div.sk-item::before, #sk-container-id-2 div.sk-parallel-item::before {content: \"\";position: absolute;border-left: 1px solid gray;box-sizing: border-box;top: 0;bottom: 0;left: 50%;z-index: -1;}#sk-container-id-2 div.sk-parallel-item {display: flex;flex-direction: column;z-index: 1;position: relative;background-color: white;}#sk-container-id-2 div.sk-parallel-item:first-child::after {align-self: flex-end;width: 50%;}#sk-container-id-2 div.sk-parallel-item:last-child::after {align-self: flex-start;width: 50%;}#sk-container-id-2 div.sk-parallel-item:only-child::after {width: 0;}#sk-container-id-2 div.sk-dashed-wrapped {border: 1px dashed gray;margin: 0 0.4em 0.5em 0.4em;box-sizing: border-box;padding-bottom: 0.4em;background-color: white;}#sk-container-id-2 div.sk-label label {font-family: monospace;font-weight: bold;display: inline-block;line-height: 1.2em;}#sk-container-id-2 div.sk-label-container {text-align: center;}#sk-container-id-2 div.sk-container {/* jupyter's `normalize.less` sets `[hidden] { display: none; }` but bootstrap.min.css set `[hidden] { display: none !important; }` so we also need the `!important` here to be able to override the default hidden behavior on the sphinx rendered scikit-learn.org. See: https://github.com/scikit-learn/scikit-learn/issues/21755 */display: inline-block !important;position: relative;}#sk-container-id-2 div.sk-text-repr-fallback {display: none;}</style><div id=\"sk-container-id-2\" class=\"sk-top-container\"><div class=\"sk-text-repr-fallback\"><pre>LinearRegression()</pre><b>In a Jupyter environment, please rerun this cell to show the HTML representation or trust the notebook. <br />On GitHub, the HTML representation is unable to render, please try loading this page with nbviewer.org.</b></div><div class=\"sk-container\" hidden><div class=\"sk-item\"><div class=\"sk-estimator sk-toggleable\"><input class=\"sk-toggleable__control sk-hidden--visually\" id=\"sk-estimator-id-2\" type=\"checkbox\" checked><label for=\"sk-estimator-id-2\" class=\"sk-toggleable__label sk-toggleable__label-arrow\">LinearRegression</label><div class=\"sk-toggleable__content\"><pre>LinearRegression()</pre></div></div></div></div></div>"
      ],
      "text/plain": [
       "LinearRegression()"
      ]
     },
     "execution_count": 29,
     "metadata": {},
     "output_type": "execute_result"
    }
   ],
   "source": [
    "lr_syn = LinearRegression()\n",
    "lr_syn.fit(X_syn_train, y_syn_train)"
   ]
  },
  {
   "cell_type": "markdown",
   "id": "14145d1e-849b-4621-a7b1-91f838b56be7",
   "metadata": {
    "id": "14145d1e-849b-4621-a7b1-91f838b56be7",
    "tags": []
   },
   "source": [
    "- Store the model's predictions on the test set in a dataframe."
   ]
  },
  {
   "cell_type": "code",
   "execution_count": 31,
   "id": "69219db5-527c-40cb-9044-7436de2b4e81",
   "metadata": {
    "executionInfo": {
     "elapsed": 4,
     "status": "ok",
     "timestamp": 1680598225503,
     "user": {
      "displayName": "김형준",
      "userId": "10277863568716562689"
     },
     "user_tz": -540
    },
    "id": "69219db5-527c-40cb-9044-7436de2b4e81"
   },
   "outputs": [],
   "source": [
    "y_syn_pred = lr_syn.predict(X_syn_test)\n",
    "index = X_syn_test.index.tolist()\n",
    "df = pd.DataFrame({'index' : index ,'pred': y_syn_pred})"
   ]
  },
  {
   "cell_type": "markdown",
   "id": "10a5d4a7-ad95-48bd-936a-3b70e498aac8",
   "metadata": {
    "id": "10a5d4a7-ad95-48bd-936a-3b70e498aac8"
   },
   "source": [
    "- Calculate the fraud detection rate of the model for declarations with the top 5% of predicted values."
   ]
  },
  {
   "cell_type": "code",
   "execution_count": 29,
   "id": "f24b8c25-8582-45ab-a75b-e7ffd14125f6",
   "metadata": {
    "executionInfo": {
     "elapsed": 5,
     "status": "ok",
     "timestamp": 1680598225504,
     "user": {
      "displayName": "김형준",
      "userId": "10277863568716562689"
     },
     "user_tz": -540
    },
    "id": "f24b8c25-8582-45ab-a75b-e7ffd14125f6"
   },
   "outputs": [],
   "source": [
    "syn_5 = reg_top_5per(df,y_syn_test)"
   ]
  },
  {
   "cell_type": "markdown",
   "id": "9d9bd91d-98bc-4744-b6e9-97947691c59a",
   "metadata": {
    "id": "9d9bd91d-98bc-4744-b6e9-97947691c59a"
   },
   "source": [
    "- Calculate the fraud detection rate of the model for declarations with the top 10% of predicted values. "
   ]
  },
  {
   "cell_type": "code",
   "execution_count": 33,
   "id": "1240e53a-2a48-44eb-adeb-dfefd214d18f",
   "metadata": {
    "executionInfo": {
     "elapsed": 5,
     "status": "ok",
     "timestamp": 1680598225504,
     "user": {
      "displayName": "김형준",
      "userId": "10277863568716562689"
     },
     "user_tz": -540
    },
    "id": "1240e53a-2a48-44eb-adeb-dfefd214d18f",
    "tags": []
   },
   "outputs": [],
   "source": [
    "syn_10 = reg_top_10per(df,y_syn_test)"
   ]
  },
  {
   "cell_type": "markdown",
   "id": "d17a5435-14e7-4da8-ba61-b504f996deca",
   "metadata": {
    "id": "d17a5435-14e7-4da8-ba61-b504f996deca",
    "tags": []
   },
   "source": [
    "#### Detection rate summary"
   ]
  },
  {
   "cell_type": "markdown",
   "id": "m43gJJjASs55",
   "metadata": {
    "id": "m43gJJjASs55"
   },
   "source": [
    "- Now, let’s compare the detection rates of the two models respectively trained on original and synthetic data. \n",
    "- To facilitate the comparison, we will put detection rates in a single dataframe."
   ]
  },
  {
   "cell_type": "code",
   "execution_count": 34,
   "id": "0d92f743-aca3-4205-8647-24d0a1b63124",
   "metadata": {
    "executionInfo": {
     "elapsed": 4,
     "status": "ok",
     "timestamp": 1680598226570,
     "user": {
      "displayName": "김형준",
      "userId": "10277863568716562689"
     },
     "user_tz": -540
    },
    "id": "0d92f743-aca3-4205-8647-24d0a1b63124"
   },
   "outputs": [],
   "source": [
    "df_result_lr = pd.DataFrame({'category': 'LinearRegression','base_5' : base_5, 'base_10': base_10,'syn_5': syn_5,'syn_10': syn_10})"
   ]
  },
  {
   "cell_type": "code",
   "execution_count": 35,
   "id": "0a0fbadd-f1a6-49c3-b414-77b151ce2b28",
   "metadata": {
    "colab": {
     "base_uri": "https://localhost:8080/",
     "height": 81
    },
    "executionInfo": {
     "elapsed": 4,
     "status": "ok",
     "timestamp": 1680598226571,
     "user": {
      "displayName": "김형준",
      "userId": "10277863568716562689"
     },
     "user_tz": -540
    },
    "id": "0a0fbadd-f1a6-49c3-b414-77b151ce2b28",
    "outputId": "a1d7b151-dadd-44ed-db1d-55d1adde6c4b"
   },
   "outputs": [
    {
     "data": {
      "text/html": [
       "<div>\n",
       "<style scoped>\n",
       "    .dataframe tbody tr th:only-of-type {\n",
       "        vertical-align: middle;\n",
       "    }\n",
       "\n",
       "    .dataframe tbody tr th {\n",
       "        vertical-align: top;\n",
       "    }\n",
       "\n",
       "    .dataframe thead th {\n",
       "        text-align: right;\n",
       "    }\n",
       "</style>\n",
       "<table border=\"1\" class=\"dataframe\">\n",
       "  <thead>\n",
       "    <tr style=\"text-align: right;\">\n",
       "      <th></th>\n",
       "      <th>category</th>\n",
       "      <th>base_5</th>\n",
       "      <th>base_10</th>\n",
       "      <th>syn_5</th>\n",
       "      <th>syn_10</th>\n",
       "    </tr>\n",
       "  </thead>\n",
       "  <tbody>\n",
       "    <tr>\n",
       "      <th>crime_yn</th>\n",
       "      <td>LinearRegression</td>\n",
       "      <td>0.353704</td>\n",
       "      <td>0.311111</td>\n",
       "      <td>0.375</td>\n",
       "      <td>0.28125</td>\n",
       "    </tr>\n",
       "  </tbody>\n",
       "</table>\n",
       "</div>"
      ],
      "text/plain": [
       "                  category    base_5   base_10  syn_5   syn_10\n",
       "crime_yn  LinearRegression  0.353704  0.311111  0.375  0.28125"
      ]
     },
     "execution_count": 35,
     "metadata": {},
     "output_type": "execute_result"
    }
   ],
   "source": [
    "df_result_lr"
   ]
  },
  {
   "cell_type": "markdown",
   "id": "75ea48f1-5b8f-4af4-aef6-3b8631b5be93",
   "metadata": {},
   "source": [
    "- It is clear that there exist minimal differences in detection rates between the two models. \n",
    "- While there is a slight variance, both models exhibit a decrease in detection rate from the 5% group to the 10% group.\n",
    "- This suggests that the two models operate similarly, and the datasets share similar patterns.\n",
    "\n"
   ]
  },
  {
   "cell_type": "markdown",
   "id": "54798da4-7aef-46be-8f4d-c47b8cafeb5a",
   "metadata": {
    "id": "54798da4-7aef-46be-8f4d-c47b8cafeb5a",
    "tags": []
   },
   "source": [
    "### RandomForest"
   ]
  },
  {
   "cell_type": "markdown",
   "id": "eeeec381-bd2e-430f-bb6a-6c46f933bdc4",
   "metadata": {
    "id": "eeeec381-bd2e-430f-bb6a-6c46f933bdc4"
   },
   "source": [
    "Random forest is a machine learning algorithm that builds multiple decision trees and aggregates their predictions to enhance accuracy and mitigate overfitting. \n",
    "Key characteristics include:\n",
    "- random selection of samples and features for building each tree \n",
    "- ensemble training aimed at improving predictability; and\n",
    "- ability to process large-scale, high-dimensional datasets."
   ]
  },
  {
   "cell_type": "markdown",
   "id": "8b822501-ac06-416e-9d1e-4566044555d0",
   "metadata": {},
   "source": [
    "- Let’s now test the similarity between the original and synthetic data using the random forest algorithm. \n",
    "- First, import the 'RandomForestRegressor' class.\n"
   ]
  },
  {
   "cell_type": "code",
   "execution_count": 36,
   "id": "a104c6bb-b482-4bc6-8c96-75d35c8dd0bf",
   "metadata": {
    "executionInfo": {
     "elapsed": 2,
     "status": "ok",
     "timestamp": 1680598227091,
     "user": {
      "displayName": "김형준",
      "userId": "10277863568716562689"
     },
     "user_tz": -540
    },
    "id": "a104c6bb-b482-4bc6-8c96-75d35c8dd0bf"
   },
   "outputs": [],
   "source": [
    "from sklearn.ensemble import RandomForestRegressor"
   ]
  },
  {
   "cell_type": "markdown",
   "id": "fbcc2d6b-ad66-431a-8d4c-47a456b4b0e1",
   "metadata": {
    "id": "fbcc2d6b-ad66-431a-8d4c-47a456b4b0e1",
    "tags": []
   },
   "source": [
    "#### Original data (X_train, X_test, y_train, y_test)"
   ]
  },
  {
   "cell_type": "markdown",
   "id": "8cdc000b-6c9f-4a8f-883b-f15796a5529e",
   "metadata": {
    "id": "8cdc000b-6c9f-4a8f-883b-f15796a5529e",
    "jp-MarkdownHeadingCollapsed": true,
    "tags": []
   },
   "source": [
    "- Train a random forest regression model using the original data. "
   ]
  },
  {
   "cell_type": "code",
   "execution_count": 37,
   "id": "b75f3fdb-309d-4dc3-8078-7ba17a87a1b9",
   "metadata": {
    "executionInfo": {
     "elapsed": 3,
     "status": "ok",
     "timestamp": 1680598227092,
     "user": {
      "displayName": "김형준",
      "userId": "10277863568716562689"
     },
     "user_tz": -540
    },
    "id": "b75f3fdb-309d-4dc3-8078-7ba17a87a1b9"
   },
   "outputs": [],
   "source": [
    "rf = RandomForestRegressor(n_estimators=70, random_state=42)"
   ]
  },
  {
   "cell_type": "code",
   "execution_count": 38,
   "id": "e508e2f6-7b4d-4210-81b5-700b34a2f2b6",
   "metadata": {
    "colab": {
     "base_uri": "https://localhost:8080/",
     "height": 75
    },
    "executionInfo": {
     "elapsed": 30599,
     "status": "ok",
     "timestamp": 1680598257688,
     "user": {
      "displayName": "김형준",
      "userId": "10277863568716562689"
     },
     "user_tz": -540
    },
    "id": "e508e2f6-7b4d-4210-81b5-700b34a2f2b6",
    "outputId": "0466a218-2d6b-412f-b876-1135e4325ef4"
   },
   "outputs": [
    {
     "data": {
      "text/html": [
       "<style>#sk-container-id-3 {color: black;background-color: white;}#sk-container-id-3 pre{padding: 0;}#sk-container-id-3 div.sk-toggleable {background-color: white;}#sk-container-id-3 label.sk-toggleable__label {cursor: pointer;display: block;width: 100%;margin-bottom: 0;padding: 0.3em;box-sizing: border-box;text-align: center;}#sk-container-id-3 label.sk-toggleable__label-arrow:before {content: \"▸\";float: left;margin-right: 0.25em;color: #696969;}#sk-container-id-3 label.sk-toggleable__label-arrow:hover:before {color: black;}#sk-container-id-3 div.sk-estimator:hover label.sk-toggleable__label-arrow:before {color: black;}#sk-container-id-3 div.sk-toggleable__content {max-height: 0;max-width: 0;overflow: hidden;text-align: left;background-color: #f0f8ff;}#sk-container-id-3 div.sk-toggleable__content pre {margin: 0.2em;color: black;border-radius: 0.25em;background-color: #f0f8ff;}#sk-container-id-3 input.sk-toggleable__control:checked~div.sk-toggleable__content {max-height: 200px;max-width: 100%;overflow: auto;}#sk-container-id-3 input.sk-toggleable__control:checked~label.sk-toggleable__label-arrow:before {content: \"▾\";}#sk-container-id-3 div.sk-estimator input.sk-toggleable__control:checked~label.sk-toggleable__label {background-color: #d4ebff;}#sk-container-id-3 div.sk-label input.sk-toggleable__control:checked~label.sk-toggleable__label {background-color: #d4ebff;}#sk-container-id-3 input.sk-hidden--visually {border: 0;clip: rect(1px 1px 1px 1px);clip: rect(1px, 1px, 1px, 1px);height: 1px;margin: -1px;overflow: hidden;padding: 0;position: absolute;width: 1px;}#sk-container-id-3 div.sk-estimator {font-family: monospace;background-color: #f0f8ff;border: 1px dotted black;border-radius: 0.25em;box-sizing: border-box;margin-bottom: 0.5em;}#sk-container-id-3 div.sk-estimator:hover {background-color: #d4ebff;}#sk-container-id-3 div.sk-parallel-item::after {content: \"\";width: 100%;border-bottom: 1px solid gray;flex-grow: 1;}#sk-container-id-3 div.sk-label:hover label.sk-toggleable__label {background-color: #d4ebff;}#sk-container-id-3 div.sk-serial::before {content: \"\";position: absolute;border-left: 1px solid gray;box-sizing: border-box;top: 0;bottom: 0;left: 50%;z-index: 0;}#sk-container-id-3 div.sk-serial {display: flex;flex-direction: column;align-items: center;background-color: white;padding-right: 0.2em;padding-left: 0.2em;position: relative;}#sk-container-id-3 div.sk-item {position: relative;z-index: 1;}#sk-container-id-3 div.sk-parallel {display: flex;align-items: stretch;justify-content: center;background-color: white;position: relative;}#sk-container-id-3 div.sk-item::before, #sk-container-id-3 div.sk-parallel-item::before {content: \"\";position: absolute;border-left: 1px solid gray;box-sizing: border-box;top: 0;bottom: 0;left: 50%;z-index: -1;}#sk-container-id-3 div.sk-parallel-item {display: flex;flex-direction: column;z-index: 1;position: relative;background-color: white;}#sk-container-id-3 div.sk-parallel-item:first-child::after {align-self: flex-end;width: 50%;}#sk-container-id-3 div.sk-parallel-item:last-child::after {align-self: flex-start;width: 50%;}#sk-container-id-3 div.sk-parallel-item:only-child::after {width: 0;}#sk-container-id-3 div.sk-dashed-wrapped {border: 1px dashed gray;margin: 0 0.4em 0.5em 0.4em;box-sizing: border-box;padding-bottom: 0.4em;background-color: white;}#sk-container-id-3 div.sk-label label {font-family: monospace;font-weight: bold;display: inline-block;line-height: 1.2em;}#sk-container-id-3 div.sk-label-container {text-align: center;}#sk-container-id-3 div.sk-container {/* jupyter's `normalize.less` sets `[hidden] { display: none; }` but bootstrap.min.css set `[hidden] { display: none !important; }` so we also need the `!important` here to be able to override the default hidden behavior on the sphinx rendered scikit-learn.org. See: https://github.com/scikit-learn/scikit-learn/issues/21755 */display: inline-block !important;position: relative;}#sk-container-id-3 div.sk-text-repr-fallback {display: none;}</style><div id=\"sk-container-id-3\" class=\"sk-top-container\"><div class=\"sk-text-repr-fallback\"><pre>RandomForestRegressor(n_estimators=70, random_state=42)</pre><b>In a Jupyter environment, please rerun this cell to show the HTML representation or trust the notebook. <br />On GitHub, the HTML representation is unable to render, please try loading this page with nbviewer.org.</b></div><div class=\"sk-container\" hidden><div class=\"sk-item\"><div class=\"sk-estimator sk-toggleable\"><input class=\"sk-toggleable__control sk-hidden--visually\" id=\"sk-estimator-id-3\" type=\"checkbox\" checked><label for=\"sk-estimator-id-3\" class=\"sk-toggleable__label sk-toggleable__label-arrow\">RandomForestRegressor</label><div class=\"sk-toggleable__content\"><pre>RandomForestRegressor(n_estimators=70, random_state=42)</pre></div></div></div></div></div>"
      ],
      "text/plain": [
       "RandomForestRegressor(n_estimators=70, random_state=42)"
      ]
     },
     "execution_count": 38,
     "metadata": {},
     "output_type": "execute_result"
    }
   ],
   "source": [
    "rf.fit(X_train, y_train)"
   ]
  },
  {
   "cell_type": "markdown",
   "id": "829c16ed-afc5-4d72-8b34-301f8fa2361e",
   "metadata": {
    "id": "829c16ed-afc5-4d72-8b34-301f8fa2361e",
    "jp-MarkdownHeadingCollapsed": true,
    "tags": []
   },
   "source": [
    "- Calculate the predictions of the model on the test set of the original data. "
   ]
  },
  {
   "cell_type": "code",
   "execution_count": 39,
   "id": "62ae69e8-eae7-4597-91b2-435cb6620be8",
   "metadata": {
    "executionInfo": {
     "elapsed": 6,
     "status": "ok",
     "timestamp": 1680598257688,
     "user": {
      "displayName": "김형준",
      "userId": "10277863568716562689"
     },
     "user_tz": -540
    },
    "id": "62ae69e8-eae7-4597-91b2-435cb6620be8"
   },
   "outputs": [],
   "source": [
    "y_pred = rf.predict(X_test)"
   ]
  },
  {
   "cell_type": "code",
   "execution_count": 40,
   "id": "04a07399-3145-4ab5-bae1-17bbf9ee581d",
   "metadata": {
    "executionInfo": {
     "elapsed": 6,
     "status": "ok",
     "timestamp": 1680598257689,
     "user": {
      "displayName": "김형준",
      "userId": "10277863568716562689"
     },
     "user_tz": -540
    },
    "id": "04a07399-3145-4ab5-bae1-17bbf9ee581d",
    "tags": []
   },
   "outputs": [],
   "source": [
    "index = X_test.index.tolist()"
   ]
  },
  {
   "cell_type": "code",
   "execution_count": 41,
   "id": "4e72088f-9e9c-49ea-a90c-75ba23f88257",
   "metadata": {
    "executionInfo": {
     "elapsed": 6,
     "status": "ok",
     "timestamp": 1680598257689,
     "user": {
      "displayName": "김형준",
      "userId": "10277863568716562689"
     },
     "user_tz": -540
    },
    "id": "4e72088f-9e9c-49ea-a90c-75ba23f88257",
    "tags": []
   },
   "outputs": [],
   "source": [
    "df = pd.DataFrame({'index' : index ,'pred': y_pred})"
   ]
  },
  {
   "cell_type": "markdown",
   "id": "be2af327-74dc-497e-bb3a-071eedf733cd",
   "metadata": {
    "id": "be2af327-74dc-497e-bb3a-071eedf733cd"
   },
   "source": [
    "- Calculate the fraud detection rate of the model for declarations with the top 5% of predicted values."
   ]
  },
  {
   "cell_type": "code",
   "execution_count": 42,
   "id": "436fc04d-7d49-4113-aa62-ceb288c7aad2",
   "metadata": {
    "executionInfo": {
     "elapsed": 6,
     "status": "ok",
     "timestamp": 1680598257689,
     "user": {
      "displayName": "김형준",
      "userId": "10277863568716562689"
     },
     "user_tz": -540
    },
    "id": "436fc04d-7d49-4113-aa62-ceb288c7aad2"
   },
   "outputs": [],
   "source": [
    "base_5 = reg_top_5per(df,y_test)"
   ]
  },
  {
   "cell_type": "markdown",
   "id": "e146921f-a217-40e7-8082-0cf369a7e5e2",
   "metadata": {
    "id": "e146921f-a217-40e7-8082-0cf369a7e5e2"
   },
   "source": [
    "- Calculate the fraud detection rate of the model for declarations with the top 10% of predicted values."
   ]
  },
  {
   "cell_type": "code",
   "execution_count": 43,
   "id": "eb52dadc-f079-4411-bc09-8346181bcbd9",
   "metadata": {
    "executionInfo": {
     "elapsed": 6,
     "status": "ok",
     "timestamp": 1680598257690,
     "user": {
      "displayName": "김형준",
      "userId": "10277863568716562689"
     },
     "user_tz": -540
    },
    "id": "eb52dadc-f079-4411-bc09-8346181bcbd9"
   },
   "outputs": [],
   "source": [
    "base_10 = reg_top_10per(df,y_test)"
   ]
  },
  {
   "cell_type": "markdown",
   "id": "d27a7d5c-c382-4c28-b15e-a441481fdde2",
   "metadata": {
    "id": "d27a7d5c-c382-4c28-b15e-a441481fdde2",
    "tags": []
   },
   "source": [
    "#### Synthetic data (X_syn_train, X_syn_test, y_syn_train, y_syn_test)"
   ]
  },
  {
   "cell_type": "markdown",
   "id": "3641a779-f89c-4e43-9f6f-c4bb834030ff",
   "metadata": {
    "id": "3641a779-f89c-4e43-9f6f-c4bb834030ff",
    "jp-MarkdownHeadingCollapsed": true,
    "tags": []
   },
   "source": [
    "- Train a random forest regression model using the synthetic data. "
   ]
  },
  {
   "cell_type": "code",
   "execution_count": 44,
   "id": "276f6d2f-43a1-40af-80e3-18837ccc4f50",
   "metadata": {
    "executionInfo": {
     "elapsed": 6,
     "status": "ok",
     "timestamp": 1680598257690,
     "user": {
      "displayName": "김형준",
      "userId": "10277863568716562689"
     },
     "user_tz": -540
    },
    "id": "276f6d2f-43a1-40af-80e3-18837ccc4f50"
   },
   "outputs": [],
   "source": [
    "rf_syn = RandomForestRegressor(n_estimators=70, random_state=42)"
   ]
  },
  {
   "cell_type": "code",
   "execution_count": 45,
   "id": "e291cdaa-8a41-4d71-8a22-4e97f5ebff73",
   "metadata": {
    "colab": {
     "base_uri": "https://localhost:8080/",
     "height": 75
    },
    "executionInfo": {
     "elapsed": 835,
     "status": "ok",
     "timestamp": 1680598258520,
     "user": {
      "displayName": "김형준",
      "userId": "10277863568716562689"
     },
     "user_tz": -540
    },
    "id": "e291cdaa-8a41-4d71-8a22-4e97f5ebff73",
    "outputId": "89b765c5-2995-49f7-b558-1a203af125bb"
   },
   "outputs": [
    {
     "data": {
      "text/html": [
       "<style>#sk-container-id-4 {color: black;background-color: white;}#sk-container-id-4 pre{padding: 0;}#sk-container-id-4 div.sk-toggleable {background-color: white;}#sk-container-id-4 label.sk-toggleable__label {cursor: pointer;display: block;width: 100%;margin-bottom: 0;padding: 0.3em;box-sizing: border-box;text-align: center;}#sk-container-id-4 label.sk-toggleable__label-arrow:before {content: \"▸\";float: left;margin-right: 0.25em;color: #696969;}#sk-container-id-4 label.sk-toggleable__label-arrow:hover:before {color: black;}#sk-container-id-4 div.sk-estimator:hover label.sk-toggleable__label-arrow:before {color: black;}#sk-container-id-4 div.sk-toggleable__content {max-height: 0;max-width: 0;overflow: hidden;text-align: left;background-color: #f0f8ff;}#sk-container-id-4 div.sk-toggleable__content pre {margin: 0.2em;color: black;border-radius: 0.25em;background-color: #f0f8ff;}#sk-container-id-4 input.sk-toggleable__control:checked~div.sk-toggleable__content {max-height: 200px;max-width: 100%;overflow: auto;}#sk-container-id-4 input.sk-toggleable__control:checked~label.sk-toggleable__label-arrow:before {content: \"▾\";}#sk-container-id-4 div.sk-estimator input.sk-toggleable__control:checked~label.sk-toggleable__label {background-color: #d4ebff;}#sk-container-id-4 div.sk-label input.sk-toggleable__control:checked~label.sk-toggleable__label {background-color: #d4ebff;}#sk-container-id-4 input.sk-hidden--visually {border: 0;clip: rect(1px 1px 1px 1px);clip: rect(1px, 1px, 1px, 1px);height: 1px;margin: -1px;overflow: hidden;padding: 0;position: absolute;width: 1px;}#sk-container-id-4 div.sk-estimator {font-family: monospace;background-color: #f0f8ff;border: 1px dotted black;border-radius: 0.25em;box-sizing: border-box;margin-bottom: 0.5em;}#sk-container-id-4 div.sk-estimator:hover {background-color: #d4ebff;}#sk-container-id-4 div.sk-parallel-item::after {content: \"\";width: 100%;border-bottom: 1px solid gray;flex-grow: 1;}#sk-container-id-4 div.sk-label:hover label.sk-toggleable__label {background-color: #d4ebff;}#sk-container-id-4 div.sk-serial::before {content: \"\";position: absolute;border-left: 1px solid gray;box-sizing: border-box;top: 0;bottom: 0;left: 50%;z-index: 0;}#sk-container-id-4 div.sk-serial {display: flex;flex-direction: column;align-items: center;background-color: white;padding-right: 0.2em;padding-left: 0.2em;position: relative;}#sk-container-id-4 div.sk-item {position: relative;z-index: 1;}#sk-container-id-4 div.sk-parallel {display: flex;align-items: stretch;justify-content: center;background-color: white;position: relative;}#sk-container-id-4 div.sk-item::before, #sk-container-id-4 div.sk-parallel-item::before {content: \"\";position: absolute;border-left: 1px solid gray;box-sizing: border-box;top: 0;bottom: 0;left: 50%;z-index: -1;}#sk-container-id-4 div.sk-parallel-item {display: flex;flex-direction: column;z-index: 1;position: relative;background-color: white;}#sk-container-id-4 div.sk-parallel-item:first-child::after {align-self: flex-end;width: 50%;}#sk-container-id-4 div.sk-parallel-item:last-child::after {align-self: flex-start;width: 50%;}#sk-container-id-4 div.sk-parallel-item:only-child::after {width: 0;}#sk-container-id-4 div.sk-dashed-wrapped {border: 1px dashed gray;margin: 0 0.4em 0.5em 0.4em;box-sizing: border-box;padding-bottom: 0.4em;background-color: white;}#sk-container-id-4 div.sk-label label {font-family: monospace;font-weight: bold;display: inline-block;line-height: 1.2em;}#sk-container-id-4 div.sk-label-container {text-align: center;}#sk-container-id-4 div.sk-container {/* jupyter's `normalize.less` sets `[hidden] { display: none; }` but bootstrap.min.css set `[hidden] { display: none !important; }` so we also need the `!important` here to be able to override the default hidden behavior on the sphinx rendered scikit-learn.org. See: https://github.com/scikit-learn/scikit-learn/issues/21755 */display: inline-block !important;position: relative;}#sk-container-id-4 div.sk-text-repr-fallback {display: none;}</style><div id=\"sk-container-id-4\" class=\"sk-top-container\"><div class=\"sk-text-repr-fallback\"><pre>RandomForestRegressor(n_estimators=70, random_state=42)</pre><b>In a Jupyter environment, please rerun this cell to show the HTML representation or trust the notebook. <br />On GitHub, the HTML representation is unable to render, please try loading this page with nbviewer.org.</b></div><div class=\"sk-container\" hidden><div class=\"sk-item\"><div class=\"sk-estimator sk-toggleable\"><input class=\"sk-toggleable__control sk-hidden--visually\" id=\"sk-estimator-id-4\" type=\"checkbox\" checked><label for=\"sk-estimator-id-4\" class=\"sk-toggleable__label sk-toggleable__label-arrow\">RandomForestRegressor</label><div class=\"sk-toggleable__content\"><pre>RandomForestRegressor(n_estimators=70, random_state=42)</pre></div></div></div></div></div>"
      ],
      "text/plain": [
       "RandomForestRegressor(n_estimators=70, random_state=42)"
      ]
     },
     "execution_count": 45,
     "metadata": {},
     "output_type": "execute_result"
    }
   ],
   "source": [
    "rf_syn.fit(X_syn_train, y_syn_train)"
   ]
  },
  {
   "cell_type": "markdown",
   "id": "43c8d1b3-0a84-40e5-8e74-86de748b94f4",
   "metadata": {
    "id": "43c8d1b3-0a84-40e5-8e74-86de748b94f4",
    "tags": []
   },
   "source": [
    "- Calculate the predictions of the model on the test set of the synthetic data. "
   ]
  },
  {
   "cell_type": "code",
   "execution_count": 46,
   "id": "4399cb82-96e3-4f61-bab1-de66851d94a6",
   "metadata": {
    "executionInfo": {
     "elapsed": 9,
     "status": "ok",
     "timestamp": 1680598258520,
     "user": {
      "displayName": "김형준",
      "userId": "10277863568716562689"
     },
     "user_tz": -540
    },
    "id": "4399cb82-96e3-4f61-bab1-de66851d94a6"
   },
   "outputs": [],
   "source": [
    "y_syn_pred = rf_syn.predict(X_syn_test)"
   ]
  },
  {
   "cell_type": "code",
   "execution_count": 47,
   "id": "d05250b4-bd98-4725-9a28-fbacaff7ca26",
   "metadata": {
    "executionInfo": {
     "elapsed": 9,
     "status": "ok",
     "timestamp": 1680598258521,
     "user": {
      "displayName": "김형준",
      "userId": "10277863568716562689"
     },
     "user_tz": -540
    },
    "id": "d05250b4-bd98-4725-9a28-fbacaff7ca26",
    "tags": []
   },
   "outputs": [],
   "source": [
    "index = X_syn_test.index.tolist()"
   ]
  },
  {
   "cell_type": "code",
   "execution_count": 48,
   "id": "6658a205-f33c-4336-bc79-6783207ac3e9",
   "metadata": {
    "executionInfo": {
     "elapsed": 9,
     "status": "ok",
     "timestamp": 1680598258521,
     "user": {
      "displayName": "김형준",
      "userId": "10277863568716562689"
     },
     "user_tz": -540
    },
    "id": "6658a205-f33c-4336-bc79-6783207ac3e9",
    "tags": []
   },
   "outputs": [],
   "source": [
    "df = pd.DataFrame({'index' : index ,'pred': y_syn_pred})"
   ]
  },
  {
   "cell_type": "markdown",
   "id": "7dee82b2-a46b-48b5-9f72-ab85476303c5",
   "metadata": {
    "id": "7dee82b2-a46b-48b5-9f72-ab85476303c5"
   },
   "source": [
    "- Calculate the fraud detection rate of the model for declarations with the top 5% of predicted values."
   ]
  },
  {
   "cell_type": "code",
   "execution_count": 49,
   "id": "69cd99cc-001f-419e-a0d2-db63085219da",
   "metadata": {
    "executionInfo": {
     "elapsed": 8,
     "status": "ok",
     "timestamp": 1680598258521,
     "user": {
      "displayName": "김형준",
      "userId": "10277863568716562689"
     },
     "user_tz": -540
    },
    "id": "69cd99cc-001f-419e-a0d2-db63085219da"
   },
   "outputs": [],
   "source": [
    "syn_5 = reg_top_5per(df,y_syn_test)"
   ]
  },
  {
   "cell_type": "markdown",
   "id": "83072e0a-22f7-4005-836c-7491e5c478e0",
   "metadata": {
    "id": "83072e0a-22f7-4005-836c-7491e5c478e0"
   },
   "source": [
    "- Calculate the fraud detection rate of the model for declarations with the top 10% of predicted values."
   ]
  },
  {
   "cell_type": "code",
   "execution_count": 50,
   "id": "fa972642-400b-49de-be81-60f2b1aa391c",
   "metadata": {
    "executionInfo": {
     "elapsed": 8,
     "status": "ok",
     "timestamp": 1680598258521,
     "user": {
      "displayName": "김형준",
      "userId": "10277863568716562689"
     },
     "user_tz": -540
    },
    "id": "fa972642-400b-49de-be81-60f2b1aa391c",
    "tags": []
   },
   "outputs": [],
   "source": [
    "syn_10 = reg_top_10per(df,y_syn_test)"
   ]
  },
  {
   "cell_type": "markdown",
   "id": "74e5fc3c-6882-47af-8bad-3d7b9ebee11b",
   "metadata": {
    "id": "74e5fc3c-6882-47af-8bad-3d7b9ebee11b",
    "tags": []
   },
   "source": [
    "#### Detection rate summary"
   ]
  },
  {
   "cell_type": "markdown",
   "id": "vOcocrKUWLaP",
   "metadata": {
    "id": "vOcocrKUWLaP"
   },
   "source": [
    "- Let’s compare the detection rates of the two models respectively trained on original and synthetic data. To facilitate the comparison, we will put detection rates in a single dataframe. "
   ]
  },
  {
   "cell_type": "code",
   "execution_count": 51,
   "id": "598a99f3-b794-4d08-b034-9d92850f2cd6",
   "metadata": {
    "executionInfo": {
     "elapsed": 9,
     "status": "ok",
     "timestamp": 1680598258522,
     "user": {
      "displayName": "김형준",
      "userId": "10277863568716562689"
     },
     "user_tz": -540
    },
    "id": "598a99f3-b794-4d08-b034-9d92850f2cd6"
   },
   "outputs": [],
   "source": [
    "df_result_rf = pd.DataFrame({'category': 'RandomForestRegressor','base_5' : base_5, 'base_10': base_10,'syn_5': syn_5,'syn_10': syn_10})"
   ]
  },
  {
   "cell_type": "code",
   "execution_count": 52,
   "id": "dfcbeb9f-b218-45ed-8eab-5ec36c79d0a9",
   "metadata": {
    "colab": {
     "base_uri": "https://localhost:8080/",
     "height": 81
    },
    "executionInfo": {
     "elapsed": 9,
     "status": "ok",
     "timestamp": 1680598258522,
     "user": {
      "displayName": "김형준",
      "userId": "10277863568716562689"
     },
     "user_tz": -540
    },
    "id": "dfcbeb9f-b218-45ed-8eab-5ec36c79d0a9",
    "outputId": "ed07daa0-f1ab-492c-e51c-70618d165a83"
   },
   "outputs": [
    {
     "data": {
      "text/html": [
       "<div>\n",
       "<style scoped>\n",
       "    .dataframe tbody tr th:only-of-type {\n",
       "        vertical-align: middle;\n",
       "    }\n",
       "\n",
       "    .dataframe tbody tr th {\n",
       "        vertical-align: top;\n",
       "    }\n",
       "\n",
       "    .dataframe thead th {\n",
       "        text-align: right;\n",
       "    }\n",
       "</style>\n",
       "<table border=\"1\" class=\"dataframe\">\n",
       "  <thead>\n",
       "    <tr style=\"text-align: right;\">\n",
       "      <th></th>\n",
       "      <th>category</th>\n",
       "      <th>base_5</th>\n",
       "      <th>base_10</th>\n",
       "      <th>syn_5</th>\n",
       "      <th>syn_10</th>\n",
       "    </tr>\n",
       "  </thead>\n",
       "  <tbody>\n",
       "    <tr>\n",
       "      <th>crime_yn</th>\n",
       "      <td>RandomForestRegressor</td>\n",
       "      <td>0.937618</td>\n",
       "      <td>0.871747</td>\n",
       "      <td>0.875</td>\n",
       "      <td>0.75</td>\n",
       "    </tr>\n",
       "  </tbody>\n",
       "</table>\n",
       "</div>"
      ],
      "text/plain": [
       "                       category    base_5   base_10  syn_5  syn_10\n",
       "crime_yn  RandomForestRegressor  0.937618  0.871747  0.875  0.75  "
      ]
     },
     "execution_count": 52,
     "metadata": {},
     "output_type": "execute_result"
    }
   ],
   "source": [
    "df_result_rf"
   ]
  },
  {
   "cell_type": "markdown",
   "id": "36b321c6-9401-4c76-9e3d-7ce0866d4673",
   "metadata": {},
   "source": [
    "- It is evident that the synthetic data also works well with the Random Forest algorithm.\n",
    "- As with the linear regression model, both models exhibit comparable detection rates, with a decrease observed in both when moving from the 5% to the 10% prediction group."
   ]
  },
  {
   "cell_type": "markdown",
   "id": "46800ae8-23f3-498c-9dda-3aa3480a2dde",
   "metadata": {
    "id": "46800ae8-23f3-498c-9dda-3aa3480a2dde",
    "tags": []
   },
   "source": [
    "### XGBoost"
   ]
  },
  {
   "cell_type": "markdown",
   "id": "2863a556-cd0d-4253-b198-66431d690275",
   "metadata": {
    "id": "2863a556-cd0d-4253-b198-66431d690275"
   },
   "source": [
    "The final algorithm is XGBoost, a powerful machine learning algorithm designed to improve gradient boosting algorithm’s performance. \n",
    "Key features of XGBoost include:\n",
    "- parallel processing and hardware optimization for rapid, efficient model training; \n",
    "- prevention of overfitting and improvement of generalization through normalization; and \n",
    "- support for handling missing values and feature selection. "
   ]
  },
  {
   "cell_type": "markdown",
   "id": "0ff872df-ca70-433e-bedd-ec440c642a90",
   "metadata": {},
   "source": [
    "- Let's proceed by importing the XGBoost library. "
   ]
  },
  {
   "cell_type": "code",
   "execution_count": 53,
   "id": "c1e44c89-854e-4fb9-9d23-5004b122967a",
   "metadata": {
    "executionInfo": {
     "elapsed": 9,
     "status": "ok",
     "timestamp": 1680598258523,
     "user": {
      "displayName": "김형준",
      "userId": "10277863568716562689"
     },
     "user_tz": -540
    },
    "id": "c1e44c89-854e-4fb9-9d23-5004b122967a"
   },
   "outputs": [],
   "source": [
    "import xgboost as xgb"
   ]
  },
  {
   "cell_type": "markdown",
   "id": "4e925aa5-f515-4a0c-af2d-8ad5b61e82a9",
   "metadata": {
    "id": "4e925aa5-f515-4a0c-af2d-8ad5b61e82a9",
    "tags": []
   },
   "source": [
    "#### Original data (X_train, X_test, y_train, y_test)"
   ]
  },
  {
   "cell_type": "markdown",
   "id": "2e407891-0b31-4f94-a77a-bb990518855d",
   "metadata": {
    "id": "2e407891-0b31-4f94-a77a-bb990518855d",
    "jp-MarkdownHeadingCollapsed": true,
    "tags": []
   },
   "source": [
    "- Let’s train an XGBoost regression model using the original data.\n",
    "- Unlike other models, in XGBoost, it is essential to input the training and test sets in DMatrix type supported by the XGB library. \n",
    "- Additionally, you can adjust parameter values to define the optimal training condition. \n",
    "- Train the model by inputting the set parameters, training dataset, and the number of boosting rounds.\n",
    "\n"
   ]
  },
  {
   "cell_type": "code",
   "execution_count": 54,
   "id": "9a9c410a-a3c3-40ed-8374-6d1b1b02dae4",
   "metadata": {
    "executionInfo": {
     "elapsed": 974,
     "status": "ok",
     "timestamp": 1680598259489,
     "user": {
      "displayName": "김형준",
      "userId": "10277863568716562689"
     },
     "user_tz": -540
    },
    "id": "9a9c410a-a3c3-40ed-8374-6d1b1b02dae4"
   },
   "outputs": [],
   "source": [
    "# Create DMatrix for training and test setsdtrain = xgb.DMatrix(X_train, label=y_train)\n",
    "dtest = xgb.DMatrix(X_test, label=y_test)"
   ]
  },
  {
   "cell_type": "code",
   "execution_count": 55,
   "id": "45eed8a1-17ea-438b-8574-caf61f78edb7",
   "metadata": {
    "executionInfo": {
     "elapsed": 2,
     "status": "ok",
     "timestamp": 1680598259489,
     "user": {
      "displayName": "김형준",
      "userId": "10277863568716562689"
     },
     "user_tz": -540
    },
    "id": "45eed8a1-17ea-438b-8574-caf61f78edb7"
   },
   "outputs": [],
   "source": [
    "# Define parameters\n",
    "params = {\n",
    "    \"max_depth\": 2,\n",
    "    \"eta\": 0.1,\n",
    "    \"subsample\": 0.5,\n",
    "    \"colsample_bytree\": 0.5,\n",
    "    \"objective\": \"reg:squarederror\",\n",
    "    \"eval_metric\": \"rmse\",\n",
    "}\n",
    "# Number of boosting rounds\n",
    "num_round = 100"
   ]
  },
  {
   "cell_type": "code",
   "execution_count": 56,
   "id": "9313ab37-3c80-4fb7-9f16-d9593f6845ac",
   "metadata": {
    "executionInfo": {
     "elapsed": 290,
     "status": "ok",
     "timestamp": 1680598259778,
     "user": {
      "displayName": "김형준",
      "userId": "10277863568716562689"
     },
     "user_tz": -540
    },
    "id": "9313ab37-3c80-4fb7-9f16-d9593f6845ac"
   },
   "outputs": [],
   "source": [
    "# Train XGBoost model\n",
    "xgb_model = xgb.train(params, dtrain, num_round)"
   ]
  },
  {
   "cell_type": "markdown",
   "id": "87ac3839-973a-4802-b26f-4bcf25cc24ec",
   "metadata": {
    "id": "87ac3839-973a-4802-b26f-4bcf25cc24ec",
    "jp-MarkdownHeadingCollapsed": true,
    "tags": []
   },
   "source": [
    "- Calculate the predictions of the model on the test set of the original data. "
   ]
  },
  {
   "cell_type": "code",
   "execution_count": 57,
   "id": "a559ae4b-3fef-4234-9336-96d7b6ce614d",
   "metadata": {
    "executionInfo": {
     "elapsed": 6,
     "status": "ok",
     "timestamp": 1680598259778,
     "user": {
      "displayName": "김형준",
      "userId": "10277863568716562689"
     },
     "user_tz": -540
    },
    "id": "a559ae4b-3fef-4234-9336-96d7b6ce614d"
   },
   "outputs": [],
   "source": [
    "y_pred = xgb_model.predict(dtest)"
   ]
  },
  {
   "cell_type": "code",
   "execution_count": 58,
   "id": "e434ba83-9de5-43a6-bb1b-144ad7bca9a0",
   "metadata": {
    "executionInfo": {
     "elapsed": 7,
     "status": "ok",
     "timestamp": 1680598259779,
     "user": {
      "displayName": "김형준",
      "userId": "10277863568716562689"
     },
     "user_tz": -540
    },
    "id": "e434ba83-9de5-43a6-bb1b-144ad7bca9a0",
    "tags": []
   },
   "outputs": [],
   "source": [
    "index = X_test.index.tolist()"
   ]
  },
  {
   "cell_type": "code",
   "execution_count": 59,
   "id": "3a309b52-c9cc-45d2-be40-23ac673317f3",
   "metadata": {
    "executionInfo": {
     "elapsed": 6,
     "status": "ok",
     "timestamp": 1680598259779,
     "user": {
      "displayName": "김형준",
      "userId": "10277863568716562689"
     },
     "user_tz": -540
    },
    "id": "3a309b52-c9cc-45d2-be40-23ac673317f3",
    "tags": []
   },
   "outputs": [],
   "source": [
    "df = pd.DataFrame({'index' : index ,'pred': y_pred})"
   ]
  },
  {
   "cell_type": "markdown",
   "id": "f0d75e76-7c6e-4a5c-9d18-960c5b97485c",
   "metadata": {
    "id": "f0d75e76-7c6e-4a5c-9d18-960c5b97485c"
   },
   "source": [
    "- Calculate the fraud detection rate of the model for declarations with the top 5% of predicted values."
   ]
  },
  {
   "cell_type": "code",
   "execution_count": 60,
   "id": "dab86c7b-6faf-4a10-b71b-c9d473014325",
   "metadata": {
    "executionInfo": {
     "elapsed": 6,
     "status": "ok",
     "timestamp": 1680598259779,
     "user": {
      "displayName": "김형준",
      "userId": "10277863568716562689"
     },
     "user_tz": -540
    },
    "id": "dab86c7b-6faf-4a10-b71b-c9d473014325"
   },
   "outputs": [],
   "source": [
    "base_5 = reg_top_5per(df,y_test)"
   ]
  },
  {
   "cell_type": "markdown",
   "id": "f620eac3-505c-4745-9001-9616f9dd8912",
   "metadata": {
    "id": "f620eac3-505c-4745-9001-9616f9dd8912"
   },
   "source": [
    "- Calculate the fraud detection rate of the model for declarations with the top 10% of predicted values."
   ]
  },
  {
   "cell_type": "code",
   "execution_count": 61,
   "id": "f5837978-6e7e-4873-82d5-ab38f2e978e9",
   "metadata": {
    "executionInfo": {
     "elapsed": 6,
     "status": "ok",
     "timestamp": 1680598259779,
     "user": {
      "displayName": "김형준",
      "userId": "10277863568716562689"
     },
     "user_tz": -540
    },
    "id": "f5837978-6e7e-4873-82d5-ab38f2e978e9"
   },
   "outputs": [],
   "source": [
    "base_10 = reg_top_10per(df,y_test)"
   ]
  },
  {
   "cell_type": "markdown",
   "id": "ee5cffe0-353e-468b-8c7b-366f6346e05c",
   "metadata": {
    "id": "ee5cffe0-353e-468b-8c7b-366f6346e05c",
    "tags": []
   },
   "source": [
    "#### Synthetic data (X_syn_train, X_syn_test, y_syn_train, y_syn_test)"
   ]
  },
  {
   "cell_type": "markdown",
   "id": "f259f524-afe0-447d-8bb5-aeff602b6f50",
   "metadata": {
    "id": "f259f524-afe0-447d-8bb5-aeff602b6f50"
   },
   "source": [
    "- Train a random forest regression model using the synthetic data. "
   ]
  },
  {
   "cell_type": "code",
   "execution_count": 62,
   "id": "97e2c252-aa99-4d83-97f8-7eaa2fd791a0",
   "metadata": {
    "executionInfo": {
     "elapsed": 7,
     "status": "ok",
     "timestamp": 1680598259780,
     "user": {
      "displayName": "김형준",
      "userId": "10277863568716562689"
     },
     "user_tz": -540
    },
    "id": "97e2c252-aa99-4d83-97f8-7eaa2fd791a0"
   },
   "outputs": [],
   "source": [
    "dtrain_syn = xgb.DMatrix(X_syn_train, label=y_syn_train)\n",
    "dtest_syn = xgb.DMatrix(X_syn_test, label=y_syn_test)"
   ]
  },
  {
   "cell_type": "code",
   "execution_count": 63,
   "id": "146e88c6-a16c-4d9f-8c41-67a38ad5cdc7",
   "metadata": {
    "executionInfo": {
     "elapsed": 6,
     "status": "ok",
     "timestamp": 1680598259780,
     "user": {
      "displayName": "김형준",
      "userId": "10277863568716562689"
     },
     "user_tz": -540
    },
    "id": "146e88c6-a16c-4d9f-8c41-67a38ad5cdc7"
   },
   "outputs": [],
   "source": [
    "params = {\n",
    "    \"max_depth\": 2,\n",
    "    \"eta\": 0.1,\n",
    "    \"subsample\": 0.5,\n",
    "    \"colsample_bytree\": 0.5,\n",
    "    \"objective\": \"reg:squarederror\",\n",
    "    \"eval_metric\": \"rmse\",\n",
    "}\n",
    "num_round = 100"
   ]
  },
  {
   "cell_type": "code",
   "execution_count": 64,
   "id": "b2a104c0-8914-46d1-8bf1-1edbb706dcea",
   "metadata": {
    "executionInfo": {
     "elapsed": 6,
     "status": "ok",
     "timestamp": 1680598259780,
     "user": {
      "displayName": "김형준",
      "userId": "10277863568716562689"
     },
     "user_tz": -540
    },
    "id": "b2a104c0-8914-46d1-8bf1-1edbb706dcea"
   },
   "outputs": [],
   "source": [
    "xgb_model_syn = xgb.train(params, dtrain_syn, num_round)"
   ]
  },
  {
   "cell_type": "markdown",
   "id": "fb75d0e0-3567-43b3-8d14-a425bef55014",
   "metadata": {
    "id": "fb75d0e0-3567-43b3-8d14-a425bef55014",
    "tags": []
   },
   "source": [
    "- Calculate the predictions of the model on the test set of the synthetic data. "
   ]
  },
  {
   "cell_type": "code",
   "execution_count": 65,
   "id": "9855aeb5-6b1c-484d-ba18-1dade42b0e0e",
   "metadata": {
    "executionInfo": {
     "elapsed": 6,
     "status": "ok",
     "timestamp": 1680598259780,
     "user": {
      "displayName": "김형준",
      "userId": "10277863568716562689"
     },
     "user_tz": -540
    },
    "id": "9855aeb5-6b1c-484d-ba18-1dade42b0e0e"
   },
   "outputs": [],
   "source": [
    "y_syn_pred = xgb_model_syn.predict(dtest_syn)"
   ]
  },
  {
   "cell_type": "code",
   "execution_count": 66,
   "id": "3a412152-9828-4387-8dba-d1dc1ba06dc6",
   "metadata": {
    "executionInfo": {
     "elapsed": 7,
     "status": "ok",
     "timestamp": 1680598259781,
     "user": {
      "displayName": "김형준",
      "userId": "10277863568716562689"
     },
     "user_tz": -540
    },
    "id": "3a412152-9828-4387-8dba-d1dc1ba06dc6",
    "tags": []
   },
   "outputs": [],
   "source": [
    "index = X_syn_test.index.tolist()"
   ]
  },
  {
   "cell_type": "code",
   "execution_count": 67,
   "id": "92295972-8062-4c21-a27c-044e6ce2cd9c",
   "metadata": {
    "executionInfo": {
     "elapsed": 270,
     "status": "ok",
     "timestamp": 1680598260045,
     "user": {
      "displayName": "김형준",
      "userId": "10277863568716562689"
     },
     "user_tz": -540
    },
    "id": "92295972-8062-4c21-a27c-044e6ce2cd9c",
    "tags": []
   },
   "outputs": [],
   "source": [
    "df = pd.DataFrame({'index' : index ,'pred': y_syn_pred})"
   ]
  },
  {
   "cell_type": "markdown",
   "id": "8209c28a-25f9-4dca-9456-cdae9f72f17e",
   "metadata": {
    "id": "8209c28a-25f9-4dca-9456-cdae9f72f17e"
   },
   "source": [
    "- Calculate the fraud detection rate of the model for declarations with the top 5% of predicted values."
   ]
  },
  {
   "cell_type": "code",
   "execution_count": 68,
   "id": "b1e6797b-c339-443b-8f15-3f0f5b122c18",
   "metadata": {
    "executionInfo": {
     "elapsed": 270,
     "status": "ok",
     "timestamp": 1680598260045,
     "user": {
      "displayName": "김형준",
      "userId": "10277863568716562689"
     },
     "user_tz": -540
    },
    "id": "b1e6797b-c339-443b-8f15-3f0f5b122c18"
   },
   "outputs": [],
   "source": [
    "syn_5 = reg_top_5per(df,y_syn_test)"
   ]
  },
  {
   "cell_type": "markdown",
   "id": "ebbc1164-4e70-4a09-b701-040de522da71",
   "metadata": {
    "id": "ebbc1164-4e70-4a09-b701-040de522da71"
   },
   "source": [
    "- Calculate the fraud detection rate of the model for declarations with the top 10% of predicted values."
   ]
  },
  {
   "cell_type": "code",
   "execution_count": 69,
   "id": "da7d144b-cef5-42b0-8654-e9123cce0208",
   "metadata": {
    "executionInfo": {
     "elapsed": 9,
     "status": "ok",
     "timestamp": 1680598260045,
     "user": {
      "displayName": "김형준",
      "userId": "10277863568716562689"
     },
     "user_tz": -540
    },
    "id": "da7d144b-cef5-42b0-8654-e9123cce0208",
    "tags": []
   },
   "outputs": [],
   "source": [
    "syn_10 = reg_top_10per(df,y_syn_test)"
   ]
  },
  {
   "cell_type": "markdown",
   "id": "326e742f-fccb-4a25-8092-f5068dc2b780",
   "metadata": {
    "id": "326e742f-fccb-4a25-8092-f5068dc2b780",
    "tags": []
   },
   "source": [
    "#### Detection rate summary"
   ]
  },
  {
   "cell_type": "markdown",
   "id": "4d39aa52-5fee-49d0-b627-36eff245e85a",
   "metadata": {},
   "source": [
    "- Let’s compare the detection rates of the two models respectively trained on original and synthetic data. To facilitate the comparison, we will put detection rates in a single dataframe. "
   ]
  },
  {
   "cell_type": "code",
   "execution_count": 70,
   "id": "77260034-21e4-4f4d-8219-db97e7a86da5",
   "metadata": {
    "executionInfo": {
     "elapsed": 10,
     "status": "ok",
     "timestamp": 1680598260046,
     "user": {
      "displayName": "김형준",
      "userId": "10277863568716562689"
     },
     "user_tz": -540
    },
    "id": "77260034-21e4-4f4d-8219-db97e7a86da5"
   },
   "outputs": [],
   "source": [
    "df_result_xgb = pd.DataFrame({'category': 'xgboost','base_5' : base_5, 'base_10': base_10,'syn_5': syn_5,'syn_10': syn_10})"
   ]
  },
  {
   "cell_type": "code",
   "execution_count": 71,
   "id": "669b7450-58f7-48a4-adc4-51018fe42c1e",
   "metadata": {
    "colab": {
     "base_uri": "https://localhost:8080/",
     "height": 81
    },
    "executionInfo": {
     "elapsed": 9,
     "status": "ok",
     "timestamp": 1680598260046,
     "user": {
      "displayName": "김형준",
      "userId": "10277863568716562689"
     },
     "user_tz": -540
    },
    "id": "669b7450-58f7-48a4-adc4-51018fe42c1e",
    "outputId": "13896353-b552-49a5-df4d-a1d444dd7c5c"
   },
   "outputs": [
    {
     "data": {
      "text/html": [
       "<div>\n",
       "<style scoped>\n",
       "    .dataframe tbody tr th:only-of-type {\n",
       "        vertical-align: middle;\n",
       "    }\n",
       "\n",
       "    .dataframe tbody tr th {\n",
       "        vertical-align: top;\n",
       "    }\n",
       "\n",
       "    .dataframe thead th {\n",
       "        text-align: right;\n",
       "    }\n",
       "</style>\n",
       "<table border=\"1\" class=\"dataframe\">\n",
       "  <thead>\n",
       "    <tr style=\"text-align: right;\">\n",
       "      <th></th>\n",
       "      <th>category</th>\n",
       "      <th>base_5</th>\n",
       "      <th>base_10</th>\n",
       "      <th>syn_5</th>\n",
       "      <th>syn_10</th>\n",
       "    </tr>\n",
       "  </thead>\n",
       "  <tbody>\n",
       "    <tr>\n",
       "      <th>crime_yn</th>\n",
       "      <td>xgboost</td>\n",
       "      <td>0.437037</td>\n",
       "      <td>0.375</td>\n",
       "      <td>0.625</td>\n",
       "      <td>0.46875</td>\n",
       "    </tr>\n",
       "  </tbody>\n",
       "</table>\n",
       "</div>"
      ],
      "text/plain": [
       "         category    base_5  base_10  syn_5   syn_10\n",
       "crime_yn  xgboost  0.437037  0.375    0.625  0.46875"
      ]
     },
     "execution_count": 71,
     "metadata": {},
     "output_type": "execute_result"
    }
   ],
   "source": [
    "df_result_xgb"
   ]
  },
  {
   "cell_type": "markdown",
   "id": "LxQlFl3RXD8H",
   "metadata": {
    "id": "LxQlFl3RXD8H"
   },
   "source": [
    "- Similar to the preceding two models, a decline in detection rates in both models is observed when moving from the 5% to the 10% prediction group."
   ]
  },
  {
   "cell_type": "markdown",
   "id": "8ee84321-f619-4ab1-a10b-f24972684e1b",
   "metadata": {
    "id": "8ee84321-f619-4ab1-a10b-f24972684e1b"
   },
   "source": [
    "## Detection Rate Summary for Each Model"
   ]
  },
  {
   "cell_type": "markdown",
   "id": "6c8ed2f4-a2ff-42ad-a353-850fb109a841",
   "metadata": {
    "id": "6c8ed2f4-a2ff-42ad-a353-850fb109a841"
   },
   "source": [
    "- Let’s summarize the analysis by concatenating the detection rates of six models. "
   ]
  },
  {
   "cell_type": "code",
   "execution_count": 72,
   "id": "a5027324-4345-4704-8c62-74ec0decfa58",
   "metadata": {
    "executionInfo": {
     "elapsed": 8,
     "status": "ok",
     "timestamp": 1680598260046,
     "user": {
      "displayName": "김형준",
      "userId": "10277863568716562689"
     },
     "user_tz": -540
    },
    "id": "a5027324-4345-4704-8c62-74ec0decfa58"
   },
   "outputs": [],
   "source": [
    "total_result = pd.concat([df_result_lr, df_result_rf, df_result_xgb])"
   ]
  },
  {
   "cell_type": "code",
   "execution_count": 73,
   "id": "d5171186-2623-4ac7-810a-1853183d9104",
   "metadata": {
    "executionInfo": {
     "elapsed": 9,
     "status": "ok",
     "timestamp": 1680598260047,
     "user": {
      "displayName": "김형준",
      "userId": "10277863568716562689"
     },
     "user_tz": -540
    },
    "id": "d5171186-2623-4ac7-810a-1853183d9104"
   },
   "outputs": [],
   "source": [
    "total_result = total_result.reset_index(drop=True)"
   ]
  },
  {
   "cell_type": "code",
   "execution_count": 74,
   "id": "889008fa-7764-4a63-89a1-f0b5cd9cf422",
   "metadata": {
    "colab": {
     "base_uri": "https://localhost:8080/",
     "height": 143
    },
    "executionInfo": {
     "elapsed": 9,
     "status": "ok",
     "timestamp": 1680598260047,
     "user": {
      "displayName": "김형준",
      "userId": "10277863568716562689"
     },
     "user_tz": -540
    },
    "id": "889008fa-7764-4a63-89a1-f0b5cd9cf422",
    "outputId": "696daa8e-cb6b-4fe0-f35a-8e8b4f14a2d4"
   },
   "outputs": [
    {
     "data": {
      "text/html": [
       "<div>\n",
       "<style scoped>\n",
       "    .dataframe tbody tr th:only-of-type {\n",
       "        vertical-align: middle;\n",
       "    }\n",
       "\n",
       "    .dataframe tbody tr th {\n",
       "        vertical-align: top;\n",
       "    }\n",
       "\n",
       "    .dataframe thead th {\n",
       "        text-align: right;\n",
       "    }\n",
       "</style>\n",
       "<table border=\"1\" class=\"dataframe\">\n",
       "  <thead>\n",
       "    <tr style=\"text-align: right;\">\n",
       "      <th></th>\n",
       "      <th>category</th>\n",
       "      <th>base_5</th>\n",
       "      <th>base_10</th>\n",
       "      <th>syn_5</th>\n",
       "      <th>syn_10</th>\n",
       "    </tr>\n",
       "  </thead>\n",
       "  <tbody>\n",
       "    <tr>\n",
       "      <th>0</th>\n",
       "      <td>LinearRegression</td>\n",
       "      <td>0.353704</td>\n",
       "      <td>0.311111</td>\n",
       "      <td>0.375</td>\n",
       "      <td>0.28125</td>\n",
       "    </tr>\n",
       "    <tr>\n",
       "      <th>1</th>\n",
       "      <td>RandomForestRegressor</td>\n",
       "      <td>0.937618</td>\n",
       "      <td>0.871747</td>\n",
       "      <td>0.875</td>\n",
       "      <td>0.75000</td>\n",
       "    </tr>\n",
       "    <tr>\n",
       "      <th>2</th>\n",
       "      <td>xgboost</td>\n",
       "      <td>0.437037</td>\n",
       "      <td>0.375000</td>\n",
       "      <td>0.625</td>\n",
       "      <td>0.46875</td>\n",
       "    </tr>\n",
       "  </tbody>\n",
       "</table>\n",
       "</div>"
      ],
      "text/plain": [
       "                category    base_5   base_10  syn_5   syn_10\n",
       "0  LinearRegression       0.353704  0.311111  0.375  0.28125\n",
       "1  RandomForestRegressor  0.937618  0.871747  0.875  0.75000\n",
       "2  xgboost                0.437037  0.375000  0.625  0.46875"
      ]
     },
     "execution_count": 74,
     "metadata": {},
     "output_type": "execute_result"
    }
   ],
   "source": [
    "total_result"
   ]
  },
  {
   "cell_type": "markdown",
   "id": "ab6c1a7f",
   "metadata": {},
   "source": [
    "- Across all three algorithms, there was a consistent decrease in detection rates from the 5% group to the 10% group for models trained on original and synthetic data. \n",
    "- This means that when you train a model with synthetic data, you can expect a result showing similar trends as what can be obtained with original data. \n",
    "- The analysis methods and results presented in this lesson only serve as an example. The statistical properties of synthetic data generated by CTGAN may vary based on parameters like the size of extracted data or the size of generated data. \n",
    "- Hence, it is crucial to identify suitable algorithms and parameters for evaluating generated synthetic data in every project."
   ]
  }
 ],
 "metadata": {
  "colab": {
   "provenance": [],
   "toc_visible": true
  },
  "kernelspec": {
   "display_name": "Python 3 (ipykernel)",
   "language": "python",
   "name": "python3"
  },
  "language_info": {
   "codemirror_mode": {
    "name": "ipython",
    "version": 3
   },
   "file_extension": ".py",
   "mimetype": "text/x-python",
   "name": "python",
   "nbconvert_exporter": "python",
   "pygments_lexer": "ipython3",
   "version": "3.9.13"
  }
 },
 "nbformat": 4,
 "nbformat_minor": 5
}
