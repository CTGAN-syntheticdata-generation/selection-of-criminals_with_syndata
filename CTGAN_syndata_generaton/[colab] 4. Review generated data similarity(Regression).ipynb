{
 "cells": [
  {
   "cell_type": "markdown",
   "id": "4b89332a-f3dd-4bac-a1a4-28892cea5b92",
   "metadata": {},
   "source": [
    "# 4. Review generated data similarity(Regression)"
   ]
  },
  {
   "cell_type": "markdown",
   "id": "d7da02a3-ca72-4a33-a375-05e8cf624fc6",
   "metadata": {
    "tags": []
   },
   "source": [
    "## 라이브러리 불러오기"
   ]
  },
  {
   "cell_type": "code",
   "execution_count": 1,
   "id": "533b72ac-3121-413d-8689-82819812cc7f",
   "metadata": {},
   "outputs": [],
   "source": [
    "import pandas as pd\n",
    "import copy\n",
    "import numpy as np\n",
    "from sklearn.model_selection import train_test_split\n",
    "from sklearn.preprocessing import LabelEncoder\n",
    "\n",
    "import numpy as np\n",
    "import seaborn as sns\n",
    "from matplotlib import pyplot as plt "
   ]
  },
  {
   "cell_type": "code",
   "execution_count": 2,
   "id": "37a9f6d0-73ee-469f-b964-3b2b9bf106e0",
   "metadata": {},
   "outputs": [],
   "source": [
    "import copy\n",
    "import time\n",
    "\n",
    "import warnings\n",
    "warnings.filterwarnings(\"ignore\")"
   ]
  },
  {
   "cell_type": "code",
   "execution_count": 3,
   "id": "68ae4128-2f45-4775-9dbf-0a1196efde01",
   "metadata": {},
   "outputs": [
    {
     "data": {
      "text/html": [
       "<style>.container { width:100% !important; }</style>"
      ],
      "text/plain": [
       "<IPython.core.display.HTML object>"
      ]
     },
     "metadata": {},
     "output_type": "display_data"
    },
    {
     "name": "stdout",
     "output_type": "stream",
     "text": [
      "ready to run\n"
     ]
    }
   ],
   "source": [
    "#Jupiter Cell Full Screen View\n",
    "from IPython.core.display import display, HTML\n",
    "display(HTML(\"<style>.container { width:100% !important; }</style>\"))\n",
    "# useful for debuging (print the results of both formulas and functions entered in one cell of Jupiter)\n",
    "#from IPython.core.interactiveshell import InteractiveShell\n",
    "#InteractiveShell.ast_node_interactivity = \"all\"\n",
    "# Each column width at maximum (print all column contents)\n",
    "pd.set_option('display.max_colwidth', -1)\n",
    "# Show up to 500 rows\n",
    "pd.set_option('display.max_rows', 500)\n",
    "# Display up to 500 columns\n",
    "pd.set_option('display.max_columns', 500)\n",
    "# Total length of data frame\n",
    "pd.set_option('display.width', 1000)\n",
    "\n",
    "print('ready to run')\n",
    "# logging starttime \n",
    "startTime = time.time()"
   ]
  },
  {
   "cell_type": "markdown",
   "id": "5c06dab4-bc2b-4b3f-a1d6-8a3ae949ef23",
   "metadata": {},
   "source": [
    "## 함수선언하기"
   ]
  },
  {
   "cell_type": "markdown",
   "id": "2f5e45ee-7829-4a1e-aa2b-cce873082a86",
   "metadata": {},
   "source": [
    "여러 알고리즘을 통해 모델을 학습하는 일은 반복작업이 많기 때문에 함수를 선언하여 활용합니다. \n",
    "\n",
    "이번 실습에서는 2개의 데이터를 각각 3가지의 모델로 학습하여 더 잦은 반복이 필요하기 때문에 함수를 통해 코드의 가독성을 높였습니다. "
   ]
  },
  {
   "cell_type": "markdown",
   "id": "3bdbb440-b632-43ef-ba6e-1da47033c280",
   "metadata": {},
   "source": [
    "### 변수 선언하기\n",
    "- 전처리에 활용되는 변수를 선언합니다. \n",
    "- 카테고리 타입과 수치형 타입의 칼럼을 분리합니다. "
   ]
  },
  {
   "cell_type": "code",
   "execution_count": 4,
   "id": "943f3fef-4768-4e91-8815-a2a3e0451ea6",
   "metadata": {},
   "outputs": [],
   "source": [
    "category_cols = ['dec_num','dec_custom_code','imp_dec_code','imp_trd_code','imp_typ_code',\\\n",
    "                 'collect_code','typ_transport_code','dec_mark','importer','ovs_cust_code',\\\n",
    "                 'exps_carr_code','HS10','country_ship_code','country_orig_code','trff_class_code',\\\n",
    "                 'country_orig_mark_code','crime_yn','key_exposure']"
   ]
  },
  {
   "cell_type": "code",
   "execution_count": 5,
   "id": "a53cf07c-981f-4673-9b13-65a47fbf4ee8",
   "metadata": {},
   "outputs": [],
   "source": [
    "number_cols = ['trff_rate','dec_weight','taxabal_price_KRW']"
   ]
  },
  {
   "cell_type": "markdown",
   "id": "a9e4e6ed-a5df-4e61-aabb-a670fa61e4de",
   "metadata": {},
   "source": [
    "### 최소최대 정규화 함수"
   ]
  },
  {
   "cell_type": "code",
   "execution_count": null,
   "id": "f432a550-521e-4902-bd60-2778ec7eb85a",
   "metadata": {},
   "outputs": [],
   "source": [
    "#최소 최대 정규화 식을 포함한 함수\n",
    "def normalize(column):\n",
    "    return (column - column.min())/(column.max() - column.min())"
   ]
  },
  {
   "cell_type": "markdown",
   "id": "c0652507-e5c3-42be-81d2-13a1202c9d23",
   "metadata": {},
   "source": [
    "### 데이터 전처리를 위한 함수"
   ]
  },
  {
   "cell_type": "code",
   "execution_count": 7,
   "id": "aeed1239-9bd8-4de9-b7e3-7835fd8bbb3b",
   "metadata": {},
   "outputs": [],
   "source": [
    "def df_preprocessing(df):\n",
    "    #데이터를 안정적으로 활용하기 위해 복사하여 활용\n",
    "    copy_df = copy.deepcopy(df)\n",
    "\n",
    "    #데이터 타입별로 데이터를 분리하여 작업하기 위한 준비\n",
    "    copy_df_category = copy_df[category_cols]\n",
    "    copy_df_number = copy_df[number_cols]\n",
    "    \n",
    "    #인코딩 객체를 불러옵니다. \n",
    "    encoder = LabelEncoder()\n",
    "\n",
    "    #카테고리 타입의 데이터를 가진 데이터프레임을 인코딩합니다.\n",
    "    for column_name,item in copy_df_category.iteritems(): \n",
    "        encoder.fit(item)\n",
    "        labels = encoder.transform(item)\n",
    "        copy_df_category[column_name] = labels\n",
    "        \n",
    "    #수치형 타입의 데이터를 가진 데이터프레임을 최소-최대 정규화합니다.\n",
    "    copy_df_number_norm = copy_df_number.apply(normalize)\n",
    "    \n",
    "    #두가지 데이터를 각각 출력합니다.\n",
    "    return copy_df_category, copy_df_number_norm"
   ]
  },
  {
   "cell_type": "markdown",
   "id": "49f31a4c-bad8-4218-9dd0-6ed3e49f88b1",
   "metadata": {},
   "source": [
    "### 데이터를 훈련데이터와 테스트 데이터로 분리하는 함수"
   ]
  },
  {
   "cell_type": "markdown",
   "id": "7f21adaa-b0bd-4d9e-bc89-d818e2b39341",
   "metadata": {},
   "source": [
    "- 사이킷런에 포함된 전처리 함수인 train_test_split 를 활용합니다. \n",
    "- 타겟항목은 'crime_yn'으로 범죄 유무를 뜻합니다. \n",
    "- 학습항목 중 'key_exposure'은 타깃 'crime_yn'과 너무 높은 상관관계가 있어 다른 칼럼들이 활용되지 못하게 합니다. \n",
    "- 따라서 학습항목에서 타겟항목 'crime_yn'과 'key_expousre'은 배제합니다. \n",
    "- 마지막으로 훈련용 데이터와 테스트 데이터의 사이즈를 각각 8:2로 분리합니다. "
   ]
  },
  {
   "cell_type": "code",
   "execution_count": 12,
   "id": "be7000ff-237f-42d9-85cc-57f07839608c",
   "metadata": {},
   "outputs": [],
   "source": [
    "# 훈련데이터셋과 테스트데이터셋을 분리합니다. \n",
    "def df_splist(df):\n",
    "\n",
    "    #타겟을 설정합니다.\n",
    "    y = df['crime_yn']\n",
    "    #타겟 데이터와 지나치게 관련성이 높은 데이터를 삭제합니다. \n",
    "    X = df.drop(columns=['crime_yn','key_exposure'])\n",
    "    #데이터를 분리합니다. \n",
    "    X_train, X_test, y_train, y_test = train_test_split(X, y, test_size=0.2, random_state=42)\n",
    "    \n",
    "    return X_train, X_test, y_train, y_test"
   ]
  },
  {
   "cell_type": "markdown",
   "id": "40b60c89-6e22-4652-996a-207b7660488b",
   "metadata": {},
   "source": [
    "### 원본 데이터에서 상위 5% 회귀값을 가진 그룹에서의 우범률을 구하는 함수"
   ]
  },
  {
   "cell_type": "code",
   "execution_count": 8,
   "id": "a462622f-2de2-4c7c-89d3-7d19cb300f23",
   "metadata": {},
   "outputs": [],
   "source": [
    "def reg_top_5per(df):\n",
    "    \n",
    "    #상위 5%에 해당하는 데이터값을 조건식을 통해 추려내서 result 변수에 삽입\n",
    "    top_5percent = df['pred'].quantile(0.95)\n",
    "    result = df[df['pred'] > top_5percent]\n",
    "    #타겟값에서 상위 5%에 해당하는 인덱스를 가진 값만 뽑아서 y_test_top5 변수에 삽입\n",
    "    y_test_top5 = y_test[y_test.index.isin(result['index'])]\n",
    "    #빠른 연산을 위해 'crime_yn'칼럼으로 y_test_top 값을 가진 데이터프레임 생성\n",
    "    y_test_top5_df = pd.DataFrame({'crime_yn' :y_test_top5})\n",
    "    # crime_yn ==1 인 변수의 갯수/전체 변수의 갯수를 구하여 우범률을 계산함\n",
    "    base_5 = y_test_top5_df[y_test_top5_df['crime_yn']==1].count() / y_test_top5_df.count()\n",
    "    \n",
    "    return base_5"
   ]
  },
  {
   "cell_type": "markdown",
   "id": "90ed7fd5-6118-485f-8a0d-d9bd6381c884",
   "metadata": {},
   "source": [
    "### 원본 데이터에서 상위 10% 회귀값을 가진 그룹에서의 우범률을 구하는 함수"
   ]
  },
  {
   "cell_type": "code",
   "execution_count": 9,
   "id": "4a3945dc-5e0f-422a-ad8c-6cc9a751ec00",
   "metadata": {},
   "outputs": [],
   "source": [
    "def reg_syn_top_5per(df):\n",
    "    \n",
    "    #상위 5%에 해당하는 데이터값을 조건식을 통해 추려내서 result 변수에 삽입\n",
    "    top_5percent = df['pred'].quantile(0.95)\n",
    "    result = df[df['pred'] > top_5percent]\n",
    "    #타겟값에서 상위 5%에 해당하는 인덱스를 가진 값만 뽑아서 y_test_top5 변수에 삽입\n",
    "    y_syn_test_top5 = y_syn_test[y_syn_test.index.isin(result['index'])]\n",
    "    #빠른 연산을 위해 'crime_yn'칼럼으로 y_test_top 값을 가진 데이터프레임 생성\n",
    "    y_syn_test_top5_df = pd.DataFrame({'crime_yn' :y_syn_test_top5})\n",
    "    # crime_yn ==1 인 변수의 갯수/전체 변수의 갯수를 구하여 우범률을 계산함\n",
    "    base_5 = y_syn_test_top5_df[y_syn_test_top5_df['crime_yn']==1].count() / y_syn_test_top5_df.count()\n",
    "    \n",
    "    return base_5"
   ]
  },
  {
   "cell_type": "markdown",
   "id": "a1c42d48-4341-486a-b14c-c300e09c19ba",
   "metadata": {},
   "source": [
    "### 합성 데이터에서 상위 5% 회귀값을 가진 그룹에서의 우범률을 구하는 함수"
   ]
  },
  {
   "cell_type": "code",
   "execution_count": 10,
   "id": "b225b7cd-0cef-41ec-a580-6b6b4afdd4c6",
   "metadata": {},
   "outputs": [],
   "source": [
    "def reg_top_10per(df):\n",
    "    \n",
    "    #상위 10%에 해당하는 데이터값을 조건식을 통해 추려내서 result 변수에 삽입\n",
    "    top_10percent = df['pred'].quantile(0.90)\n",
    "    result = df[df['pred'] > top_10percent]\n",
    "    #타겟값에서 상위 10%에 해당하는 인덱스를 가진 값만 뽑아서 y_test_top10 변수에 삽입\n",
    "    y_test_top10 = y_test[y_test.index.isin(result['index'])]\n",
    "    #빠른 연산을 위해 'crime_yn'칼럼으로 y_test_top 값을 가진 데이터프레임 생성\n",
    "    y_test_top10_df = pd.DataFrame({'crime_yn' :y_test_top10})\n",
    "    # crime_yn ==1 인 변수의 갯수/전체 변수의 갯수를 구하여 우범률을 계산함\n",
    "    base_10 = y_test_top10_df[y_test_top10_df['crime_yn']==1].count() / y_test_top10_df.count()\n",
    "    \n",
    "    return base_10"
   ]
  },
  {
   "cell_type": "markdown",
   "id": "57faf939-1fdd-445e-bc92-2412cc40e54b",
   "metadata": {},
   "source": [
    "### 합성 데이터에서 상위 10% 회귀값을 가진 그룹에서의 우범률을 구하는 함수"
   ]
  },
  {
   "cell_type": "code",
   "execution_count": 11,
   "id": "698cee66-093e-4609-8ec5-289419d286cb",
   "metadata": {},
   "outputs": [],
   "source": [
    "def reg_syn_top_10per(df):\n",
    "    \n",
    "    #상위 10%에 해당하는 데이터값을 조건식을 통해 추려내서 result 변수에 삽입\n",
    "    top_10percent = df['pred'].quantile(0.90)\n",
    "    result = df[df['pred'] > top_10percent]\n",
    "    #타겟값에서 상위 10%에 해당하는 인덱스를 가진 값만 뽑아서 y_test_top10 변수에 삽입\n",
    "    y_syn_test_top10 = y_syn_test[y_syn_test.index.isin(result['index'])]\n",
    "    #빠른 연산을 위해 'crime_yn'칼럼으로 y_test_top 값을 가진 데이터프레임 생성\n",
    "    y_syn_test_top10_df = pd.DataFrame({'crime_yn' :y_syn_test_top10})\n",
    "    # crime_yn ==1 인 변수의 갯수/전체 변수의 갯수를 구하여 우범률을 계산함\n",
    "    base_10 = y_syn_test_top10_df[y_syn_test_top10_df['crime_yn']==1].count() / y_syn_test_top10_df.count()\n",
    "    \n",
    "    return base_10"
   ]
  },
  {
   "cell_type": "markdown",
   "id": "0f32c257-cce4-455a-b92b-9d2572a16cfe",
   "metadata": {
    "tags": []
   },
   "source": [
    "## 데이터 불러오기 / 데이터 전처리하기"
   ]
  },
  {
   "cell_type": "markdown",
   "id": "82c4ca7e-8223-409e-ac9f-c1c35340c65d",
   "metadata": {},
   "source": [
    "인공지능 모델을 훈련하기 위해서는 일반적으로 훈련세트와 테스트세트로 데이터를 나눕니다.(8:2 비율로)\n",
    "\n",
    "그리고 하나의 세트는 학습용 데이터와 타겟 데이터로 구성되어 있습니다. \n",
    "따라서 우리가 하나의 모델을 훈련시키기 위해서는 4가지의 데이터프레임이 필요합니다. \n",
    "\n",
    "또한, \n",
    "이번 실습에서는 학습 시킬 데이터가 원본데이터와 합성데이터로 2가지 이기 때문에 총 8개의 데이터 프레임이 생성될 것입니다. \n",
    "- 원본데이터 (X_train, X_test, y_train, y_test) -> 4가지 데이터 프레임 \n",
    "- 합성데이터 (X_syn_train, X_syn_test, y_syn_train, y_syn_test) -> 4가지 데이터 프레임 "
   ]
  },
  {
   "cell_type": "markdown",
   "id": "23514163-79c8-486c-8e49-138abdc94480",
   "metadata": {
    "tags": []
   },
   "source": [
    "### 원본 데이터"
   ]
  },
  {
   "cell_type": "markdown",
   "id": "b09a0740-15f2-43f6-b3a9-6ccc26877f58",
   "metadata": {},
   "source": [
    "- 원본 데이터를 불러와서 전처리 및 훈련세트와 테스트세트로 분리합니다."
   ]
  },
  {
   "cell_type": "code",
   "execution_count": 13,
   "id": "0feddd48-56b1-4fce-af28-6ba4555a5334",
   "metadata": {},
   "outputs": [],
   "source": [
    "df_base = pd.read_csv('df_syn_en.csv', encoding='utf-8-sig') #새로운 가상데이터"
   ]
  },
  {
   "cell_type": "markdown",
   "id": "161944c0-0d32-42ad-bdee-c3211a4c16c2",
   "metadata": {},
   "source": [
    "불러온 데이터를 복사하여 작업을 진행합니다."
   ]
  },
  {
   "cell_type": "code",
   "execution_count": 14,
   "id": "bb44aa73-6b18-41c3-9aa3-8e362078e304",
   "metadata": {},
   "outputs": [],
   "source": [
    "copy_base = copy.deepcopy(df_base)"
   ]
  },
  {
   "cell_type": "markdown",
   "id": "075536ff-932e-45b1-8b8d-dfd86bdfcc59",
   "metadata": {},
   "source": [
    "- 전처리 함수를 활용해 혼재된 데이터들을 분리 및 전처리를 실행합니다."
   ]
  },
  {
   "cell_type": "code",
   "execution_count": 15,
   "id": "cddb8232-9af6-4efe-90ff-fec7be9e5ea9",
   "metadata": {},
   "outputs": [],
   "source": [
    "copy_base_category, copy_base_number_norm = df_preprocessing(copy_base)"
   ]
  },
  {
   "cell_type": "markdown",
   "id": "29fd5462-1352-4d6d-8738-9a3f8cb57920",
   "metadata": {},
   "source": [
    "#### 데이터 결합"
   ]
  },
  {
   "cell_type": "markdown",
   "id": "415a10b9-be56-4fc1-8d23-0802eed75baf",
   "metadata": {},
   "source": [
    "- 전처리가 종료된 데이터를 다시 하나의 테이블로 결합합니다."
   ]
  },
  {
   "cell_type": "code",
   "execution_count": 16,
   "id": "27828aa8-1878-4f12-b105-2f603f62ad94",
   "metadata": {},
   "outputs": [],
   "source": [
    "copy_base_total = pd.concat([copy_base_category,copy_base_number_norm], axis=1)"
   ]
  },
  {
   "cell_type": "markdown",
   "id": "9a7864a6-a714-4640-9892-d41b4e5c6739",
   "metadata": {},
   "source": [
    "#### 훈련데이터, 테스트 데이터 분리"
   ]
  },
  {
   "cell_type": "code",
   "execution_count": 17,
   "id": "54740373-4206-44ef-8c4a-db50eb994029",
   "metadata": {},
   "outputs": [],
   "source": [
    "X_train, X_test, y_train, y_test = df_splist(copy_base_total)"
   ]
  },
  {
   "cell_type": "markdown",
   "id": "07fd7012-f1fa-45af-a3d3-8a21fe62c236",
   "metadata": {
    "tags": []
   },
   "source": [
    "### 합성 데이터"
   ]
  },
  {
   "cell_type": "markdown",
   "id": "46644e80-0521-43e3-afd3-038a44d505fd",
   "metadata": {},
   "source": [
    "- 앞서 원본 데이터에서 진행한 데이터 전처리 및 훈련세트와 테스트세트로 분리하는 작업을 반복합니다."
   ]
  },
  {
   "cell_type": "code",
   "execution_count": 18,
   "id": "1059b400-34ce-4a29-a12a-93239053ecfc",
   "metadata": {},
   "outputs": [],
   "source": [
    "df_syn = pd.read_csv('./data_sample/df_syn_en_17.csv', encoding='utf-8-sig') #새로운 가상데이터"
   ]
  },
  {
   "cell_type": "markdown",
   "id": "c898a12d-bf54-49c0-b2a7-ba68f6c1a031",
   "metadata": {},
   "source": [
    "불러온 데이터를 복사하여 작업을 진행합니다."
   ]
  },
  {
   "cell_type": "code",
   "execution_count": 19,
   "id": "c1e2cb33-f04e-4c04-b70d-2fecae8a77a9",
   "metadata": {},
   "outputs": [],
   "source": [
    "copy_syn = copy.deepcopy(df_syn)"
   ]
  },
  {
   "cell_type": "code",
   "execution_count": 20,
   "id": "04c5ac02-a7a8-4eee-aee5-03b7711dbb3a",
   "metadata": {},
   "outputs": [],
   "source": [
    "copy_syn_category, copy_syn_number_norm = df_preprocessing(copy_syn)"
   ]
  },
  {
   "cell_type": "markdown",
   "id": "e4cdd0fc-28bc-4c81-9843-cc773724c379",
   "metadata": {},
   "source": [
    "#### 데이터 결합"
   ]
  },
  {
   "cell_type": "markdown",
   "id": "7712a36e-0ffc-48c0-ae19-f83c3dfacacc",
   "metadata": {},
   "source": [
    "- 전처리가 종료된 데이터를 다시 하나의 테이블로 결합합니다."
   ]
  },
  {
   "cell_type": "code",
   "execution_count": 21,
   "id": "c5f67b8d-1911-4d36-861f-5af2d12d2adc",
   "metadata": {},
   "outputs": [],
   "source": [
    "copy_syn_total = pd.concat([copy_syn_category,copy_syn_number_norm], axis=1)"
   ]
  },
  {
   "cell_type": "markdown",
   "id": "a79a0388-3735-49c0-bccc-ecdad76c2da4",
   "metadata": {},
   "source": [
    "#### 훈련데이터, 테스트 데이터 분리"
   ]
  },
  {
   "cell_type": "code",
   "execution_count": 22,
   "id": "7b9eb55f-d1ee-45d8-a47d-653c8f6979e1",
   "metadata": {},
   "outputs": [],
   "source": [
    "X_syn_train, X_syn_test, y_syn_train, y_syn_test = df_splist(copy_syn_total)"
   ]
  },
  {
   "cell_type": "markdown",
   "id": "3a422f7a-b066-48e0-bbed-8761152c2805",
   "metadata": {
    "tags": []
   },
   "source": [
    "## 분석하기"
   ]
  },
  {
   "cell_type": "markdown",
   "id": "4ce79955-41e4-48af-b369-9070769f9158",
   "metadata": {
    "tags": []
   },
   "source": [
    "- 모델 평가하기\n",
    "\n",
    "모델은 각 자료에 대한 우범 가능성을 0~1 사이의 값으로 도출하며 \n",
    "\n",
    "상위 5%, 10%의 물품에 대한 우범률(적발률)을 평가지표로 활용하였습니다.\n",
    "\n",
    "해당 평가지표는 원본데이터와 얼마나 유사한 우범률을 갖고 있는지와 \n",
    "\n",
    "상위 5% 집단의 우범률과 10% 집단의 우범률의 차이를 비교하여 두 데이터셋이 얼마나 유사한 통계적 특징들이 있는지 알아보기 위해 활용되었습니다."
   ]
  },
  {
   "cell_type": "markdown",
   "id": "aed7f4cf-0d7a-4231-9628-1a64899a4102",
   "metadata": {
    "tags": []
   },
   "source": [
    "### 선형 회귀분석"
   ]
  },
  {
   "cell_type": "markdown",
   "id": "34ee91ef-efdd-4e86-9f49-18842dfdae2d",
   "metadata": {},
   "source": [
    "- 선형 회귀는 종속 변수와 하나 이상의 독립 변수 간의 관계를 모델링하는 데 사용되는 통계적 방법입니다. \n",
    "- 변수 간의 선형 관계를 가정하고 최소 제곱 방법을 사용하여 회귀 매개변수를 추정합니다. \n",
    "- 선형 회귀는 다양한 분야에서 예측 및 추론에 널리 사용되지만 가정과 한계를 신중하게 고려해야 하는 특징이 있습니다. "
   ]
  },
  {
   "cell_type": "code",
   "execution_count": 23,
   "id": "8b82971f-0ecd-435d-99f9-afb3c5d24760",
   "metadata": {},
   "outputs": [],
   "source": [
    "from sklearn.linear_model import LinearRegression"
   ]
  },
  {
   "cell_type": "markdown",
   "id": "6661becc-b2e3-4d6a-9982-78d8918c5d88",
   "metadata": {
    "tags": []
   },
   "source": [
    "#### 원본데이터 (X_train, X_test, y_train, y_test)"
   ]
  },
  {
   "cell_type": "markdown",
   "id": "37b2aa7f-5f67-477c-8528-caf93d93bd23",
   "metadata": {
    "jp-MarkdownHeadingCollapsed": true,
    "tags": []
   },
   "source": [
    "- 원본데이터 회귀모델 학습 "
   ]
  },
  {
   "cell_type": "code",
   "execution_count": 24,
   "id": "1e774912-d3cb-4255-8356-1982f974b9d1",
   "metadata": {
    "tags": []
   },
   "outputs": [
    {
     "data": {
      "text/html": [
       "<style>#sk-container-id-1 {color: black;background-color: white;}#sk-container-id-1 pre{padding: 0;}#sk-container-id-1 div.sk-toggleable {background-color: white;}#sk-container-id-1 label.sk-toggleable__label {cursor: pointer;display: block;width: 100%;margin-bottom: 0;padding: 0.3em;box-sizing: border-box;text-align: center;}#sk-container-id-1 label.sk-toggleable__label-arrow:before {content: \"▸\";float: left;margin-right: 0.25em;color: #696969;}#sk-container-id-1 label.sk-toggleable__label-arrow:hover:before {color: black;}#sk-container-id-1 div.sk-estimator:hover label.sk-toggleable__label-arrow:before {color: black;}#sk-container-id-1 div.sk-toggleable__content {max-height: 0;max-width: 0;overflow: hidden;text-align: left;background-color: #f0f8ff;}#sk-container-id-1 div.sk-toggleable__content pre {margin: 0.2em;color: black;border-radius: 0.25em;background-color: #f0f8ff;}#sk-container-id-1 input.sk-toggleable__control:checked~div.sk-toggleable__content {max-height: 200px;max-width: 100%;overflow: auto;}#sk-container-id-1 input.sk-toggleable__control:checked~label.sk-toggleable__label-arrow:before {content: \"▾\";}#sk-container-id-1 div.sk-estimator input.sk-toggleable__control:checked~label.sk-toggleable__label {background-color: #d4ebff;}#sk-container-id-1 div.sk-label input.sk-toggleable__control:checked~label.sk-toggleable__label {background-color: #d4ebff;}#sk-container-id-1 input.sk-hidden--visually {border: 0;clip: rect(1px 1px 1px 1px);clip: rect(1px, 1px, 1px, 1px);height: 1px;margin: -1px;overflow: hidden;padding: 0;position: absolute;width: 1px;}#sk-container-id-1 div.sk-estimator {font-family: monospace;background-color: #f0f8ff;border: 1px dotted black;border-radius: 0.25em;box-sizing: border-box;margin-bottom: 0.5em;}#sk-container-id-1 div.sk-estimator:hover {background-color: #d4ebff;}#sk-container-id-1 div.sk-parallel-item::after {content: \"\";width: 100%;border-bottom: 1px solid gray;flex-grow: 1;}#sk-container-id-1 div.sk-label:hover label.sk-toggleable__label {background-color: #d4ebff;}#sk-container-id-1 div.sk-serial::before {content: \"\";position: absolute;border-left: 1px solid gray;box-sizing: border-box;top: 0;bottom: 0;left: 50%;z-index: 0;}#sk-container-id-1 div.sk-serial {display: flex;flex-direction: column;align-items: center;background-color: white;padding-right: 0.2em;padding-left: 0.2em;position: relative;}#sk-container-id-1 div.sk-item {position: relative;z-index: 1;}#sk-container-id-1 div.sk-parallel {display: flex;align-items: stretch;justify-content: center;background-color: white;position: relative;}#sk-container-id-1 div.sk-item::before, #sk-container-id-1 div.sk-parallel-item::before {content: \"\";position: absolute;border-left: 1px solid gray;box-sizing: border-box;top: 0;bottom: 0;left: 50%;z-index: -1;}#sk-container-id-1 div.sk-parallel-item {display: flex;flex-direction: column;z-index: 1;position: relative;background-color: white;}#sk-container-id-1 div.sk-parallel-item:first-child::after {align-self: flex-end;width: 50%;}#sk-container-id-1 div.sk-parallel-item:last-child::after {align-self: flex-start;width: 50%;}#sk-container-id-1 div.sk-parallel-item:only-child::after {width: 0;}#sk-container-id-1 div.sk-dashed-wrapped {border: 1px dashed gray;margin: 0 0.4em 0.5em 0.4em;box-sizing: border-box;padding-bottom: 0.4em;background-color: white;}#sk-container-id-1 div.sk-label label {font-family: monospace;font-weight: bold;display: inline-block;line-height: 1.2em;}#sk-container-id-1 div.sk-label-container {text-align: center;}#sk-container-id-1 div.sk-container {/* jupyter's `normalize.less` sets `[hidden] { display: none; }` but bootstrap.min.css set `[hidden] { display: none !important; }` so we also need the `!important` here to be able to override the default hidden behavior on the sphinx rendered scikit-learn.org. See: https://github.com/scikit-learn/scikit-learn/issues/21755 */display: inline-block !important;position: relative;}#sk-container-id-1 div.sk-text-repr-fallback {display: none;}</style><div id=\"sk-container-id-1\" class=\"sk-top-container\"><div class=\"sk-text-repr-fallback\"><pre>LinearRegression()</pre><b>In a Jupyter environment, please rerun this cell to show the HTML representation or trust the notebook. <br />On GitHub, the HTML representation is unable to render, please try loading this page with nbviewer.org.</b></div><div class=\"sk-container\" hidden><div class=\"sk-item\"><div class=\"sk-estimator sk-toggleable\"><input class=\"sk-toggleable__control sk-hidden--visually\" id=\"sk-estimator-id-1\" type=\"checkbox\" checked><label for=\"sk-estimator-id-1\" class=\"sk-toggleable__label sk-toggleable__label-arrow\">LinearRegression</label><div class=\"sk-toggleable__content\"><pre>LinearRegression()</pre></div></div></div></div></div>"
      ],
      "text/plain": [
       "LinearRegression()"
      ]
     },
     "execution_count": 24,
     "metadata": {},
     "output_type": "execute_result"
    }
   ],
   "source": [
    "lr = LinearRegression()\n",
    "lr.fit(X_train, y_train)"
   ]
  },
  {
   "cell_type": "markdown",
   "id": "b22123b8-b867-4f6c-a873-a95e460f3437",
   "metadata": {},
   "source": [
    " R<sup>2</sup>\n",
    "- 회귀의  R<sup>2</sup> 스코어를 구하는 방법 입니다. \n",
    "- 0에 가까울 수록 x,y 간에 선형관계가 존재하지 않는 것을 의미합니다. \n",
    "- 해당 데이터는 독립변수와 종속변수의 선형 관계가 미약함을 확인할 수 있습니다."
   ]
  },
  {
   "cell_type": "code",
   "execution_count": 25,
   "id": "ff5d572a-1298-4b62-81cf-b40c72290e47",
   "metadata": {},
   "outputs": [
    {
     "name": "stdout",
     "output_type": "stream",
     "text": [
      "Model score: 0.009805086199265345\n"
     ]
    }
   ],
   "source": [
    "score = lr.score(X_test, y_test)\n",
    "print(\"Model score:\", score)"
   ]
  },
  {
   "cell_type": "markdown",
   "id": "1bb5f4fe-62dd-42b4-a139-f23248d10161",
   "metadata": {
    "tags": []
   },
   "source": [
    "- 원본데이터 예측값\n",
    "\n",
    "합성데이터를 통해 학습한 모델에 테스트 데이터를 입력하여 예상되는 회귀값을 출력합니다. \n",
    "\n",
    "모델은 각 자료에 대한 우범 가능성을 0~1 사이의 값으로 도출하며 \n",
    "\n",
    "상위 5%, 10%의 물품에 대한 우범률(적발률)을 평가지표로 활용하였습니다."
   ]
  },
  {
   "cell_type": "code",
   "execution_count": 26,
   "id": "f160df75-7d18-40e4-9803-7a2868cf82db",
   "metadata": {},
   "outputs": [],
   "source": [
    "y_pred = lr.predict(X_test)\n",
    "index = X_test.index.tolist()\n",
    "df = pd.DataFrame({'index' : index ,'pred': y_pred})"
   ]
  },
  {
   "cell_type": "markdown",
   "id": "bb506120-f749-4b08-b3ad-de5696a733b0",
   "metadata": {},
   "source": [
    "원본데이터 우범 회귀 예측값 상위 5%의 우범률\n",
    "- 예측값 중 상위 5%에 해당하는 데이터만 뽑아 우범여부를 판단합니다. "
   ]
  },
  {
   "cell_type": "code",
   "execution_count": 27,
   "id": "14d13bc4-bdc9-40d3-93e9-7a3d79cd5d3f",
   "metadata": {},
   "outputs": [],
   "source": [
    "base_5 = reg_top_5per(df)"
   ]
  },
  {
   "cell_type": "markdown",
   "id": "bd73cc04-99fc-41ac-a61b-324fb81868a1",
   "metadata": {},
   "source": [
    " 원본데이터 우범 회귀 예측값 상위 10%의 우범률\n",
    "- 예측값 중 상위 10%에 해당하는 데이터만 뽑아 우범여부를 판단합니다. "
   ]
  },
  {
   "cell_type": "code",
   "execution_count": 28,
   "id": "40c35527-e44f-426f-b271-bf02c6eaad26",
   "metadata": {},
   "outputs": [],
   "source": [
    "base_10 = reg_top_10per(df)"
   ]
  },
  {
   "cell_type": "markdown",
   "id": "3ef414b1-b925-446f-a1bb-b19fa4a8a8c1",
   "metadata": {
    "tags": []
   },
   "source": [
    "#### 합성데이터 (X_syn_train, X_syn_test, y_syn_train, y_syn_test)"
   ]
  },
  {
   "cell_type": "markdown",
   "id": "bdd1242a-427f-4f5d-b29b-f8d93ec53bc4",
   "metadata": {
    "tags": []
   },
   "source": [
    "- 합성데이터 회귀모델 학습 "
   ]
  },
  {
   "cell_type": "code",
   "execution_count": 29,
   "id": "66ff0172-af4d-4875-ab71-5175b6d2d0fa",
   "metadata": {
    "tags": []
   },
   "outputs": [
    {
     "data": {
      "text/html": [
       "<style>#sk-container-id-2 {color: black;background-color: white;}#sk-container-id-2 pre{padding: 0;}#sk-container-id-2 div.sk-toggleable {background-color: white;}#sk-container-id-2 label.sk-toggleable__label {cursor: pointer;display: block;width: 100%;margin-bottom: 0;padding: 0.3em;box-sizing: border-box;text-align: center;}#sk-container-id-2 label.sk-toggleable__label-arrow:before {content: \"▸\";float: left;margin-right: 0.25em;color: #696969;}#sk-container-id-2 label.sk-toggleable__label-arrow:hover:before {color: black;}#sk-container-id-2 div.sk-estimator:hover label.sk-toggleable__label-arrow:before {color: black;}#sk-container-id-2 div.sk-toggleable__content {max-height: 0;max-width: 0;overflow: hidden;text-align: left;background-color: #f0f8ff;}#sk-container-id-2 div.sk-toggleable__content pre {margin: 0.2em;color: black;border-radius: 0.25em;background-color: #f0f8ff;}#sk-container-id-2 input.sk-toggleable__control:checked~div.sk-toggleable__content {max-height: 200px;max-width: 100%;overflow: auto;}#sk-container-id-2 input.sk-toggleable__control:checked~label.sk-toggleable__label-arrow:before {content: \"▾\";}#sk-container-id-2 div.sk-estimator input.sk-toggleable__control:checked~label.sk-toggleable__label {background-color: #d4ebff;}#sk-container-id-2 div.sk-label input.sk-toggleable__control:checked~label.sk-toggleable__label {background-color: #d4ebff;}#sk-container-id-2 input.sk-hidden--visually {border: 0;clip: rect(1px 1px 1px 1px);clip: rect(1px, 1px, 1px, 1px);height: 1px;margin: -1px;overflow: hidden;padding: 0;position: absolute;width: 1px;}#sk-container-id-2 div.sk-estimator {font-family: monospace;background-color: #f0f8ff;border: 1px dotted black;border-radius: 0.25em;box-sizing: border-box;margin-bottom: 0.5em;}#sk-container-id-2 div.sk-estimator:hover {background-color: #d4ebff;}#sk-container-id-2 div.sk-parallel-item::after {content: \"\";width: 100%;border-bottom: 1px solid gray;flex-grow: 1;}#sk-container-id-2 div.sk-label:hover label.sk-toggleable__label {background-color: #d4ebff;}#sk-container-id-2 div.sk-serial::before {content: \"\";position: absolute;border-left: 1px solid gray;box-sizing: border-box;top: 0;bottom: 0;left: 50%;z-index: 0;}#sk-container-id-2 div.sk-serial {display: flex;flex-direction: column;align-items: center;background-color: white;padding-right: 0.2em;padding-left: 0.2em;position: relative;}#sk-container-id-2 div.sk-item {position: relative;z-index: 1;}#sk-container-id-2 div.sk-parallel {display: flex;align-items: stretch;justify-content: center;background-color: white;position: relative;}#sk-container-id-2 div.sk-item::before, #sk-container-id-2 div.sk-parallel-item::before {content: \"\";position: absolute;border-left: 1px solid gray;box-sizing: border-box;top: 0;bottom: 0;left: 50%;z-index: -1;}#sk-container-id-2 div.sk-parallel-item {display: flex;flex-direction: column;z-index: 1;position: relative;background-color: white;}#sk-container-id-2 div.sk-parallel-item:first-child::after {align-self: flex-end;width: 50%;}#sk-container-id-2 div.sk-parallel-item:last-child::after {align-self: flex-start;width: 50%;}#sk-container-id-2 div.sk-parallel-item:only-child::after {width: 0;}#sk-container-id-2 div.sk-dashed-wrapped {border: 1px dashed gray;margin: 0 0.4em 0.5em 0.4em;box-sizing: border-box;padding-bottom: 0.4em;background-color: white;}#sk-container-id-2 div.sk-label label {font-family: monospace;font-weight: bold;display: inline-block;line-height: 1.2em;}#sk-container-id-2 div.sk-label-container {text-align: center;}#sk-container-id-2 div.sk-container {/* jupyter's `normalize.less` sets `[hidden] { display: none; }` but bootstrap.min.css set `[hidden] { display: none !important; }` so we also need the `!important` here to be able to override the default hidden behavior on the sphinx rendered scikit-learn.org. See: https://github.com/scikit-learn/scikit-learn/issues/21755 */display: inline-block !important;position: relative;}#sk-container-id-2 div.sk-text-repr-fallback {display: none;}</style><div id=\"sk-container-id-2\" class=\"sk-top-container\"><div class=\"sk-text-repr-fallback\"><pre>LinearRegression()</pre><b>In a Jupyter environment, please rerun this cell to show the HTML representation or trust the notebook. <br />On GitHub, the HTML representation is unable to render, please try loading this page with nbviewer.org.</b></div><div class=\"sk-container\" hidden><div class=\"sk-item\"><div class=\"sk-estimator sk-toggleable\"><input class=\"sk-toggleable__control sk-hidden--visually\" id=\"sk-estimator-id-2\" type=\"checkbox\" checked><label for=\"sk-estimator-id-2\" class=\"sk-toggleable__label sk-toggleable__label-arrow\">LinearRegression</label><div class=\"sk-toggleable__content\"><pre>LinearRegression()</pre></div></div></div></div></div>"
      ],
      "text/plain": [
       "LinearRegression()"
      ]
     },
     "execution_count": 29,
     "metadata": {},
     "output_type": "execute_result"
    }
   ],
   "source": [
    "lr_syn = LinearRegression()\n",
    "lr_syn.fit(X_syn_train, y_syn_train)"
   ]
  },
  {
   "cell_type": "code",
   "execution_count": 30,
   "id": "f108be76-cfde-4a2d-ad11-9b05d40bde38",
   "metadata": {},
   "outputs": [
    {
     "name": "stdout",
     "output_type": "stream",
     "text": [
      "Model score: -0.02607092717158621\n"
     ]
    }
   ],
   "source": [
    "score = lr_syn.score(X_syn_test, y_syn_test)\n",
    "print(\"Model score:\", score)"
   ]
  },
  {
   "cell_type": "markdown",
   "id": "14145d1e-849b-4621-a7b1-91f838b56be7",
   "metadata": {
    "tags": []
   },
   "source": [
    "- 합성데이터 예측값\n",
    "\n",
    "합성데이터를 통해 학습한 모델에 테스트 데이터를 입력하여 예상되는 회귀값을 출력합니다. \n",
    "\n",
    "모델은 각 자료에 대한 우범 가능성을 0~1 사이의 값으로 도출하며 \n",
    "\n",
    "상위 5%, 10%의 물품에 대한 우범률(적발률)을 평가지표로 활용하였습니다."
   ]
  },
  {
   "cell_type": "code",
   "execution_count": 31,
   "id": "69219db5-527c-40cb-9044-7436de2b4e81",
   "metadata": {},
   "outputs": [],
   "source": [
    "y_syn_pred = lr_syn.predict(X_syn_test)\n",
    "index = X_syn_test.index.tolist()\n",
    "df = pd.DataFrame({'index' : index ,'pred': y_syn_pred})"
   ]
  },
  {
   "cell_type": "markdown",
   "id": "10a5d4a7-ad95-48bd-936a-3b70e498aac8",
   "metadata": {},
   "source": [
    "- 합성데이터 우범 회귀 예측값 상위 5%의 우범률"
   ]
  },
  {
   "cell_type": "code",
   "execution_count": 32,
   "id": "f24b8c25-8582-45ab-a75b-e7ffd14125f6",
   "metadata": {},
   "outputs": [],
   "source": [
    "syn_5 = reg_syn_top_5per(df)"
   ]
  },
  {
   "cell_type": "markdown",
   "id": "9d9bd91d-98bc-4744-b6e9-97947691c59a",
   "metadata": {},
   "source": [
    "- 합성데이터 우범 회귀 예측값 상위 10%의 우범률"
   ]
  },
  {
   "cell_type": "code",
   "execution_count": 33,
   "id": "1240e53a-2a48-44eb-adeb-dfefd214d18f",
   "metadata": {
    "tags": []
   },
   "outputs": [],
   "source": [
    "syn_10 = reg_syn_top_10per(df)"
   ]
  },
  {
   "cell_type": "markdown",
   "id": "d17a5435-14e7-4da8-ba61-b504f996deca",
   "metadata": {
    "tags": []
   },
   "source": [
    "#### 우범률 정리 - 선형 회귀분석"
   ]
  },
  {
   "cell_type": "code",
   "execution_count": 34,
   "id": "0d92f743-aca3-4205-8647-24d0a1b63124",
   "metadata": {},
   "outputs": [],
   "source": [
    "df_result_lr = pd.DataFrame({'category': 'LinearRegression','base_5' : base_5, 'base_10': base_10,'syn_5': syn_5,'syn_10': syn_10})"
   ]
  },
  {
   "cell_type": "markdown",
   "id": "282f8dbe-0eef-4545-b073-48934fb33792",
   "metadata": {},
   "source": [
    "약간의 차이를 보이지만 5% 집단에서 10% 집단이 될때의 우범률 감소는 비슷합니다. \n",
    "\n",
    "이는 유사한 분포를 보이고 있다고 추론할 수 있습니다. "
   ]
  },
  {
   "cell_type": "code",
   "execution_count": 35,
   "id": "0a0fbadd-f1a6-49c3-b414-77b151ce2b28",
   "metadata": {},
   "outputs": [
    {
     "data": {
      "text/html": [
       "<div>\n",
       "<style scoped>\n",
       "    .dataframe tbody tr th:only-of-type {\n",
       "        vertical-align: middle;\n",
       "    }\n",
       "\n",
       "    .dataframe tbody tr th {\n",
       "        vertical-align: top;\n",
       "    }\n",
       "\n",
       "    .dataframe thead th {\n",
       "        text-align: right;\n",
       "    }\n",
       "</style>\n",
       "<table border=\"1\" class=\"dataframe\">\n",
       "  <thead>\n",
       "    <tr style=\"text-align: right;\">\n",
       "      <th></th>\n",
       "      <th>category</th>\n",
       "      <th>base_5</th>\n",
       "      <th>base_10</th>\n",
       "      <th>syn_5</th>\n",
       "      <th>syn_10</th>\n",
       "    </tr>\n",
       "  </thead>\n",
       "  <tbody>\n",
       "    <tr>\n",
       "      <th>crime_yn</th>\n",
       "      <td>LinearRegression</td>\n",
       "      <td>0.35</td>\n",
       "      <td>0.308333</td>\n",
       "      <td>0.266667</td>\n",
       "      <td>0.233333</td>\n",
       "    </tr>\n",
       "  </tbody>\n",
       "</table>\n",
       "</div>"
      ],
      "text/plain": [
       "                  category  base_5   base_10     syn_5    syn_10\n",
       "crime_yn  LinearRegression  0.35    0.308333  0.266667  0.233333"
      ]
     },
     "execution_count": 35,
     "metadata": {},
     "output_type": "execute_result"
    }
   ],
   "source": [
    "df_result_lr"
   ]
  },
  {
   "cell_type": "markdown",
   "id": "54798da4-7aef-46be-8f4d-c47b8cafeb5a",
   "metadata": {
    "tags": []
   },
   "source": [
    "### 랜덤포레스트"
   ]
  },
  {
   "cell_type": "markdown",
   "id": "eeeec381-bd2e-430f-bb6a-6c46f933bdc4",
   "metadata": {},
   "source": [
    "랜덤 포레스트는 정확도를 높이고 과적합을 줄이기 위해 여러 의사 결정 트리를 구축하고 예측을 집계하는 기계 학습 알고리즘입니다.\n",
    "\n",
    "\n",
    "주요 특징은 다음과 같습니다.\n",
    "\n",
    "\n",
    "- 각 트리를 구축하기 위한 기능 및 샘플의 무작위 선택\n",
    "- 예측력 향상을 위한 앙상블 학습\n",
    "- 높은 차원의 대규모 데이터 세트를 처리하는 능력."
   ]
  },
  {
   "cell_type": "code",
   "execution_count": 36,
   "id": "a104c6bb-b482-4bc6-8c96-75d35c8dd0bf",
   "metadata": {},
   "outputs": [],
   "source": [
    "from sklearn.ensemble import RandomForestRegressor"
   ]
  },
  {
   "cell_type": "markdown",
   "id": "fbcc2d6b-ad66-431a-8d4c-47a456b4b0e1",
   "metadata": {
    "tags": []
   },
   "source": [
    "#### 원본데이터 (X_train, X_test, y_train, y_test)"
   ]
  },
  {
   "cell_type": "markdown",
   "id": "8cdc000b-6c9f-4a8f-883b-f15796a5529e",
   "metadata": {
    "jp-MarkdownHeadingCollapsed": true,
    "tags": []
   },
   "source": [
    "- 원본데이터 랜덤포레스트 회귀모델 학습 "
   ]
  },
  {
   "cell_type": "code",
   "execution_count": 37,
   "id": "b75f3fdb-309d-4dc3-8078-7ba17a87a1b9",
   "metadata": {},
   "outputs": [],
   "source": [
    "rf = RandomForestRegressor(n_estimators=50, random_state=42)"
   ]
  },
  {
   "cell_type": "code",
   "execution_count": 38,
   "id": "e508e2f6-7b4d-4210-81b5-700b34a2f2b6",
   "metadata": {},
   "outputs": [
    {
     "data": {
      "text/html": [
       "<style>#sk-container-id-3 {color: black;background-color: white;}#sk-container-id-3 pre{padding: 0;}#sk-container-id-3 div.sk-toggleable {background-color: white;}#sk-container-id-3 label.sk-toggleable__label {cursor: pointer;display: block;width: 100%;margin-bottom: 0;padding: 0.3em;box-sizing: border-box;text-align: center;}#sk-container-id-3 label.sk-toggleable__label-arrow:before {content: \"▸\";float: left;margin-right: 0.25em;color: #696969;}#sk-container-id-3 label.sk-toggleable__label-arrow:hover:before {color: black;}#sk-container-id-3 div.sk-estimator:hover label.sk-toggleable__label-arrow:before {color: black;}#sk-container-id-3 div.sk-toggleable__content {max-height: 0;max-width: 0;overflow: hidden;text-align: left;background-color: #f0f8ff;}#sk-container-id-3 div.sk-toggleable__content pre {margin: 0.2em;color: black;border-radius: 0.25em;background-color: #f0f8ff;}#sk-container-id-3 input.sk-toggleable__control:checked~div.sk-toggleable__content {max-height: 200px;max-width: 100%;overflow: auto;}#sk-container-id-3 input.sk-toggleable__control:checked~label.sk-toggleable__label-arrow:before {content: \"▾\";}#sk-container-id-3 div.sk-estimator input.sk-toggleable__control:checked~label.sk-toggleable__label {background-color: #d4ebff;}#sk-container-id-3 div.sk-label input.sk-toggleable__control:checked~label.sk-toggleable__label {background-color: #d4ebff;}#sk-container-id-3 input.sk-hidden--visually {border: 0;clip: rect(1px 1px 1px 1px);clip: rect(1px, 1px, 1px, 1px);height: 1px;margin: -1px;overflow: hidden;padding: 0;position: absolute;width: 1px;}#sk-container-id-3 div.sk-estimator {font-family: monospace;background-color: #f0f8ff;border: 1px dotted black;border-radius: 0.25em;box-sizing: border-box;margin-bottom: 0.5em;}#sk-container-id-3 div.sk-estimator:hover {background-color: #d4ebff;}#sk-container-id-3 div.sk-parallel-item::after {content: \"\";width: 100%;border-bottom: 1px solid gray;flex-grow: 1;}#sk-container-id-3 div.sk-label:hover label.sk-toggleable__label {background-color: #d4ebff;}#sk-container-id-3 div.sk-serial::before {content: \"\";position: absolute;border-left: 1px solid gray;box-sizing: border-box;top: 0;bottom: 0;left: 50%;z-index: 0;}#sk-container-id-3 div.sk-serial {display: flex;flex-direction: column;align-items: center;background-color: white;padding-right: 0.2em;padding-left: 0.2em;position: relative;}#sk-container-id-3 div.sk-item {position: relative;z-index: 1;}#sk-container-id-3 div.sk-parallel {display: flex;align-items: stretch;justify-content: center;background-color: white;position: relative;}#sk-container-id-3 div.sk-item::before, #sk-container-id-3 div.sk-parallel-item::before {content: \"\";position: absolute;border-left: 1px solid gray;box-sizing: border-box;top: 0;bottom: 0;left: 50%;z-index: -1;}#sk-container-id-3 div.sk-parallel-item {display: flex;flex-direction: column;z-index: 1;position: relative;background-color: white;}#sk-container-id-3 div.sk-parallel-item:first-child::after {align-self: flex-end;width: 50%;}#sk-container-id-3 div.sk-parallel-item:last-child::after {align-self: flex-start;width: 50%;}#sk-container-id-3 div.sk-parallel-item:only-child::after {width: 0;}#sk-container-id-3 div.sk-dashed-wrapped {border: 1px dashed gray;margin: 0 0.4em 0.5em 0.4em;box-sizing: border-box;padding-bottom: 0.4em;background-color: white;}#sk-container-id-3 div.sk-label label {font-family: monospace;font-weight: bold;display: inline-block;line-height: 1.2em;}#sk-container-id-3 div.sk-label-container {text-align: center;}#sk-container-id-3 div.sk-container {/* jupyter's `normalize.less` sets `[hidden] { display: none; }` but bootstrap.min.css set `[hidden] { display: none !important; }` so we also need the `!important` here to be able to override the default hidden behavior on the sphinx rendered scikit-learn.org. See: https://github.com/scikit-learn/scikit-learn/issues/21755 */display: inline-block !important;position: relative;}#sk-container-id-3 div.sk-text-repr-fallback {display: none;}</style><div id=\"sk-container-id-3\" class=\"sk-top-container\"><div class=\"sk-text-repr-fallback\"><pre>RandomForestRegressor(n_estimators=50, random_state=42)</pre><b>In a Jupyter environment, please rerun this cell to show the HTML representation or trust the notebook. <br />On GitHub, the HTML representation is unable to render, please try loading this page with nbviewer.org.</b></div><div class=\"sk-container\" hidden><div class=\"sk-item\"><div class=\"sk-estimator sk-toggleable\"><input class=\"sk-toggleable__control sk-hidden--visually\" id=\"sk-estimator-id-3\" type=\"checkbox\" checked><label for=\"sk-estimator-id-3\" class=\"sk-toggleable__label sk-toggleable__label-arrow\">RandomForestRegressor</label><div class=\"sk-toggleable__content\"><pre>RandomForestRegressor(n_estimators=50, random_state=42)</pre></div></div></div></div></div>"
      ],
      "text/plain": [
       "RandomForestRegressor(n_estimators=50, random_state=42)"
      ]
     },
     "execution_count": 38,
     "metadata": {},
     "output_type": "execute_result"
    }
   ],
   "source": [
    "rf.fit(X_train, y_train)"
   ]
  },
  {
   "cell_type": "markdown",
   "id": "829c16ed-afc5-4d72-8b34-301f8fa2361e",
   "metadata": {
    "jp-MarkdownHeadingCollapsed": true,
    "tags": []
   },
   "source": [
    "- 원본데이터 예측값"
   ]
  },
  {
   "cell_type": "code",
   "execution_count": 39,
   "id": "62ae69e8-eae7-4597-91b2-435cb6620be8",
   "metadata": {},
   "outputs": [],
   "source": [
    "y_pred = rf.predict(X_test)"
   ]
  },
  {
   "cell_type": "code",
   "execution_count": 40,
   "id": "04a07399-3145-4ab5-bae1-17bbf9ee581d",
   "metadata": {
    "tags": []
   },
   "outputs": [],
   "source": [
    "index = X_test.index.tolist()"
   ]
  },
  {
   "cell_type": "code",
   "execution_count": 41,
   "id": "4e72088f-9e9c-49ea-a90c-75ba23f88257",
   "metadata": {
    "tags": []
   },
   "outputs": [],
   "source": [
    "df = pd.DataFrame({'index' : index ,'pred': y_pred})"
   ]
  },
  {
   "cell_type": "markdown",
   "id": "237ee55d-f271-44f6-badc-cc3122331691",
   "metadata": {},
   "source": [
    "- 원본데이터 우범 회귀 예측값 상위 5%의 우범률"
   ]
  },
  {
   "cell_type": "code",
   "execution_count": 42,
   "id": "722c5058-3b5d-4f2c-95fe-39f402b022a8",
   "metadata": {},
   "outputs": [],
   "source": [
    "base_5 = reg_top_5per(df)"
   ]
  },
  {
   "cell_type": "markdown",
   "id": "7e599064-03b6-4e5f-a6b7-170536716b7f",
   "metadata": {},
   "source": [
    "- 원본데이터 우범 회귀 예측값 상위 10%의 우범률"
   ]
  },
  {
   "cell_type": "code",
   "execution_count": 43,
   "id": "1136a359-9f70-4833-91b2-cc11c267252e",
   "metadata": {},
   "outputs": [],
   "source": [
    "base_10 = reg_top_10per(df)"
   ]
  },
  {
   "cell_type": "markdown",
   "id": "d27a7d5c-c382-4c28-b15e-a441481fdde2",
   "metadata": {
    "tags": []
   },
   "source": [
    "#### 합성데이터 (X_syn_train, X_syn_test, y_syn_train, y_syn_test)"
   ]
  },
  {
   "cell_type": "markdown",
   "id": "3641a779-f89c-4e43-9f6f-c4bb834030ff",
   "metadata": {
    "jp-MarkdownHeadingCollapsed": true,
    "tags": []
   },
   "source": [
    "- 합성데이터 랜덤포레스트 회귀모델 학습 "
   ]
  },
  {
   "cell_type": "code",
   "execution_count": 44,
   "id": "276f6d2f-43a1-40af-80e3-18837ccc4f50",
   "metadata": {},
   "outputs": [],
   "source": [
    "rf_syn = RandomForestRegressor(n_estimators=50, random_state=42)"
   ]
  },
  {
   "cell_type": "code",
   "execution_count": 45,
   "id": "e291cdaa-8a41-4d71-8a22-4e97f5ebff73",
   "metadata": {},
   "outputs": [
    {
     "data": {
      "text/html": [
       "<style>#sk-container-id-4 {color: black;background-color: white;}#sk-container-id-4 pre{padding: 0;}#sk-container-id-4 div.sk-toggleable {background-color: white;}#sk-container-id-4 label.sk-toggleable__label {cursor: pointer;display: block;width: 100%;margin-bottom: 0;padding: 0.3em;box-sizing: border-box;text-align: center;}#sk-container-id-4 label.sk-toggleable__label-arrow:before {content: \"▸\";float: left;margin-right: 0.25em;color: #696969;}#sk-container-id-4 label.sk-toggleable__label-arrow:hover:before {color: black;}#sk-container-id-4 div.sk-estimator:hover label.sk-toggleable__label-arrow:before {color: black;}#sk-container-id-4 div.sk-toggleable__content {max-height: 0;max-width: 0;overflow: hidden;text-align: left;background-color: #f0f8ff;}#sk-container-id-4 div.sk-toggleable__content pre {margin: 0.2em;color: black;border-radius: 0.25em;background-color: #f0f8ff;}#sk-container-id-4 input.sk-toggleable__control:checked~div.sk-toggleable__content {max-height: 200px;max-width: 100%;overflow: auto;}#sk-container-id-4 input.sk-toggleable__control:checked~label.sk-toggleable__label-arrow:before {content: \"▾\";}#sk-container-id-4 div.sk-estimator input.sk-toggleable__control:checked~label.sk-toggleable__label {background-color: #d4ebff;}#sk-container-id-4 div.sk-label input.sk-toggleable__control:checked~label.sk-toggleable__label {background-color: #d4ebff;}#sk-container-id-4 input.sk-hidden--visually {border: 0;clip: rect(1px 1px 1px 1px);clip: rect(1px, 1px, 1px, 1px);height: 1px;margin: -1px;overflow: hidden;padding: 0;position: absolute;width: 1px;}#sk-container-id-4 div.sk-estimator {font-family: monospace;background-color: #f0f8ff;border: 1px dotted black;border-radius: 0.25em;box-sizing: border-box;margin-bottom: 0.5em;}#sk-container-id-4 div.sk-estimator:hover {background-color: #d4ebff;}#sk-container-id-4 div.sk-parallel-item::after {content: \"\";width: 100%;border-bottom: 1px solid gray;flex-grow: 1;}#sk-container-id-4 div.sk-label:hover label.sk-toggleable__label {background-color: #d4ebff;}#sk-container-id-4 div.sk-serial::before {content: \"\";position: absolute;border-left: 1px solid gray;box-sizing: border-box;top: 0;bottom: 0;left: 50%;z-index: 0;}#sk-container-id-4 div.sk-serial {display: flex;flex-direction: column;align-items: center;background-color: white;padding-right: 0.2em;padding-left: 0.2em;position: relative;}#sk-container-id-4 div.sk-item {position: relative;z-index: 1;}#sk-container-id-4 div.sk-parallel {display: flex;align-items: stretch;justify-content: center;background-color: white;position: relative;}#sk-container-id-4 div.sk-item::before, #sk-container-id-4 div.sk-parallel-item::before {content: \"\";position: absolute;border-left: 1px solid gray;box-sizing: border-box;top: 0;bottom: 0;left: 50%;z-index: -1;}#sk-container-id-4 div.sk-parallel-item {display: flex;flex-direction: column;z-index: 1;position: relative;background-color: white;}#sk-container-id-4 div.sk-parallel-item:first-child::after {align-self: flex-end;width: 50%;}#sk-container-id-4 div.sk-parallel-item:last-child::after {align-self: flex-start;width: 50%;}#sk-container-id-4 div.sk-parallel-item:only-child::after {width: 0;}#sk-container-id-4 div.sk-dashed-wrapped {border: 1px dashed gray;margin: 0 0.4em 0.5em 0.4em;box-sizing: border-box;padding-bottom: 0.4em;background-color: white;}#sk-container-id-4 div.sk-label label {font-family: monospace;font-weight: bold;display: inline-block;line-height: 1.2em;}#sk-container-id-4 div.sk-label-container {text-align: center;}#sk-container-id-4 div.sk-container {/* jupyter's `normalize.less` sets `[hidden] { display: none; }` but bootstrap.min.css set `[hidden] { display: none !important; }` so we also need the `!important` here to be able to override the default hidden behavior on the sphinx rendered scikit-learn.org. See: https://github.com/scikit-learn/scikit-learn/issues/21755 */display: inline-block !important;position: relative;}#sk-container-id-4 div.sk-text-repr-fallback {display: none;}</style><div id=\"sk-container-id-4\" class=\"sk-top-container\"><div class=\"sk-text-repr-fallback\"><pre>RandomForestRegressor(n_estimators=50, random_state=42)</pre><b>In a Jupyter environment, please rerun this cell to show the HTML representation or trust the notebook. <br />On GitHub, the HTML representation is unable to render, please try loading this page with nbviewer.org.</b></div><div class=\"sk-container\" hidden><div class=\"sk-item\"><div class=\"sk-estimator sk-toggleable\"><input class=\"sk-toggleable__control sk-hidden--visually\" id=\"sk-estimator-id-4\" type=\"checkbox\" checked><label for=\"sk-estimator-id-4\" class=\"sk-toggleable__label sk-toggleable__label-arrow\">RandomForestRegressor</label><div class=\"sk-toggleable__content\"><pre>RandomForestRegressor(n_estimators=50, random_state=42)</pre></div></div></div></div></div>"
      ],
      "text/plain": [
       "RandomForestRegressor(n_estimators=50, random_state=42)"
      ]
     },
     "execution_count": 45,
     "metadata": {},
     "output_type": "execute_result"
    }
   ],
   "source": [
    "rf_syn.fit(X_syn_train, y_syn_train)"
   ]
  },
  {
   "cell_type": "markdown",
   "id": "43c8d1b3-0a84-40e5-8e74-86de748b94f4",
   "metadata": {
    "tags": []
   },
   "source": [
    "- 합성데이터 예측값"
   ]
  },
  {
   "cell_type": "code",
   "execution_count": 46,
   "id": "4399cb82-96e3-4f61-bab1-de66851d94a6",
   "metadata": {},
   "outputs": [],
   "source": [
    "y_syn_pred = rf_syn.predict(X_syn_test)"
   ]
  },
  {
   "cell_type": "code",
   "execution_count": 47,
   "id": "d05250b4-bd98-4725-9a28-fbacaff7ca26",
   "metadata": {
    "tags": []
   },
   "outputs": [],
   "source": [
    "index = X_syn_test.index.tolist()"
   ]
  },
  {
   "cell_type": "code",
   "execution_count": 48,
   "id": "6658a205-f33c-4336-bc79-6783207ac3e9",
   "metadata": {
    "tags": []
   },
   "outputs": [],
   "source": [
    "df = pd.DataFrame({'index' : index ,'pred': y_syn_pred})"
   ]
  },
  {
   "cell_type": "markdown",
   "id": "b0e47978-a681-4d8c-b0f6-d8fc4bef2242",
   "metadata": {},
   "source": [
    "- 합성데이터 우범 회귀 예측값 상위 5%의 우범률"
   ]
  },
  {
   "cell_type": "code",
   "execution_count": 49,
   "id": "eaa55b00-9d97-4c17-8e78-47b8f7655dd0",
   "metadata": {},
   "outputs": [],
   "source": [
    "syn_5 = reg_syn_top_5per(df)"
   ]
  },
  {
   "cell_type": "markdown",
   "id": "7b628eab-8216-42dc-869d-a043aa2c9ec7",
   "metadata": {},
   "source": [
    "- 합성데이터 우범 회귀 예측값 상위 10%의 우범률"
   ]
  },
  {
   "cell_type": "code",
   "execution_count": 50,
   "id": "18533da7-03e6-4e55-93e7-17d86ca9421d",
   "metadata": {
    "tags": []
   },
   "outputs": [],
   "source": [
    "syn_10 = reg_syn_top_10per(df)"
   ]
  },
  {
   "cell_type": "markdown",
   "id": "74e5fc3c-6882-47af-8bad-3d7b9ebee11b",
   "metadata": {
    "tags": []
   },
   "source": [
    "#### 우범률 정리 - 랜덤포레스트 "
   ]
  },
  {
   "cell_type": "code",
   "execution_count": 51,
   "id": "598a99f3-b794-4d08-b034-9d92850f2cd6",
   "metadata": {},
   "outputs": [],
   "source": [
    "df_result_rf = pd.DataFrame({'category': 'RandomForestRegressor','base_5' : base_5, 'base_10': base_10,'syn_5': syn_5,'syn_10': syn_10})"
   ]
  },
  {
   "cell_type": "markdown",
   "id": "9a04c51f-610d-4756-9f8d-fac7029c9250",
   "metadata": {},
   "source": [
    "선형 회귀분석을 활용할 때보다 지표의 격차비율이 감소했습니다. \n",
    "\n",
    "랜덤포레스트에서도 합성데이터가 잘 작동하는 것을 확인할 수 있었습니다. "
   ]
  },
  {
   "cell_type": "code",
   "execution_count": 52,
   "id": "dfcbeb9f-b218-45ed-8eab-5ec36c79d0a9",
   "metadata": {},
   "outputs": [
    {
     "data": {
      "text/html": [
       "<div>\n",
       "<style scoped>\n",
       "    .dataframe tbody tr th:only-of-type {\n",
       "        vertical-align: middle;\n",
       "    }\n",
       "\n",
       "    .dataframe tbody tr th {\n",
       "        vertical-align: top;\n",
       "    }\n",
       "\n",
       "    .dataframe thead th {\n",
       "        text-align: right;\n",
       "    }\n",
       "</style>\n",
       "<table border=\"1\" class=\"dataframe\">\n",
       "  <thead>\n",
       "    <tr style=\"text-align: right;\">\n",
       "      <th></th>\n",
       "      <th>category</th>\n",
       "      <th>base_5</th>\n",
       "      <th>base_10</th>\n",
       "      <th>syn_5</th>\n",
       "      <th>syn_10</th>\n",
       "    </tr>\n",
       "  </thead>\n",
       "  <tbody>\n",
       "    <tr>\n",
       "      <th>crime_yn</th>\n",
       "      <td>RandomForestRegressor</td>\n",
       "      <td>0.934615</td>\n",
       "      <td>0.831256</td>\n",
       "      <td>0.866667</td>\n",
       "      <td>0.642857</td>\n",
       "    </tr>\n",
       "  </tbody>\n",
       "</table>\n",
       "</div>"
      ],
      "text/plain": [
       "                       category    base_5   base_10     syn_5    syn_10\n",
       "crime_yn  RandomForestRegressor  0.934615  0.831256  0.866667  0.642857"
      ]
     },
     "execution_count": 52,
     "metadata": {},
     "output_type": "execute_result"
    }
   ],
   "source": [
    "df_result_rf"
   ]
  },
  {
   "cell_type": "markdown",
   "id": "46800ae8-23f3-498c-9dda-3aa3480a2dde",
   "metadata": {
    "tags": []
   },
   "source": [
    "### xgBoost"
   ]
  },
  {
   "cell_type": "markdown",
   "id": "2863a556-cd0d-4253-b198-66431d690275",
   "metadata": {},
   "source": [
    "마지막 알고리즘은 xgBoost입니다. \n",
    "\n",
    "XGBoost는 기존 그래디언트 부스팅 알고리즘의 성능을 개선하도록 설계된 강력한 기계 학습 알고리즘입니다.\n",
    "\n",
    "\n",
    "주요 특징은 다음과 같습니다.\n",
    "\n",
    "\n",
    "- 빠르고 효율적인 모델 교육을 위한 병렬 처리 및 하드웨어 최적화\n",
    "- 과적합 방지 및 일반화 개선을 위한 정규화 기술\n",
    "- 누락된 데이터 및 기능 선택 처리를 위한 기본 제공 지원\n",
    "\n"
   ]
  },
  {
   "cell_type": "code",
   "execution_count": 53,
   "id": "c1e44c89-854e-4fb9-9d23-5004b122967a",
   "metadata": {},
   "outputs": [],
   "source": [
    "import xgboost as xgb"
   ]
  },
  {
   "cell_type": "markdown",
   "id": "4e925aa5-f515-4a0c-af2d-8ad5b61e82a9",
   "metadata": {
    "tags": []
   },
   "source": [
    "#### 원본데이터 (X_train, X_test, y_train, y_test)"
   ]
  },
  {
   "cell_type": "markdown",
   "id": "2e407891-0b31-4f94-a77a-bb990518855d",
   "metadata": {
    "jp-MarkdownHeadingCollapsed": true,
    "tags": []
   },
   "source": [
    "- 원본데이터 xgBoost 회귀모델 학습 "
   ]
  },
  {
   "cell_type": "code",
   "execution_count": 54,
   "id": "9a9c410a-a3c3-40ed-8374-6d1b1b02dae4",
   "metadata": {},
   "outputs": [],
   "source": [
    "dtrain = xgb.DMatrix(X_train, label=y_train)\n",
    "dtest = xgb.DMatrix(X_test, label=y_test)"
   ]
  },
  {
   "cell_type": "code",
   "execution_count": 55,
   "id": "45eed8a1-17ea-438b-8574-caf61f78edb7",
   "metadata": {},
   "outputs": [],
   "source": [
    "params = {\n",
    "    \"max_depth\": 2,\n",
    "    \"eta\": 0.1,\n",
    "    \"subsample\": 0.5,\n",
    "    \"colsample_bytree\": 0.5,\n",
    "    \"objective\": \"reg:squarederror\",\n",
    "    \"eval_metric\": \"rmse\",\n",
    "}\n",
    "num_round = 100"
   ]
  },
  {
   "cell_type": "code",
   "execution_count": 56,
   "id": "9313ab37-3c80-4fb7-9f16-d9593f6845ac",
   "metadata": {},
   "outputs": [],
   "source": [
    "xgb_model = xgb.train(params, dtrain, num_round)"
   ]
  },
  {
   "cell_type": "markdown",
   "id": "87ac3839-973a-4802-b26f-4bcf25cc24ec",
   "metadata": {
    "jp-MarkdownHeadingCollapsed": true,
    "tags": []
   },
   "source": [
    "- 원본데이터 예측값"
   ]
  },
  {
   "cell_type": "code",
   "execution_count": 57,
   "id": "a559ae4b-3fef-4234-9336-96d7b6ce614d",
   "metadata": {},
   "outputs": [],
   "source": [
    "y_pred = xgb_model.predict(dtest)"
   ]
  },
  {
   "cell_type": "code",
   "execution_count": 58,
   "id": "e434ba83-9de5-43a6-bb1b-144ad7bca9a0",
   "metadata": {
    "tags": []
   },
   "outputs": [],
   "source": [
    "index = X_test['dec_num'].index.tolist()"
   ]
  },
  {
   "cell_type": "code",
   "execution_count": 59,
   "id": "3a309b52-c9cc-45d2-be40-23ac673317f3",
   "metadata": {
    "tags": []
   },
   "outputs": [],
   "source": [
    "df = pd.DataFrame({'index' : index ,'pred': y_pred})"
   ]
  },
  {
   "cell_type": "markdown",
   "id": "bd8a1193-66fb-46c3-bbba-2a0d6eb35e23",
   "metadata": {},
   "source": [
    "- 원본데이터 우범 회귀 예측값 상위 5%의 우범률"
   ]
  },
  {
   "cell_type": "code",
   "execution_count": 60,
   "id": "3874115c-f684-49aa-9ecb-7090d457de76",
   "metadata": {},
   "outputs": [],
   "source": [
    "base_5 = reg_top_5per(df)"
   ]
  },
  {
   "cell_type": "markdown",
   "id": "bf618755-44f6-4e55-a9c2-182f4cbd0d16",
   "metadata": {},
   "source": [
    "- 원본데이터 우범 회귀 예측값 상위 10%의 우범률"
   ]
  },
  {
   "cell_type": "code",
   "execution_count": 61,
   "id": "2fd4cb98-8e34-4fc6-aef0-05a00df9fa83",
   "metadata": {},
   "outputs": [],
   "source": [
    "base_10 = reg_top_10per(df)"
   ]
  },
  {
   "cell_type": "markdown",
   "id": "ee5cffe0-353e-468b-8c7b-366f6346e05c",
   "metadata": {
    "tags": []
   },
   "source": [
    "#### 합성데이터 (X_syn_train, X_syn_test, y_syn_train, y_syn_test)"
   ]
  },
  {
   "cell_type": "markdown",
   "id": "edee0579-76e8-44d8-9d2f-4a0c0c4845ec",
   "metadata": {
    "jp-MarkdownHeadingCollapsed": true,
    "tags": []
   },
   "source": [
    "- 합성데이터 xgBoost 회귀모델 학습 "
   ]
  },
  {
   "cell_type": "markdown",
   "id": "f259f524-afe0-447d-8bb5-aeff602b6f50",
   "metadata": {},
   "source": [
    "다른 모델들과 다르게 xgb에서 갖고 있는 DMatrix 형태로 자료를 받아서 훈련을 진행합니다. "
   ]
  },
  {
   "cell_type": "code",
   "execution_count": 62,
   "id": "97e2c252-aa99-4d83-97f8-7eaa2fd791a0",
   "metadata": {},
   "outputs": [],
   "source": [
    "dtrain_syn = xgb.DMatrix(X_syn_train, label=y_syn_train)\n",
    "dtest_syn = xgb.DMatrix(X_syn_test, label=y_syn_test)"
   ]
  },
  {
   "cell_type": "markdown",
   "id": "00579caa-68e0-40e6-83d7-7155fdce6c8f",
   "metadata": {},
   "source": [
    "모델을 학습할때의 파라미터들 입니다. \n",
    "\n",
    "파라미터 조정을 통해서도 적합한 훈련 방법을 찾을 수 있습니다."
   ]
  },
  {
   "cell_type": "code",
   "execution_count": 63,
   "id": "146e88c6-a16c-4d9f-8c41-67a38ad5cdc7",
   "metadata": {},
   "outputs": [],
   "source": [
    "params = {\n",
    "    \"max_depth\": 2,\n",
    "    \"eta\": 0.1,\n",
    "    \"subsample\": 0.5,\n",
    "    \"colsample_bytree\": 0.5,\n",
    "    \"objective\": \"reg:squarederror\",\n",
    "    \"eval_metric\": \"rmse\",\n",
    "}\n",
    "num_round = 100"
   ]
  },
  {
   "cell_type": "markdown",
   "id": "732b6088-befe-4627-b054-6d604d13f21c",
   "metadata": {},
   "source": [
    "파라미터와 데이터와 실행 횟수를 입력하여 학습을 실시합니다."
   ]
  },
  {
   "cell_type": "code",
   "execution_count": 64,
   "id": "b2a104c0-8914-46d1-8bf1-1edbb706dcea",
   "metadata": {},
   "outputs": [],
   "source": [
    "xgb_model_syn = xgb.train(params, dtrain_syn, num_round)"
   ]
  },
  {
   "cell_type": "markdown",
   "id": "fb75d0e0-3567-43b3-8d14-a425bef55014",
   "metadata": {
    "tags": []
   },
   "source": [
    "- 합성데이터 예측값"
   ]
  },
  {
   "cell_type": "code",
   "execution_count": 65,
   "id": "9855aeb5-6b1c-484d-ba18-1dade42b0e0e",
   "metadata": {},
   "outputs": [],
   "source": [
    "y_syn_pred = xgb_model_syn.predict(dtest_syn)"
   ]
  },
  {
   "cell_type": "code",
   "execution_count": 66,
   "id": "3a412152-9828-4387-8dba-d1dc1ba06dc6",
   "metadata": {
    "tags": []
   },
   "outputs": [],
   "source": [
    "index = X_syn_test['dec_num'].index.tolist()"
   ]
  },
  {
   "cell_type": "code",
   "execution_count": 67,
   "id": "92295972-8062-4c21-a27c-044e6ce2cd9c",
   "metadata": {
    "tags": []
   },
   "outputs": [],
   "source": [
    "df = pd.DataFrame({'index' : index ,'pred': y_syn_pred})"
   ]
  },
  {
   "cell_type": "markdown",
   "id": "b605a97d-55bb-4fdb-bec4-d4c017fcd9d8",
   "metadata": {},
   "source": [
    "- 합성데이터 우범 회귀 예측값 상위 5%의 우범률"
   ]
  },
  {
   "cell_type": "code",
   "execution_count": 68,
   "id": "97e10bf2-4364-4564-aa66-ec772a93df42",
   "metadata": {},
   "outputs": [],
   "source": [
    "syn_5 = reg_syn_top_5per(df)"
   ]
  },
  {
   "cell_type": "markdown",
   "id": "a41a34dc-603f-424e-ae97-8a7d00c4efe4",
   "metadata": {},
   "source": [
    "- 합성데이터 우범 회귀 예측값 상위 10%의 우범률"
   ]
  },
  {
   "cell_type": "code",
   "execution_count": 69,
   "id": "6567b915-00c1-4a4e-8e8b-1f166e855701",
   "metadata": {
    "tags": []
   },
   "outputs": [],
   "source": [
    "syn_10 = reg_syn_top_10per(df)"
   ]
  },
  {
   "cell_type": "markdown",
   "id": "326e742f-fccb-4a25-8092-f5068dc2b780",
   "metadata": {
    "tags": []
   },
   "source": [
    "#### 우범률 정리 - xgBoost "
   ]
  },
  {
   "cell_type": "code",
   "execution_count": 70,
   "id": "77260034-21e4-4f4d-8219-db97e7a86da5",
   "metadata": {},
   "outputs": [],
   "source": [
    "df_result_xgb = pd.DataFrame({'category': 'xgboost','base_5' : base_5, 'base_10': base_10,'syn_5': syn_5,'syn_10': syn_10})"
   ]
  },
  {
   "cell_type": "markdown",
   "id": "0d6894c3-6a0f-4a99-933a-f7416b91791e",
   "metadata": {},
   "source": [
    "다른 알고리즘들과 비슷한 비율로 차이를 보이고 있습니다. "
   ]
  },
  {
   "cell_type": "code",
   "execution_count": 71,
   "id": "669b7450-58f7-48a4-adc4-51018fe42c1e",
   "metadata": {},
   "outputs": [
    {
     "data": {
      "text/html": [
       "<div>\n",
       "<style scoped>\n",
       "    .dataframe tbody tr th:only-of-type {\n",
       "        vertical-align: middle;\n",
       "    }\n",
       "\n",
       "    .dataframe tbody tr th {\n",
       "        vertical-align: top;\n",
       "    }\n",
       "\n",
       "    .dataframe thead th {\n",
       "        text-align: right;\n",
       "    }\n",
       "</style>\n",
       "<table border=\"1\" class=\"dataframe\">\n",
       "  <thead>\n",
       "    <tr style=\"text-align: right;\">\n",
       "      <th></th>\n",
       "      <th>category</th>\n",
       "      <th>base_5</th>\n",
       "      <th>base_10</th>\n",
       "      <th>syn_5</th>\n",
       "      <th>syn_10</th>\n",
       "    </tr>\n",
       "  </thead>\n",
       "  <tbody>\n",
       "    <tr>\n",
       "      <th>crime_yn</th>\n",
       "      <td>xgboost</td>\n",
       "      <td>0.409259</td>\n",
       "      <td>0.380556</td>\n",
       "      <td>0.6</td>\n",
       "      <td>0.466667</td>\n",
       "    </tr>\n",
       "  </tbody>\n",
       "</table>\n",
       "</div>"
      ],
      "text/plain": [
       "         category    base_5   base_10  syn_5    syn_10\n",
       "crime_yn  xgboost  0.409259  0.380556  0.6    0.466667"
      ]
     },
     "execution_count": 71,
     "metadata": {},
     "output_type": "execute_result"
    }
   ],
   "source": [
    "df_result_xgb"
   ]
  },
  {
   "cell_type": "markdown",
   "id": "8ee84321-f619-4ab1-a10b-f24972684e1b",
   "metadata": {},
   "source": [
    "## 모델별 우범률 정리"
   ]
  },
  {
   "cell_type": "markdown",
   "id": "6c8ed2f4-a2ff-42ad-a353-850fb109a841",
   "metadata": {},
   "source": [
    "모델별 우범률을 정리하였습니다. \n",
    "\n",
    "모델에 따라 분류기의 성능이 차이가 난다는 점과 5% 그룹에서 발생한 우범률과 10% 그룹에서 발생한 우범률을 비교할때\n",
    "\n",
    "같이 감소하는 경향을 두 데이터에서 모두 확인할 수 있었습니다. \n",
    "\n",
    "이것은 같은 알고리즘을 활용해 학습을 진행할 경우 유사한 경향을 가진 결과를 얻을 수 있다는 것을 의미합니다.\n",
    "\n",
    "제가 제시한 수치는 하나의 사례입니다.\n",
    "CTGAN의 추출된 데이터의양, 생성되는 데이터의 양 등 다양한 파라미터에 의해서 통계적 특성이 변할 수 있습니다. "
   ]
  },
  {
   "cell_type": "code",
   "execution_count": 72,
   "id": "a5027324-4345-4704-8c62-74ec0decfa58",
   "metadata": {},
   "outputs": [],
   "source": [
    "total_result = pd.concat([df_result_lr, df_result_rf, df_result_xgb])"
   ]
  },
  {
   "cell_type": "code",
   "execution_count": 73,
   "id": "d5171186-2623-4ac7-810a-1853183d9104",
   "metadata": {},
   "outputs": [],
   "source": [
    "total_result = total_result.reset_index(drop=True)"
   ]
  },
  {
   "cell_type": "code",
   "execution_count": 74,
   "id": "889008fa-7764-4a63-89a1-f0b5cd9cf422",
   "metadata": {},
   "outputs": [
    {
     "data": {
      "text/html": [
       "<div>\n",
       "<style scoped>\n",
       "    .dataframe tbody tr th:only-of-type {\n",
       "        vertical-align: middle;\n",
       "    }\n",
       "\n",
       "    .dataframe tbody tr th {\n",
       "        vertical-align: top;\n",
       "    }\n",
       "\n",
       "    .dataframe thead th {\n",
       "        text-align: right;\n",
       "    }\n",
       "</style>\n",
       "<table border=\"1\" class=\"dataframe\">\n",
       "  <thead>\n",
       "    <tr style=\"text-align: right;\">\n",
       "      <th></th>\n",
       "      <th>category</th>\n",
       "      <th>base_5</th>\n",
       "      <th>base_10</th>\n",
       "      <th>syn_5</th>\n",
       "      <th>syn_10</th>\n",
       "    </tr>\n",
       "  </thead>\n",
       "  <tbody>\n",
       "    <tr>\n",
       "      <th>0</th>\n",
       "      <td>LinearRegression</td>\n",
       "      <td>0.350000</td>\n",
       "      <td>0.308333</td>\n",
       "      <td>0.266667</td>\n",
       "      <td>0.233333</td>\n",
       "    </tr>\n",
       "    <tr>\n",
       "      <th>1</th>\n",
       "      <td>RandomForestRegressor</td>\n",
       "      <td>0.934615</td>\n",
       "      <td>0.831256</td>\n",
       "      <td>0.866667</td>\n",
       "      <td>0.642857</td>\n",
       "    </tr>\n",
       "    <tr>\n",
       "      <th>2</th>\n",
       "      <td>xgboost</td>\n",
       "      <td>0.409259</td>\n",
       "      <td>0.380556</td>\n",
       "      <td>0.600000</td>\n",
       "      <td>0.466667</td>\n",
       "    </tr>\n",
       "  </tbody>\n",
       "</table>\n",
       "</div>"
      ],
      "text/plain": [
       "                category    base_5   base_10     syn_5    syn_10\n",
       "0  LinearRegression       0.350000  0.308333  0.266667  0.233333\n",
       "1  RandomForestRegressor  0.934615  0.831256  0.866667  0.642857\n",
       "2  xgboost                0.409259  0.380556  0.600000  0.466667"
      ]
     },
     "execution_count": 74,
     "metadata": {},
     "output_type": "execute_result"
    }
   ],
   "source": [
    "total_result"
   ]
  },
  {
   "cell_type": "code",
   "execution_count": null,
   "id": "b1caf4ea-4a36-4a03-bd48-29003170d671",
   "metadata": {},
   "outputs": [],
   "source": []
  }
 ],
 "metadata": {
  "kernelspec": {
   "display_name": "wco_ctgan",
   "language": "python",
   "name": "wco_ctgan"
  },
  "language_info": {
   "codemirror_mode": {
    "name": "ipython",
    "version": 3
   },
   "file_extension": ".py",
   "mimetype": "text/x-python",
   "name": "python",
   "nbconvert_exporter": "python",
   "pygments_lexer": "ipython3",
   "version": "3.9.7"
  }
 },
 "nbformat": 4,
 "nbformat_minor": 5
}
