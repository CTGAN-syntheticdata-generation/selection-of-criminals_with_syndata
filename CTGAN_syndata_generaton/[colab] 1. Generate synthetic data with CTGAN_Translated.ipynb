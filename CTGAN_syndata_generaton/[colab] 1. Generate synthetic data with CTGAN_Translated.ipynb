{
 "cells": [
  {
   "cell_type": "code",
   "execution_count": null,
   "id": "7VAK3p0yPxCk",
   "metadata": {
    "colab": {
     "base_uri": "https://localhost:8080/"
    },
    "executionInfo": {
     "elapsed": 23355,
     "status": "ok",
     "timestamp": 1680596312486,
     "user": {
      "displayName": "김형준",
      "userId": "10277863568716562689"
     },
     "user_tz": -540
    },
    "id": "7VAK3p0yPxCk",
    "outputId": "ff035ca1-261b-4ff1-d6c1-d436d39c17d1"
   },
   "outputs": [
    {
     "name": "stdout",
     "output_type": "stream",
     "text": [
      "Mounted at /content/drive\n"
     ]
    }
   ],
   "source": [
    "from google.colab import drive\n",
    "drive.mount('/content/drive')"
   ]
  },
  {
   "cell_type": "code",
   "execution_count": null,
   "id": "56cefe1c-8d0a-42fa-8d79-a6c85403a813",
   "metadata": {
    "colab": {
     "base_uri": "https://localhost:8080/"
    },
    "executionInfo": {
     "elapsed": 1138,
     "status": "ok",
     "timestamp": 1680596314833,
     "user": {
      "displayName": "김형준",
      "userId": "10277863568716562689"
     },
     "user_tz": -540
    },
    "id": "56cefe1c-8d0a-42fa-8d79-a6c85403a813",
    "outputId": "ba17cdb9-a6c0-4eb1-bfdb-d2e1d1f06b13"
   },
   "outputs": [
    {
     "name": "stdout",
     "output_type": "stream",
     "text": [
      "/content/drive/MyDrive/Selection-of-criminals_with_syndata/CTGAN_syndata_generaton\n"
     ]
    }
   ],
   "source": [
    "cd \"/content/drive/MyDrive/Selection-of-criminals_with_syndata/CTGAN_syndata_generaton\" "
   ]
  },
  {
   "cell_type": "markdown",
   "id": "229da667-9a33-4822-ad0e-c70fc63beb04",
   "metadata": {
    "id": "229da667-9a33-4822-ad0e-c70fc63beb04"
   },
   "source": [
    "# 1. Generate Synthetic Data with CTGAN"
   ]
  },
  {
   "cell_type": "markdown",
   "id": "6469e0de-de22-43d0-812c-9cf063cddeb5",
   "metadata": {
    "id": "6469e0de-de22-43d0-812c-9cf063cddeb5"
   },
   "source": [
    "## Introduction to CTGAN"
   ]
  },
  {
   "cell_type": "markdown",
   "id": "f60843db-aeff-4844-9f67-6b03f5e40476",
   "metadata": {
    "id": "f60843db-aeff-4844-9f67-6b03f5e40476"
   },
   "source": [
    "- CTGAN stands for Conditional Tabular GAN, and it is a specially designed GAN architecture type for generating tabular data.\n",
    "- CTGAN keeps the statistical properties of the original data, while generating tabular data similar to real data.\n",
    "- CTGAN make use of the discriminator, which distinguishes between real data and synthetic data, and the generator, which generates synthetic data with same distribution as real data.  CTGAN works by performing training on both the discriminator and the generator.\n",
    "- A generator is trained so that it can create realistic synthetic data that is similar to the real data. On the other hand, a discriminator is trained so that it can distinguish between real data and synthetic data."
   ]
  },
  {
   "cell_type": "markdown",
   "id": "cc01c3bf-9eb5-419a-a516-481c076b70e1",
   "metadata": {
    "id": "cc01c3bf-9eb5-419a-a516-481c076b70e1",
    "tags": []
   },
   "source": [
    "## Load Library"
   ]
  },
  {
   "cell_type": "markdown",
   "id": "f78d9360-9ee6-4f6b-aa3e-3cd3bfdd806c",
   "metadata": {
    "id": "f78d9360-9ee6-4f6b-aa3e-3cd3bfdd806c"
   },
   "source": [
    "- Install CTGAN library.\n",
    "- Depending on the user environment, there could be errors during first launch. Please re-execute, and most of the issues will be resolved."
   ]
  },
  {
   "cell_type": "code",
   "execution_count": null,
   "id": "935333fa-c8c5-4212-a271-dd825e10a612",
   "metadata": {
    "colab": {
     "base_uri": "https://localhost:8080/"
    },
    "executionInfo": {
     "elapsed": 6497,
     "status": "ok",
     "timestamp": 1680598067694,
     "user": {
      "displayName": "김형준",
      "userId": "10277863568716562689"
     },
     "user_tz": -540
    },
    "id": "935333fa-c8c5-4212-a271-dd825e10a612",
    "outputId": "181175d0-65da-4fc3-c819-d9ea9caf2a3e"
   },
   "outputs": [
    {
     "name": "stdout",
     "output_type": "stream",
     "text": [
      "Looking in indexes: https://pypi.org/simple, https://us-python.pkg.dev/colab-wheels/public/simple/\n",
      "Requirement already satisfied: ctgan in /usr/local/lib/python3.9/dist-packages (0.7.1)\n",
      "Requirement already satisfied: rdt<2.0,>=1.3.0 in /usr/local/lib/python3.9/dist-packages (from ctgan) (1.3.0)\n",
      "Requirement already satisfied: pandas<2,>=1.1.3 in /usr/local/lib/python3.9/dist-packages (from ctgan) (1.4.4)\n",
      "Requirement already satisfied: packaging<22,>=20 in /usr/local/lib/python3.9/dist-packages (from ctgan) (21.3)\n",
      "Requirement already satisfied: numpy<2,>=1.20.0 in /usr/local/lib/python3.9/dist-packages (from ctgan) (1.22.4)\n",
      "Requirement already satisfied: torch<2,>=1.8.0 in /usr/local/lib/python3.9/dist-packages (from ctgan) (1.13.1)\n",
      "Requirement already satisfied: pyparsing!=3.0.5,>=2.0.2 in /usr/local/lib/python3.9/dist-packages (from packaging<22,>=20->ctgan) (3.0.9)\n",
      "Requirement already satisfied: pytz>=2020.1 in /usr/local/lib/python3.9/dist-packages (from pandas<2,>=1.1.3->ctgan) (2022.7.1)\n",
      "Requirement already satisfied: python-dateutil>=2.8.1 in /usr/local/lib/python3.9/dist-packages (from pandas<2,>=1.1.3->ctgan) (2.8.2)\n",
      "Requirement already satisfied: Faker>=10 in /usr/local/lib/python3.9/dist-packages (from rdt<2.0,>=1.3.0->ctgan) (18.3.2)\n",
      "Requirement already satisfied: scipy<2,>=1.5.4 in /usr/local/lib/python3.9/dist-packages (from rdt<2.0,>=1.3.0->ctgan) (1.10.1)\n",
      "Requirement already satisfied: scikit-learn<2,>=0.24 in /usr/local/lib/python3.9/dist-packages (from rdt<2.0,>=1.3.0->ctgan) (1.2.2)\n",
      "Requirement already satisfied: psutil<6,>=5.7 in /usr/local/lib/python3.9/dist-packages (from rdt<2.0,>=1.3.0->ctgan) (5.9.4)\n",
      "Requirement already satisfied: nvidia-cudnn-cu11==8.5.0.96 in /usr/local/lib/python3.9/dist-packages (from torch<2,>=1.8.0->ctgan) (8.5.0.96)\n",
      "Requirement already satisfied: nvidia-cuda-runtime-cu11==11.7.99 in /usr/local/lib/python3.9/dist-packages (from torch<2,>=1.8.0->ctgan) (11.7.99)\n",
      "Requirement already satisfied: nvidia-cuda-nvrtc-cu11==11.7.99 in /usr/local/lib/python3.9/dist-packages (from torch<2,>=1.8.0->ctgan) (11.7.99)\n",
      "Requirement already satisfied: typing-extensions in /usr/local/lib/python3.9/dist-packages (from torch<2,>=1.8.0->ctgan) (4.5.0)\n",
      "Requirement already satisfied: nvidia-cublas-cu11==11.10.3.66 in /usr/local/lib/python3.9/dist-packages (from torch<2,>=1.8.0->ctgan) (11.10.3.66)\n",
      "Requirement already satisfied: wheel in /usr/local/lib/python3.9/dist-packages (from nvidia-cublas-cu11==11.10.3.66->torch<2,>=1.8.0->ctgan) (0.40.0)\n",
      "Requirement already satisfied: setuptools in /usr/local/lib/python3.9/dist-packages (from nvidia-cublas-cu11==11.10.3.66->torch<2,>=1.8.0->ctgan) (67.6.1)\n",
      "Requirement already satisfied: six>=1.5 in /usr/local/lib/python3.9/dist-packages (from python-dateutil>=2.8.1->pandas<2,>=1.1.3->ctgan) (1.16.0)\n",
      "Requirement already satisfied: joblib>=1.1.1 in /usr/local/lib/python3.9/dist-packages (from scikit-learn<2,>=0.24->rdt<2.0,>=1.3.0->ctgan) (1.1.1)\n",
      "Requirement already satisfied: threadpoolctl>=2.0.0 in /usr/local/lib/python3.9/dist-packages (from scikit-learn<2,>=0.24->rdt<2.0,>=1.3.0->ctgan) (3.1.0)\n"
     ]
    }
   ],
   "source": [
    "!pip install ctgan"
   ]
  },
  {
   "cell_type": "markdown",
   "id": "276aeeb8-0d05-479b-859f-864f9c712217",
   "metadata": {
    "id": "276aeeb8-0d05-479b-859f-864f9c712217"
   },
   "source": [
    "### Library for Data Type\n",
    "- To use dataframe, we make use of pandas library."
   ]
  },
  {
   "cell_type": "code",
   "execution_count": null,
   "id": "8e93ddcb-2960-4891-b63d-8ebe61e4b3e9",
   "metadata": {
    "id": "8e93ddcb-2960-4891-b63d-8ebe61e4b3e9"
   },
   "outputs": [],
   "source": [
    "import pandas as pd"
   ]
  },
  {
   "cell_type": "markdown",
   "id": "eb3f5ed5-1968-4a37-991e-3c5b01e41942",
   "metadata": {
    "id": "eb3f5ed5-1968-4a37-991e-3c5b01e41942"
   },
   "source": [
    "### Library for Model Training\n",
    "- Use torch to facilitate computation using GPU"
   ]
  },
  {
   "cell_type": "code",
   "execution_count": null,
   "id": "1e6dce13-6179-4c71-8c0c-da1f88ebf601",
   "metadata": {
    "id": "1e6dce13-6179-4c71-8c0c-da1f88ebf601"
   },
   "outputs": [],
   "source": [
    "import torch\n",
    "#Tools for Python Memory Management\n",
    "import gc \n",
    "from ctgan import CTGAN"
   ]
  },
  {
   "cell_type": "markdown",
   "id": "96696afe-b171-4bee-a820-9800ed22c496",
   "metadata": {
    "id": "96696afe-b171-4bee-a820-9800ed22c496"
   },
   "source": [
    "- Check that we can use GPU (with cuda)"
   ]
  },
  {
   "cell_type": "code",
   "execution_count": null,
   "id": "1f627c44-312c-4f2a-9044-f893e2097101",
   "metadata": {
    "colab": {
     "base_uri": "https://localhost:8080/"
    },
    "executionInfo": {
     "elapsed": 448,
     "status": "ok",
     "timestamp": 1680596420863,
     "user": {
      "displayName": "김형준",
      "userId": "10277863568716562689"
     },
     "user_tz": -540
    },
    "id": "1f627c44-312c-4f2a-9044-f893e2097101",
    "outputId": "020a38aa-c8d5-4175-fd1e-c2dc7e171afe"
   },
   "outputs": [
    {
     "data": {
      "text/plain": [
       "True"
      ]
     },
     "execution_count": 6,
     "metadata": {},
     "output_type": "execute_result"
    }
   ],
   "source": [
    "torch.cuda.is_available()"
   ]
  },
  {
   "cell_type": "code",
   "execution_count": null,
   "id": "281d742a-a5dd-4f2a-ba51-b3e737edec01",
   "metadata": {
    "id": "281d742a-a5dd-4f2a-ba51-b3e737edec01"
   },
   "outputs": [],
   "source": [
    "# Manually turn off objects that are not currently needed\n",
    "gc.collect()\n",
    "# Function to clear the CUDA memory cache curently in use\n",
    "torch.cuda.empty_cache()"
   ]
  },
  {
   "cell_type": "markdown",
   "id": "0e79380b-1ac7-4168-a0e9-377217469796",
   "metadata": {
    "id": "0e79380b-1ac7-4168-a0e9-377217469796"
   },
   "source": [
    "\n",
    "### Library for Graphing\n",
    "- We visualize data by using seaborn and matplotlib. "
   ]
  },
  {
   "cell_type": "code",
   "execution_count": null,
   "id": "a80c381b-d543-4e68-80c9-435414e40cc3",
   "metadata": {
    "id": "a80c381b-d543-4e68-80c9-435414e40cc3"
   },
   "outputs": [],
   "source": [
    "import seaborn as sns\n",
    "import matplotlib.pyplot as plt"
   ]
  },
  {
   "cell_type": "markdown",
   "id": "825d1736-24d3-4c03-bb74-d97018fa1729",
   "metadata": {
    "id": "825d1736-24d3-4c03-bb74-d97018fa1729"
   },
   "source": [
    "### Other Configurations\n",
    "- Install copy library, which copies data.\n",
    "- Install time library, which lets us check system time."
   ]
  },
  {
   "cell_type": "code",
   "execution_count": null,
   "id": "d9df851c-fb3a-4a43-8852-360c629d11b0",
   "metadata": {
    "id": "d9df851c-fb3a-4a43-8852-360c629d11b0"
   },
   "outputs": [],
   "source": [
    "import copy\n",
    "import time\n",
    "\n",
    "import warnings\n",
    "warnings.filterwarnings(\"ignore\")"
   ]
  },
  {
   "cell_type": "markdown",
   "id": "7393c535-197d-4129-be24-513c3a1a012c",
   "metadata": {
    "id": "7393c535-197d-4129-be24-513c3a1a012c"
   },
   "source": [
    "### Setting Up Jupyter Notebook\n",
    "- Perform setup to use Jupyter Notebook."
   ]
  },
  {
   "cell_type": "code",
   "execution_count": null,
   "id": "28a351fe-0977-416b-833c-2635cac7f311",
   "metadata": {
    "colab": {
     "base_uri": "https://localhost:8080/",
     "height": 35
    },
    "executionInfo": {
     "elapsed": 8,
     "status": "ok",
     "timestamp": 1680596420865,
     "user": {
      "displayName": "김형준",
      "userId": "10277863568716562689"
     },
     "user_tz": -540
    },
    "id": "28a351fe-0977-416b-833c-2635cac7f311",
    "outputId": "cd489aab-adbb-4dd7-fc16-3c0d75f6e546"
   },
   "outputs": [
    {
     "data": {
      "text/html": [
       "<style>.container { width:100% !important; }</style>"
      ],
      "text/plain": [
       "<IPython.core.display.HTML object>"
      ]
     },
     "metadata": {},
     "output_type": "display_data"
    },
    {
     "name": "stdout",
     "output_type": "stream",
     "text": [
      "ready to run\n"
     ]
    }
   ],
   "source": [
    "#Jupiter Cell Full Screen View\n",
    "from IPython.core.display import display, HTML\n",
    "display(HTML(\"<style>.container { width:100% !important; }</style>\"))\n",
    "# useful for debuging (print the results of both formulas and functions entered in one cell of Jupyter)\n",
    "#from IPython.core.interactiveshell import InteractiveShell\n",
    "#InteractiveShell.ast_node_interactivity = \"all\"\n",
    "# Each column width at maximum (print all column contents)\n",
    "pd.set_option('display.max_colwidth', -1)\n",
    "# Show up to 500 rows\n",
    "pd.set_option('display.max_rows', 500)\n",
    "# Display up to 500 columns\n",
    "pd.set_option('display.max_columns', 500)\n",
    "# Total length of data frame\n",
    "pd.set_option('display.width', 1000)\n",
    "\n",
    "print('ready to run')\n",
    "# logging starttime \n",
    "startTime = time.time()"
   ]
  },
  {
   "cell_type": "markdown",
   "id": "5521ec0e-0b42-4a4e-9deb-1e7bb8876998",
   "metadata": {
    "id": "5521ec0e-0b42-4a4e-9deb-1e7bb8876998",
    "tags": []
   },
   "source": [
    "## Load Data"
   ]
  },
  {
   "cell_type": "markdown",
   "id": "80ee081a-ee1c-42ed-85f4-8b1be026fef6",
   "metadata": {
    "id": "80ee081a-ee1c-42ed-85f4-8b1be026fef6"
   },
   "source": [
    "- Import prepared simulated customs data."
   ]
  },
  {
   "cell_type": "code",
   "execution_count": null,
   "id": "4f9c71de-c978-47f0-a625-9b2e762709d7",
   "metadata": {
    "id": "4f9c71de-c978-47f0-a625-9b2e762709d7",
    "tags": []
   },
   "outputs": [],
   "source": [
    "df_raw=pd.read_csv('df_syn_en.csv', encoding='utf-8-sig')"
   ]
  },
  {
   "cell_type": "markdown",
   "id": "9d02e5dd-b55e-45ec-938f-4c8796b4dc48",
   "metadata": {
    "id": "9d02e5dd-b55e-45ec-938f-4c8796b4dc48",
    "tags": []
   },
   "source": [
    "## Data copy"
   ]
  },
  {
   "cell_type": "markdown",
   "id": "b7b636cf-55a3-41ec-a673-5cdc1b2b492a",
   "metadata": {
    "id": "b7b636cf-55a3-41ec-a673-5cdc1b2b492a"
   },
   "source": [
    "- To use imported data safely, we copy the data."
   ]
  },
  {
   "cell_type": "code",
   "execution_count": null,
   "id": "3113b4ed-b5be-4a7b-b0fd-a5036102ff87",
   "metadata": {
    "id": "3113b4ed-b5be-4a7b-b0fd-a5036102ff87"
   },
   "outputs": [],
   "source": [
    "df_raw_copy = copy.deepcopy(df_raw)"
   ]
  },
  {
   "cell_type": "markdown",
   "id": "5799e12e-0534-49c7-b478-383898bc8972",
   "metadata": {
    "id": "5799e12e-0534-49c7-b478-383898bc8972",
    "tags": []
   },
   "source": [
    "## Check the data\n",
    "- Perform 'dec_num' deduplication (unique value)\n",
    "- Sort by 'dec_date' (ASC)\n"
   ]
  },
  {
   "cell_type": "code",
   "execution_count": null,
   "id": "c98da689-cc8a-4488-8534-91aafcc46efd",
   "metadata": {
    "id": "c98da689-cc8a-4488-8534-91aafcc46efd"
   },
   "outputs": [],
   "source": [
    "#Change of 'dec_date' type\n",
    "df_raw_copy['dec_date'] = pd.to_datetime(df_raw_copy['dec_date']) \n",
    "#'dec_num' deduplication\n",
    "df_org = df_raw_copy.drop_duplicates(['dec_num'], keep = 'first') \n",
    "#'dec_date' sorting ASC\n",
    "df_org = df_org.sort_values(by = ['dec_date'], axis = 0) "
   ]
  },
  {
   "cell_type": "code",
   "execution_count": null,
   "id": "4012cca4-e92c-4874-a7b7-cacfe69d7c4a",
   "metadata": {
    "colab": {
     "base_uri": "https://localhost:8080/"
    },
    "executionInfo": {
     "elapsed": 17,
     "status": "ok",
     "timestamp": 1680596422259,
     "user": {
      "displayName": "김형준",
      "userId": "10277863568716562689"
     },
     "user_tz": -540
    },
    "id": "4012cca4-e92c-4874-a7b7-cacfe69d7c4a",
    "outputId": "fe8eb1ea-124a-4e21-853c-234a0007480f",
    "tags": []
   },
   "outputs": [
    {
     "data": {
      "text/plain": [
       "(54000, 22)"
      ]
     },
     "execution_count": 14,
     "metadata": {},
     "output_type": "execute_result"
    }
   ],
   "source": [
    "#Check the type of the imported data\n",
    "df_org.shape"
   ]
  },
  {
   "cell_type": "code",
   "execution_count": null,
   "id": "ee7d9064-dca7-40e8-b606-7245b4a1372c",
   "metadata": {
    "colab": {
     "base_uri": "https://localhost:8080/",
     "height": 357
    },
    "executionInfo": {
     "elapsed": 18,
     "status": "ok",
     "timestamp": 1680596422261,
     "user": {
      "displayName": "김형준",
      "userId": "10277863568716562689"
     },
     "user_tz": -540
    },
    "id": "ee7d9064-dca7-40e8-b606-7245b4a1372c",
    "outputId": "10e0b4d9-cc3c-4e66-fadf-6adc0b5178ec"
   },
   "outputs": [
    {
     "data": {
      "text/html": [
       "\n",
       "  <div id=\"df-94bd8bba-f75a-4ed5-b05f-c0024e6f7af9\">\n",
       "    <div class=\"colab-df-container\">\n",
       "      <div>\n",
       "<style scoped>\n",
       "    .dataframe tbody tr th:only-of-type {\n",
       "        vertical-align: middle;\n",
       "    }\n",
       "\n",
       "    .dataframe tbody tr th {\n",
       "        vertical-align: top;\n",
       "    }\n",
       "\n",
       "    .dataframe thead th {\n",
       "        text-align: right;\n",
       "    }\n",
       "</style>\n",
       "<table border=\"1\" class=\"dataframe\">\n",
       "  <thead>\n",
       "    <tr style=\"text-align: right;\">\n",
       "      <th></th>\n",
       "      <th>dec_num</th>\n",
       "      <th>dec_date</th>\n",
       "      <th>dec_custom_code</th>\n",
       "      <th>imp_dec_code</th>\n",
       "      <th>imp_trd_code</th>\n",
       "      <th>imp_typ_code</th>\n",
       "      <th>collect_code</th>\n",
       "      <th>typ_transport_code</th>\n",
       "      <th>dec_mark</th>\n",
       "      <th>importer</th>\n",
       "      <th>ovs_cust_code</th>\n",
       "      <th>exps_carr_code</th>\n",
       "      <th>HS10</th>\n",
       "      <th>country_ship_code</th>\n",
       "      <th>country_orig_code</th>\n",
       "      <th>trff_rate</th>\n",
       "      <th>trff_class_code</th>\n",
       "      <th>country_orig_mark_code</th>\n",
       "      <th>dec_weight</th>\n",
       "      <th>taxabal_price_KRW</th>\n",
       "      <th>crime_yn</th>\n",
       "      <th>key_exposure</th>\n",
       "    </tr>\n",
       "  </thead>\n",
       "  <tbody>\n",
       "    <tr>\n",
       "      <th>0</th>\n",
       "      <td>97061800</td>\n",
       "      <td>2020-01-01</td>\n",
       "      <td>30</td>\n",
       "      <td>B</td>\n",
       "      <td>11</td>\n",
       "      <td>21</td>\n",
       "      <td>11</td>\n",
       "      <td>10</td>\n",
       "      <td>ZZR1LT6</td>\n",
       "      <td>QLRUBN9</td>\n",
       "      <td>0VKY2BR</td>\n",
       "      <td>NaN</td>\n",
       "      <td>4408909195</td>\n",
       "      <td>BE</td>\n",
       "      <td>BE</td>\n",
       "      <td>0.0</td>\n",
       "      <td>FEU1</td>\n",
       "      <td>G</td>\n",
       "      <td>108.0</td>\n",
       "      <td>372254.40</td>\n",
       "      <td>0</td>\n",
       "      <td>0</td>\n",
       "    </tr>\n",
       "    <tr>\n",
       "      <th>25</th>\n",
       "      <td>21073696</td>\n",
       "      <td>2020-01-01</td>\n",
       "      <td>70</td>\n",
       "      <td>B</td>\n",
       "      <td>11</td>\n",
       "      <td>21</td>\n",
       "      <td>11</td>\n",
       "      <td>10</td>\n",
       "      <td>0M7YBNH</td>\n",
       "      <td>55BH1VM</td>\n",
       "      <td>OOZO637</td>\n",
       "      <td>NaN</td>\n",
       "      <td>9206009000</td>\n",
       "      <td>NP</td>\n",
       "      <td>NP</td>\n",
       "      <td>0.0</td>\n",
       "      <td>R</td>\n",
       "      <td>S</td>\n",
       "      <td>60.0</td>\n",
       "      <td>3486.00</td>\n",
       "      <td>0</td>\n",
       "      <td>0</td>\n",
       "    </tr>\n",
       "    <tr>\n",
       "      <th>23</th>\n",
       "      <td>64705381</td>\n",
       "      <td>2020-01-01</td>\n",
       "      <td>30</td>\n",
       "      <td>B</td>\n",
       "      <td>11</td>\n",
       "      <td>21</td>\n",
       "      <td>11</td>\n",
       "      <td>10</td>\n",
       "      <td>CSYO98C</td>\n",
       "      <td>Y3QS787</td>\n",
       "      <td>KQ8UJP7</td>\n",
       "      <td>NaN</td>\n",
       "      <td>7326909000</td>\n",
       "      <td>DE</td>\n",
       "      <td>DE</td>\n",
       "      <td>0.0</td>\n",
       "      <td>FEU1</td>\n",
       "      <td>Y</td>\n",
       "      <td>22.0</td>\n",
       "      <td>33.00</td>\n",
       "      <td>0</td>\n",
       "      <td>0</td>\n",
       "    </tr>\n",
       "    <tr>\n",
       "      <th>22</th>\n",
       "      <td>25886903</td>\n",
       "      <td>2020-01-01</td>\n",
       "      <td>20</td>\n",
       "      <td>B</td>\n",
       "      <td>11</td>\n",
       "      <td>21</td>\n",
       "      <td>11</td>\n",
       "      <td>10</td>\n",
       "      <td>5K1441H</td>\n",
       "      <td>EHXQG9A</td>\n",
       "      <td>W3K0JC6</td>\n",
       "      <td>NaN</td>\n",
       "      <td>8517623900</td>\n",
       "      <td>CA</td>\n",
       "      <td>CA</td>\n",
       "      <td>0.0</td>\n",
       "      <td>CIT</td>\n",
       "      <td>Y</td>\n",
       "      <td>14.1</td>\n",
       "      <td>13320.27</td>\n",
       "      <td>0</td>\n",
       "      <td>0</td>\n",
       "    </tr>\n",
       "    <tr>\n",
       "      <th>21</th>\n",
       "      <td>19201172</td>\n",
       "      <td>2020-01-01</td>\n",
       "      <td>40</td>\n",
       "      <td>B</td>\n",
       "      <td>11</td>\n",
       "      <td>21</td>\n",
       "      <td>11</td>\n",
       "      <td>10</td>\n",
       "      <td>A7POIBB</td>\n",
       "      <td>Q8MAKJD</td>\n",
       "      <td>KILND1W</td>\n",
       "      <td>NaN</td>\n",
       "      <td>2005999000</td>\n",
       "      <td>CN</td>\n",
       "      <td>CN</td>\n",
       "      <td>18.0</td>\n",
       "      <td>FCN1</td>\n",
       "      <td>G</td>\n",
       "      <td>48320.0</td>\n",
       "      <td>4575904.00</td>\n",
       "      <td>0</td>\n",
       "      <td>0</td>\n",
       "    </tr>\n",
       "  </tbody>\n",
       "</table>\n",
       "</div>\n",
       "      <button class=\"colab-df-convert\" onclick=\"convertToInteractive('df-94bd8bba-f75a-4ed5-b05f-c0024e6f7af9')\"\n",
       "              title=\"Convert this dataframe to an interactive table.\"\n",
       "              style=\"display:none;\">\n",
       "        \n",
       "  <svg xmlns=\"http://www.w3.org/2000/svg\" height=\"24px\"viewBox=\"0 0 24 24\"\n",
       "       width=\"24px\">\n",
       "    <path d=\"M0 0h24v24H0V0z\" fill=\"none\"/>\n",
       "    <path d=\"M18.56 5.44l.94 2.06.94-2.06 2.06-.94-2.06-.94-.94-2.06-.94 2.06-2.06.94zm-11 1L8.5 8.5l.94-2.06 2.06-.94-2.06-.94L8.5 2.5l-.94 2.06-2.06.94zm10 10l.94 2.06.94-2.06 2.06-.94-2.06-.94-.94-2.06-.94 2.06-2.06.94z\"/><path d=\"M17.41 7.96l-1.37-1.37c-.4-.4-.92-.59-1.43-.59-.52 0-1.04.2-1.43.59L10.3 9.45l-7.72 7.72c-.78.78-.78 2.05 0 2.83L4 21.41c.39.39.9.59 1.41.59.51 0 1.02-.2 1.41-.59l7.78-7.78 2.81-2.81c.8-.78.8-2.07 0-2.86zM5.41 20L4 18.59l7.72-7.72 1.47 1.35L5.41 20z\"/>\n",
       "  </svg>\n",
       "      </button>\n",
       "      \n",
       "  <style>\n",
       "    .colab-df-container {\n",
       "      display:flex;\n",
       "      flex-wrap:wrap;\n",
       "      gap: 12px;\n",
       "    }\n",
       "\n",
       "    .colab-df-convert {\n",
       "      background-color: #E8F0FE;\n",
       "      border: none;\n",
       "      border-radius: 50%;\n",
       "      cursor: pointer;\n",
       "      display: none;\n",
       "      fill: #1967D2;\n",
       "      height: 32px;\n",
       "      padding: 0 0 0 0;\n",
       "      width: 32px;\n",
       "    }\n",
       "\n",
       "    .colab-df-convert:hover {\n",
       "      background-color: #E2EBFA;\n",
       "      box-shadow: 0px 1px 2px rgba(60, 64, 67, 0.3), 0px 1px 3px 1px rgba(60, 64, 67, 0.15);\n",
       "      fill: #174EA6;\n",
       "    }\n",
       "\n",
       "    [theme=dark] .colab-df-convert {\n",
       "      background-color: #3B4455;\n",
       "      fill: #D2E3FC;\n",
       "    }\n",
       "\n",
       "    [theme=dark] .colab-df-convert:hover {\n",
       "      background-color: #434B5C;\n",
       "      box-shadow: 0px 1px 3px 1px rgba(0, 0, 0, 0.15);\n",
       "      filter: drop-shadow(0px 1px 2px rgba(0, 0, 0, 0.3));\n",
       "      fill: #FFFFFF;\n",
       "    }\n",
       "  </style>\n",
       "\n",
       "      <script>\n",
       "        const buttonEl =\n",
       "          document.querySelector('#df-94bd8bba-f75a-4ed5-b05f-c0024e6f7af9 button.colab-df-convert');\n",
       "        buttonEl.style.display =\n",
       "          google.colab.kernel.accessAllowed ? 'block' : 'none';\n",
       "\n",
       "        async function convertToInteractive(key) {\n",
       "          const element = document.querySelector('#df-94bd8bba-f75a-4ed5-b05f-c0024e6f7af9');\n",
       "          const dataTable =\n",
       "            await google.colab.kernel.invokeFunction('convertToInteractive',\n",
       "                                                     [key], {});\n",
       "          if (!dataTable) return;\n",
       "\n",
       "          const docLinkHtml = 'Like what you see? Visit the ' +\n",
       "            '<a target=\"_blank\" href=https://colab.research.google.com/notebooks/data_table.ipynb>data table notebook</a>'\n",
       "            + ' to learn more about interactive tables.';\n",
       "          element.innerHTML = '';\n",
       "          dataTable['output_type'] = 'display_data';\n",
       "          await google.colab.output.renderOutput(dataTable, element);\n",
       "          const docLink = document.createElement('div');\n",
       "          docLink.innerHTML = docLinkHtml;\n",
       "          element.appendChild(docLink);\n",
       "        }\n",
       "      </script>\n",
       "    </div>\n",
       "  </div>\n",
       "  "
      ],
      "text/plain": [
       "     dec_num   dec_date  dec_custom_code imp_dec_code  imp_trd_code  imp_typ_code  collect_code  typ_transport_code dec_mark importer ovs_cust_code exps_carr_code        HS10 country_ship_code country_orig_code  trff_rate trff_class_code country_orig_mark_code  dec_weight  taxabal_price_KRW  crime_yn  key_exposure\n",
       "0   97061800 2020-01-01  30               B            11            21            11            10                  ZZR1LT6  QLRUBN9  0VKY2BR       NaN            4408909195  BE                BE                0.0        FEU1            G                      108.0       372254.40          0         0           \n",
       "25  21073696 2020-01-01  70               B            11            21            11            10                  0M7YBNH  55BH1VM  OOZO637       NaN            9206009000  NP                NP                0.0        R               S                      60.0        3486.00            0         0           \n",
       "23  64705381 2020-01-01  30               B            11            21            11            10                  CSYO98C  Y3QS787  KQ8UJP7       NaN            7326909000  DE                DE                0.0        FEU1            Y                      22.0        33.00              0         0           \n",
       "22  25886903 2020-01-01  20               B            11            21            11            10                  5K1441H  EHXQG9A  W3K0JC6       NaN            8517623900  CA                CA                0.0        CIT             Y                      14.1        13320.27           0         0           \n",
       "21  19201172 2020-01-01  40               B            11            21            11            10                  A7POIBB  Q8MAKJD  KILND1W       NaN            2005999000  CN                CN                18.0       FCN1            G                      48320.0     4575904.00         0         0           "
      ]
     },
     "execution_count": 15,
     "metadata": {},
     "output_type": "execute_result"
    }
   ],
   "source": [
    "#Look at an example of imported data\n",
    "df_org.head()"
   ]
  },
  {
   "cell_type": "markdown",
   "id": "3f16c874-bab8-44cc-a8f0-b612f50f090f",
   "metadata": {
    "id": "3f16c874-bab8-44cc-a8f0-b612f50f090f"
   },
   "source": [
    "- Check basic information of imported data.\n",
    "- We can see that some columns has more values(non-null) than others."
   ]
  },
  {
   "cell_type": "code",
   "execution_count": null,
   "id": "2fbdcb2a-4282-4338-9209-05811f79781e",
   "metadata": {
    "colab": {
     "base_uri": "https://localhost:8080/"
    },
    "executionInfo": {
     "elapsed": 17,
     "status": "ok",
     "timestamp": 1680596422261,
     "user": {
      "displayName": "김형준",
      "userId": "10277863568716562689"
     },
     "user_tz": -540
    },
    "id": "2fbdcb2a-4282-4338-9209-05811f79781e",
    "outputId": "6b76b514-0317-4a10-f849-71b16153b232",
    "tags": []
   },
   "outputs": [
    {
     "name": "stdout",
     "output_type": "stream",
     "text": [
      "<class 'pandas.core.frame.DataFrame'>\n",
      "Int64Index: 54000 entries, 0 to 53999\n",
      "Data columns (total 22 columns):\n",
      " #   Column                  Non-Null Count  Dtype         \n",
      "---  ------                  --------------  -----         \n",
      " 0   dec_num                 54000 non-null  int64         \n",
      " 1   dec_date                54000 non-null  datetime64[ns]\n",
      " 2   dec_custom_code         54000 non-null  int64         \n",
      " 3   imp_dec_code            54000 non-null  object        \n",
      " 4   imp_trd_code            54000 non-null  int64         \n",
      " 5   imp_typ_code            54000 non-null  int64         \n",
      " 6   collect_code            54000 non-null  int64         \n",
      " 7   typ_transport_code      54000 non-null  int64         \n",
      " 8   dec_mark                54000 non-null  object        \n",
      " 9   importer                54000 non-null  object        \n",
      " 10  ovs_cust_code           48799 non-null  object        \n",
      " 11  exps_carr_code          9538 non-null   object        \n",
      " 12  HS10                    54000 non-null  int64         \n",
      " 13  country_ship_code       54000 non-null  object        \n",
      " 14  country_orig_code       54000 non-null  object        \n",
      " 15  trff_rate               54000 non-null  float64       \n",
      " 16  trff_class_code         54000 non-null  object        \n",
      " 17  country_orig_mark_code  54000 non-null  object        \n",
      " 18  dec_weight              54000 non-null  float64       \n",
      " 19  taxabal_price_KRW       54000 non-null  float64       \n",
      " 20  crime_yn                54000 non-null  int64         \n",
      " 21  key_exposure            54000 non-null  int64         \n",
      "dtypes: datetime64[ns](1), float64(3), int64(9), object(9)\n",
      "memory usage: 9.5+ MB\n"
     ]
    }
   ],
   "source": [
    "#see that dec_date's data type is datetime64[ns], unlike others.\n",
    "df_org.info()"
   ]
  },
  {
   "cell_type": "markdown",
   "id": "ba377abb-bc6e-4bc0-b600-2890c51184f6",
   "metadata": {
    "id": "ba377abb-bc6e-4bc0-b600-2890c51184f6"
   },
   "source": [
    "- Use describe to check the data summary of all columns.\n",
    "- Summarize statistical data such as mean and std for numerical data."
   ]
  },
  {
   "cell_type": "code",
   "execution_count": null,
   "id": "9912ed87-7ac4-4b5c-9674-829d09b7d568",
   "metadata": {
    "colab": {
     "base_uri": "https://localhost:8080/",
     "height": 625
    },
    "executionInfo": {
     "elapsed": 15,
     "status": "ok",
     "timestamp": 1680596422262,
     "user": {
      "displayName": "김형준",
      "userId": "10277863568716562689"
     },
     "user_tz": -540
    },
    "id": "9912ed87-7ac4-4b5c-9674-829d09b7d568",
    "outputId": "299a1bdf-9a4e-41eb-c5de-f557da385ba4",
    "tags": []
   },
   "outputs": [
    {
     "data": {
      "text/html": [
       "\n",
       "  <div id=\"df-84584dfb-fc05-4707-83ab-4df870f213cb\">\n",
       "    <div class=\"colab-df-container\">\n",
       "      <div>\n",
       "<style scoped>\n",
       "    .dataframe tbody tr th:only-of-type {\n",
       "        vertical-align: middle;\n",
       "    }\n",
       "\n",
       "    .dataframe tbody tr th {\n",
       "        vertical-align: top;\n",
       "    }\n",
       "\n",
       "    .dataframe thead th {\n",
       "        text-align: right;\n",
       "    }\n",
       "</style>\n",
       "<table border=\"1\" class=\"dataframe\">\n",
       "  <thead>\n",
       "    <tr style=\"text-align: right;\">\n",
       "      <th></th>\n",
       "      <th>dec_num</th>\n",
       "      <th>dec_date</th>\n",
       "      <th>dec_custom_code</th>\n",
       "      <th>imp_dec_code</th>\n",
       "      <th>imp_trd_code</th>\n",
       "      <th>imp_typ_code</th>\n",
       "      <th>collect_code</th>\n",
       "      <th>typ_transport_code</th>\n",
       "      <th>dec_mark</th>\n",
       "      <th>importer</th>\n",
       "      <th>ovs_cust_code</th>\n",
       "      <th>exps_carr_code</th>\n",
       "      <th>HS10</th>\n",
       "      <th>country_ship_code</th>\n",
       "      <th>country_orig_code</th>\n",
       "      <th>trff_rate</th>\n",
       "      <th>trff_class_code</th>\n",
       "      <th>country_orig_mark_code</th>\n",
       "      <th>dec_weight</th>\n",
       "      <th>taxabal_price_KRW</th>\n",
       "      <th>crime_yn</th>\n",
       "      <th>key_exposure</th>\n",
       "    </tr>\n",
       "  </thead>\n",
       "  <tbody>\n",
       "    <tr>\n",
       "      <th>count</th>\n",
       "      <td>5.400000e+04</td>\n",
       "      <td>54000</td>\n",
       "      <td>54000.000000</td>\n",
       "      <td>54000</td>\n",
       "      <td>54000.000000</td>\n",
       "      <td>54000.000000</td>\n",
       "      <td>54000.000000</td>\n",
       "      <td>54000.000000</td>\n",
       "      <td>54000</td>\n",
       "      <td>54000</td>\n",
       "      <td>48799</td>\n",
       "      <td>9538</td>\n",
       "      <td>5.400000e+04</td>\n",
       "      <td>54000</td>\n",
       "      <td>54000</td>\n",
       "      <td>54000.000000</td>\n",
       "      <td>54000</td>\n",
       "      <td>54000</td>\n",
       "      <td>5.400000e+04</td>\n",
       "      <td>5.400000e+04</td>\n",
       "      <td>54000.000000</td>\n",
       "      <td>54000.000000</td>\n",
       "    </tr>\n",
       "    <tr>\n",
       "      <th>unique</th>\n",
       "      <td>NaN</td>\n",
       "      <td>547</td>\n",
       "      <td>NaN</td>\n",
       "      <td>3</td>\n",
       "      <td>NaN</td>\n",
       "      <td>NaN</td>\n",
       "      <td>NaN</td>\n",
       "      <td>NaN</td>\n",
       "      <td>1238</td>\n",
       "      <td>14482</td>\n",
       "      <td>12201</td>\n",
       "      <td>81</td>\n",
       "      <td>NaN</td>\n",
       "      <td>102</td>\n",
       "      <td>119</td>\n",
       "      <td>NaN</td>\n",
       "      <td>49</td>\n",
       "      <td>6</td>\n",
       "      <td>NaN</td>\n",
       "      <td>NaN</td>\n",
       "      <td>NaN</td>\n",
       "      <td>NaN</td>\n",
       "    </tr>\n",
       "    <tr>\n",
       "      <th>top</th>\n",
       "      <td>NaN</td>\n",
       "      <td>2021-02-01 00:00:00</td>\n",
       "      <td>NaN</td>\n",
       "      <td>B</td>\n",
       "      <td>NaN</td>\n",
       "      <td>NaN</td>\n",
       "      <td>NaN</td>\n",
       "      <td>NaN</td>\n",
       "      <td>DWNJQL8</td>\n",
       "      <td>708A72F</td>\n",
       "      <td>7PN0VA5</td>\n",
       "      <td>MWIDNS</td>\n",
       "      <td>NaN</td>\n",
       "      <td>CN</td>\n",
       "      <td>CN</td>\n",
       "      <td>NaN</td>\n",
       "      <td>A</td>\n",
       "      <td>E</td>\n",
       "      <td>NaN</td>\n",
       "      <td>NaN</td>\n",
       "      <td>NaN</td>\n",
       "      <td>NaN</td>\n",
       "    </tr>\n",
       "    <tr>\n",
       "      <th>freq</th>\n",
       "      <td>NaN</td>\n",
       "      <td>505</td>\n",
       "      <td>NaN</td>\n",
       "      <td>53992</td>\n",
       "      <td>NaN</td>\n",
       "      <td>NaN</td>\n",
       "      <td>NaN</td>\n",
       "      <td>NaN</td>\n",
       "      <td>1777</td>\n",
       "      <td>196</td>\n",
       "      <td>271</td>\n",
       "      <td>3109</td>\n",
       "      <td>NaN</td>\n",
       "      <td>24956</td>\n",
       "      <td>27486</td>\n",
       "      <td>NaN</td>\n",
       "      <td>20367</td>\n",
       "      <td>15269</td>\n",
       "      <td>NaN</td>\n",
       "      <td>NaN</td>\n",
       "      <td>NaN</td>\n",
       "      <td>NaN</td>\n",
       "    </tr>\n",
       "    <tr>\n",
       "      <th>first</th>\n",
       "      <td>NaN</td>\n",
       "      <td>2020-01-01 00:00:00</td>\n",
       "      <td>NaN</td>\n",
       "      <td>NaN</td>\n",
       "      <td>NaN</td>\n",
       "      <td>NaN</td>\n",
       "      <td>NaN</td>\n",
       "      <td>NaN</td>\n",
       "      <td>NaN</td>\n",
       "      <td>NaN</td>\n",
       "      <td>NaN</td>\n",
       "      <td>NaN</td>\n",
       "      <td>NaN</td>\n",
       "      <td>NaN</td>\n",
       "      <td>NaN</td>\n",
       "      <td>NaN</td>\n",
       "      <td>NaN</td>\n",
       "      <td>NaN</td>\n",
       "      <td>NaN</td>\n",
       "      <td>NaN</td>\n",
       "      <td>NaN</td>\n",
       "      <td>NaN</td>\n",
       "    </tr>\n",
       "    <tr>\n",
       "      <th>last</th>\n",
       "      <td>NaN</td>\n",
       "      <td>2021-06-30 00:00:00</td>\n",
       "      <td>NaN</td>\n",
       "      <td>NaN</td>\n",
       "      <td>NaN</td>\n",
       "      <td>NaN</td>\n",
       "      <td>NaN</td>\n",
       "      <td>NaN</td>\n",
       "      <td>NaN</td>\n",
       "      <td>NaN</td>\n",
       "      <td>NaN</td>\n",
       "      <td>NaN</td>\n",
       "      <td>NaN</td>\n",
       "      <td>NaN</td>\n",
       "      <td>NaN</td>\n",
       "      <td>NaN</td>\n",
       "      <td>NaN</td>\n",
       "      <td>NaN</td>\n",
       "      <td>NaN</td>\n",
       "      <td>NaN</td>\n",
       "      <td>NaN</td>\n",
       "      <td>NaN</td>\n",
       "    </tr>\n",
       "    <tr>\n",
       "      <th>mean</th>\n",
       "      <td>5.507171e+07</td>\n",
       "      <td>NaN</td>\n",
       "      <td>31.227241</td>\n",
       "      <td>NaN</td>\n",
       "      <td>19.554000</td>\n",
       "      <td>20.666093</td>\n",
       "      <td>17.532352</td>\n",
       "      <td>23.166111</td>\n",
       "      <td>NaN</td>\n",
       "      <td>NaN</td>\n",
       "      <td>NaN</td>\n",
       "      <td>NaN</td>\n",
       "      <td>6.172031e+09</td>\n",
       "      <td>NaN</td>\n",
       "      <td>NaN</td>\n",
       "      <td>7.430657</td>\n",
       "      <td>NaN</td>\n",
       "      <td>NaN</td>\n",
       "      <td>2.674132e+04</td>\n",
       "      <td>3.512241e+06</td>\n",
       "      <td>0.215796</td>\n",
       "      <td>0.225889</td>\n",
       "    </tr>\n",
       "    <tr>\n",
       "      <th>std</th>\n",
       "      <td>2.596503e+07</td>\n",
       "      <td>NaN</td>\n",
       "      <td>16.053572</td>\n",
       "      <td>NaN</td>\n",
       "      <td>24.107826</td>\n",
       "      <td>2.393293</td>\n",
       "      <td>12.319247</td>\n",
       "      <td>15.378693</td>\n",
       "      <td>NaN</td>\n",
       "      <td>NaN</td>\n",
       "      <td>NaN</td>\n",
       "      <td>NaN</td>\n",
       "      <td>2.615394e+09</td>\n",
       "      <td>NaN</td>\n",
       "      <td>NaN</td>\n",
       "      <td>26.708652</td>\n",
       "      <td>NaN</td>\n",
       "      <td>NaN</td>\n",
       "      <td>6.659435e+05</td>\n",
       "      <td>5.405280e+07</td>\n",
       "      <td>0.411377</td>\n",
       "      <td>0.441647</td>\n",
       "    </tr>\n",
       "    <tr>\n",
       "      <th>min</th>\n",
       "      <td>1.000019e+07</td>\n",
       "      <td>NaN</td>\n",
       "      <td>10.000000</td>\n",
       "      <td>NaN</td>\n",
       "      <td>11.000000</td>\n",
       "      <td>11.000000</td>\n",
       "      <td>0.000000</td>\n",
       "      <td>10.000000</td>\n",
       "      <td>NaN</td>\n",
       "      <td>NaN</td>\n",
       "      <td>NaN</td>\n",
       "      <td>NaN</td>\n",
       "      <td>1.012910e+08</td>\n",
       "      <td>NaN</td>\n",
       "      <td>NaN</td>\n",
       "      <td>0.000000</td>\n",
       "      <td>NaN</td>\n",
       "      <td>NaN</td>\n",
       "      <td>0.000000e+00</td>\n",
       "      <td>0.000000e+00</td>\n",
       "      <td>0.000000</td>\n",
       "      <td>0.000000</td>\n",
       "    </tr>\n",
       "    <tr>\n",
       "      <th>25%</th>\n",
       "      <td>3.256710e+07</td>\n",
       "      <td>NaN</td>\n",
       "      <td>20.000000</td>\n",
       "      <td>NaN</td>\n",
       "      <td>11.000000</td>\n",
       "      <td>21.000000</td>\n",
       "      <td>11.000000</td>\n",
       "      <td>10.000000</td>\n",
       "      <td>NaN</td>\n",
       "      <td>NaN</td>\n",
       "      <td>NaN</td>\n",
       "      <td>NaN</td>\n",
       "      <td>3.926909e+09</td>\n",
       "      <td>NaN</td>\n",
       "      <td>NaN</td>\n",
       "      <td>0.000000</td>\n",
       "      <td>NaN</td>\n",
       "      <td>NaN</td>\n",
       "      <td>9.400000e+00</td>\n",
       "      <td>5.071350e+02</td>\n",
       "      <td>0.000000</td>\n",
       "      <td>0.000000</td>\n",
       "    </tr>\n",
       "    <tr>\n",
       "      <th>50%</th>\n",
       "      <td>5.499228e+07</td>\n",
       "      <td>NaN</td>\n",
       "      <td>30.000000</td>\n",
       "      <td>NaN</td>\n",
       "      <td>11.000000</td>\n",
       "      <td>21.000000</td>\n",
       "      <td>11.000000</td>\n",
       "      <td>10.000000</td>\n",
       "      <td>NaN</td>\n",
       "      <td>NaN</td>\n",
       "      <td>NaN</td>\n",
       "      <td>NaN</td>\n",
       "      <td>6.307909e+09</td>\n",
       "      <td>NaN</td>\n",
       "      <td>NaN</td>\n",
       "      <td>5.000000</td>\n",
       "      <td>NaN</td>\n",
       "      <td>NaN</td>\n",
       "      <td>9.500000e+01</td>\n",
       "      <td>9.672000e+03</td>\n",
       "      <td>0.000000</td>\n",
       "      <td>0.000000</td>\n",
       "    </tr>\n",
       "    <tr>\n",
       "      <th>75%</th>\n",
       "      <td>7.747199e+07</td>\n",
       "      <td>NaN</td>\n",
       "      <td>40.000000</td>\n",
       "      <td>NaN</td>\n",
       "      <td>11.000000</td>\n",
       "      <td>21.000000</td>\n",
       "      <td>18.000000</td>\n",
       "      <td>40.000000</td>\n",
       "      <td>NaN</td>\n",
       "      <td>NaN</td>\n",
       "      <td>NaN</td>\n",
       "      <td>NaN</td>\n",
       "      <td>8.518291e+09</td>\n",
       "      <td>NaN</td>\n",
       "      <td>NaN</td>\n",
       "      <td>8.000000</td>\n",
       "      <td>NaN</td>\n",
       "      <td>NaN</td>\n",
       "      <td>1.532000e+03</td>\n",
       "      <td>2.338245e+05</td>\n",
       "      <td>0.000000</td>\n",
       "      <td>0.000000</td>\n",
       "    </tr>\n",
       "    <tr>\n",
       "      <th>max</th>\n",
       "      <td>9.999981e+07</td>\n",
       "      <td>NaN</td>\n",
       "      <td>154.000000</td>\n",
       "      <td>NaN</td>\n",
       "      <td>100.000000</td>\n",
       "      <td>31.000000</td>\n",
       "      <td>43.000000</td>\n",
       "      <td>90.000000</td>\n",
       "      <td>NaN</td>\n",
       "      <td>NaN</td>\n",
       "      <td>NaN</td>\n",
       "      <td>NaN</td>\n",
       "      <td>9.706002e+09</td>\n",
       "      <td>NaN</td>\n",
       "      <td>NaN</td>\n",
       "      <td>754.300000</td>\n",
       "      <td>NaN</td>\n",
       "      <td>NaN</td>\n",
       "      <td>6.002500e+07</td>\n",
       "      <td>7.045682e+09</td>\n",
       "      <td>1.000000</td>\n",
       "      <td>2.000000</td>\n",
       "    </tr>\n",
       "  </tbody>\n",
       "</table>\n",
       "</div>\n",
       "      <button class=\"colab-df-convert\" onclick=\"convertToInteractive('df-84584dfb-fc05-4707-83ab-4df870f213cb')\"\n",
       "              title=\"Convert this dataframe to an interactive table.\"\n",
       "              style=\"display:none;\">\n",
       "        \n",
       "  <svg xmlns=\"http://www.w3.org/2000/svg\" height=\"24px\"viewBox=\"0 0 24 24\"\n",
       "       width=\"24px\">\n",
       "    <path d=\"M0 0h24v24H0V0z\" fill=\"none\"/>\n",
       "    <path d=\"M18.56 5.44l.94 2.06.94-2.06 2.06-.94-2.06-.94-.94-2.06-.94 2.06-2.06.94zm-11 1L8.5 8.5l.94-2.06 2.06-.94-2.06-.94L8.5 2.5l-.94 2.06-2.06.94zm10 10l.94 2.06.94-2.06 2.06-.94-2.06-.94-.94-2.06-.94 2.06-2.06.94z\"/><path d=\"M17.41 7.96l-1.37-1.37c-.4-.4-.92-.59-1.43-.59-.52 0-1.04.2-1.43.59L10.3 9.45l-7.72 7.72c-.78.78-.78 2.05 0 2.83L4 21.41c.39.39.9.59 1.41.59.51 0 1.02-.2 1.41-.59l7.78-7.78 2.81-2.81c.8-.78.8-2.07 0-2.86zM5.41 20L4 18.59l7.72-7.72 1.47 1.35L5.41 20z\"/>\n",
       "  </svg>\n",
       "      </button>\n",
       "      \n",
       "  <style>\n",
       "    .colab-df-container {\n",
       "      display:flex;\n",
       "      flex-wrap:wrap;\n",
       "      gap: 12px;\n",
       "    }\n",
       "\n",
       "    .colab-df-convert {\n",
       "      background-color: #E8F0FE;\n",
       "      border: none;\n",
       "      border-radius: 50%;\n",
       "      cursor: pointer;\n",
       "      display: none;\n",
       "      fill: #1967D2;\n",
       "      height: 32px;\n",
       "      padding: 0 0 0 0;\n",
       "      width: 32px;\n",
       "    }\n",
       "\n",
       "    .colab-df-convert:hover {\n",
       "      background-color: #E2EBFA;\n",
       "      box-shadow: 0px 1px 2px rgba(60, 64, 67, 0.3), 0px 1px 3px 1px rgba(60, 64, 67, 0.15);\n",
       "      fill: #174EA6;\n",
       "    }\n",
       "\n",
       "    [theme=dark] .colab-df-convert {\n",
       "      background-color: #3B4455;\n",
       "      fill: #D2E3FC;\n",
       "    }\n",
       "\n",
       "    [theme=dark] .colab-df-convert:hover {\n",
       "      background-color: #434B5C;\n",
       "      box-shadow: 0px 1px 3px 1px rgba(0, 0, 0, 0.15);\n",
       "      filter: drop-shadow(0px 1px 2px rgba(0, 0, 0, 0.3));\n",
       "      fill: #FFFFFF;\n",
       "    }\n",
       "  </style>\n",
       "\n",
       "      <script>\n",
       "        const buttonEl =\n",
       "          document.querySelector('#df-84584dfb-fc05-4707-83ab-4df870f213cb button.colab-df-convert');\n",
       "        buttonEl.style.display =\n",
       "          google.colab.kernel.accessAllowed ? 'block' : 'none';\n",
       "\n",
       "        async function convertToInteractive(key) {\n",
       "          const element = document.querySelector('#df-84584dfb-fc05-4707-83ab-4df870f213cb');\n",
       "          const dataTable =\n",
       "            await google.colab.kernel.invokeFunction('convertToInteractive',\n",
       "                                                     [key], {});\n",
       "          if (!dataTable) return;\n",
       "\n",
       "          const docLinkHtml = 'Like what you see? Visit the ' +\n",
       "            '<a target=\"_blank\" href=https://colab.research.google.com/notebooks/data_table.ipynb>data table notebook</a>'\n",
       "            + ' to learn more about interactive tables.';\n",
       "          element.innerHTML = '';\n",
       "          dataTable['output_type'] = 'display_data';\n",
       "          await google.colab.output.renderOutput(dataTable, element);\n",
       "          const docLink = document.createElement('div');\n",
       "          docLink.innerHTML = docLinkHtml;\n",
       "          element.appendChild(docLink);\n",
       "        }\n",
       "      </script>\n",
       "    </div>\n",
       "  </div>\n",
       "  "
      ],
      "text/plain": [
       "             dec_num             dec_date  dec_custom_code imp_dec_code  imp_trd_code  imp_typ_code  collect_code  typ_transport_code dec_mark importer ovs_cust_code exps_carr_code          HS10 country_ship_code country_orig_code     trff_rate trff_class_code country_orig_mark_code    dec_weight  taxabal_price_KRW      crime_yn  key_exposure\n",
       "count   5.400000e+04  54000                54000.000000     54000        54000.000000  54000.000000  54000.000000  54000.000000        54000    54000    48799         9538           5.400000e+04  54000             54000             54000.000000  54000           54000                  5.400000e+04  5.400000e+04       54000.000000  54000.000000\n",
       "unique NaN            547                 NaN               3           NaN           NaN           NaN           NaN                  1238     14482    12201         81            NaN            102               119              NaN            49              6                     NaN           NaN                NaN           NaN          \n",
       "top    NaN            2021-02-01 00:00:00 NaN               B           NaN           NaN           NaN           NaN                  DWNJQL8  708A72F  7PN0VA5       MWIDNS        NaN            CN                CN               NaN            A               E                     NaN           NaN                NaN           NaN          \n",
       "freq   NaN            505                 NaN               53992       NaN           NaN           NaN           NaN                  1777     196      271           3109          NaN            24956             27486            NaN            20367           15269                 NaN           NaN                NaN           NaN          \n",
       "first  NaN            2020-01-01 00:00:00 NaN               NaN         NaN           NaN           NaN           NaN                  NaN      NaN      NaN           NaN           NaN            NaN               NaN              NaN            NaN             NaN                   NaN           NaN                NaN           NaN          \n",
       "last   NaN            2021-06-30 00:00:00 NaN               NaN         NaN           NaN           NaN           NaN                  NaN      NaN      NaN           NaN           NaN            NaN               NaN              NaN            NaN             NaN                   NaN           NaN                NaN           NaN          \n",
       "mean    5.507171e+07  NaN                  31.227241        NaN          19.554000     20.666093     17.532352     23.166111           NaN      NaN      NaN           NaN            6.172031e+09  NaN               NaN               7.430657      NaN             NaN                    2.674132e+04  3.512241e+06       0.215796      0.225889    \n",
       "std     2.596503e+07  NaN                  16.053572        NaN          24.107826     2.393293      12.319247     15.378693           NaN      NaN      NaN           NaN            2.615394e+09  NaN               NaN               26.708652     NaN             NaN                    6.659435e+05  5.405280e+07       0.411377      0.441647    \n",
       "min     1.000019e+07  NaN                  10.000000        NaN          11.000000     11.000000     0.000000      10.000000           NaN      NaN      NaN           NaN            1.012910e+08  NaN               NaN               0.000000      NaN             NaN                    0.000000e+00  0.000000e+00       0.000000      0.000000    \n",
       "25%     3.256710e+07  NaN                  20.000000        NaN          11.000000     21.000000     11.000000     10.000000           NaN      NaN      NaN           NaN            3.926909e+09  NaN               NaN               0.000000      NaN             NaN                    9.400000e+00  5.071350e+02       0.000000      0.000000    \n",
       "50%     5.499228e+07  NaN                  30.000000        NaN          11.000000     21.000000     11.000000     10.000000           NaN      NaN      NaN           NaN            6.307909e+09  NaN               NaN               5.000000      NaN             NaN                    9.500000e+01  9.672000e+03       0.000000      0.000000    \n",
       "75%     7.747199e+07  NaN                  40.000000        NaN          11.000000     21.000000     18.000000     40.000000           NaN      NaN      NaN           NaN            8.518291e+09  NaN               NaN               8.000000      NaN             NaN                    1.532000e+03  2.338245e+05       0.000000      0.000000    \n",
       "max     9.999981e+07  NaN                  154.000000       NaN          100.000000    31.000000     43.000000     90.000000           NaN      NaN      NaN           NaN            9.706002e+09  NaN               NaN               754.300000    NaN             NaN                    6.002500e+07  7.045682e+09       1.000000      2.000000    "
      ]
     },
     "execution_count": 17,
     "metadata": {},
     "output_type": "execute_result"
    }
   ],
   "source": [
    "# Summarizes information such as most common variable and count of variables for categorical data\n",
    "df_org.describe(include = 'all')"
   ]
  },
  {
   "cell_type": "markdown",
   "id": "358e665c-469f-4a4d-b501-01dc94b398be",
   "metadata": {
    "id": "358e665c-469f-4a4d-b501-01dc94b398be"
   },
   "source": [
    "### Finding Outliers\n",
    "- Ensure that a particular value is concentrated in one column\n",
    "- Recognize that only one value can be biased and extracted during sampling\n",
    "- Check for outliers ('imp_dec_code')"
   ]
  },
  {
   "cell_type": "code",
   "execution_count": null,
   "id": "e3badb41-46cb-4939-b2b2-092a900fe9ae",
   "metadata": {
    "colab": {
     "base_uri": "https://localhost:8080/"
    },
    "executionInfo": {
     "elapsed": 14,
     "status": "ok",
     "timestamp": 1680596422262,
     "user": {
      "displayName": "김형준",
      "userId": "10277863568716562689"
     },
     "user_tz": -540
    },
    "id": "e3badb41-46cb-4939-b2b2-092a900fe9ae",
    "outputId": "001e55ea-4ab8-4fe2-ad3e-2b649b669e77"
   },
   "outputs": [
    {
     "data": {
      "text/plain": [
       "B    53992\n",
       "D    7    \n",
       "A    1    \n",
       "Name: imp_dec_code, dtype: int64"
      ]
     },
     "execution_count": 18,
     "metadata": {},
     "output_type": "execute_result"
    }
   ],
   "source": [
    "df_org['imp_dec_code'].value_counts()"
   ]
  },
  {
   "cell_type": "markdown",
   "id": "81f62bb4-5dca-484d-83a6-13346e8dc7fb",
   "metadata": {
    "id": "81f62bb4-5dca-484d-83a6-13346e8dc7fb",
    "tags": []
   },
   "source": [
    "### Check the Correlation\n",
    "- Correlation analysis is a method to analyze linear correlation between two variables.\n",
    "- It is used to check what kind of correlation exists between two variables.\n",
    "- We can visually check how each 'imp_dec_code' column value impacts other columns via Heatmap."
   ]
  },
  {
   "cell_type": "markdown",
   "id": "05e8f36f-e341-4f30-85ec-83601b458cb3",
   "metadata": {
    "id": "05e8f36f-e341-4f30-85ec-83601b458cb3"
   },
   "source": [
    "#### Working with encoding data frames as numeric data"
   ]
  },
  {
   "cell_type": "markdown",
   "id": "5a5f04b5-255c-4a9b-aeb1-f32befdee3f2",
   "metadata": {
    "id": "5a5f04b5-255c-4a9b-aeb1-f32befdee3f2"
   },
   "source": [
    "- Use library LabelEncoder from sklearn, which is used for data preprocessing\n",
    "- LabelEncoder converts categorical data to numerical variables through labeling."
   ]
  },
  {
   "cell_type": "code",
   "execution_count": null,
   "id": "26f9d3e5-73fa-49fc-8d2d-560b9b3135cf",
   "metadata": {
    "executionInfo": {
     "elapsed": 13,
     "status": "ok",
     "timestamp": 1680596422263,
     "user": {
      "displayName": "김형준",
      "userId": "10277863568716562689"
     },
     "user_tz": -540
    },
    "id": "26f9d3e5-73fa-49fc-8d2d-560b9b3135cf",
    "outputId": "91a76ff3-58d4-4b51-d209-412895cf7663",
    "tags": []
   },
   "outputs": [
    {
     "ename": "NameError",
     "evalue": "name 'df_raw_copy' is not defined",
     "output_type": "error",
     "traceback": [
      "\u001b[1;31m---------------------------------------------------------------------------\u001b[0m",
      "\u001b[1;31mNameError\u001b[0m                                 Traceback (most recent call last)",
      "\u001b[1;32m<ipython-input-2-02fbb6977d05>\u001b[0m in \u001b[0;36m<module>\u001b[1;34m\u001b[0m\n\u001b[0;32m      3\u001b[0m \u001b[1;33m\u001b[0m\u001b[0m\n\u001b[0;32m      4\u001b[0m \u001b[1;31m# Import copied data in order, and input data after encoding.\u001b[0m\u001b[1;33m\u001b[0m\u001b[1;33m\u001b[0m\u001b[1;33m\u001b[0m\u001b[0m\n\u001b[1;32m----> 5\u001b[1;33m \u001b[1;32mfor\u001b[0m \u001b[0mcolumn_name\u001b[0m\u001b[1;33m,\u001b[0m\u001b[0mitem\u001b[0m \u001b[1;32min\u001b[0m \u001b[0mdf_raw_copy\u001b[0m\u001b[1;33m.\u001b[0m\u001b[0miteritems\u001b[0m\u001b[1;33m(\u001b[0m\u001b[1;33m)\u001b[0m\u001b[1;33m:\u001b[0m\u001b[1;33m\u001b[0m\u001b[1;33m\u001b[0m\u001b[0m\n\u001b[0m\u001b[0;32m      6\u001b[0m     \u001b[0mencoder\u001b[0m\u001b[1;33m.\u001b[0m\u001b[0mfit\u001b[0m\u001b[1;33m(\u001b[0m\u001b[0mitem\u001b[0m\u001b[1;33m)\u001b[0m\u001b[1;33m\u001b[0m\u001b[1;33m\u001b[0m\u001b[0m\n\u001b[0;32m      7\u001b[0m     \u001b[0mlabels\u001b[0m \u001b[1;33m=\u001b[0m \u001b[0mencoder\u001b[0m\u001b[1;33m.\u001b[0m\u001b[0mtransform\u001b[0m\u001b[1;33m(\u001b[0m\u001b[0mitem\u001b[0m\u001b[1;33m)\u001b[0m\u001b[1;33m\u001b[0m\u001b[1;33m\u001b[0m\u001b[0m\n",
      "\u001b[1;31mNameError\u001b[0m: name 'df_raw_copy' is not defined"
     ]
    }
   ],
   "source": [
    "from sklearn.preprocessing import LabelEncoder\n",
    "encoder = LabelEncoder()\n",
    "\n",
    "# Import copied data in order, and input data after encoding. \n",
    "for column_name,item in df_raw_copy.iteritems(): \n",
    "    encoder.fit(item)\n",
    "    labels = encoder.transform(item)\n",
    "    df_raw_copy[column_name] = labels"
   ]
  },
  {
   "cell_type": "markdown",
   "id": "c914f3c2-41f7-4441-8c11-5f2c66e6063e",
   "metadata": {
    "id": "c914f3c2-41f7-4441-8c11-5f2c66e6063e"
   },
   "source": [
    "#### Making a Heatmap\n",
    "- Configure for visualization."
   ]
  },
  {
   "cell_type": "code",
   "execution_count": null,
   "id": "f79e6d63-6836-4b53-a997-b399d1284306",
   "metadata": {
    "id": "f79e6d63-6836-4b53-a997-b399d1284306"
   },
   "outputs": [],
   "source": [
    "# Using the font_manager object of matplotlib, we set the font of the heatmap that we are going to create.\n",
    "import matplotlib.font_manager as fm\n",
    "\n",
    "# We will use a default font provided by Google Colab called DejaVu Sans.\n",
    "plt.rcParams['font.family'] = 'DejaVu Sans'\n",
    "\n",
    "# Function for setting fonts. Sets the font install path and size.\n",
    "def set_font():\n",
    "    font_path = '/usr/local/lib/python3.7/dist-packages/matplotlib/mpl-data/fonts/ttf/'\n",
    "    fontprop = fm.FontProperties(fname=font_path, size=12)\n",
    "    return fontprop\n",
    "\n",
    "fontprop = set_font()"
   ]
  },
  {
   "cell_type": "code",
   "execution_count": null,
   "id": "507d2976-b53e-44e8-aa25-12de1dd28eca",
   "metadata": {
    "executionInfo": {
     "elapsed": 12,
     "status": "ok",
     "timestamp": 1680596422263,
     "user": {
      "displayName": "김형준",
      "userId": "10277863568716562689"
     },
     "user_tz": -540
    },
    "id": "507d2976-b53e-44e8-aa25-12de1dd28eca",
    "outputId": "ee17a981-4d11-4bdb-821b-0a019892b40e"
   },
   "outputs": [
    {
     "ename": "NameError",
     "evalue": "name 'df_raw_copy' is not defined",
     "output_type": "error",
     "traceback": [
      "\u001b[1;31m---------------------------------------------------------------------------\u001b[0m",
      "\u001b[1;31mNameError\u001b[0m                                 Traceback (most recent call last)",
      "\u001b[1;32m<ipython-input-3-4c775ac00313>\u001b[0m in \u001b[0;36m<module>\u001b[1;34m\u001b[0m\n\u001b[0;32m      1\u001b[0m \u001b[1;31m# Calculate correlation of dataframe.\u001b[0m\u001b[1;33m\u001b[0m\u001b[1;33m\u001b[0m\u001b[1;33m\u001b[0m\u001b[0m\n\u001b[1;32m----> 2\u001b[1;33m \u001b[0mcorr\u001b[0m \u001b[1;33m=\u001b[0m \u001b[0mdf_raw_copy\u001b[0m\u001b[1;33m.\u001b[0m\u001b[0mcorr\u001b[0m\u001b[1;33m(\u001b[0m\u001b[1;33m)\u001b[0m\u001b[1;33m\u001b[0m\u001b[1;33m\u001b[0m\u001b[0m\n\u001b[0m",
      "\u001b[1;31mNameError\u001b[0m: name 'df_raw_copy' is not defined"
     ]
    }
   ],
   "source": [
    "# Calculate correlation of dataframe.\n",
    "corr = df_raw_copy.corr()"
   ]
  },
  {
   "cell_type": "markdown",
   "id": "bafdcda6-4336-49a1-a833-8a91ded948db",
   "metadata": {
    "id": "bafdcda6-4336-49a1-a833-8a91ded948db"
   },
   "source": [
    "- Looking at the heatmap, there are no columns that have high correlation to imp_dec_code.\n",
    "- We will continue as is."
   ]
  },
  {
   "cell_type": "code",
   "execution_count": null,
   "id": "5f0ad8a6-48a8-45f6-88b2-783b3c5bf44c",
   "metadata": {
    "colab": {
     "base_uri": "https://localhost:8080/",
     "height": 610
    },
    "executionInfo": {
     "elapsed": 1221,
     "status": "ok",
     "timestamp": 1680596423472,
     "user": {
      "displayName": "김형준",
      "userId": "10277863568716562689"
     },
     "user_tz": -540
    },
    "id": "5f0ad8a6-48a8-45f6-88b2-783b3c5bf44c",
    "outputId": "c84daea4-8d99-43fc-a43a-0a84c879b914",
    "tags": []
   },
   "outputs": [
    {
     "data": {
      "text/plain": [
       "<Axes: >"
      ]
     },
     "execution_count": 22,
     "metadata": {},
     "output_type": "execute_result"
    },
    {
     "data": {
      "image/png": "[encoded data removed]",
      "text/plain": [
       "<Figure size 640x480 with 2 Axes>"
      ]
     },
     "metadata": {},
     "output_type": "display_data"
    }
   ],
   "source": [
    "sns.heatmap(corr, cmap='coolwarm', annot=False, linewidths =0.5, annot_kws={'size':10, 'fontproperties':fontprop},vmin=-1.0)"
   ]
  },
  {
   "cell_type": "markdown",
   "id": "61376403-81b4-443d-9f43-f8c5d1f232d8",
   "metadata": {
    "id": "61376403-81b4-443d-9f43-f8c5d1f232d8",
    "tags": []
   },
   "source": [
    "## Random data sampling \n",
    "- Extract training data from the given data.\n",
    "- 1600 is a good size for the data in this exercise.  If the sample size is too large, the processing time increases greatly."
   ]
  },
  {
   "cell_type": "code",
   "execution_count": null,
   "id": "3e2347db-4fe4-44c1-a508-1620ecb6921e",
   "metadata": {
    "id": "3e2347db-4fe4-44c1-a508-1620ecb6921e"
   },
   "outputs": [],
   "source": [
    "df_sample=df_org.sample(1600,replace=False)"
   ]
  },
  {
   "cell_type": "markdown",
   "id": "a3a190ae-3964-4d11-88de-da3227e9b266",
   "metadata": {
    "id": "a3a190ae-3964-4d11-88de-da3227e9b266",
    "tags": []
   },
   "source": [
    "## Processing Sample Data"
   ]
  },
  {
   "cell_type": "markdown",
   "id": "88f96319-3a5b-4c1e-8e52-62897b0e3860",
   "metadata": {
    "id": "88f96319-3a5b-4c1e-8e52-62897b0e3860"
   },
   "source": [
    "- Preserve correlation by grouping well-correlated columns into a single multi-column\n",
    "- Correlation may not be preserved during data generation"
   ]
  },
  {
   "cell_type": "code",
   "execution_count": null,
   "id": "840e6dae-7b22-4860-9b79-a2e34be1efea",
   "metadata": {
    "id": "840e6dae-7b22-4860-9b79-a2e34be1efea"
   },
   "outputs": [],
   "source": [
    "cols = ['HS10', 'country_ship_code', 'country_orig_code', 'trff_rate', 'trff_class_code', 'dec_weight','taxabal_price_KRW','crime_yn', 'key_exposure']\n",
    "df_sample['HS10_ship_orig_tffrt_tffcd_weight_taxprice_crime_key'] = df_sample[cols].apply(lambda row: '^'.join(row.values.astype(str)), axis=1)"
   ]
  },
  {
   "cell_type": "markdown",
   "id": "2d71c347-507d-439c-b3ce-f997551ae3f8",
   "metadata": {
    "id": "2d71c347-507d-439c-b3ce-f997551ae3f8"
   },
   "source": [
    "### Delete Unnecessary Columns\n",
    "- Delete duplicate columns\n",
    "- 'dec_date' data type causes errors in some Colab environments, so we will delete this column. (Since it has little relation to high risk goods, it will not have huge impact on training.)\n",
    "- 'dec_num' has no relationship to high risk goods, so we will delete this column."
   ]
  },
  {
   "cell_type": "code",
   "execution_count": null,
   "id": "fb4a4f67-578c-479e-978f-16a76ad7ef75",
   "metadata": {
    "id": "fb4a4f67-578c-479e-978f-16a76ad7ef75"
   },
   "outputs": [],
   "source": [
    "df_sample=df_sample.drop(cols, axis=1)\n",
    "df_sample=df_sample.drop('dec_date', axis=1)\n",
    "df_sample=df_sample.drop('dec_num', axis=1)"
   ]
  },
  {
   "cell_type": "markdown",
   "id": "0b364b37-1d67-4274-a4a7-0a39d3040a02",
   "metadata": {
    "id": "0b364b37-1d67-4274-a4a7-0a39d3040a02",
    "tags": []
   },
   "source": [
    "## Training Model with CTGAN "
   ]
  },
  {
   "cell_type": "markdown",
   "id": "3efc899d-1da5-4821-adb5-042ce6746592",
   "metadata": {
    "id": "3efc899d-1da5-4821-adb5-042ce6746592"
   },
   "source": [
    "- Let's train the model using CTGAN algorithm."
   ]
  },
  {
   "cell_type": "code",
   "execution_count": null,
   "id": "7f4935c8-663a-4673-98d9-5ee48c9d1a36",
   "metadata": {
    "id": "7f4935c8-663a-4673-98d9-5ee48c9d1a36"
   },
   "outputs": [],
   "source": [
    "# Declare the list of categories to be trained as a vairable\n",
    "categorical_columns =[ 'dec_custom_code','imp_dec_code','imp_trd_code',\\\n",
    "                      'imp_typ_code','collect_code', 'typ_transport_code','dec_mark','importer',\\\n",
    "                      'ovs_cust_code','exps_carr_code','country_orig_mark_code','HS10_ship_orig_tffrt_tffcd_weight_taxprice_crime_key']"
   ]
  },
  {
   "cell_type": "markdown",
   "id": "zpdycXZLA2og",
   "metadata": {
    "id": "zpdycXZLA2og"
   },
   "source": [
    "- Model training will take less than 10 to 15 minutes.\n",
    "- If the execution time is too long, please check if the runtime type is selected as GPU."
   ]
  },
  {
   "cell_type": "code",
   "execution_count": null,
   "id": "7bdf7b59-173c-4d8c-aed1-2ee5f02a04f0",
   "metadata": {
    "colab": {
     "base_uri": "https://localhost:8080/"
    },
    "collapsed": true,
    "executionInfo": {
     "elapsed": 262825,
     "status": "ok",
     "timestamp": 1680596686292,
     "user": {
      "displayName": "김형준",
      "userId": "10277863568716562689"
     },
     "user_tz": -540
    },
    "id": "7bdf7b59-173c-4d8c-aed1-2ee5f02a04f0",
    "jupyter": {
     "outputs_hidden": true
    },
    "outputId": "84630047-ca7e-4b91-ea2d-b328a59a5f1e",
    "tags": []
   },
   "outputs": [
    {
     "name": "stdout",
     "output_type": "stream",
     "text": [
      "Epoch 1, Loss G:  4.0529,Loss D: -0.0446\n",
      "Epoch 2, Loss G:  3.8302,Loss D: -0.1662\n",
      "Epoch 3, Loss G:  3.8668,Loss D: -0.2718\n",
      "Epoch 4, Loss G:  3.8313,Loss D: -0.3797\n",
      "Epoch 5, Loss G:  3.8721,Loss D: -0.4814\n",
      "Epoch 6, Loss G:  3.9384,Loss D: -0.6265\n",
      "Epoch 7, Loss G:  3.9067,Loss D: -0.6755\n",
      "Epoch 8, Loss G:  3.8856,Loss D: -0.7786\n",
      "Epoch 9, Loss G:  3.9067,Loss D: -0.9422\n",
      "Epoch 10, Loss G:  4.0502,Loss D: -0.9930\n",
      "Epoch 11, Loss G:  3.9877,Loss D: -1.0948\n",
      "Epoch 12, Loss G:  4.0129,Loss D: -1.1437\n",
      "Epoch 13, Loss G:  3.6593,Loss D: -1.0404\n",
      "Epoch 14, Loss G:  3.7179,Loss D: -0.8698\n",
      "Epoch 15, Loss G:  3.6036,Loss D: -0.7104\n",
      "Epoch 16, Loss G:  3.5609,Loss D: -0.6895\n",
      "Epoch 17, Loss G:  3.1282,Loss D: -0.6571\n",
      "Epoch 18, Loss G:  3.1516,Loss D: -0.4247\n",
      "Epoch 19, Loss G:  2.8570,Loss D: -0.3570\n",
      "Epoch 20, Loss G:  3.3107,Loss D: -0.2340\n",
      "Epoch 21, Loss G:  2.7722,Loss D: -0.2734\n",
      "Epoch 22, Loss G:  2.7709,Loss D: -0.0441\n",
      "Epoch 23, Loss G:  2.8580,Loss D:  0.0292\n",
      "Epoch 24, Loss G:  2.7910,Loss D:  0.0920\n",
      "Epoch 25, Loss G:  2.5420,Loss D: -0.0327\n",
      "Epoch 26, Loss G:  2.7469,Loss D: -0.0561\n",
      "Epoch 27, Loss G:  2.8001,Loss D:  0.0494\n",
      "Epoch 28, Loss G:  2.6727,Loss D:  0.0791\n",
      "Epoch 29, Loss G:  2.7763,Loss D:  0.1777\n",
      "Epoch 30, Loss G:  2.7353,Loss D:  0.1058\n",
      "Epoch 31, Loss G:  2.8976,Loss D:  0.1565\n",
      "Epoch 32, Loss G:  2.6043,Loss D:  0.0299\n",
      "Epoch 33, Loss G:  2.6998,Loss D:  0.0221\n",
      "Epoch 34, Loss G:  2.8115,Loss D:  0.0600\n",
      "Epoch 35, Loss G:  2.7098,Loss D:  0.0673\n",
      "Epoch 36, Loss G:  2.7101,Loss D:  0.0616\n",
      "Epoch 37, Loss G:  2.7730,Loss D: -0.0221\n",
      "Epoch 38, Loss G:  2.7935,Loss D: -0.0192\n",
      "Epoch 39, Loss G:  2.5942,Loss D: -0.0172\n",
      "Epoch 40, Loss G:  2.4973,Loss D:  0.0333\n",
      "Epoch 41, Loss G:  2.6471,Loss D:  0.0151\n",
      "Epoch 42, Loss G:  2.3707,Loss D:  0.0197\n",
      "Epoch 43, Loss G:  2.9603,Loss D:  0.0016\n",
      "Epoch 44, Loss G:  2.5850,Loss D:  0.0399\n",
      "Epoch 45, Loss G:  2.5093,Loss D: -0.0112\n",
      "Epoch 46, Loss G:  2.4540,Loss D:  0.0249\n",
      "Epoch 47, Loss G:  2.5972,Loss D: -0.0690\n",
      "Epoch 48, Loss G:  2.6391,Loss D:  0.0044\n",
      "Epoch 49, Loss G:  2.1965,Loss D: -0.0259\n",
      "Epoch 50, Loss G:  2.3760,Loss D: -0.0252\n",
      "Epoch 51, Loss G:  2.6323,Loss D: -0.0198\n",
      "Epoch 52, Loss G:  2.4880,Loss D: -0.0468\n",
      "Epoch 53, Loss G:  2.4896,Loss D: -0.0575\n",
      "Epoch 54, Loss G:  2.5234,Loss D: -0.0246\n",
      "Epoch 55, Loss G:  2.3969,Loss D: -0.0365\n",
      "Epoch 56, Loss G:  2.5418,Loss D: -0.1106\n",
      "Epoch 57, Loss G:  2.1068,Loss D:  0.0320\n",
      "Epoch 58, Loss G:  2.2702,Loss D: -0.0998\n",
      "Epoch 59, Loss G:  2.2270,Loss D: -0.0476\n",
      "Epoch 60, Loss G:  2.4816,Loss D: -0.1038\n",
      "Epoch 61, Loss G:  2.2523,Loss D: -0.0464\n",
      "Epoch 62, Loss G:  2.4337,Loss D: -0.0256\n",
      "Epoch 63, Loss G:  2.4041,Loss D: -0.1250\n",
      "Epoch 64, Loss G:  2.2570,Loss D: -0.1242\n",
      "Epoch 65, Loss G:  2.0808,Loss D: -0.0729\n",
      "Epoch 66, Loss G:  2.3020,Loss D: -0.0183\n",
      "Epoch 67, Loss G:  2.2696,Loss D: -0.0402\n",
      "Epoch 68, Loss G:  2.6705,Loss D: -0.0934\n",
      "Epoch 69, Loss G:  2.2709,Loss D: -0.0279\n",
      "Epoch 70, Loss G:  2.5107,Loss D: -0.0421\n",
      "Epoch 71, Loss G:  2.2723,Loss D: -0.0170\n",
      "Epoch 72, Loss G:  2.7152,Loss D: -0.0410\n",
      "Epoch 73, Loss G:  2.3799,Loss D: -0.0225\n",
      "Epoch 74, Loss G:  2.4193,Loss D: -0.0532\n",
      "Epoch 75, Loss G:  2.2775,Loss D:  0.0391\n",
      "Epoch 76, Loss G:  2.2758,Loss D: -0.0566\n",
      "Epoch 77, Loss G:  2.1200,Loss D:  0.0355\n",
      "Epoch 78, Loss G:  2.2888,Loss D: -0.0333\n",
      "Epoch 79, Loss G:  2.0730,Loss D: -0.0628\n",
      "Epoch 80, Loss G:  2.4919,Loss D:  0.0326\n",
      "Epoch 81, Loss G:  2.1558,Loss D: -0.0278\n",
      "Epoch 82, Loss G:  2.3136,Loss D:  0.0763\n",
      "Epoch 83, Loss G:  2.1832,Loss D:  0.0359\n",
      "Epoch 84, Loss G:  2.0222,Loss D: -0.0322\n",
      "Epoch 85, Loss G:  2.1899,Loss D:  0.0218\n",
      "Epoch 86, Loss G:  2.2071,Loss D: -0.1247\n",
      "Epoch 87, Loss G:  2.3750,Loss D: -0.0495\n",
      "Epoch 88, Loss G:  2.1077,Loss D: -0.0275\n",
      "Epoch 89, Loss G:  2.2696,Loss D:  0.0025\n",
      "Epoch 90, Loss G:  2.0943,Loss D: -0.0184\n",
      "Epoch 91, Loss G:  2.1013,Loss D: -0.0769\n",
      "Epoch 92, Loss G:  2.2334,Loss D:  0.0245\n",
      "Epoch 93, Loss G:  2.2681,Loss D: -0.0226\n",
      "Epoch 94, Loss G:  2.2331,Loss D:  0.0066\n",
      "Epoch 95, Loss G:  2.3215,Loss D: -0.0137\n",
      "Epoch 96, Loss G:  2.1673,Loss D: -0.1145\n",
      "Epoch 97, Loss G:  1.9903,Loss D: -0.0297\n",
      "Epoch 98, Loss G:  2.5324,Loss D:  0.0341\n",
      "Epoch 99, Loss G:  2.3718,Loss D: -0.1085\n",
      "Epoch 100, Loss G:  2.0855,Loss D: -0.0048\n",
      "Epoch 101, Loss G:  2.2507,Loss D: -0.0620\n",
      "Epoch 102, Loss G:  2.2972,Loss D: -0.0494\n",
      "Epoch 103, Loss G:  2.3105,Loss D:  0.0064\n",
      "Epoch 104, Loss G:  2.3448,Loss D: -0.0002\n",
      "Epoch 105, Loss G:  2.0018,Loss D: -0.0723\n",
      "Epoch 106, Loss G:  2.0063,Loss D: -0.0043\n",
      "Epoch 107, Loss G:  2.0382,Loss D: -0.0655\n",
      "Epoch 108, Loss G:  2.1507,Loss D: -0.0138\n",
      "Epoch 109, Loss G:  2.3411,Loss D:  0.0569\n",
      "Epoch 110, Loss G:  2.2968,Loss D: -0.0194\n",
      "Epoch 111, Loss G:  1.8867,Loss D: -0.0217\n",
      "Epoch 112, Loss G:  1.9943,Loss D:  0.0970\n",
      "Epoch 113, Loss G:  2.1615,Loss D: -0.0640\n",
      "Epoch 114, Loss G:  2.1453,Loss D: -0.0341\n",
      "Epoch 115, Loss G:  2.0464,Loss D: -0.0548\n",
      "Epoch 116, Loss G:  2.3955,Loss D: -0.0777\n",
      "Epoch 117, Loss G:  2.3417,Loss D:  0.0336\n",
      "Epoch 118, Loss G:  1.9426,Loss D:  0.0209\n",
      "Epoch 119, Loss G:  2.0566,Loss D: -0.0925\n",
      "Epoch 120, Loss G:  2.2038,Loss D: -0.0019\n",
      "Epoch 121, Loss G:  2.1792,Loss D: -0.0240\n",
      "Epoch 122, Loss G:  1.9971,Loss D: -0.0488\n",
      "Epoch 123, Loss G:  1.8850,Loss D:  0.0176\n",
      "Epoch 124, Loss G:  2.0257,Loss D:  0.0027\n",
      "Epoch 125, Loss G:  1.9163,Loss D: -0.0339\n",
      "Epoch 126, Loss G:  1.9444,Loss D: -0.0109\n",
      "Epoch 127, Loss G:  2.0031,Loss D:  0.0687\n",
      "Epoch 128, Loss G:  2.0148,Loss D:  0.0340\n",
      "Epoch 129, Loss G:  2.1046,Loss D:  0.0182\n",
      "Epoch 130, Loss G:  2.1701,Loss D: -0.0137\n",
      "Epoch 131, Loss G:  2.0595,Loss D: -0.0618\n",
      "Epoch 132, Loss G:  2.1643,Loss D:  0.0804\n",
      "Epoch 133, Loss G:  2.1576,Loss D:  0.0046\n",
      "Epoch 134, Loss G:  1.9419,Loss D: -0.0469\n",
      "Epoch 135, Loss G:  2.3352,Loss D:  0.0619\n",
      "Epoch 136, Loss G:  2.2990,Loss D: -0.0996\n",
      "Epoch 137, Loss G:  2.0275,Loss D: -0.0990\n",
      "Epoch 138, Loss G:  2.2344,Loss D: -0.0265\n",
      "Epoch 139, Loss G:  2.2837,Loss D:  0.0152\n",
      "Epoch 140, Loss G:  1.9840,Loss D: -0.0435\n",
      "Epoch 141, Loss G:  1.9088,Loss D:  0.0386\n",
      "Epoch 142, Loss G:  1.9721,Loss D:  0.0755\n",
      "Epoch 143, Loss G:  1.9955,Loss D: -0.0303\n",
      "Epoch 144, Loss G:  1.8070,Loss D: -0.0223\n",
      "Epoch 145, Loss G:  2.0221,Loss D:  0.0452\n",
      "Epoch 146, Loss G:  1.8767,Loss D:  0.0198\n",
      "Epoch 147, Loss G:  1.8479,Loss D:  0.0284\n",
      "Epoch 148, Loss G:  2.1740,Loss D: -0.0117\n",
      "Epoch 149, Loss G:  1.9459,Loss D: -0.0161\n",
      "Epoch 150, Loss G:  2.3006,Loss D:  0.0251\n",
      "Epoch 151, Loss G:  1.8761,Loss D: -0.0192\n",
      "Epoch 152, Loss G:  2.0163,Loss D: -0.0546\n",
      "Epoch 153, Loss G:  2.0960,Loss D: -0.0242\n",
      "Epoch 154, Loss G:  1.7426,Loss D:  0.0651\n",
      "Epoch 155, Loss G:  2.0110,Loss D:  0.0336\n",
      "Epoch 156, Loss G:  2.0069,Loss D:  0.0017\n",
      "Epoch 157, Loss G:  1.9358,Loss D: -0.0215\n",
      "Epoch 158, Loss G:  1.7922,Loss D:  0.0209\n",
      "Epoch 159, Loss G:  1.9032,Loss D: -0.0294\n",
      "Epoch 160, Loss G:  1.8209,Loss D: -0.0799\n",
      "Epoch 161, Loss G:  2.0104,Loss D: -0.0186\n",
      "Epoch 162, Loss G:  1.7479,Loss D: -0.0538\n",
      "Epoch 163, Loss G:  1.8372,Loss D: -0.1061\n",
      "Epoch 164, Loss G:  2.0271,Loss D:  0.0378\n",
      "Epoch 165, Loss G:  1.8499,Loss D: -0.0123\n",
      "Epoch 166, Loss G:  1.6343,Loss D:  0.0548\n",
      "Epoch 167, Loss G:  1.9750,Loss D:  0.0388\n",
      "Epoch 168, Loss G:  1.7381,Loss D:  0.0076\n",
      "Epoch 169, Loss G:  2.0306,Loss D: -0.0416\n",
      "Epoch 170, Loss G:  1.8845,Loss D:  0.0249\n",
      "Epoch 171, Loss G:  2.0427,Loss D: -0.0212\n",
      "Epoch 172, Loss G:  1.8204,Loss D: -0.0848\n",
      "Epoch 173, Loss G:  1.8768,Loss D: -0.0183\n",
      "Epoch 174, Loss G:  1.7625,Loss D: -0.0242\n",
      "Epoch 175, Loss G:  1.5525,Loss D: -0.0074\n",
      "Epoch 176, Loss G:  1.6516,Loss D:  0.0993\n",
      "Epoch 177, Loss G:  1.9435,Loss D: -0.0336\n",
      "Epoch 178, Loss G:  1.8494,Loss D:  0.0128\n",
      "Epoch 179, Loss G:  1.5695,Loss D: -0.0731\n",
      "Epoch 180, Loss G:  1.7401,Loss D:  0.0512\n",
      "Epoch 181, Loss G:  1.6913,Loss D: -0.0613\n",
      "Epoch 182, Loss G:  1.8654,Loss D: -0.0955\n",
      "Epoch 183, Loss G:  1.6968,Loss D: -0.0492\n",
      "Epoch 184, Loss G:  1.5332,Loss D: -0.0681\n",
      "Epoch 185, Loss G:  1.7602,Loss D: -0.0684\n",
      "Epoch 186, Loss G:  1.7444,Loss D: -0.0667\n",
      "Epoch 187, Loss G:  1.4348,Loss D:  0.0113\n",
      "Epoch 188, Loss G:  1.6561,Loss D:  0.0646\n",
      "Epoch 189, Loss G:  1.3604,Loss D:  0.0162\n",
      "Epoch 190, Loss G:  1.5387,Loss D: -0.0338\n",
      "Epoch 191, Loss G:  1.4629,Loss D:  0.0460\n",
      "Epoch 192, Loss G:  1.5806,Loss D: -0.0117\n",
      "Epoch 193, Loss G:  1.6723,Loss D: -0.0696\n",
      "Epoch 194, Loss G:  1.5781,Loss D: -0.0437\n",
      "Epoch 195, Loss G:  1.8580,Loss D: -0.0365\n",
      "Epoch 196, Loss G:  1.8029,Loss D:  0.0718\n",
      "Epoch 197, Loss G:  1.6682,Loss D: -0.0580\n",
      "Epoch 198, Loss G:  1.6367,Loss D: -0.0414\n",
      "Epoch 199, Loss G:  1.2926,Loss D:  0.0415\n",
      "Epoch 200, Loss G:  1.5413,Loss D:  0.0071\n",
      "Epoch 201, Loss G:  1.6814,Loss D: -0.0268\n",
      "Epoch 202, Loss G:  1.5669,Loss D: -0.0238\n",
      "Epoch 203, Loss G:  1.6068,Loss D: -0.0458\n",
      "Epoch 204, Loss G:  1.3766,Loss D: -0.1064\n",
      "Epoch 205, Loss G:  1.2434,Loss D: -0.0461\n",
      "Epoch 206, Loss G:  1.1278,Loss D: -0.0953\n",
      "Epoch 207, Loss G:  1.6714,Loss D:  0.0112\n",
      "Epoch 208, Loss G:  1.1881,Loss D:  0.1632\n",
      "Epoch 209, Loss G:  1.3908,Loss D: -0.0018\n",
      "Epoch 210, Loss G:  1.2642,Loss D:  0.0238\n",
      "Epoch 211, Loss G:  1.3467,Loss D:  0.0181\n",
      "Epoch 212, Loss G:  1.2513,Loss D: -0.1030\n",
      "Epoch 213, Loss G:  1.5140,Loss D:  0.0505\n",
      "Epoch 214, Loss G:  1.1854,Loss D: -0.1215\n",
      "Epoch 215, Loss G:  1.4441,Loss D: -0.0393\n",
      "Epoch 216, Loss G:  1.4582,Loss D: -0.1254\n",
      "Epoch 217, Loss G:  1.3029,Loss D: -0.0314\n",
      "Epoch 218, Loss G:  1.3558,Loss D:  0.0727\n",
      "Epoch 219, Loss G:  1.1355,Loss D:  0.0491\n",
      "Epoch 220, Loss G:  1.2182,Loss D: -0.0126\n",
      "Epoch 221, Loss G:  1.0802,Loss D: -0.0073\n",
      "Epoch 222, Loss G:  1.4789,Loss D: -0.0384\n",
      "Epoch 223, Loss G:  1.4068,Loss D:  0.1025\n",
      "Epoch 224, Loss G:  1.0697,Loss D: -0.0060\n",
      "Epoch 225, Loss G:  1.0919,Loss D: -0.0024\n",
      "Epoch 226, Loss G:  1.1455,Loss D: -0.1177\n",
      "Epoch 227, Loss G:  0.9782,Loss D: -0.0238\n",
      "Epoch 228, Loss G:  1.0647,Loss D: -0.0879\n",
      "Epoch 229, Loss G:  0.9066,Loss D: -0.0870\n",
      "Epoch 230, Loss G:  0.9351,Loss D: -0.0281\n",
      "Epoch 231, Loss G:  0.8531,Loss D:  0.0014\n",
      "Epoch 232, Loss G:  0.7841,Loss D: -0.0538\n",
      "Epoch 233, Loss G:  0.9175,Loss D: -0.0329\n",
      "Epoch 234, Loss G:  0.8538,Loss D:  0.0426\n",
      "Epoch 235, Loss G:  0.7568,Loss D:  0.0377\n",
      "Epoch 236, Loss G:  0.7205,Loss D: -0.0021\n",
      "Epoch 237, Loss G:  1.0503,Loss D: -0.0427\n",
      "Epoch 238, Loss G:  0.9133,Loss D: -0.0593\n",
      "Epoch 239, Loss G:  0.9229,Loss D:  0.0031\n",
      "Epoch 240, Loss G:  0.7961,Loss D: -0.0721\n",
      "Epoch 241, Loss G:  0.8714,Loss D: -0.0660\n",
      "Epoch 242, Loss G:  0.8350,Loss D: -0.0506\n",
      "Epoch 243, Loss G:  0.6804,Loss D:  0.0457\n",
      "Epoch 244, Loss G:  0.8231,Loss D:  0.0331\n",
      "Epoch 245, Loss G:  0.7585,Loss D:  0.0385\n",
      "Epoch 246, Loss G:  0.5247,Loss D: -0.0422\n",
      "Epoch 247, Loss G:  0.7153,Loss D:  0.0443\n",
      "Epoch 248, Loss G:  0.6302,Loss D: -0.0553\n",
      "Epoch 249, Loss G:  0.7080,Loss D: -0.0360\n",
      "Epoch 250, Loss G:  0.6628,Loss D: -0.0838\n",
      "Epoch 251, Loss G:  0.6274,Loss D: -0.0219\n",
      "Epoch 252, Loss G:  0.4772,Loss D: -0.0815\n",
      "Epoch 253, Loss G:  0.5328,Loss D:  0.0555\n",
      "Epoch 254, Loss G:  0.5375,Loss D:  0.0024\n",
      "Epoch 255, Loss G:  0.4237,Loss D:  0.0563\n",
      "Epoch 256, Loss G:  0.4774,Loss D:  0.0965\n",
      "Epoch 257, Loss G:  0.5196,Loss D:  0.0491\n",
      "Epoch 258, Loss G:  0.5549,Loss D: -0.0262\n",
      "Epoch 259, Loss G:  0.5036,Loss D:  0.0976\n",
      "Epoch 260, Loss G:  0.6869,Loss D: -0.0987\n",
      "Epoch 261, Loss G:  0.5167,Loss D: -0.0762\n",
      "Epoch 262, Loss G:  0.5781,Loss D: -0.0517\n",
      "Epoch 263, Loss G:  0.4503,Loss D: -0.0471\n",
      "Epoch 264, Loss G:  0.5171,Loss D: -0.0544\n",
      "Epoch 265, Loss G:  0.3483,Loss D: -0.0486\n",
      "Epoch 266, Loss G:  0.3345,Loss D: -0.0246\n",
      "Epoch 267, Loss G:  0.2953,Loss D:  0.0525\n",
      "Epoch 268, Loss G:  0.3544,Loss D:  0.0867\n",
      "Epoch 269, Loss G:  0.4631,Loss D: -0.0376\n",
      "Epoch 270, Loss G:  0.3400,Loss D: -0.0045\n",
      "Epoch 271, Loss G:  0.4793,Loss D: -0.0042\n",
      "Epoch 272, Loss G:  0.3990,Loss D: -0.0629\n",
      "Epoch 273, Loss G:  0.3949,Loss D: -0.0675\n",
      "Epoch 274, Loss G:  0.3911,Loss D: -0.0699\n",
      "Epoch 275, Loss G:  0.3156,Loss D: -0.0352\n",
      "Epoch 276, Loss G:  0.4382,Loss D:  0.0571\n",
      "Epoch 277, Loss G:  0.5216,Loss D: -0.0602\n",
      "Epoch 278, Loss G:  0.3254,Loss D:  0.0277\n",
      "Epoch 279, Loss G:  0.3615,Loss D:  0.0341\n",
      "Epoch 280, Loss G:  0.3938,Loss D:  0.1001\n",
      "Epoch 281, Loss G:  0.4014,Loss D:  0.0571\n",
      "Epoch 282, Loss G:  0.3851,Loss D: -0.0266\n",
      "Epoch 283, Loss G:  0.3091,Loss D: -0.0034\n",
      "Epoch 284, Loss G:  0.4364,Loss D: -0.0328\n",
      "Epoch 285, Loss G:  0.4342,Loss D:  0.0365\n",
      "Epoch 286, Loss G:  0.3994,Loss D: -0.0754\n",
      "Epoch 287, Loss G:  0.3972,Loss D: -0.0242\n",
      "Epoch 288, Loss G:  0.3070,Loss D:  0.0347\n",
      "Epoch 289, Loss G:  0.2917,Loss D:  0.0750\n",
      "Epoch 290, Loss G:  0.1410,Loss D:  0.0888\n",
      "Epoch 291, Loss G:  0.1226,Loss D:  0.1166\n",
      "Epoch 292, Loss G:  0.1296,Loss D:  0.0703\n",
      "Epoch 293, Loss G:  0.1283,Loss D: -0.0266\n",
      "Epoch 294, Loss G:  0.1188,Loss D: -0.0311\n",
      "Epoch 295, Loss G:  0.2157,Loss D: -0.1056\n",
      "Epoch 296, Loss G:  0.2555,Loss D: -0.0577\n",
      "Epoch 297, Loss G:  0.2691,Loss D:  0.0322\n",
      "Epoch 298, Loss G:  0.1089,Loss D:  0.0180\n",
      "Epoch 299, Loss G:  0.0677,Loss D: -0.0510\n",
      "Epoch 300, Loss G:  0.2169,Loss D: -0.0004\n",
      "Epoch 301, Loss G:  0.1096,Loss D:  0.0197\n",
      "Epoch 302, Loss G:  0.2602,Loss D:  0.0745\n",
      "Epoch 303, Loss G:  0.1720,Loss D:  0.0044\n",
      "Epoch 304, Loss G:  0.1474,Loss D: -0.0472\n",
      "Epoch 305, Loss G:  0.2393,Loss D:  0.0001\n",
      "Epoch 306, Loss G:  0.3003,Loss D: -0.1368\n",
      "Epoch 307, Loss G:  0.1951,Loss D: -0.0803\n",
      "Epoch 308, Loss G:  0.2776,Loss D: -0.0815\n",
      "Epoch 309, Loss G:  0.2514,Loss D: -0.0808\n",
      "Epoch 310, Loss G:  0.1615,Loss D: -0.0113\n",
      "Epoch 311, Loss G:  0.1147,Loss D: -0.0355\n",
      "Epoch 312, Loss G:  0.1714,Loss D: -0.0294\n",
      "Epoch 313, Loss G:  0.0642,Loss D:  0.0618\n",
      "Epoch 314, Loss G:  0.0610,Loss D:  0.0465\n",
      "Epoch 315, Loss G:  0.0901,Loss D: -0.0035\n",
      "Epoch 316, Loss G:  0.1214,Loss D: -0.0311\n",
      "Epoch 317, Loss G:  0.0485,Loss D: -0.0891\n",
      "Epoch 318, Loss G:  0.1125,Loss D: -0.0924\n",
      "Epoch 319, Loss G:  0.0910,Loss D: -0.0139\n",
      "Epoch 320, Loss G:  0.1842,Loss D: -0.1071\n",
      "Epoch 321, Loss G:  0.0508,Loss D:  0.0508\n",
      "Epoch 322, Loss G:  0.0217,Loss D:  0.0595\n",
      "Epoch 323, Loss G: -0.0216,Loss D:  0.0267\n",
      "Epoch 324, Loss G:  0.1214,Loss D: -0.0190\n",
      "Epoch 325, Loss G:  0.0375,Loss D:  0.0855\n",
      "Epoch 326, Loss G:  0.0060,Loss D: -0.0329\n",
      "Epoch 327, Loss G: -0.0661,Loss D: -0.0802\n",
      "Epoch 328, Loss G:  0.0867,Loss D: -0.0124\n",
      "Epoch 329, Loss G: -0.0224,Loss D: -0.1064\n",
      "Epoch 330, Loss G:  0.0179,Loss D: -0.0925\n",
      "Epoch 331, Loss G:  0.1003,Loss D: -0.0251\n",
      "Epoch 332, Loss G:  0.0669,Loss D: -0.0372\n",
      "Epoch 333, Loss G:  0.0093,Loss D: -0.0354\n",
      "Epoch 334, Loss G: -0.1082,Loss D: -0.0735\n",
      "Epoch 335, Loss G: -0.1127,Loss D:  0.0162\n",
      "Epoch 336, Loss G: -0.0455,Loss D: -0.0094\n",
      "Epoch 337, Loss G: -0.0739,Loss D:  0.0578\n",
      "Epoch 338, Loss G: -0.0187,Loss D: -0.0239\n",
      "Epoch 339, Loss G: -0.0316,Loss D: -0.0380\n",
      "Epoch 340, Loss G: -0.0428,Loss D: -0.1154\n",
      "Epoch 341, Loss G:  0.0773,Loss D: -0.1296\n",
      "Epoch 342, Loss G:  0.0766,Loss D: -0.0679\n",
      "Epoch 343, Loss G:  0.1030,Loss D: -0.0372\n",
      "Epoch 344, Loss G:  0.0316,Loss D: -0.0592\n",
      "Epoch 345, Loss G:  0.0350,Loss D: -0.0618\n",
      "Epoch 346, Loss G: -0.0299,Loss D:  0.0394\n",
      "Epoch 347, Loss G: -0.0330,Loss D:  0.1674\n",
      "Epoch 348, Loss G: -0.0714,Loss D:  0.0348\n",
      "Epoch 349, Loss G:  0.0481,Loss D: -0.0938\n",
      "Epoch 350, Loss G:  0.1636,Loss D: -0.0517\n",
      "Epoch 351, Loss G:  0.1010,Loss D: -0.0478\n",
      "Epoch 352, Loss G:  0.0967,Loss D: -0.0042\n",
      "Epoch 353, Loss G:  0.0087,Loss D: -0.0605\n",
      "Epoch 354, Loss G:  0.0592,Loss D: -0.1178\n",
      "Epoch 355, Loss G:  0.0103,Loss D: -0.1036\n",
      "Epoch 356, Loss G: -0.0174,Loss D: -0.0091\n",
      "Epoch 357, Loss G: -0.0359,Loss D: -0.0199\n",
      "Epoch 358, Loss G: -0.0766,Loss D: -0.0282\n",
      "Epoch 359, Loss G: -0.0578,Loss D: -0.0239\n",
      "Epoch 360, Loss G: -0.1667,Loss D:  0.1369\n",
      "Epoch 361, Loss G: -0.1363,Loss D:  0.0357\n",
      "Epoch 362, Loss G: -0.0795,Loss D:  0.0583\n",
      "Epoch 363, Loss G: -0.0687,Loss D: -0.0644\n",
      "Epoch 364, Loss G: -0.1112,Loss D: -0.0240\n",
      "Epoch 365, Loss G: -0.0512,Loss D: -0.0812\n",
      "Epoch 366, Loss G: -0.0125,Loss D: -0.0977\n",
      "Epoch 367, Loss G: -0.0541,Loss D: -0.0658\n",
      "Epoch 368, Loss G: -0.0692,Loss D:  0.0658\n",
      "Epoch 369, Loss G: -0.0798,Loss D:  0.0858\n",
      "Epoch 370, Loss G: -0.0396,Loss D: -0.0262\n",
      "Epoch 371, Loss G:  0.0209,Loss D:  0.0311\n",
      "Epoch 372, Loss G:  0.0193,Loss D:  0.0441\n",
      "Epoch 373, Loss G:  0.1229,Loss D:  0.0206\n",
      "Epoch 374, Loss G:  0.0886,Loss D: -0.0372\n",
      "Epoch 375, Loss G:  0.1205,Loss D: -0.0203\n",
      "Epoch 376, Loss G:  0.1211,Loss D: -0.0527\n",
      "Epoch 377, Loss G:  0.0339,Loss D:  0.0301\n",
      "Epoch 378, Loss G:  0.0068,Loss D: -0.0484\n",
      "Epoch 379, Loss G:  0.0665,Loss D: -0.1741\n",
      "Epoch 380, Loss G: -0.0014,Loss D: -0.0317\n",
      "Epoch 381, Loss G: -0.0191,Loss D:  0.0319\n",
      "Epoch 382, Loss G: -0.0826,Loss D:  0.1209\n",
      "Epoch 383, Loss G: -0.1523,Loss D:  0.1246\n",
      "Epoch 384, Loss G: -0.0477,Loss D:  0.0941\n",
      "Epoch 385, Loss G: -0.0630,Loss D:  0.0490\n",
      "Epoch 386, Loss G: -0.1008,Loss D: -0.0916\n",
      "Epoch 387, Loss G: -0.1452,Loss D: -0.0483\n",
      "Epoch 388, Loss G: -0.0879,Loss D: -0.1141\n",
      "Epoch 389, Loss G: -0.0224,Loss D: -0.0926\n",
      "Epoch 390, Loss G: -0.0696,Loss D: -0.1319\n",
      "Epoch 391, Loss G: -0.1400,Loss D: -0.0535\n",
      "Epoch 392, Loss G: -0.0719,Loss D: -0.0914\n",
      "Epoch 393, Loss G: -0.1663,Loss D: -0.0165\n",
      "Epoch 394, Loss G: -0.0995,Loss D:  0.0800\n",
      "Epoch 395, Loss G: -0.0626,Loss D:  0.0733\n",
      "Epoch 396, Loss G: -0.1567,Loss D:  0.1022\n",
      "Epoch 397, Loss G: -0.0815,Loss D: -0.0083\n",
      "Epoch 398, Loss G: -0.0250,Loss D:  0.0053\n",
      "Epoch 399, Loss G: -0.0462,Loss D: -0.0820\n",
      "Epoch 400, Loss G: -0.0250,Loss D:  0.0093\n",
      "Epoch 401, Loss G: -0.0013,Loss D: -0.1450\n",
      "Epoch 402, Loss G: -0.0733,Loss D: -0.0631\n",
      "Epoch 403, Loss G:  0.0358,Loss D:  0.0322\n",
      "Epoch 404, Loss G: -0.0559,Loss D: -0.1025\n",
      "Epoch 405, Loss G: -0.0203,Loss D:  0.0351\n",
      "Epoch 406, Loss G: -0.1186,Loss D:  0.0927\n",
      "Epoch 407, Loss G: -0.1061,Loss D:  0.0879\n",
      "Epoch 408, Loss G: -0.1753,Loss D:  0.0248\n",
      "Epoch 409, Loss G: -0.1356,Loss D: -0.0244\n",
      "Epoch 410, Loss G: -0.1356,Loss D: -0.0228\n",
      "Epoch 411, Loss G: -0.1386,Loss D: -0.1584\n",
      "Epoch 412, Loss G: -0.1082,Loss D:  0.0309\n",
      "Epoch 413, Loss G: -0.1740,Loss D: -0.0832\n",
      "Epoch 414, Loss G: -0.1546,Loss D: -0.1510\n",
      "Epoch 415, Loss G: -0.1644,Loss D:  0.0031\n",
      "Epoch 416, Loss G: -0.2301,Loss D:  0.0909\n",
      "Epoch 417, Loss G: -0.1596,Loss D: -0.0156\n",
      "Epoch 418, Loss G: -0.2148,Loss D:  0.1728\n",
      "Epoch 419, Loss G: -0.1710,Loss D:  0.0070\n",
      "Epoch 420, Loss G: -0.1946,Loss D: -0.0336\n",
      "Epoch 421, Loss G: -0.1067,Loss D:  0.0452\n",
      "Epoch 422, Loss G: -0.0351,Loss D: -0.0405\n",
      "Epoch 423, Loss G: -0.0127,Loss D: -0.0060\n",
      "Epoch 424, Loss G:  0.0511,Loss D: -0.0974\n",
      "Epoch 425, Loss G:  0.0424,Loss D: -0.0666\n",
      "Epoch 426, Loss G: -0.0028,Loss D: -0.0924\n",
      "Epoch 427, Loss G: -0.0088,Loss D: -0.0661\n",
      "Epoch 428, Loss G: -0.0775,Loss D: -0.0679\n",
      "Epoch 429, Loss G: -0.1653,Loss D: -0.0038\n",
      "Epoch 430, Loss G: -0.1160,Loss D:  0.0007\n",
      "Epoch 431, Loss G: -0.1663,Loss D:  0.0177\n",
      "Epoch 432, Loss G: -0.2384,Loss D:  0.0640\n",
      "Epoch 433, Loss G: -0.1796,Loss D:  0.0504\n",
      "Epoch 434, Loss G: -0.1540,Loss D: -0.1659\n",
      "Epoch 435, Loss G: -0.2171,Loss D: -0.0964\n",
      "Epoch 436, Loss G: -0.1681,Loss D: -0.1795\n",
      "Epoch 437, Loss G: -0.2274,Loss D: -0.0129\n",
      "Epoch 438, Loss G: -0.1712,Loss D:  0.0115\n",
      "Epoch 439, Loss G: -0.2205,Loss D:  0.0103\n",
      "Epoch 440, Loss G: -0.2689,Loss D:  0.0697\n",
      "Epoch 441, Loss G: -0.1712,Loss D:  0.0955\n",
      "Epoch 442, Loss G: -0.2001,Loss D:  0.0682\n",
      "Epoch 443, Loss G: -0.1187,Loss D: -0.0149\n",
      "Epoch 444, Loss G: -0.0704,Loss D: -0.0573\n",
      "Epoch 445, Loss G: -0.0789,Loss D: -0.0648\n",
      "Epoch 446, Loss G: -0.0451,Loss D: -0.0443\n",
      "Epoch 447, Loss G: -0.0764,Loss D: -0.1179\n",
      "Epoch 448, Loss G: -0.0831,Loss D: -0.0833\n",
      "Epoch 449, Loss G: -0.0043,Loss D: -0.0111\n",
      "Epoch 450, Loss G: -0.0542,Loss D:  0.0099\n",
      "Epoch 451, Loss G: -0.0950,Loss D: -0.0458\n",
      "Epoch 452, Loss G: -0.1253,Loss D:  0.0231\n",
      "Epoch 453, Loss G: -0.1267,Loss D:  0.0033\n",
      "Epoch 454, Loss G: -0.1581,Loss D:  0.0914\n",
      "Epoch 455, Loss G: -0.1224,Loss D: -0.0500\n",
      "Epoch 456, Loss G: -0.1453,Loss D: -0.0029\n",
      "Epoch 457, Loss G: -0.1629,Loss D: -0.0563\n",
      "Epoch 458, Loss G: -0.1503,Loss D: -0.0926\n",
      "Epoch 459, Loss G: -0.2144,Loss D: -0.0086\n",
      "Epoch 460, Loss G: -0.3090,Loss D: -0.1241\n",
      "Epoch 461, Loss G: -0.2050,Loss D:  0.0558\n",
      "Epoch 462, Loss G: -0.3250,Loss D:  0.0826\n",
      "Epoch 463, Loss G: -0.3052,Loss D:  0.0960\n",
      "Epoch 464, Loss G: -0.1931,Loss D:  0.0787\n",
      "Epoch 465, Loss G: -0.1000,Loss D:  0.0944\n",
      "Epoch 466, Loss G: -0.0518,Loss D: -0.0262\n",
      "Epoch 467, Loss G: -0.0790,Loss D:  0.1117\n",
      "Epoch 468, Loss G: -0.1198,Loss D: -0.1176\n",
      "Epoch 469, Loss G: -0.0451,Loss D:  0.0034\n",
      "Epoch 470, Loss G: -0.0381,Loss D: -0.0887\n",
      "Epoch 471, Loss G: -0.1157,Loss D: -0.1345\n",
      "Epoch 472, Loss G: -0.0356,Loss D:  0.0187\n",
      "Epoch 473, Loss G: -0.1034,Loss D: -0.0072\n",
      "Epoch 474, Loss G: -0.1757,Loss D:  0.0218\n",
      "Epoch 475, Loss G: -0.1100,Loss D:  0.1700\n",
      "Epoch 476, Loss G: -0.1710,Loss D:  0.0116\n",
      "Epoch 477, Loss G: -0.0863,Loss D: -0.0740\n",
      "Epoch 478, Loss G: -0.1192,Loss D: -0.0610\n",
      "Epoch 479, Loss G: -0.0074,Loss D: -0.0006\n",
      "Epoch 480, Loss G: -0.0524,Loss D: -0.2098\n",
      "Epoch 481, Loss G: -0.1675,Loss D: -0.0518\n",
      "Epoch 482, Loss G: -0.2055,Loss D:  0.0481\n",
      "Epoch 483, Loss G: -0.2563,Loss D:  0.0684\n",
      "Epoch 484, Loss G: -0.1788,Loss D:  0.0495\n",
      "Epoch 485, Loss G: -0.1522,Loss D:  0.1229\n",
      "Epoch 486, Loss G: -0.1173,Loss D:  0.0191\n",
      "Epoch 487, Loss G: -0.0246,Loss D:  0.0073\n",
      "Epoch 488, Loss G: -0.0249,Loss D:  0.0211\n",
      "Epoch 489, Loss G: -0.0442,Loss D: -0.0566\n",
      "Epoch 490, Loss G: -0.1375,Loss D: -0.0487\n",
      "Epoch 491, Loss G: -0.1333,Loss D: -0.1188\n",
      "Epoch 492, Loss G: -0.1265,Loss D:  0.0032\n",
      "Epoch 493, Loss G: -0.1723,Loss D: -0.0290\n",
      "Epoch 494, Loss G: -0.2449,Loss D:  0.0425\n",
      "Epoch 495, Loss G: -0.1453,Loss D:  0.0203\n",
      "Epoch 496, Loss G: -0.1637,Loss D:  0.1231\n",
      "Epoch 497, Loss G: -0.1931,Loss D:  0.0289\n",
      "Epoch 498, Loss G: -0.1799,Loss D: -0.0107\n",
      "Epoch 499, Loss G: -0.2765,Loss D:  0.0185\n",
      "Epoch 500, Loss G: -0.1831,Loss D: -0.0158\n",
      "time: 263.2188799381256\n"
     ]
    }
   ],
   "source": [
    "# Train CTGAN Model\n",
    "ctgan = CTGAN(verbose=True)\n",
    "startTime = time.time()\n",
    "ctgan.fit(df_sample, categorical_columns, epochs = 500)\n",
    "endTime = time.time()\n",
    "\n",
    "print('time:', endTime - startTime )"
   ]
  },
  {
   "cell_type": "markdown",
   "id": "e881953e-a550-4643-89cc-4f1dd2e8d23b",
   "metadata": {
    "id": "e881953e-a550-4643-89cc-4f1dd2e8d23b",
    "tags": []
   },
   "source": [
    "## Generating Synthetic Data with Trained Model"
   ]
  },
  {
   "cell_type": "markdown",
   "id": "5fb1d30f-2be9-49ed-9c5b-5b1879409ee2",
   "metadata": {
    "id": "5fb1d30f-2be9-49ed-9c5b-5b1879409ee2"
   },
   "source": [
    "- Generate data with same count as sampled data.\n",
    "- If we generate more data, we will gradually lose statistical similarity between two tables including correlation."
   ]
  },
  {
   "cell_type": "code",
   "execution_count": null,
   "id": "c8e82535-0587-4e57-a633-dde173310b22",
   "metadata": {
    "id": "c8e82535-0587-4e57-a633-dde173310b22"
   },
   "outputs": [],
   "source": [
    "# Generate data with same count as sampled data\n",
    "df_syn = ctgan.sample(len(df_sample))"
   ]
  },
  {
   "cell_type": "markdown",
   "id": "38650e6d-7d24-42bf-9b13-612a173c767f",
   "metadata": {
    "id": "38650e6d-7d24-42bf-9b13-612a173c767f",
    "tags": []
   },
   "source": [
    "## Save the New Data\n",
    "- Check the information of the generated synthetic data."
   ]
  },
  {
   "cell_type": "code",
   "execution_count": null,
   "id": "5844beb4-c097-469b-a523-0070a7ed0fe6",
   "metadata": {
    "colab": {
     "base_uri": "https://localhost:8080/"
    },
    "executionInfo": {
     "elapsed": 13,
     "status": "ok",
     "timestamp": 1680596687388,
     "user": {
      "displayName": "김형준",
      "userId": "10277863568716562689"
     },
     "user_tz": -540
    },
    "id": "5844beb4-c097-469b-a523-0070a7ed0fe6",
    "outputId": "80a3aa0c-c0e5-4b05-be25-84d45d2b8a9c"
   },
   "outputs": [
    {
     "name": "stdout",
     "output_type": "stream",
     "text": [
      "<class 'pandas.core.frame.DataFrame'>\n",
      "RangeIndex: 1600 entries, 0 to 1599\n",
      "Data columns (total 12 columns):\n",
      " #   Column                                                Non-Null Count  Dtype \n",
      "---  ------                                                --------------  ----- \n",
      " 0   dec_custom_code                                       1600 non-null   int64 \n",
      " 1   imp_dec_code                                          1600 non-null   object\n",
      " 2   imp_trd_code                                          1600 non-null   int64 \n",
      " 3   imp_typ_code                                          1600 non-null   int64 \n",
      " 4   collect_code                                          1600 non-null   int64 \n",
      " 5   typ_transport_code                                    1600 non-null   int64 \n",
      " 6   dec_mark                                              1600 non-null   object\n",
      " 7   importer                                              1600 non-null   object\n",
      " 8   ovs_cust_code                                         1449 non-null   object\n",
      " 9   exps_carr_code                                        473 non-null    object\n",
      " 10  country_orig_mark_code                                1600 non-null   object\n",
      " 11  HS10_ship_orig_tffrt_tffcd_weight_taxprice_crime_key  1600 non-null   object\n",
      "dtypes: int64(5), object(7)\n",
      "memory usage: 150.1+ KB\n"
     ]
    }
   ],
   "source": [
    "df_syn.info()"
   ]
  },
  {
   "cell_type": "markdown",
   "id": "zxn2zIW1BPwa",
   "metadata": {
    "id": "zxn2zIW1BPwa"
   },
   "source": [
    "- Create individual columns from the combined multi-column data."
   ]
  },
  {
   "cell_type": "code",
   "execution_count": null,
   "id": "9b990a0c-4632-4016-afe0-74717fcfbbaf",
   "metadata": {
    "id": "9b990a0c-4632-4016-afe0-74717fcfbbaf"
   },
   "outputs": [],
   "source": [
    "df_syn['HS10']=df_syn.HS10_ship_orig_tffrt_tffcd_weight_taxprice_crime_key.str.split('^').str[0]\n",
    "df_syn['country_ship_code']=df_syn.HS10_ship_orig_tffrt_tffcd_weight_taxprice_crime_key.str.split('^').str[1]\n",
    "df_syn['country_orig_code']=df_syn.HS10_ship_orig_tffrt_tffcd_weight_taxprice_crime_key.str.split('^').str[2]\n",
    "df_syn['trff_rate']=df_syn.HS10_ship_orig_tffrt_tffcd_weight_taxprice_crime_key.str.split('^').str[3]\n",
    "df_syn['trff_class_code']=df_syn.HS10_ship_orig_tffrt_tffcd_weight_taxprice_crime_key.str.split('^').str[4]\n",
    "df_syn['dec_weight']=df_syn.HS10_ship_orig_tffrt_tffcd_weight_taxprice_crime_key.str.split('^').str[5]\n",
    "df_syn['taxabal_price_KRW']=df_syn.HS10_ship_orig_tffrt_tffcd_weight_taxprice_crime_key.str.split('^').str[6]\n",
    "df_syn['crime_yn']=df_syn.HS10_ship_orig_tffrt_tffcd_weight_taxprice_crime_key.str.split('^').str[7]\n",
    "df_syn['key_exposure']=df_syn.HS10_ship_orig_tffrt_tffcd_weight_taxprice_crime_key.str.split('^').str[8]"
   ]
  },
  {
   "cell_type": "markdown",
   "id": "PzPDV1Z0BYvq",
   "metadata": {
    "id": "PzPDV1Z0BYvq"
   },
   "source": [
    "- Delete the combined multi-column."
   ]
  },
  {
   "cell_type": "code",
   "execution_count": null,
   "id": "946ae4d3-1393-4f8c-82c5-a39b31294c9b",
   "metadata": {
    "id": "946ae4d3-1393-4f8c-82c5-a39b31294c9b"
   },
   "outputs": [],
   "source": [
    "df_syn = df_syn.drop(['HS10_ship_orig_tffrt_tffcd_weight_taxprice_crime_key'],axis=1)"
   ]
  },
  {
   "cell_type": "markdown",
   "id": "f3b9e0d3-01ad-445d-97ef-e7d85c853e4c",
   "metadata": {
    "id": "f3b9e0d3-01ad-445d-97ef-e7d85c853e4c"
   },
   "source": [
    "### Sort Columns Identical to the Original Data\n",
    "- Since we combined multiple columns and then separated them, the ordering is mixed up.\n",
    "- To easily compare with the original data, we re-order the columns."
   ]
  },
  {
   "cell_type": "code",
   "execution_count": null,
   "id": "69d9c149-68a1-40af-92fb-e80314053474",
   "metadata": {
    "executionInfo": {
     "elapsed": 12,
     "status": "ok",
     "timestamp": 1680596687389,
     "user": {
      "displayName": "김형준",
      "userId": "10277863568716562689"
     },
     "user_tz": -540
    },
    "id": "69d9c149-68a1-40af-92fb-e80314053474",
    "outputId": "6ade4742-c46f-4850-e7c2-3ff7630026f0",
    "tags": []
   },
   "outputs": [
    {
     "ename": "NameError",
     "evalue": "name 'df_syn' is not defined",
     "output_type": "error",
     "traceback": [
      "\u001b[1;31m---------------------------------------------------------------------------\u001b[0m",
      "\u001b[1;31mNameError\u001b[0m                                 Traceback (most recent call last)",
      "\u001b[1;32m<ipython-input-6-02e86a03490f>\u001b[0m in \u001b[0;36m<module>\u001b[1;34m\u001b[0m\n\u001b[0;32m      1\u001b[0m \u001b[1;31m# Extract the columns in order, and assign to temporary dataframe.\u001b[0m\u001b[1;33m\u001b[0m\u001b[1;33m\u001b[0m\u001b[1;33m\u001b[0m\u001b[0m\n\u001b[1;32m----> 2\u001b[1;33m df_tmp = df_syn[['HS10','country_ship_code','country_orig_code','trff_rate',\\\n\u001b[0m\u001b[0;32m      3\u001b[0m                  'trff_class_code','country_orig_mark_code','dec_weight','taxabal_price_KRW','crime_yn','key_exposure']]\n\u001b[0;32m      4\u001b[0m \u001b[1;31m# Delete extracted column from the dataframe that contains synthetic data.\u001b[0m\u001b[1;33m\u001b[0m\u001b[1;33m\u001b[0m\u001b[1;33m\u001b[0m\u001b[0m\n\u001b[0;32m      5\u001b[0m df_syn = df_syn.drop(['HS10','country_ship_code','country_orig_code','trff_rate',\\\n",
      "\u001b[1;31mNameError\u001b[0m: name 'df_syn' is not defined"
     ]
    }
   ],
   "source": [
    "# Extract the columns in order, and assign to temporary dataframe.\n",
    "df_tmp = df_syn[['HS10','country_ship_code','country_orig_code','trff_rate',\\\n",
    "                 'trff_class_code','country_orig_mark_code','dec_weight','taxabal_price_KRW','crime_yn','key_exposure']]\n",
    "# Delete extracted column from the dataframe that contains synthetic data.\n",
    "df_syn = df_syn.drop(['HS10','country_ship_code','country_orig_code','trff_rate',\\\n",
    "                 'trff_class_code','country_orig_mark_code','dec_weight','taxabal_price_KRW','crime_yn','key_exposure'],axis=1)\n",
    "# Using concat function, concatenate temporary dataframe to existing dataframe.\n",
    "df_syn = pd.concat([df_syn, df_tmp], axis = 1)"
   ]
  },
  {
   "cell_type": "markdown",
   "id": "lcuivECDBoxC",
   "metadata": {
    "id": "lcuivECDBoxC"
   },
   "source": [
    "- Check the information of the synthetic data."
   ]
  },
  {
   "cell_type": "code",
   "execution_count": null,
   "id": "d0ae9659-f915-4574-af2b-bc0c1c904430",
   "metadata": {
    "colab": {
     "base_uri": "https://localhost:8080/"
    },
    "executionInfo": {
     "elapsed": 12,
     "status": "ok",
     "timestamp": 1680596687389,
     "user": {
      "displayName": "김형준",
      "userId": "10277863568716562689"
     },
     "user_tz": -540
    },
    "id": "d0ae9659-f915-4574-af2b-bc0c1c904430",
    "outputId": "c28cfdf7-ebe1-48f7-f8f4-a35f434f7c4e"
   },
   "outputs": [
    {
     "name": "stdout",
     "output_type": "stream",
     "text": [
      "<class 'pandas.core.frame.DataFrame'>\n",
      "RangeIndex: 1600 entries, 0 to 1599\n",
      "Data columns (total 20 columns):\n",
      " #   Column                  Non-Null Count  Dtype \n",
      "---  ------                  --------------  ----- \n",
      " 0   dec_custom_code         1600 non-null   int64 \n",
      " 1   imp_dec_code            1600 non-null   object\n",
      " 2   imp_trd_code            1600 non-null   int64 \n",
      " 3   imp_typ_code            1600 non-null   int64 \n",
      " 4   collect_code            1600 non-null   int64 \n",
      " 5   typ_transport_code      1600 non-null   int64 \n",
      " 6   dec_mark                1600 non-null   object\n",
      " 7   importer                1600 non-null   object\n",
      " 8   ovs_cust_code           1449 non-null   object\n",
      " 9   exps_carr_code          473 non-null    object\n",
      " 10  HS10                    1600 non-null   object\n",
      " 11  country_ship_code       1600 non-null   object\n",
      " 12  country_orig_code       1600 non-null   object\n",
      " 13  trff_rate               1600 non-null   object\n",
      " 14  trff_class_code         1600 non-null   object\n",
      " 15  country_orig_mark_code  1600 non-null   object\n",
      " 16  dec_weight              1600 non-null   object\n",
      " 17  taxabal_price_KRW       1600 non-null   object\n",
      " 18  crime_yn                1600 non-null   object\n",
      " 19  key_exposure            1600 non-null   object\n",
      "dtypes: int64(5), object(15)\n",
      "memory usage: 250.1+ KB\n"
     ]
    }
   ],
   "source": [
    "df_syn.info()"
   ]
  },
  {
   "cell_type": "markdown",
   "id": "5bzU7yHcBvko",
   "metadata": {
    "id": "5bzU7yHcBvko"
   },
   "source": [
    "- Finally, save the data to the specified path."
   ]
  },
  {
   "cell_type": "code",
   "execution_count": null,
   "id": "8d1395a3-3fdc-4f9b-a725-a8c97f9dbb0e",
   "metadata": {
    "id": "8d1395a3-3fdc-4f9b-a725-a8c97f9dbb0e"
   },
   "outputs": [],
   "source": [
    "# Save the data to the specified path.\n",
    "df_syn.to_csv('./data_sample/df_syn_en_14.csv', index=False, encoding='utf-8-sig')"
   ]
  }
 ],
 "metadata": {
  "accelerator": "GPU",
  "colab": {
   "provenance": [],
   "toc_visible": true
  },
  "gpuClass": "standard",
  "kernelspec": {
   "display_name": "Python 3 (ipykernel)",
   "language": "python",
   "name": "python3"
  },
  "language_info": {
   "codemirror_mode": {
    "name": "ipython",
    "version": 3
   },
   "file_extension": ".py",
   "mimetype": "text/x-python",
   "name": "python",
   "nbconvert_exporter": "python",
   "pygments_lexer": "ipython3",
   "version": "3.9.7"
  }
 },
 "nbformat": 4,
 "nbformat_minor": 5
}
