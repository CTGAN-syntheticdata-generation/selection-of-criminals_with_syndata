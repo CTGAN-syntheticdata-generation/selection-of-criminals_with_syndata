{
 "cells": [
  {
   "cell_type": "markdown",
   "id": "4b89332a-f3dd-4bac-a1a4-28892cea5b92",
   "metadata": {},
   "source": [
    "# 4. Review generated data similarity(Regression)"
   ]
  },
  {
   "cell_type": "markdown",
   "id": "d7da02a3-ca72-4a33-a375-05e8cf624fc6",
   "metadata": {
    "jp-MarkdownHeadingCollapsed": true,
    "tags": []
   },
   "source": [
    "## 라이브러리 불러오기"
   ]
  },
  {
   "cell_type": "code",
   "execution_count": 1,
   "id": "533b72ac-3121-413d-8689-82819812cc7f",
   "metadata": {},
   "outputs": [],
   "source": [
    "import pandas as pd\n",
    "import copy\n",
    "import numpy as np\n",
    "from sklearn.model_selection import train_test_split"
   ]
  },
  {
   "cell_type": "code",
   "execution_count": 2,
   "id": "37a9f6d0-73ee-469f-b964-3b2b9bf106e0",
   "metadata": {},
   "outputs": [],
   "source": [
    "import copy\n",
    "import time\n",
    "\n",
    "from collections import defaultdict\n",
    "from itertools import islice, combinations\n",
    "from datetime import datetime as dt\n",
    "\n",
    "import warnings\n",
    "warnings.filterwarnings(\"ignore\")"
   ]
  },
  {
   "cell_type": "code",
   "execution_count": 3,
   "id": "68ae4128-2f45-4775-9dbf-0a1196efde01",
   "metadata": {},
   "outputs": [
    {
     "data": {
      "text/html": [
       "<style>.container { width:100% !important; }</style>"
      ],
      "text/plain": [
       "<IPython.core.display.HTML object>"
      ]
     },
     "metadata": {},
     "output_type": "display_data"
    },
    {
     "name": "stdout",
     "output_type": "stream",
     "text": [
      "ready to run\n"
     ]
    }
   ],
   "source": [
    "#Jupiter Cell Full Screen View\n",
    "from IPython.core.display import display, HTML\n",
    "display(HTML(\"<style>.container { width:100% !important; }</style>\"))\n",
    "# useful for debuging (print the results of both formulas and functions entered in one cell of Jupiter)\n",
    "#from IPython.core.interactiveshell import InteractiveShell\n",
    "#InteractiveShell.ast_node_interactivity = \"all\"\n",
    "# Each column width at maximum (print all column contents)\n",
    "pd.set_option('display.max_colwidth', -1)\n",
    "# Show up to 500 rows\n",
    "pd.set_option('display.max_rows', 500)\n",
    "# Display up to 500 columns\n",
    "pd.set_option('display.max_columns', 500)\n",
    "# Total length of data frame\n",
    "pd.set_option('display.width', 1000)\n",
    "\n",
    "print('ready to run')\n",
    "# logging starttime \n",
    "startTime = time.time()"
   ]
  },
  {
   "cell_type": "markdown",
   "id": "0f32c257-cce4-455a-b92b-9d2572a16cfe",
   "metadata": {
    "tags": []
   },
   "source": [
    "## 데이터 불러오기 / 데이터 전처리하기"
   ]
  },
  {
   "cell_type": "markdown",
   "id": "f668fae9-5d63-4a85-a23b-4262603c7fe5",
   "metadata": {},
   "source": [
    "- 범주형 데이터 칼럼\n",
    "- 숫자형 데이터 칼럼"
   ]
  },
  {
   "cell_type": "code",
   "execution_count": 4,
   "id": "29878e0b-72bf-4d1f-af2e-775a3fa28c67",
   "metadata": {},
   "outputs": [],
   "source": [
    "category_cols = ['dec_num','dec_date','dec_custom_code','imp_dec_code','imp_trd_code','imp_typ_code',\\\n",
    "                 'collect_code','typ_transport_code','dec_mark','importer','ovs_cust_code',\\\n",
    "                 'exps_carr_code','HS10','country_ship_code','country_orig_code','trff_class_code',\\\n",
    "                 'country_orig_mark_code','crime_yn','key_exposure']"
   ]
  },
  {
   "cell_type": "code",
   "execution_count": 5,
   "id": "1577ef1c-34eb-47b1-a966-ef67b6fef04e",
   "metadata": {},
   "outputs": [],
   "source": [
    "number_cols = ['trff_rate','dec_weight','taxabal_price_KRW']"
   ]
  },
  {
   "cell_type": "markdown",
   "id": "23514163-79c8-486c-8e49-138abdc94480",
   "metadata": {
    "tags": []
   },
   "source": [
    "### 원본 데이터"
   ]
  },
  {
   "cell_type": "code",
   "execution_count": 6,
   "id": "0feddd48-56b1-4fce-af28-6ba4555a5334",
   "metadata": {},
   "outputs": [],
   "source": [
    "df_base = pd.read_csv('df_syn_en.csv', encoding='utf-8-sig') #새로운 가상데이터"
   ]
  },
  {
   "cell_type": "code",
   "execution_count": 7,
   "id": "bb44aa73-6b18-41c3-9aa3-8e362078e304",
   "metadata": {},
   "outputs": [],
   "source": [
    "copy_base = copy.deepcopy(df_base)"
   ]
  },
  {
   "cell_type": "code",
   "execution_count": 8,
   "id": "56227eca-6d55-432d-a691-ff802dd0487b",
   "metadata": {},
   "outputs": [],
   "source": [
    "copy_base_category = copy_base[category_cols]\n",
    "copy_base_number = copy_base[number_cols]"
   ]
  },
  {
   "cell_type": "markdown",
   "id": "bb7dc9fe-cb90-4f45-b8ff-cfb21736da83",
   "metadata": {
    "tags": []
   },
   "source": [
    "#### 범주형 데이터 라벨링"
   ]
  },
  {
   "cell_type": "code",
   "execution_count": 9,
   "id": "5135ca58-4ab0-40ae-9c96-bbe4fac7abfd",
   "metadata": {},
   "outputs": [],
   "source": [
    "import numpy as np\n",
    "import seaborn as sns\n",
    "from matplotlib import pyplot as plt \n",
    "\n",
    "from sklearn.preprocessing import LabelEncoder\n",
    "encoder = LabelEncoder()\n",
    "\n",
    "for column_name,item in copy_base_category.iteritems(): \n",
    "    encoder.fit(item)\n",
    "    labels = encoder.transform(item)\n",
    "    copy_base_category[column_name] = labels"
   ]
  },
  {
   "cell_type": "markdown",
   "id": "5f574133-0fb3-494d-af61-0814d952f462",
   "metadata": {},
   "source": [
    "#### 숫자형 데이터 최소-최대 정규화"
   ]
  },
  {
   "cell_type": "code",
   "execution_count": 10,
   "id": "704f2ab4-7000-4983-bc70-5ae23b41424d",
   "metadata": {},
   "outputs": [],
   "source": [
    "def normalize(column):\n",
    "    return (column - column.min())/(column.max() - column.min())"
   ]
  },
  {
   "cell_type": "code",
   "execution_count": 11,
   "id": "7fea9c31-ff53-4600-a332-6329ea981ac8",
   "metadata": {
    "tags": []
   },
   "outputs": [],
   "source": [
    "copy_base_number_nom = copy_base_number.apply(normalize)"
   ]
  },
  {
   "cell_type": "markdown",
   "id": "29fd5462-1352-4d6d-8738-9a3f8cb57920",
   "metadata": {},
   "source": [
    "#### 데이터 결합"
   ]
  },
  {
   "cell_type": "code",
   "execution_count": 12,
   "id": "27828aa8-1878-4f12-b105-2f603f62ad94",
   "metadata": {},
   "outputs": [],
   "source": [
    "copy_base_total = pd.concat([copy_base_category,copy_base_number_nom], axis=1)"
   ]
  },
  {
   "cell_type": "markdown",
   "id": "9a7864a6-a714-4640-9892-d41b4e5c6739",
   "metadata": {},
   "source": [
    "#### 훈련데이터, 테스트 데이터 분리"
   ]
  },
  {
   "cell_type": "code",
   "execution_count": 13,
   "id": "be7000ff-237f-42d9-85cc-57f07839608c",
   "metadata": {},
   "outputs": [],
   "source": [
    "y = copy_base_total['crime_yn']\n",
    "X = copy_base_total.drop(columns=['crime_yn','key_exposure'])"
   ]
  },
  {
   "cell_type": "code",
   "execution_count": 14,
   "id": "54740373-4206-44ef-8c4a-db50eb994029",
   "metadata": {},
   "outputs": [],
   "source": [
    "X_train, X_test, y_train, y_test = train_test_split(X, y, test_size=0.2, random_state=42)"
   ]
  },
  {
   "cell_type": "markdown",
   "id": "07fd7012-f1fa-45af-a3d3-8a21fe62c236",
   "metadata": {
    "tags": []
   },
   "source": [
    "### 합성 데이터"
   ]
  },
  {
   "cell_type": "code",
   "execution_count": 15,
   "id": "1059b400-34ce-4a29-a12a-93239053ecfc",
   "metadata": {},
   "outputs": [],
   "source": [
    "df_syn = pd.read_csv('./data_sample/df_syn_en_14.csv', encoding='utf-8-sig') #새로운 가상데이터"
   ]
  },
  {
   "cell_type": "code",
   "execution_count": 16,
   "id": "c1e2cb33-f04e-4c04-b70d-2fecae8a77a9",
   "metadata": {},
   "outputs": [],
   "source": [
    "copy_syn = copy.deepcopy(df_syn)"
   ]
  },
  {
   "cell_type": "code",
   "execution_count": 17,
   "id": "0cd12bd0-1ebb-41ac-b5bc-306bb6379adc",
   "metadata": {},
   "outputs": [],
   "source": [
    "copy_syn_category = copy_syn[category_cols]\n",
    "copy_syn_number = copy_syn[number_cols]"
   ]
  },
  {
   "cell_type": "markdown",
   "id": "5ac90263-f8d8-47e5-99a0-dda009021af4",
   "metadata": {},
   "source": [
    "#### 범주형 데이터 라벨링"
   ]
  },
  {
   "cell_type": "code",
   "execution_count": 18,
   "id": "928ba46a-fe64-4b51-ab1c-3d62327a8a37",
   "metadata": {},
   "outputs": [],
   "source": [
    "import numpy as np\n",
    "import seaborn as sns\n",
    "from matplotlib import pyplot as plt \n",
    "\n",
    "from sklearn.preprocessing import LabelEncoder\n",
    "encoder = LabelEncoder()\n",
    "\n",
    "for column_name,item in copy_syn_category.iteritems(): \n",
    "    encoder.fit(item)\n",
    "    labels = encoder.transform(item)\n",
    "    copy_syn_category[column_name] = labels"
   ]
  },
  {
   "cell_type": "markdown",
   "id": "0e616db5-206f-4c78-a6f1-dd8ba0da9471",
   "metadata": {},
   "source": [
    "#### 숫자형 데이터 최소-최대 정규화"
   ]
  },
  {
   "cell_type": "code",
   "execution_count": 19,
   "id": "7fb3e179-3b18-49b1-b21d-891ad97774a8",
   "metadata": {},
   "outputs": [],
   "source": [
    "def normalize(column):\n",
    "    return (column - column.min())/(column.max() - column.min())"
   ]
  },
  {
   "cell_type": "code",
   "execution_count": 20,
   "id": "d5ae8ecd-585d-48a6-b30d-8f258b18545c",
   "metadata": {},
   "outputs": [],
   "source": [
    "copy_syn_number_nom = copy_syn_number.apply(normalize)"
   ]
  },
  {
   "cell_type": "markdown",
   "id": "e4cdd0fc-28bc-4c81-9843-cc773724c379",
   "metadata": {},
   "source": [
    "#### 데이터 결합"
   ]
  },
  {
   "cell_type": "code",
   "execution_count": 21,
   "id": "c5f67b8d-1911-4d36-861f-5af2d12d2adc",
   "metadata": {},
   "outputs": [],
   "source": [
    "copy_syn_total = pd.concat([copy_syn_category,copy_syn_number_nom], axis=1)"
   ]
  },
  {
   "cell_type": "markdown",
   "id": "a79a0388-3735-49c0-bccc-ecdad76c2da4",
   "metadata": {},
   "source": [
    "#### 훈련데이터, 테스트 데이터 분리"
   ]
  },
  {
   "cell_type": "code",
   "execution_count": 22,
   "id": "7b9eb55f-d1ee-45d8-a47d-653c8f6979e1",
   "metadata": {},
   "outputs": [],
   "source": [
    "y_syn = copy_syn_total['crime_yn']\n",
    "X_syn = copy_syn_total.drop(columns=['crime_yn','key_exposure'])"
   ]
  },
  {
   "cell_type": "code",
   "execution_count": 23,
   "id": "81a72b7e-7b2a-416a-96e9-b699322f3405",
   "metadata": {},
   "outputs": [],
   "source": [
    "X_syn_train, X_syn_test, y_syn_train, y_syn_test = train_test_split(X_syn, y_syn, test_size=0.2, random_state=42)"
   ]
  },
  {
   "cell_type": "markdown",
   "id": "3a422f7a-b066-48e0-bbed-8761152c2805",
   "metadata": {
    "jp-MarkdownHeadingCollapsed": true,
    "tags": []
   },
   "source": [
    "## 분석하기"
   ]
  },
  {
   "cell_type": "markdown",
   "id": "aed7f4cf-0d7a-4231-9628-1a64899a4102",
   "metadata": {
    "tags": []
   },
   "source": [
    "### 선형 회귀분석"
   ]
  },
  {
   "cell_type": "code",
   "execution_count": 24,
   "id": "8b82971f-0ecd-435d-99f9-afb3c5d24760",
   "metadata": {},
   "outputs": [],
   "source": [
    "from sklearn.linear_model import LinearRegression"
   ]
  },
  {
   "cell_type": "markdown",
   "id": "6661becc-b2e3-4d6a-9982-78d8918c5d88",
   "metadata": {
    "tags": []
   },
   "source": [
    "#### 원본데이터 (X_train, X_test, y_train, y_test)"
   ]
  },
  {
   "cell_type": "markdown",
   "id": "37b2aa7f-5f67-477c-8528-caf93d93bd23",
   "metadata": {
    "jp-MarkdownHeadingCollapsed": true,
    "tags": []
   },
   "source": [
    "- 원본데이터 회귀모델 학습 "
   ]
  },
  {
   "cell_type": "code",
   "execution_count": 25,
   "id": "1e774912-d3cb-4255-8356-1982f974b9d1",
   "metadata": {
    "tags": []
   },
   "outputs": [
    {
     "data": {
      "text/html": [
       "<style>#sk-container-id-1 {color: black;background-color: white;}#sk-container-id-1 pre{padding: 0;}#sk-container-id-1 div.sk-toggleable {background-color: white;}#sk-container-id-1 label.sk-toggleable__label {cursor: pointer;display: block;width: 100%;margin-bottom: 0;padding: 0.3em;box-sizing: border-box;text-align: center;}#sk-container-id-1 label.sk-toggleable__label-arrow:before {content: \"▸\";float: left;margin-right: 0.25em;color: #696969;}#sk-container-id-1 label.sk-toggleable__label-arrow:hover:before {color: black;}#sk-container-id-1 div.sk-estimator:hover label.sk-toggleable__label-arrow:before {color: black;}#sk-container-id-1 div.sk-toggleable__content {max-height: 0;max-width: 0;overflow: hidden;text-align: left;background-color: #f0f8ff;}#sk-container-id-1 div.sk-toggleable__content pre {margin: 0.2em;color: black;border-radius: 0.25em;background-color: #f0f8ff;}#sk-container-id-1 input.sk-toggleable__control:checked~div.sk-toggleable__content {max-height: 200px;max-width: 100%;overflow: auto;}#sk-container-id-1 input.sk-toggleable__control:checked~label.sk-toggleable__label-arrow:before {content: \"▾\";}#sk-container-id-1 div.sk-estimator input.sk-toggleable__control:checked~label.sk-toggleable__label {background-color: #d4ebff;}#sk-container-id-1 div.sk-label input.sk-toggleable__control:checked~label.sk-toggleable__label {background-color: #d4ebff;}#sk-container-id-1 input.sk-hidden--visually {border: 0;clip: rect(1px 1px 1px 1px);clip: rect(1px, 1px, 1px, 1px);height: 1px;margin: -1px;overflow: hidden;padding: 0;position: absolute;width: 1px;}#sk-container-id-1 div.sk-estimator {font-family: monospace;background-color: #f0f8ff;border: 1px dotted black;border-radius: 0.25em;box-sizing: border-box;margin-bottom: 0.5em;}#sk-container-id-1 div.sk-estimator:hover {background-color: #d4ebff;}#sk-container-id-1 div.sk-parallel-item::after {content: \"\";width: 100%;border-bottom: 1px solid gray;flex-grow: 1;}#sk-container-id-1 div.sk-label:hover label.sk-toggleable__label {background-color: #d4ebff;}#sk-container-id-1 div.sk-serial::before {content: \"\";position: absolute;border-left: 1px solid gray;box-sizing: border-box;top: 0;bottom: 0;left: 50%;z-index: 0;}#sk-container-id-1 div.sk-serial {display: flex;flex-direction: column;align-items: center;background-color: white;padding-right: 0.2em;padding-left: 0.2em;position: relative;}#sk-container-id-1 div.sk-item {position: relative;z-index: 1;}#sk-container-id-1 div.sk-parallel {display: flex;align-items: stretch;justify-content: center;background-color: white;position: relative;}#sk-container-id-1 div.sk-item::before, #sk-container-id-1 div.sk-parallel-item::before {content: \"\";position: absolute;border-left: 1px solid gray;box-sizing: border-box;top: 0;bottom: 0;left: 50%;z-index: -1;}#sk-container-id-1 div.sk-parallel-item {display: flex;flex-direction: column;z-index: 1;position: relative;background-color: white;}#sk-container-id-1 div.sk-parallel-item:first-child::after {align-self: flex-end;width: 50%;}#sk-container-id-1 div.sk-parallel-item:last-child::after {align-self: flex-start;width: 50%;}#sk-container-id-1 div.sk-parallel-item:only-child::after {width: 0;}#sk-container-id-1 div.sk-dashed-wrapped {border: 1px dashed gray;margin: 0 0.4em 0.5em 0.4em;box-sizing: border-box;padding-bottom: 0.4em;background-color: white;}#sk-container-id-1 div.sk-label label {font-family: monospace;font-weight: bold;display: inline-block;line-height: 1.2em;}#sk-container-id-1 div.sk-label-container {text-align: center;}#sk-container-id-1 div.sk-container {/* jupyter's `normalize.less` sets `[hidden] { display: none; }` but bootstrap.min.css set `[hidden] { display: none !important; }` so we also need the `!important` here to be able to override the default hidden behavior on the sphinx rendered scikit-learn.org. See: https://github.com/scikit-learn/scikit-learn/issues/21755 */display: inline-block !important;position: relative;}#sk-container-id-1 div.sk-text-repr-fallback {display: none;}</style><div id=\"sk-container-id-1\" class=\"sk-top-container\"><div class=\"sk-text-repr-fallback\"><pre>LinearRegression()</pre><b>In a Jupyter environment, please rerun this cell to show the HTML representation or trust the notebook. <br />On GitHub, the HTML representation is unable to render, please try loading this page with nbviewer.org.</b></div><div class=\"sk-container\" hidden><div class=\"sk-item\"><div class=\"sk-estimator sk-toggleable\"><input class=\"sk-toggleable__control sk-hidden--visually\" id=\"sk-estimator-id-1\" type=\"checkbox\" checked><label for=\"sk-estimator-id-1\" class=\"sk-toggleable__label sk-toggleable__label-arrow\">LinearRegression</label><div class=\"sk-toggleable__content\"><pre>LinearRegression()</pre></div></div></div></div></div>"
      ],
      "text/plain": [
       "LinearRegression()"
      ]
     },
     "execution_count": 25,
     "metadata": {},
     "output_type": "execute_result"
    }
   ],
   "source": [
    "lr = LinearRegression()\n",
    "lr.fit(X_train, y_train)"
   ]
  },
  {
   "cell_type": "code",
   "execution_count": 26,
   "id": "ff5d572a-1298-4b62-81cf-b40c72290e47",
   "metadata": {},
   "outputs": [
    {
     "name": "stdout",
     "output_type": "stream",
     "text": [
      "Model score: 0.00973790576489375\n"
     ]
    }
   ],
   "source": [
    "score = lr.score(X_test, y_test)\n",
    "print(\"Model score:\", score)"
   ]
  },
  {
   "cell_type": "markdown",
   "id": "0aeb4525-c67e-446e-9ac2-0f71fe4fa2cf",
   "metadata": {
    "jp-MarkdownHeadingCollapsed": true,
    "tags": []
   },
   "source": [
    "- 원본데이터 예측값"
   ]
  },
  {
   "cell_type": "code",
   "execution_count": 27,
   "id": "f160df75-7d18-40e4-9803-7a2868cf82db",
   "metadata": {},
   "outputs": [],
   "source": [
    "y_pred = lr.predict(X_test)"
   ]
  },
  {
   "cell_type": "code",
   "execution_count": 28,
   "id": "d79ca691-aacd-42c5-9444-375129374c56",
   "metadata": {
    "tags": []
   },
   "outputs": [],
   "source": [
    "index = X_test['dec_num'].index.tolist()"
   ]
  },
  {
   "cell_type": "code",
   "execution_count": 29,
   "id": "2fffaec0-bb2d-4dfd-9764-f3368ae467cc",
   "metadata": {
    "tags": []
   },
   "outputs": [],
   "source": [
    "df = pd.DataFrame({'index' : index ,'pred': y_pred})"
   ]
  },
  {
   "cell_type": "markdown",
   "id": "bb506120-f749-4b08-b3ad-de5696a733b0",
   "metadata": {},
   "source": [
    "- 원본데이터 우범 회귀 예측값 상위 5%의 우범률"
   ]
  },
  {
   "cell_type": "code",
   "execution_count": 30,
   "id": "a462622f-2de2-4c7c-89d3-7d19cb300f23",
   "metadata": {},
   "outputs": [],
   "source": [
    "top_5percent = df['pred'].quantile(0.95)\n",
    "result = df[df['pred'] > top_5percent]"
   ]
  },
  {
   "cell_type": "code",
   "execution_count": 31,
   "id": "cae079a3-ed2d-4c1e-bd49-bcb45c26c05b",
   "metadata": {},
   "outputs": [],
   "source": [
    "y_test_top5 = y_test[y_test.index.isin(result['index'])]"
   ]
  },
  {
   "cell_type": "code",
   "execution_count": 32,
   "id": "818e0933-c30d-4527-9436-19f3df23e2bb",
   "metadata": {},
   "outputs": [],
   "source": [
    "y_test_top5_df = pd.DataFrame({'crime_yn' :y_test_top5})"
   ]
  },
  {
   "cell_type": "code",
   "execution_count": 33,
   "id": "780d7752-c6fb-4c2b-97cf-ef1aead3a372",
   "metadata": {},
   "outputs": [],
   "source": [
    "base_5 = y_test_top5_df[y_test_top5_df['crime_yn']==1].count() / y_test_top5_df.count()"
   ]
  },
  {
   "cell_type": "markdown",
   "id": "bd73cc04-99fc-41ac-a61b-324fb81868a1",
   "metadata": {},
   "source": [
    "- 원본데이터 우범 회귀 예측값 상위 10%의 우범률"
   ]
  },
  {
   "cell_type": "code",
   "execution_count": 34,
   "id": "3f4753be-1c87-4665-84f4-8c55ce4292be",
   "metadata": {},
   "outputs": [],
   "source": [
    "top_10percent = df['pred'].quantile(0.90)\n",
    "result = df[df['pred'] > top_10percent]"
   ]
  },
  {
   "cell_type": "code",
   "execution_count": 35,
   "id": "a8ad00b3-d1ad-4680-bf49-cc50a131f115",
   "metadata": {},
   "outputs": [],
   "source": [
    "y_test_top10 = y_test[y_test.index.isin(result['index'])]"
   ]
  },
  {
   "cell_type": "code",
   "execution_count": 36,
   "id": "15ed7d8c-a818-43eb-b7d6-149d42748d56",
   "metadata": {},
   "outputs": [],
   "source": [
    "y_test_top10_df = pd.DataFrame({'crime_yn' : y_test_top10})"
   ]
  },
  {
   "cell_type": "code",
   "execution_count": 37,
   "id": "ce1baae6-b320-4220-bdd5-0766e252ae1b",
   "metadata": {},
   "outputs": [],
   "source": [
    "base_10= y_test_top10_df[y_test_top10_df['crime_yn']==1].count() / y_test_top10_df.count()"
   ]
  },
  {
   "cell_type": "markdown",
   "id": "3ef414b1-b925-446f-a1bb-b19fa4a8a8c1",
   "metadata": {
    "tags": []
   },
   "source": [
    "#### 합성데이터 (X_syn_train, X_syn_test, y_syn_train, y_syn_test)"
   ]
  },
  {
   "cell_type": "markdown",
   "id": "bdd1242a-427f-4f5d-b29b-f8d93ec53bc4",
   "metadata": {
    "tags": []
   },
   "source": [
    "- 합성데이터 회귀모델 학습 "
   ]
  },
  {
   "cell_type": "code",
   "execution_count": 38,
   "id": "66ff0172-af4d-4875-ab71-5175b6d2d0fa",
   "metadata": {
    "tags": []
   },
   "outputs": [
    {
     "data": {
      "text/html": [
       "<style>#sk-container-id-2 {color: black;background-color: white;}#sk-container-id-2 pre{padding: 0;}#sk-container-id-2 div.sk-toggleable {background-color: white;}#sk-container-id-2 label.sk-toggleable__label {cursor: pointer;display: block;width: 100%;margin-bottom: 0;padding: 0.3em;box-sizing: border-box;text-align: center;}#sk-container-id-2 label.sk-toggleable__label-arrow:before {content: \"▸\";float: left;margin-right: 0.25em;color: #696969;}#sk-container-id-2 label.sk-toggleable__label-arrow:hover:before {color: black;}#sk-container-id-2 div.sk-estimator:hover label.sk-toggleable__label-arrow:before {color: black;}#sk-container-id-2 div.sk-toggleable__content {max-height: 0;max-width: 0;overflow: hidden;text-align: left;background-color: #f0f8ff;}#sk-container-id-2 div.sk-toggleable__content pre {margin: 0.2em;color: black;border-radius: 0.25em;background-color: #f0f8ff;}#sk-container-id-2 input.sk-toggleable__control:checked~div.sk-toggleable__content {max-height: 200px;max-width: 100%;overflow: auto;}#sk-container-id-2 input.sk-toggleable__control:checked~label.sk-toggleable__label-arrow:before {content: \"▾\";}#sk-container-id-2 div.sk-estimator input.sk-toggleable__control:checked~label.sk-toggleable__label {background-color: #d4ebff;}#sk-container-id-2 div.sk-label input.sk-toggleable__control:checked~label.sk-toggleable__label {background-color: #d4ebff;}#sk-container-id-2 input.sk-hidden--visually {border: 0;clip: rect(1px 1px 1px 1px);clip: rect(1px, 1px, 1px, 1px);height: 1px;margin: -1px;overflow: hidden;padding: 0;position: absolute;width: 1px;}#sk-container-id-2 div.sk-estimator {font-family: monospace;background-color: #f0f8ff;border: 1px dotted black;border-radius: 0.25em;box-sizing: border-box;margin-bottom: 0.5em;}#sk-container-id-2 div.sk-estimator:hover {background-color: #d4ebff;}#sk-container-id-2 div.sk-parallel-item::after {content: \"\";width: 100%;border-bottom: 1px solid gray;flex-grow: 1;}#sk-container-id-2 div.sk-label:hover label.sk-toggleable__label {background-color: #d4ebff;}#sk-container-id-2 div.sk-serial::before {content: \"\";position: absolute;border-left: 1px solid gray;box-sizing: border-box;top: 0;bottom: 0;left: 50%;z-index: 0;}#sk-container-id-2 div.sk-serial {display: flex;flex-direction: column;align-items: center;background-color: white;padding-right: 0.2em;padding-left: 0.2em;position: relative;}#sk-container-id-2 div.sk-item {position: relative;z-index: 1;}#sk-container-id-2 div.sk-parallel {display: flex;align-items: stretch;justify-content: center;background-color: white;position: relative;}#sk-container-id-2 div.sk-item::before, #sk-container-id-2 div.sk-parallel-item::before {content: \"\";position: absolute;border-left: 1px solid gray;box-sizing: border-box;top: 0;bottom: 0;left: 50%;z-index: -1;}#sk-container-id-2 div.sk-parallel-item {display: flex;flex-direction: column;z-index: 1;position: relative;background-color: white;}#sk-container-id-2 div.sk-parallel-item:first-child::after {align-self: flex-end;width: 50%;}#sk-container-id-2 div.sk-parallel-item:last-child::after {align-self: flex-start;width: 50%;}#sk-container-id-2 div.sk-parallel-item:only-child::after {width: 0;}#sk-container-id-2 div.sk-dashed-wrapped {border: 1px dashed gray;margin: 0 0.4em 0.5em 0.4em;box-sizing: border-box;padding-bottom: 0.4em;background-color: white;}#sk-container-id-2 div.sk-label label {font-family: monospace;font-weight: bold;display: inline-block;line-height: 1.2em;}#sk-container-id-2 div.sk-label-container {text-align: center;}#sk-container-id-2 div.sk-container {/* jupyter's `normalize.less` sets `[hidden] { display: none; }` but bootstrap.min.css set `[hidden] { display: none !important; }` so we also need the `!important` here to be able to override the default hidden behavior on the sphinx rendered scikit-learn.org. See: https://github.com/scikit-learn/scikit-learn/issues/21755 */display: inline-block !important;position: relative;}#sk-container-id-2 div.sk-text-repr-fallback {display: none;}</style><div id=\"sk-container-id-2\" class=\"sk-top-container\"><div class=\"sk-text-repr-fallback\"><pre>LinearRegression()</pre><b>In a Jupyter environment, please rerun this cell to show the HTML representation or trust the notebook. <br />On GitHub, the HTML representation is unable to render, please try loading this page with nbviewer.org.</b></div><div class=\"sk-container\" hidden><div class=\"sk-item\"><div class=\"sk-estimator sk-toggleable\"><input class=\"sk-toggleable__control sk-hidden--visually\" id=\"sk-estimator-id-2\" type=\"checkbox\" checked><label for=\"sk-estimator-id-2\" class=\"sk-toggleable__label sk-toggleable__label-arrow\">LinearRegression</label><div class=\"sk-toggleable__content\"><pre>LinearRegression()</pre></div></div></div></div></div>"
      ],
      "text/plain": [
       "LinearRegression()"
      ]
     },
     "execution_count": 38,
     "metadata": {},
     "output_type": "execute_result"
    }
   ],
   "source": [
    "lr_syn = LinearRegression()\n",
    "lr_syn.fit(X_syn_train, y_syn_train)"
   ]
  },
  {
   "cell_type": "code",
   "execution_count": 39,
   "id": "f108be76-cfde-4a2d-ad11-9b05d40bde38",
   "metadata": {},
   "outputs": [
    {
     "name": "stdout",
     "output_type": "stream",
     "text": [
      "Model score: -0.0281892365941947\n"
     ]
    }
   ],
   "source": [
    "score = lr_syn.score(X_syn_test, y_syn_test)\n",
    "print(\"Model score:\", score)"
   ]
  },
  {
   "cell_type": "markdown",
   "id": "14145d1e-849b-4621-a7b1-91f838b56be7",
   "metadata": {
    "tags": []
   },
   "source": [
    "- 합성데이터 예측값"
   ]
  },
  {
   "cell_type": "code",
   "execution_count": 40,
   "id": "69219db5-527c-40cb-9044-7436de2b4e81",
   "metadata": {},
   "outputs": [],
   "source": [
    "y_syn_pred = lr_syn.predict(X_syn_test)"
   ]
  },
  {
   "cell_type": "code",
   "execution_count": 41,
   "id": "6adbad9f-ea75-4e19-a556-ae75f32992a0",
   "metadata": {
    "tags": []
   },
   "outputs": [],
   "source": [
    "index = X_syn_test['dec_num'].index.tolist()"
   ]
  },
  {
   "cell_type": "code",
   "execution_count": 42,
   "id": "8f9a700b-e588-4603-b5c7-6aecaf857e14",
   "metadata": {
    "tags": []
   },
   "outputs": [],
   "source": [
    "df = pd.DataFrame({'index' : index ,'pred': y_syn_pred})"
   ]
  },
  {
   "cell_type": "markdown",
   "id": "c9cdd7e6-0cbf-40c7-b4c7-31ae8c8454db",
   "metadata": {},
   "source": [
    "- 합성데이터 우범 회귀 예측값 상위 5%의 우범률"
   ]
  },
  {
   "cell_type": "code",
   "execution_count": 43,
   "id": "b64f28d4-ace5-4d0a-b0c9-640e0ae2f0ed",
   "metadata": {},
   "outputs": [],
   "source": [
    "top_5percent = df['pred'].quantile(0.95)\n",
    "result = df[df['pred'] > top_5percent]"
   ]
  },
  {
   "cell_type": "code",
   "execution_count": 44,
   "id": "155ea8ae-8c0c-430e-b1a9-8d88d873c1cb",
   "metadata": {},
   "outputs": [],
   "source": [
    "y_test_top5 = y_syn_test[y_syn_test.index.isin(result['index'])]"
   ]
  },
  {
   "cell_type": "code",
   "execution_count": 45,
   "id": "f17c36e3-f25e-44e5-9be7-0459bec05e1c",
   "metadata": {},
   "outputs": [],
   "source": [
    "y_test_top5_df = pd.DataFrame({'crime_yn' :y_test_top5})"
   ]
  },
  {
   "cell_type": "code",
   "execution_count": 46,
   "id": "7d1c924b-2eca-4d01-af2d-2b0563306aee",
   "metadata": {},
   "outputs": [],
   "source": [
    "syn_5 = y_test_top5_df[y_test_top5_df['crime_yn']==1].count() / y_test_top5_df.count()"
   ]
  },
  {
   "cell_type": "markdown",
   "id": "fa0f0960-0c9a-4b34-b411-65dcea92f989",
   "metadata": {},
   "source": [
    "- 합성데이터 우범 회귀 예측값 상위 10%의 우범률"
   ]
  },
  {
   "cell_type": "code",
   "execution_count": 47,
   "id": "49d73a29-255b-448b-af5a-43964f6978e5",
   "metadata": {},
   "outputs": [],
   "source": [
    "top_10percent = df['pred'].quantile(0.90)\n",
    "result = df[df['pred'] > top_10percent]"
   ]
  },
  {
   "cell_type": "code",
   "execution_count": 48,
   "id": "d2ca17ad-16a0-48b8-880f-f378f92ad1e8",
   "metadata": {},
   "outputs": [],
   "source": [
    "y_test_top10 = y_syn_test[y_syn_test.index.isin(result['index'])]"
   ]
  },
  {
   "cell_type": "code",
   "execution_count": 49,
   "id": "82681b3e-3435-4a82-ad8e-892ae623d3b4",
   "metadata": {},
   "outputs": [],
   "source": [
    "y_test_top10_df = pd.DataFrame({'crime_yn' : y_test_top10})"
   ]
  },
  {
   "cell_type": "code",
   "execution_count": 50,
   "id": "0ed50dc7-6b30-4432-8b6b-18266b9accd5",
   "metadata": {},
   "outputs": [],
   "source": [
    "syn_10= y_test_top10_df[y_test_top10_df['crime_yn']==1].count() / y_test_top10_df.count()"
   ]
  },
  {
   "cell_type": "markdown",
   "id": "d17a5435-14e7-4da8-ba61-b504f996deca",
   "metadata": {
    "tags": []
   },
   "source": [
    "#### 우범률 정리 - 선형 회귀분석"
   ]
  },
  {
   "cell_type": "code",
   "execution_count": 51,
   "id": "0d92f743-aca3-4205-8647-24d0a1b63124",
   "metadata": {},
   "outputs": [],
   "source": [
    "df_result_lr = pd.DataFrame({'category': 'LinearRegression','base_5' : base_5, 'base_10': base_10,'syn_5': syn_5,'syn_10': syn_10})"
   ]
  },
  {
   "cell_type": "code",
   "execution_count": 52,
   "id": "0a0fbadd-f1a6-49c3-b414-77b151ce2b28",
   "metadata": {},
   "outputs": [
    {
     "data": {
      "text/html": [
       "<div>\n",
       "<style scoped>\n",
       "    .dataframe tbody tr th:only-of-type {\n",
       "        vertical-align: middle;\n",
       "    }\n",
       "\n",
       "    .dataframe tbody tr th {\n",
       "        vertical-align: top;\n",
       "    }\n",
       "\n",
       "    .dataframe thead th {\n",
       "        text-align: right;\n",
       "    }\n",
       "</style>\n",
       "<table border=\"1\" class=\"dataframe\">\n",
       "  <thead>\n",
       "    <tr style=\"text-align: right;\">\n",
       "      <th></th>\n",
       "      <th>category</th>\n",
       "      <th>base_5</th>\n",
       "      <th>base_10</th>\n",
       "      <th>syn_5</th>\n",
       "      <th>syn_10</th>\n",
       "    </tr>\n",
       "  </thead>\n",
       "  <tbody>\n",
       "    <tr>\n",
       "      <th>crime_yn</th>\n",
       "      <td>LinearRegression</td>\n",
       "      <td>0.35</td>\n",
       "      <td>0.309259</td>\n",
       "      <td>0.333333</td>\n",
       "      <td>0.3</td>\n",
       "    </tr>\n",
       "  </tbody>\n",
       "</table>\n",
       "</div>"
      ],
      "text/plain": [
       "                  category  base_5   base_10     syn_5  syn_10\n",
       "crime_yn  LinearRegression  0.35    0.309259  0.333333  0.3   "
      ]
     },
     "execution_count": 52,
     "metadata": {},
     "output_type": "execute_result"
    }
   ],
   "source": [
    "df_result_lr"
   ]
  },
  {
   "cell_type": "markdown",
   "id": "54798da4-7aef-46be-8f4d-c47b8cafeb5a",
   "metadata": {
    "jp-MarkdownHeadingCollapsed": true,
    "tags": []
   },
   "source": [
    "### 랜덤포레스트"
   ]
  },
  {
   "cell_type": "code",
   "execution_count": 53,
   "id": "a104c6bb-b482-4bc6-8c96-75d35c8dd0bf",
   "metadata": {},
   "outputs": [],
   "source": [
    "from sklearn.ensemble import RandomForestRegressor"
   ]
  },
  {
   "cell_type": "markdown",
   "id": "fbcc2d6b-ad66-431a-8d4c-47a456b4b0e1",
   "metadata": {},
   "source": [
    "#### 원본데이터 (X_train, X_test, y_train, y_test)"
   ]
  },
  {
   "cell_type": "markdown",
   "id": "8cdc000b-6c9f-4a8f-883b-f15796a5529e",
   "metadata": {
    "jp-MarkdownHeadingCollapsed": true,
    "tags": []
   },
   "source": [
    "- 원본데이터 랜덤포레스트 회귀모델 학습 "
   ]
  },
  {
   "cell_type": "code",
   "execution_count": 54,
   "id": "b75f3fdb-309d-4dc3-8078-7ba17a87a1b9",
   "metadata": {},
   "outputs": [],
   "source": [
    "rf = RandomForestRegressor(n_estimators=50, random_state=42)"
   ]
  },
  {
   "cell_type": "code",
   "execution_count": 55,
   "id": "e508e2f6-7b4d-4210-81b5-700b34a2f2b6",
   "metadata": {},
   "outputs": [
    {
     "data": {
      "text/html": [
       "<style>#sk-container-id-3 {color: black;background-color: white;}#sk-container-id-3 pre{padding: 0;}#sk-container-id-3 div.sk-toggleable {background-color: white;}#sk-container-id-3 label.sk-toggleable__label {cursor: pointer;display: block;width: 100%;margin-bottom: 0;padding: 0.3em;box-sizing: border-box;text-align: center;}#sk-container-id-3 label.sk-toggleable__label-arrow:before {content: \"▸\";float: left;margin-right: 0.25em;color: #696969;}#sk-container-id-3 label.sk-toggleable__label-arrow:hover:before {color: black;}#sk-container-id-3 div.sk-estimator:hover label.sk-toggleable__label-arrow:before {color: black;}#sk-container-id-3 div.sk-toggleable__content {max-height: 0;max-width: 0;overflow: hidden;text-align: left;background-color: #f0f8ff;}#sk-container-id-3 div.sk-toggleable__content pre {margin: 0.2em;color: black;border-radius: 0.25em;background-color: #f0f8ff;}#sk-container-id-3 input.sk-toggleable__control:checked~div.sk-toggleable__content {max-height: 200px;max-width: 100%;overflow: auto;}#sk-container-id-3 input.sk-toggleable__control:checked~label.sk-toggleable__label-arrow:before {content: \"▾\";}#sk-container-id-3 div.sk-estimator input.sk-toggleable__control:checked~label.sk-toggleable__label {background-color: #d4ebff;}#sk-container-id-3 div.sk-label input.sk-toggleable__control:checked~label.sk-toggleable__label {background-color: #d4ebff;}#sk-container-id-3 input.sk-hidden--visually {border: 0;clip: rect(1px 1px 1px 1px);clip: rect(1px, 1px, 1px, 1px);height: 1px;margin: -1px;overflow: hidden;padding: 0;position: absolute;width: 1px;}#sk-container-id-3 div.sk-estimator {font-family: monospace;background-color: #f0f8ff;border: 1px dotted black;border-radius: 0.25em;box-sizing: border-box;margin-bottom: 0.5em;}#sk-container-id-3 div.sk-estimator:hover {background-color: #d4ebff;}#sk-container-id-3 div.sk-parallel-item::after {content: \"\";width: 100%;border-bottom: 1px solid gray;flex-grow: 1;}#sk-container-id-3 div.sk-label:hover label.sk-toggleable__label {background-color: #d4ebff;}#sk-container-id-3 div.sk-serial::before {content: \"\";position: absolute;border-left: 1px solid gray;box-sizing: border-box;top: 0;bottom: 0;left: 50%;z-index: 0;}#sk-container-id-3 div.sk-serial {display: flex;flex-direction: column;align-items: center;background-color: white;padding-right: 0.2em;padding-left: 0.2em;position: relative;}#sk-container-id-3 div.sk-item {position: relative;z-index: 1;}#sk-container-id-3 div.sk-parallel {display: flex;align-items: stretch;justify-content: center;background-color: white;position: relative;}#sk-container-id-3 div.sk-item::before, #sk-container-id-3 div.sk-parallel-item::before {content: \"\";position: absolute;border-left: 1px solid gray;box-sizing: border-box;top: 0;bottom: 0;left: 50%;z-index: -1;}#sk-container-id-3 div.sk-parallel-item {display: flex;flex-direction: column;z-index: 1;position: relative;background-color: white;}#sk-container-id-3 div.sk-parallel-item:first-child::after {align-self: flex-end;width: 50%;}#sk-container-id-3 div.sk-parallel-item:last-child::after {align-self: flex-start;width: 50%;}#sk-container-id-3 div.sk-parallel-item:only-child::after {width: 0;}#sk-container-id-3 div.sk-dashed-wrapped {border: 1px dashed gray;margin: 0 0.4em 0.5em 0.4em;box-sizing: border-box;padding-bottom: 0.4em;background-color: white;}#sk-container-id-3 div.sk-label label {font-family: monospace;font-weight: bold;display: inline-block;line-height: 1.2em;}#sk-container-id-3 div.sk-label-container {text-align: center;}#sk-container-id-3 div.sk-container {/* jupyter's `normalize.less` sets `[hidden] { display: none; }` but bootstrap.min.css set `[hidden] { display: none !important; }` so we also need the `!important` here to be able to override the default hidden behavior on the sphinx rendered scikit-learn.org. See: https://github.com/scikit-learn/scikit-learn/issues/21755 */display: inline-block !important;position: relative;}#sk-container-id-3 div.sk-text-repr-fallback {display: none;}</style><div id=\"sk-container-id-3\" class=\"sk-top-container\"><div class=\"sk-text-repr-fallback\"><pre>RandomForestRegressor(n_estimators=50, random_state=42)</pre><b>In a Jupyter environment, please rerun this cell to show the HTML representation or trust the notebook. <br />On GitHub, the HTML representation is unable to render, please try loading this page with nbviewer.org.</b></div><div class=\"sk-container\" hidden><div class=\"sk-item\"><div class=\"sk-estimator sk-toggleable\"><input class=\"sk-toggleable__control sk-hidden--visually\" id=\"sk-estimator-id-3\" type=\"checkbox\" checked><label for=\"sk-estimator-id-3\" class=\"sk-toggleable__label sk-toggleable__label-arrow\">RandomForestRegressor</label><div class=\"sk-toggleable__content\"><pre>RandomForestRegressor(n_estimators=50, random_state=42)</pre></div></div></div></div></div>"
      ],
      "text/plain": [
       "RandomForestRegressor(n_estimators=50, random_state=42)"
      ]
     },
     "execution_count": 55,
     "metadata": {},
     "output_type": "execute_result"
    }
   ],
   "source": [
    "rf.fit(X_train, y_train)"
   ]
  },
  {
   "cell_type": "markdown",
   "id": "829c16ed-afc5-4d72-8b34-301f8fa2361e",
   "metadata": {
    "jp-MarkdownHeadingCollapsed": true,
    "tags": []
   },
   "source": [
    "- 원본데이터 예측값"
   ]
  },
  {
   "cell_type": "code",
   "execution_count": 56,
   "id": "62ae69e8-eae7-4597-91b2-435cb6620be8",
   "metadata": {},
   "outputs": [],
   "source": [
    "y_pred = rf.predict(X_test)"
   ]
  },
  {
   "cell_type": "code",
   "execution_count": 57,
   "id": "04a07399-3145-4ab5-bae1-17bbf9ee581d",
   "metadata": {
    "tags": []
   },
   "outputs": [],
   "source": [
    "index = X_test['dec_num'].index.tolist()"
   ]
  },
  {
   "cell_type": "code",
   "execution_count": 58,
   "id": "4e72088f-9e9c-49ea-a90c-75ba23f88257",
   "metadata": {
    "tags": []
   },
   "outputs": [],
   "source": [
    "df = pd.DataFrame({'index' : index ,'pred': y_pred})"
   ]
  },
  {
   "cell_type": "markdown",
   "id": "237ee55d-f271-44f6-badc-cc3122331691",
   "metadata": {},
   "source": [
    "- 원본데이터 우범 회귀 예측값 상위 5%의 우범률"
   ]
  },
  {
   "cell_type": "code",
   "execution_count": 59,
   "id": "0d442d63-305e-47db-a25d-05e0fe3d80b9",
   "metadata": {
    "tags": []
   },
   "outputs": [],
   "source": [
    "top_5percent = df['pred'].quantile(0.95)\n",
    "result = df[df['pred'] > top_5percent]"
   ]
  },
  {
   "cell_type": "code",
   "execution_count": 60,
   "id": "fce255e9-b588-4e94-b764-7314589548e0",
   "metadata": {},
   "outputs": [],
   "source": [
    "y_test_top5 = y_test[y_test.index.isin(result['index'])]"
   ]
  },
  {
   "cell_type": "code",
   "execution_count": 61,
   "id": "c044a664-5790-40b8-a756-3631a0e1968a",
   "metadata": {},
   "outputs": [],
   "source": [
    "y_test_top5_df = pd.DataFrame({'crime_yn' :y_test_top5})"
   ]
  },
  {
   "cell_type": "code",
   "execution_count": 62,
   "id": "722c5058-3b5d-4f2c-95fe-39f402b022a8",
   "metadata": {},
   "outputs": [],
   "source": [
    "base_5 = y_test_top5_df[y_test_top5_df['crime_yn']==1].count() / y_test_top5_df.count()"
   ]
  },
  {
   "cell_type": "markdown",
   "id": "7e599064-03b6-4e5f-a6b7-170536716b7f",
   "metadata": {},
   "source": [
    "- 원본데이터 우범 회귀 예측값 상위 10%의 우범률"
   ]
  },
  {
   "cell_type": "code",
   "execution_count": 63,
   "id": "08a39f3e-8135-4f4a-895b-0aac49527dcd",
   "metadata": {},
   "outputs": [],
   "source": [
    "top_10percent = df['pred'].quantile(0.90)\n",
    "result = df[df['pred'] > top_10percent]"
   ]
  },
  {
   "cell_type": "code",
   "execution_count": 64,
   "id": "39859e3a-5103-4440-83e8-55b154c7c903",
   "metadata": {},
   "outputs": [],
   "source": [
    "y_test_top10 = y_test[y_test.index.isin(result['index'])]"
   ]
  },
  {
   "cell_type": "code",
   "execution_count": 65,
   "id": "4a6e7e4e-a06f-4754-8506-813539a85097",
   "metadata": {},
   "outputs": [],
   "source": [
    "y_test_top10_df = pd.DataFrame({'crime_yn' : y_test_top10})"
   ]
  },
  {
   "cell_type": "code",
   "execution_count": 66,
   "id": "1136a359-9f70-4833-91b2-cc11c267252e",
   "metadata": {},
   "outputs": [],
   "source": [
    "base_10 = y_test_top10_df[y_test_top10_df['crime_yn']==1].count() / y_test_top10_df.count()"
   ]
  },
  {
   "cell_type": "markdown",
   "id": "d27a7d5c-c382-4c28-b15e-a441481fdde2",
   "metadata": {
    "tags": []
   },
   "source": [
    "#### 합성데이터 (X_syn_train, X_syn_test, y_syn_train, y_syn_test)"
   ]
  },
  {
   "cell_type": "markdown",
   "id": "3641a779-f89c-4e43-9f6f-c4bb834030ff",
   "metadata": {
    "jp-MarkdownHeadingCollapsed": true,
    "tags": []
   },
   "source": [
    "- 합성데이터 랜덤포레스트 회귀모델 학습 "
   ]
  },
  {
   "cell_type": "code",
   "execution_count": 67,
   "id": "276f6d2f-43a1-40af-80e3-18837ccc4f50",
   "metadata": {},
   "outputs": [],
   "source": [
    "rf_syn = RandomForestRegressor(n_estimators=50, random_state=42)"
   ]
  },
  {
   "cell_type": "code",
   "execution_count": 68,
   "id": "e291cdaa-8a41-4d71-8a22-4e97f5ebff73",
   "metadata": {},
   "outputs": [
    {
     "data": {
      "text/html": [
       "<style>#sk-container-id-4 {color: black;background-color: white;}#sk-container-id-4 pre{padding: 0;}#sk-container-id-4 div.sk-toggleable {background-color: white;}#sk-container-id-4 label.sk-toggleable__label {cursor: pointer;display: block;width: 100%;margin-bottom: 0;padding: 0.3em;box-sizing: border-box;text-align: center;}#sk-container-id-4 label.sk-toggleable__label-arrow:before {content: \"▸\";float: left;margin-right: 0.25em;color: #696969;}#sk-container-id-4 label.sk-toggleable__label-arrow:hover:before {color: black;}#sk-container-id-4 div.sk-estimator:hover label.sk-toggleable__label-arrow:before {color: black;}#sk-container-id-4 div.sk-toggleable__content {max-height: 0;max-width: 0;overflow: hidden;text-align: left;background-color: #f0f8ff;}#sk-container-id-4 div.sk-toggleable__content pre {margin: 0.2em;color: black;border-radius: 0.25em;background-color: #f0f8ff;}#sk-container-id-4 input.sk-toggleable__control:checked~div.sk-toggleable__content {max-height: 200px;max-width: 100%;overflow: auto;}#sk-container-id-4 input.sk-toggleable__control:checked~label.sk-toggleable__label-arrow:before {content: \"▾\";}#sk-container-id-4 div.sk-estimator input.sk-toggleable__control:checked~label.sk-toggleable__label {background-color: #d4ebff;}#sk-container-id-4 div.sk-label input.sk-toggleable__control:checked~label.sk-toggleable__label {background-color: #d4ebff;}#sk-container-id-4 input.sk-hidden--visually {border: 0;clip: rect(1px 1px 1px 1px);clip: rect(1px, 1px, 1px, 1px);height: 1px;margin: -1px;overflow: hidden;padding: 0;position: absolute;width: 1px;}#sk-container-id-4 div.sk-estimator {font-family: monospace;background-color: #f0f8ff;border: 1px dotted black;border-radius: 0.25em;box-sizing: border-box;margin-bottom: 0.5em;}#sk-container-id-4 div.sk-estimator:hover {background-color: #d4ebff;}#sk-container-id-4 div.sk-parallel-item::after {content: \"\";width: 100%;border-bottom: 1px solid gray;flex-grow: 1;}#sk-container-id-4 div.sk-label:hover label.sk-toggleable__label {background-color: #d4ebff;}#sk-container-id-4 div.sk-serial::before {content: \"\";position: absolute;border-left: 1px solid gray;box-sizing: border-box;top: 0;bottom: 0;left: 50%;z-index: 0;}#sk-container-id-4 div.sk-serial {display: flex;flex-direction: column;align-items: center;background-color: white;padding-right: 0.2em;padding-left: 0.2em;position: relative;}#sk-container-id-4 div.sk-item {position: relative;z-index: 1;}#sk-container-id-4 div.sk-parallel {display: flex;align-items: stretch;justify-content: center;background-color: white;position: relative;}#sk-container-id-4 div.sk-item::before, #sk-container-id-4 div.sk-parallel-item::before {content: \"\";position: absolute;border-left: 1px solid gray;box-sizing: border-box;top: 0;bottom: 0;left: 50%;z-index: -1;}#sk-container-id-4 div.sk-parallel-item {display: flex;flex-direction: column;z-index: 1;position: relative;background-color: white;}#sk-container-id-4 div.sk-parallel-item:first-child::after {align-self: flex-end;width: 50%;}#sk-container-id-4 div.sk-parallel-item:last-child::after {align-self: flex-start;width: 50%;}#sk-container-id-4 div.sk-parallel-item:only-child::after {width: 0;}#sk-container-id-4 div.sk-dashed-wrapped {border: 1px dashed gray;margin: 0 0.4em 0.5em 0.4em;box-sizing: border-box;padding-bottom: 0.4em;background-color: white;}#sk-container-id-4 div.sk-label label {font-family: monospace;font-weight: bold;display: inline-block;line-height: 1.2em;}#sk-container-id-4 div.sk-label-container {text-align: center;}#sk-container-id-4 div.sk-container {/* jupyter's `normalize.less` sets `[hidden] { display: none; }` but bootstrap.min.css set `[hidden] { display: none !important; }` so we also need the `!important` here to be able to override the default hidden behavior on the sphinx rendered scikit-learn.org. See: https://github.com/scikit-learn/scikit-learn/issues/21755 */display: inline-block !important;position: relative;}#sk-container-id-4 div.sk-text-repr-fallback {display: none;}</style><div id=\"sk-container-id-4\" class=\"sk-top-container\"><div class=\"sk-text-repr-fallback\"><pre>RandomForestRegressor(n_estimators=50, random_state=42)</pre><b>In a Jupyter environment, please rerun this cell to show the HTML representation or trust the notebook. <br />On GitHub, the HTML representation is unable to render, please try loading this page with nbviewer.org.</b></div><div class=\"sk-container\" hidden><div class=\"sk-item\"><div class=\"sk-estimator sk-toggleable\"><input class=\"sk-toggleable__control sk-hidden--visually\" id=\"sk-estimator-id-4\" type=\"checkbox\" checked><label for=\"sk-estimator-id-4\" class=\"sk-toggleable__label sk-toggleable__label-arrow\">RandomForestRegressor</label><div class=\"sk-toggleable__content\"><pre>RandomForestRegressor(n_estimators=50, random_state=42)</pre></div></div></div></div></div>"
      ],
      "text/plain": [
       "RandomForestRegressor(n_estimators=50, random_state=42)"
      ]
     },
     "execution_count": 68,
     "metadata": {},
     "output_type": "execute_result"
    }
   ],
   "source": [
    "rf_syn.fit(X_syn_train, y_syn_train)"
   ]
  },
  {
   "cell_type": "markdown",
   "id": "43c8d1b3-0a84-40e5-8e74-86de748b94f4",
   "metadata": {
    "tags": []
   },
   "source": [
    "- 합성데이터 예측값"
   ]
  },
  {
   "cell_type": "code",
   "execution_count": 69,
   "id": "4399cb82-96e3-4f61-bab1-de66851d94a6",
   "metadata": {},
   "outputs": [],
   "source": [
    "y_syn_pred = rf_syn.predict(X_syn_test)"
   ]
  },
  {
   "cell_type": "code",
   "execution_count": 70,
   "id": "d05250b4-bd98-4725-9a28-fbacaff7ca26",
   "metadata": {
    "tags": []
   },
   "outputs": [],
   "source": [
    "index = X_syn_test['dec_num'].index.tolist()"
   ]
  },
  {
   "cell_type": "code",
   "execution_count": 71,
   "id": "6658a205-f33c-4336-bc79-6783207ac3e9",
   "metadata": {
    "tags": []
   },
   "outputs": [],
   "source": [
    "df = pd.DataFrame({'index' : index ,'pred': y_syn_pred})"
   ]
  },
  {
   "cell_type": "markdown",
   "id": "b0e47978-a681-4d8c-b0f6-d8fc4bef2242",
   "metadata": {},
   "source": [
    "- 합성데이터 우범 회귀 예측값 상위 5%의 우범률"
   ]
  },
  {
   "cell_type": "code",
   "execution_count": 72,
   "id": "8878ea24-e885-412d-b958-a8f6ee0ecb0e",
   "metadata": {
    "tags": []
   },
   "outputs": [],
   "source": [
    "top_5percent = df['pred'].quantile(0.95)\n",
    "result = df[df['pred'] > top_5percent]"
   ]
  },
  {
   "cell_type": "code",
   "execution_count": 73,
   "id": "3192d600-6da0-41d5-afc9-1796251f350e",
   "metadata": {},
   "outputs": [],
   "source": [
    "y_test_top5 = y_syn_test[y_syn_test.index.isin(result['index'])]"
   ]
  },
  {
   "cell_type": "code",
   "execution_count": 74,
   "id": "2de34003-26b7-4f05-85c8-4809b9bc548c",
   "metadata": {},
   "outputs": [],
   "source": [
    "y_test_top5_df = pd.DataFrame({'crime_yn' :y_test_top5})"
   ]
  },
  {
   "cell_type": "code",
   "execution_count": 75,
   "id": "eaa55b00-9d97-4c17-8e78-47b8f7655dd0",
   "metadata": {},
   "outputs": [],
   "source": [
    "syn_5 = y_test_top5_df[y_test_top5_df['crime_yn']==1].count() / y_test_top5_df.count()"
   ]
  },
  {
   "cell_type": "markdown",
   "id": "7b628eab-8216-42dc-869d-a043aa2c9ec7",
   "metadata": {},
   "source": [
    "- 합성데이터 우범 회귀 예측값 상위 10%의 우범률"
   ]
  },
  {
   "cell_type": "code",
   "execution_count": 76,
   "id": "5236d131-1339-4911-b688-1913ddc22b42",
   "metadata": {},
   "outputs": [],
   "source": [
    "top_10percent = df['pred'].quantile(0.90)\n",
    "result = df[df['pred'] > top_10percent]"
   ]
  },
  {
   "cell_type": "code",
   "execution_count": 77,
   "id": "b6fd7205-002a-4817-9231-a170fb8431ca",
   "metadata": {},
   "outputs": [],
   "source": [
    "y_test_top10 = y_syn_test[y_syn_test.index.isin(result['index'])]"
   ]
  },
  {
   "cell_type": "code",
   "execution_count": 78,
   "id": "8c6b00d9-f646-4844-810c-9d52811da300",
   "metadata": {},
   "outputs": [],
   "source": [
    "y_test_top10_df = pd.DataFrame({'crime_yn' : y_test_top10})"
   ]
  },
  {
   "cell_type": "code",
   "execution_count": 79,
   "id": "18533da7-03e6-4e55-93e7-17d86ca9421d",
   "metadata": {
    "tags": []
   },
   "outputs": [],
   "source": [
    "syn_10 = y_test_top10_df[y_test_top10_df['crime_yn']==1].count() / y_test_top10_df.count()"
   ]
  },
  {
   "cell_type": "markdown",
   "id": "74e5fc3c-6882-47af-8bad-3d7b9ebee11b",
   "metadata": {
    "tags": []
   },
   "source": [
    "#### 우범률 정리 - 랜덤포레스트 "
   ]
  },
  {
   "cell_type": "code",
   "execution_count": 80,
   "id": "598a99f3-b794-4d08-b034-9d92850f2cd6",
   "metadata": {},
   "outputs": [],
   "source": [
    "df_result_rf = pd.DataFrame({'category': 'RandomForestRegressor','base_5' : base_5, 'base_10': base_10,'syn_5': syn_5,'syn_10': syn_10})"
   ]
  },
  {
   "cell_type": "code",
   "execution_count": 81,
   "id": "dfcbeb9f-b218-45ed-8eab-5ec36c79d0a9",
   "metadata": {},
   "outputs": [
    {
     "data": {
      "text/html": [
       "<div>\n",
       "<style scoped>\n",
       "    .dataframe tbody tr th:only-of-type {\n",
       "        vertical-align: middle;\n",
       "    }\n",
       "\n",
       "    .dataframe tbody tr th {\n",
       "        vertical-align: top;\n",
       "    }\n",
       "\n",
       "    .dataframe thead th {\n",
       "        text-align: right;\n",
       "    }\n",
       "</style>\n",
       "<table border=\"1\" class=\"dataframe\">\n",
       "  <thead>\n",
       "    <tr style=\"text-align: right;\">\n",
       "      <th></th>\n",
       "      <th>category</th>\n",
       "      <th>base_5</th>\n",
       "      <th>base_10</th>\n",
       "      <th>syn_5</th>\n",
       "      <th>syn_10</th>\n",
       "    </tr>\n",
       "  </thead>\n",
       "  <tbody>\n",
       "    <tr>\n",
       "      <th>crime_yn</th>\n",
       "      <td>RandomForestRegressor</td>\n",
       "      <td>0.89759</td>\n",
       "      <td>0.824742</td>\n",
       "      <td>0.714286</td>\n",
       "      <td>0.615385</td>\n",
       "    </tr>\n",
       "  </tbody>\n",
       "</table>\n",
       "</div>"
      ],
      "text/plain": [
       "                       category   base_5   base_10     syn_5    syn_10\n",
       "crime_yn  RandomForestRegressor  0.89759  0.824742  0.714286  0.615385"
      ]
     },
     "execution_count": 81,
     "metadata": {},
     "output_type": "execute_result"
    }
   ],
   "source": [
    "df_result_rf"
   ]
  },
  {
   "cell_type": "markdown",
   "id": "46800ae8-23f3-498c-9dda-3aa3480a2dde",
   "metadata": {
    "jp-MarkdownHeadingCollapsed": true,
    "tags": []
   },
   "source": [
    "### xgBoost"
   ]
  },
  {
   "cell_type": "code",
   "execution_count": 82,
   "id": "c1e44c89-854e-4fb9-9d23-5004b122967a",
   "metadata": {},
   "outputs": [],
   "source": [
    "import xgboost as xgb"
   ]
  },
  {
   "cell_type": "markdown",
   "id": "4e925aa5-f515-4a0c-af2d-8ad5b61e82a9",
   "metadata": {
    "tags": []
   },
   "source": [
    "#### 원본데이터 (X_train, X_test, y_train, y_test)"
   ]
  },
  {
   "cell_type": "markdown",
   "id": "2e407891-0b31-4f94-a77a-bb990518855d",
   "metadata": {
    "jp-MarkdownHeadingCollapsed": true,
    "tags": []
   },
   "source": [
    "- 원본데이터 xgBoost 회귀모델 학습 "
   ]
  },
  {
   "cell_type": "code",
   "execution_count": 83,
   "id": "9a9c410a-a3c3-40ed-8374-6d1b1b02dae4",
   "metadata": {},
   "outputs": [],
   "source": [
    "dtrain = xgb.DMatrix(X_train, label=y_train)\n",
    "dtest = xgb.DMatrix(X_test, label=y_test)"
   ]
  },
  {
   "cell_type": "code",
   "execution_count": 84,
   "id": "45eed8a1-17ea-438b-8574-caf61f78edb7",
   "metadata": {},
   "outputs": [],
   "source": [
    "params = {\n",
    "    \"max_depth\": 2,\n",
    "    \"eta\": 0.1,\n",
    "    \"subsample\": 0.5,\n",
    "    \"colsample_bytree\": 0.5,\n",
    "    \"objective\": \"reg:squarederror\",\n",
    "    \"eval_metric\": \"rmse\",\n",
    "}\n",
    "num_round = 100"
   ]
  },
  {
   "cell_type": "code",
   "execution_count": 85,
   "id": "9313ab37-3c80-4fb7-9f16-d9593f6845ac",
   "metadata": {},
   "outputs": [],
   "source": [
    "xgb_model = xgb.train(params, dtrain, num_round)"
   ]
  },
  {
   "cell_type": "markdown",
   "id": "87ac3839-973a-4802-b26f-4bcf25cc24ec",
   "metadata": {
    "jp-MarkdownHeadingCollapsed": true,
    "tags": []
   },
   "source": [
    "- 원본데이터 예측값"
   ]
  },
  {
   "cell_type": "code",
   "execution_count": 86,
   "id": "a559ae4b-3fef-4234-9336-96d7b6ce614d",
   "metadata": {},
   "outputs": [],
   "source": [
    "y_pred = xgb_model.predict(dtest)"
   ]
  },
  {
   "cell_type": "code",
   "execution_count": 87,
   "id": "e434ba83-9de5-43a6-bb1b-144ad7bca9a0",
   "metadata": {
    "tags": []
   },
   "outputs": [],
   "source": [
    "index = X_test['dec_num'].index.tolist()"
   ]
  },
  {
   "cell_type": "code",
   "execution_count": 88,
   "id": "3a309b52-c9cc-45d2-be40-23ac673317f3",
   "metadata": {
    "tags": []
   },
   "outputs": [],
   "source": [
    "df = pd.DataFrame({'index' : index ,'pred': y_pred})"
   ]
  },
  {
   "cell_type": "markdown",
   "id": "bd8a1193-66fb-46c3-bbba-2a0d6eb35e23",
   "metadata": {},
   "source": [
    "- 원본데이터 우범 회귀 예측값 상위 5%의 우범률"
   ]
  },
  {
   "cell_type": "code",
   "execution_count": 89,
   "id": "fa718df8-71d2-4ba0-834c-405fce51be9b",
   "metadata": {
    "tags": []
   },
   "outputs": [],
   "source": [
    "top_5percent = df['pred'].quantile(0.95)\n",
    "result = df[df['pred'] > top_5percent]"
   ]
  },
  {
   "cell_type": "code",
   "execution_count": 90,
   "id": "fa211318-5ca8-4537-a17b-8d7421c53f34",
   "metadata": {},
   "outputs": [],
   "source": [
    "y_test_top5 = y_test[y_test.index.isin(result['index'])]"
   ]
  },
  {
   "cell_type": "code",
   "execution_count": 91,
   "id": "52448111-73f9-4d97-b2cc-1effaa8ecce5",
   "metadata": {},
   "outputs": [],
   "source": [
    "y_test_top5_df = pd.DataFrame({'crime_yn' :y_test_top5})"
   ]
  },
  {
   "cell_type": "code",
   "execution_count": 92,
   "id": "3874115c-f684-49aa-9ecb-7090d457de76",
   "metadata": {},
   "outputs": [],
   "source": [
    "base_5 = y_test_top5_df[y_test_top5_df['crime_yn']==1].count() / y_test_top5_df.count()"
   ]
  },
  {
   "cell_type": "markdown",
   "id": "bf618755-44f6-4e55-a9c2-182f4cbd0d16",
   "metadata": {},
   "source": [
    "- 원본데이터 우범 회귀 예측값 상위 10%의 우범률"
   ]
  },
  {
   "cell_type": "code",
   "execution_count": 93,
   "id": "19d9f924-af8c-4daa-b405-a1bfcb3234ab",
   "metadata": {},
   "outputs": [],
   "source": [
    "top_10percent = df['pred'].quantile(0.90)\n",
    "result = df[df['pred'] > top_10percent]"
   ]
  },
  {
   "cell_type": "code",
   "execution_count": 94,
   "id": "541d4fc3-ff21-431c-839e-a7bd71f2ed0f",
   "metadata": {},
   "outputs": [],
   "source": [
    "y_test_top10 = y_test[y_test.index.isin(result['index'])]"
   ]
  },
  {
   "cell_type": "code",
   "execution_count": 95,
   "id": "dbf936e6-1f44-4850-9161-fff674ea648b",
   "metadata": {},
   "outputs": [],
   "source": [
    "y_test_top10_df = pd.DataFrame({'crime_yn' : y_test_top10})"
   ]
  },
  {
   "cell_type": "code",
   "execution_count": 96,
   "id": "2fd4cb98-8e34-4fc6-aef0-05a00df9fa83",
   "metadata": {},
   "outputs": [],
   "source": [
    "base_10 = y_test_top10_df[y_test_top10_df['crime_yn']==1].count() / y_test_top10_df.count()"
   ]
  },
  {
   "cell_type": "markdown",
   "id": "ee5cffe0-353e-468b-8c7b-366f6346e05c",
   "metadata": {
    "tags": []
   },
   "source": [
    "#### 합성데이터 (X_syn_train, X_syn_test, y_syn_train, y_syn_test)"
   ]
  },
  {
   "cell_type": "markdown",
   "id": "edee0579-76e8-44d8-9d2f-4a0c0c4845ec",
   "metadata": {
    "jp-MarkdownHeadingCollapsed": true,
    "tags": []
   },
   "source": [
    "- 합성데이터 xgBoost 회귀모델 학습 "
   ]
  },
  {
   "cell_type": "code",
   "execution_count": 97,
   "id": "97e2c252-aa99-4d83-97f8-7eaa2fd791a0",
   "metadata": {},
   "outputs": [],
   "source": [
    "dtrain_syn = xgb.DMatrix(X_syn_train, label=y_syn_train)\n",
    "dtest_syn = xgb.DMatrix(X_syn_test, label=y_syn_test)"
   ]
  },
  {
   "cell_type": "code",
   "execution_count": 98,
   "id": "146e88c6-a16c-4d9f-8c41-67a38ad5cdc7",
   "metadata": {},
   "outputs": [],
   "source": [
    "params = {\n",
    "    \"max_depth\": 2,\n",
    "    \"eta\": 0.1,\n",
    "    \"subsample\": 0.5,\n",
    "    \"colsample_bytree\": 0.5,\n",
    "    \"objective\": \"reg:squarederror\",\n",
    "    \"eval_metric\": \"rmse\",\n",
    "}\n",
    "num_round = 100"
   ]
  },
  {
   "cell_type": "code",
   "execution_count": 99,
   "id": "b2a104c0-8914-46d1-8bf1-1edbb706dcea",
   "metadata": {},
   "outputs": [],
   "source": [
    "xgb_model_syn = xgb.train(params, dtrain_syn, num_round)"
   ]
  },
  {
   "cell_type": "markdown",
   "id": "fb75d0e0-3567-43b3-8d14-a425bef55014",
   "metadata": {
    "tags": []
   },
   "source": [
    "- 합성데이터 예측값"
   ]
  },
  {
   "cell_type": "code",
   "execution_count": 100,
   "id": "9855aeb5-6b1c-484d-ba18-1dade42b0e0e",
   "metadata": {},
   "outputs": [],
   "source": [
    "y_syn_pred = xgb_model_syn.predict(dtest_syn)"
   ]
  },
  {
   "cell_type": "code",
   "execution_count": 101,
   "id": "3a412152-9828-4387-8dba-d1dc1ba06dc6",
   "metadata": {
    "tags": []
   },
   "outputs": [],
   "source": [
    "index = X_syn_test['dec_num'].index.tolist()"
   ]
  },
  {
   "cell_type": "code",
   "execution_count": 102,
   "id": "92295972-8062-4c21-a27c-044e6ce2cd9c",
   "metadata": {
    "tags": []
   },
   "outputs": [],
   "source": [
    "df = pd.DataFrame({'index' : index ,'pred': y_syn_pred})"
   ]
  },
  {
   "cell_type": "markdown",
   "id": "6c8980fb-caeb-4a60-8efa-8a5c817f1aee",
   "metadata": {},
   "source": [
    "- 합성데이터 우범 회귀 예측값 상위 5%의 우범률"
   ]
  },
  {
   "cell_type": "code",
   "execution_count": 103,
   "id": "8effd8a1-e5af-46ba-952a-8ab49c4a9e8d",
   "metadata": {
    "tags": []
   },
   "outputs": [],
   "source": [
    "top_5percent = df['pred'].quantile(0.95)\n",
    "result = df[df['pred'] > top_5percent]"
   ]
  },
  {
   "cell_type": "code",
   "execution_count": 104,
   "id": "7d1afbfc-07cf-4555-8b10-a76d4b6776ea",
   "metadata": {},
   "outputs": [],
   "source": [
    "y_test_top5 = y_syn_test[y_syn_test.index.isin(result['index'])]"
   ]
  },
  {
   "cell_type": "code",
   "execution_count": 105,
   "id": "1567fdd5-bf1b-4835-89de-b4e574252025",
   "metadata": {},
   "outputs": [],
   "source": [
    "y_test_top5_df = pd.DataFrame({'crime_yn' :y_test_top5})"
   ]
  },
  {
   "cell_type": "code",
   "execution_count": 106,
   "id": "bb215a9a-2d2c-4d35-9007-d66654e9fc7d",
   "metadata": {},
   "outputs": [],
   "source": [
    "syn_5 = y_test_top5_df[y_test_top5_df['crime_yn']==1].count() / y_test_top5_df.count()"
   ]
  },
  {
   "cell_type": "markdown",
   "id": "ee581174-efaa-4144-94fa-e9b864b8f854",
   "metadata": {},
   "source": [
    "- 합성데이터 우범 회귀 예측값 상위 10%의 우범률"
   ]
  },
  {
   "cell_type": "code",
   "execution_count": 107,
   "id": "d15229d5-9419-460a-ac92-fa2e5791aa57",
   "metadata": {},
   "outputs": [],
   "source": [
    "top_10percent = df['pred'].quantile(0.90)\n",
    "result = df[df['pred'] > top_10percent]"
   ]
  },
  {
   "cell_type": "code",
   "execution_count": 108,
   "id": "f7a06fc0-c18b-4707-9ea3-f04c2a67fae7",
   "metadata": {},
   "outputs": [],
   "source": [
    "y_test_top10 = y_syn_test[y_syn_test.index.isin(result['index'])]"
   ]
  },
  {
   "cell_type": "code",
   "execution_count": 109,
   "id": "5c123c09-2a1a-4e21-bcac-721b9b5f0b24",
   "metadata": {},
   "outputs": [],
   "source": [
    "y_test_top10_df = pd.DataFrame({'crime_yn' : y_test_top10})"
   ]
  },
  {
   "cell_type": "code",
   "execution_count": 110,
   "id": "51179241-2455-4cf8-ba98-0593c92022f4",
   "metadata": {
    "tags": []
   },
   "outputs": [],
   "source": [
    "syn_10 = y_test_top10_df[y_test_top10_df['crime_yn']==1].count() / y_test_top10_df.count()"
   ]
  },
  {
   "cell_type": "markdown",
   "id": "326e742f-fccb-4a25-8092-f5068dc2b780",
   "metadata": {
    "tags": []
   },
   "source": [
    "#### 우범률 정리 - xgBoost "
   ]
  },
  {
   "cell_type": "code",
   "execution_count": 111,
   "id": "77260034-21e4-4f4d-8219-db97e7a86da5",
   "metadata": {},
   "outputs": [],
   "source": [
    "df_result_xgb = pd.DataFrame({'category': 'xgboost','base_5' : base_5, 'base_10': base_10,'syn_5': syn_5,'syn_10': syn_10})"
   ]
  },
  {
   "cell_type": "code",
   "execution_count": 112,
   "id": "669b7450-58f7-48a4-adc4-51018fe42c1e",
   "metadata": {},
   "outputs": [
    {
     "data": {
      "text/html": [
       "<div>\n",
       "<style scoped>\n",
       "    .dataframe tbody tr th:only-of-type {\n",
       "        vertical-align: middle;\n",
       "    }\n",
       "\n",
       "    .dataframe tbody tr th {\n",
       "        vertical-align: top;\n",
       "    }\n",
       "\n",
       "    .dataframe thead th {\n",
       "        text-align: right;\n",
       "    }\n",
       "</style>\n",
       "<table border=\"1\" class=\"dataframe\">\n",
       "  <thead>\n",
       "    <tr style=\"text-align: right;\">\n",
       "      <th></th>\n",
       "      <th>category</th>\n",
       "      <th>base_5</th>\n",
       "      <th>base_10</th>\n",
       "      <th>syn_5</th>\n",
       "      <th>syn_10</th>\n",
       "    </tr>\n",
       "  </thead>\n",
       "  <tbody>\n",
       "    <tr>\n",
       "      <th>crime_yn</th>\n",
       "      <td>xgboost</td>\n",
       "      <td>0.414815</td>\n",
       "      <td>0.363889</td>\n",
       "      <td>0.466667</td>\n",
       "      <td>0.4</td>\n",
       "    </tr>\n",
       "  </tbody>\n",
       "</table>\n",
       "</div>"
      ],
      "text/plain": [
       "         category    base_5   base_10     syn_5  syn_10\n",
       "crime_yn  xgboost  0.414815  0.363889  0.466667  0.4   "
      ]
     },
     "execution_count": 112,
     "metadata": {},
     "output_type": "execute_result"
    }
   ],
   "source": [
    "df_result_xgb"
   ]
  },
  {
   "cell_type": "markdown",
   "id": "8ee84321-f619-4ab1-a10b-f24972684e1b",
   "metadata": {},
   "source": [
    "## 모델별 우범률 정리"
   ]
  },
  {
   "cell_type": "code",
   "execution_count": 114,
   "id": "a5027324-4345-4704-8c62-74ec0decfa58",
   "metadata": {},
   "outputs": [],
   "source": [
    "total_result = pd.concat([df_result_lr, df_result_rf, df_result_xgb])"
   ]
  },
  {
   "cell_type": "code",
   "execution_count": 115,
   "id": "d5171186-2623-4ac7-810a-1853183d9104",
   "metadata": {},
   "outputs": [],
   "source": [
    "total_result = total_result.reset_index(drop=True)"
   ]
  },
  {
   "cell_type": "code",
   "execution_count": 116,
   "id": "889008fa-7764-4a63-89a1-f0b5cd9cf422",
   "metadata": {},
   "outputs": [
    {
     "data": {
      "text/html": [
       "<div>\n",
       "<style scoped>\n",
       "    .dataframe tbody tr th:only-of-type {\n",
       "        vertical-align: middle;\n",
       "    }\n",
       "\n",
       "    .dataframe tbody tr th {\n",
       "        vertical-align: top;\n",
       "    }\n",
       "\n",
       "    .dataframe thead th {\n",
       "        text-align: right;\n",
       "    }\n",
       "</style>\n",
       "<table border=\"1\" class=\"dataframe\">\n",
       "  <thead>\n",
       "    <tr style=\"text-align: right;\">\n",
       "      <th></th>\n",
       "      <th>category</th>\n",
       "      <th>base_5</th>\n",
       "      <th>base_10</th>\n",
       "      <th>syn_5</th>\n",
       "      <th>syn_10</th>\n",
       "    </tr>\n",
       "  </thead>\n",
       "  <tbody>\n",
       "    <tr>\n",
       "      <th>0</th>\n",
       "      <td>LinearRegression</td>\n",
       "      <td>0.350000</td>\n",
       "      <td>0.309259</td>\n",
       "      <td>0.333333</td>\n",
       "      <td>0.300000</td>\n",
       "    </tr>\n",
       "    <tr>\n",
       "      <th>1</th>\n",
       "      <td>RandomForestRegressor</td>\n",
       "      <td>0.897590</td>\n",
       "      <td>0.824742</td>\n",
       "      <td>0.714286</td>\n",
       "      <td>0.615385</td>\n",
       "    </tr>\n",
       "    <tr>\n",
       "      <th>2</th>\n",
       "      <td>xgboost</td>\n",
       "      <td>0.414815</td>\n",
       "      <td>0.363889</td>\n",
       "      <td>0.466667</td>\n",
       "      <td>0.400000</td>\n",
       "    </tr>\n",
       "  </tbody>\n",
       "</table>\n",
       "</div>"
      ],
      "text/plain": [
       "                category    base_5   base_10     syn_5    syn_10\n",
       "0  LinearRegression       0.350000  0.309259  0.333333  0.300000\n",
       "1  RandomForestRegressor  0.897590  0.824742  0.714286  0.615385\n",
       "2  xgboost                0.414815  0.363889  0.466667  0.400000"
      ]
     },
     "execution_count": 116,
     "metadata": {},
     "output_type": "execute_result"
    }
   ],
   "source": [
    "total_result"
   ]
  },
  {
   "cell_type": "code",
   "execution_count": 1,
   "id": "2fb87e2c-99c4-4354-b1c7-cfeb7cb3f950",
   "metadata": {},
   "outputs": [
    {
     "name": "stdout",
     "output_type": "stream",
     "text": [
      "Mon Mar 20 14:41:12 2023       \n",
      "+-----------------------------------------------------------------------------+\n",
      "| NVIDIA-SMI 528.24       Driver Version: 528.24       CUDA Version: 12.0     |\n",
      "|-------------------------------+----------------------+----------------------+\n",
      "| GPU  Name            TCC/WDDM | Bus-Id        Disp.A | Volatile Uncorr. ECC |\n",
      "| Fan  Temp  Perf  Pwr:Usage/Cap|         Memory-Usage | GPU-Util  Compute M. |\n",
      "|                               |                      |               MIG M. |\n",
      "|===============================+======================+======================|\n",
      "|   0  NVIDIA GeForce ... WDDM  | 00000000:01:00.0  On |                  N/A |\n",
      "| N/A   48C    P8     7W /  80W |    749MiB /  6144MiB |      1%      Default |\n",
      "|                               |                      |                  N/A |\n",
      "+-------------------------------+----------------------+----------------------+\n",
      "                                                                               \n",
      "+-----------------------------------------------------------------------------+\n",
      "| Processes:                                                                  |\n",
      "|  GPU   GI   CI        PID   Type   Process name                  GPU Memory |\n",
      "|        ID   ID                                                   Usage      |\n",
      "|=============================================================================|\n",
      "|    0   N/A  N/A      1076    C+G   ...me\\Application\\chrome.exe    N/A      |\n",
      "|    0   N/A  N/A      5832    C+G   ...y\\ShellExperienceHost.exe    N/A      |\n",
      "|    0   N/A  N/A      9160    C+G   C:\\Windows\\explorer.exe         N/A      |\n",
      "|    0   N/A  N/A     10108    C+G   ...lPanel\\SystemSettings.exe    N/A      |\n",
      "|    0   N/A  N/A     10956    C+G   ...n1h2txyewy\\SearchHost.exe    N/A      |\n",
      "|    0   N/A  N/A     10984    C+G   ...artMenuExperienceHost.exe    N/A      |\n",
      "|    0   N/A  N/A     13068    C+G   ...cw5n1h2txyewy\\LockApp.exe    N/A      |\n",
      "|    0   N/A  N/A     15016    C+G   ...2txyewy\\TextInputHost.exe    N/A      |\n",
      "|    0   N/A  N/A     17120    C+G   ...e\\PhoneExperienceHost.exe    N/A      |\n",
      "|    0   N/A  N/A     17504    C+G   ...Lab\\RaiDrive\\RaiDrive.exe    N/A      |\n",
      "|    0   N/A  N/A     18236    C+G   ...8wekyb3d8bbwe\\Cortana.exe    N/A      |\n",
      "|    0   N/A  N/A     18988    C+G   ...587.69\\msedgewebview2.exe    N/A      |\n",
      "|    0   N/A  N/A     19540    C+G   ...587.69\\msedgewebview2.exe    N/A      |\n",
      "|    0   N/A  N/A     20424    C+G   ...661.44\\msedgewebview2.exe    N/A      |\n",
      "|    0   N/A  N/A     22512    C+G   ...ion\\3.19.166.16\\whale.exe    N/A      |\n",
      "|    0   N/A  N/A     22856    C+G   ...perience\\NVIDIA Share.exe    N/A      |\n",
      "|    0   N/A  N/A     23140    C+G   ...ge\\Application\\msedge.exe    N/A      |\n",
      "|    0   N/A  N/A     25056    C+G   ...ice\\Office16\\POWERPNT.EXE    N/A      |\n",
      "|    0   N/A  N/A     25204    C+G   ...ice\\Office16\\POWERPNT.EXE    N/A      |\n",
      "+-----------------------------------------------------------------------------+\n"
     ]
    }
   ],
   "source": [
    "!nvidia-smi"
   ]
  },
  {
   "cell_type": "code",
   "execution_count": null,
   "id": "b1caf4ea-4a36-4a03-bd48-29003170d671",
   "metadata": {},
   "outputs": [],
   "source": []
  }
 ],
 "metadata": {
  "kernelspec": {
   "display_name": "wco_ctgan",
   "language": "python",
   "name": "wco_ctgan"
  },
  "language_info": {
   "codemirror_mode": {
    "name": "ipython",
    "version": 3
   },
   "file_extension": ".py",
   "mimetype": "text/x-python",
   "name": "python",
   "nbconvert_exporter": "python",
   "pygments_lexer": "ipython3",
   "version": "3.9.7"
  }
 },
 "nbformat": 4,
 "nbformat_minor": 5
}
