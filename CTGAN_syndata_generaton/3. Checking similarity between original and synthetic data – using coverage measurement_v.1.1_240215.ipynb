{
 "cells": [
  {
   "cell_type": "markdown",
   "id": "e976cc0b-dbc6-4828-837d-0dca98dd3cf2",
   "metadata": {
    "id": "e976cc0b-dbc6-4828-837d-0dca98dd3cf2"
   },
   "source": [
    "# 3. Checking Similarity between Original and Synthetic Data – Using Coverage Measurement"
   ]
  },
  {
   "cell_type": "markdown",
   "id": "4e8e302c",
   "metadata": {},
   "source": [
    "- One of the methods of examining the statistical similarity between real and synthetic data is to measure the value range of real data that is covered by synthetic data.\n",
    "- Generally, the wider the range covered by the synthetic data, the more similar the two datasets. \n",
    "- In this lesson, we will calculate for each column the coverage range of the generated synthetic data against the original data. "
   ]
  },
  {
   "cell_type": "markdown",
   "id": "15f9455b",
   "metadata": {},
   "source": [
    "## Load Library"
   ]
  },
  {
   "cell_type": "markdown",
   "id": "7d28b3af-1b23-4d92-942b-7c437b669cae",
   "metadata": {
    "id": "7d28b3af-1b23-4d92-942b-7c437b669cae"
   },
   "source": [
    "- In this lesson, we will use coverage to verify the similarity between synthetic and original data. With the provided code, you can install the library necessary for calculating the coverage. If you do not have this library installed, please uncomment the code and execute it."
   ]
  },
  {
   "cell_type": "code",
   "execution_count": 1,
   "id": "b2c17c7e-42cc-4a76-a9c5-2d6a68b0a70c",
   "metadata": {
    "colab": {
     "base_uri": "https://localhost:8080/"
    },
    "executionInfo": {
     "elapsed": 4970,
     "status": "ok",
     "timestamp": 1680598172160,
     "user": {
      "displayName": "김형준",
      "userId": "10277863568716562689"
     },
     "user_tz": -540
    },
    "id": "b2c17c7e-42cc-4a76-a9c5-2d6a68b0a70c",
    "outputId": "d8226e29-ca98-41d3-e1bd-bb4e7f16e55b"
   },
   "outputs": [
    {
     "name": "stdout",
     "output_type": "stream",
     "text": [
      "Collecting sdmetrics\n",
      "  Downloading sdmetrics-0.13.0-py2.py3-none-any.whl (170 kB)\n",
      "     ------------------------------------- 170.7/170.7 kB 10.0 MB/s eta 0:00:00\n",
      "Requirement already satisfied: tqdm<5,>=4.15 in c:\\users\\0614_\\anaconda3\\lib\\site-packages (from sdmetrics) (4.64.1)\n",
      "Collecting plotly<6,>=5.10.0\n",
      "  Downloading plotly-5.18.0-py3-none-any.whl (15.6 MB)\n",
      "     --------------------------------------- 15.6/15.6 MB 46.7 MB/s eta 0:00:00\n",
      "Requirement already satisfied: pandas>=1.1.3 in c:\\users\\0614_\\anaconda3\\lib\\site-packages (from sdmetrics) (1.4.4)\n",
      "Requirement already satisfied: numpy<2,>=1.20.0 in c:\\users\\0614_\\anaconda3\\lib\\site-packages (from sdmetrics) (1.23.5)\n",
      "Requirement already satisfied: scikit-learn<2,>=0.24 in c:\\users\\0614_\\anaconda3\\lib\\site-packages (from sdmetrics) (0.24.2)\n",
      "Collecting copulas<0.10,>=0.9.0\n",
      "  Downloading copulas-0.9.2-py2.py3-none-any.whl (54 kB)\n",
      "     ---------------------------------------- 54.6/54.6 kB ? eta 0:00:00\n",
      "Requirement already satisfied: scipy<2,>=1.5.4 in c:\\users\\0614_\\anaconda3\\lib\\site-packages (from sdmetrics) (1.9.3)\n",
      "Requirement already satisfied: matplotlib<4,>=3.4.0 in c:\\users\\0614_\\anaconda3\\lib\\site-packages (from copulas<0.10,>=0.9.0->sdmetrics) (3.6.2)\n",
      "Requirement already satisfied: python-dateutil>=2.8.1 in c:\\users\\0614_\\anaconda3\\lib\\site-packages (from pandas>=1.1.3->sdmetrics) (2.8.2)\n",
      "Requirement already satisfied: pytz>=2020.1 in c:\\users\\0614_\\anaconda3\\lib\\site-packages (from pandas>=1.1.3->sdmetrics) (2022.7)\n",
      "Requirement already satisfied: packaging in c:\\users\\0614_\\anaconda3\\lib\\site-packages (from plotly<6,>=5.10.0->sdmetrics) (22.0)\n",
      "Requirement already satisfied: tenacity>=6.2.0 in c:\\users\\0614_\\anaconda3\\lib\\site-packages (from plotly<6,>=5.10.0->sdmetrics) (8.0.1)\n",
      "Requirement already satisfied: threadpoolctl>=2.0.0 in c:\\users\\0614_\\anaconda3\\lib\\site-packages (from scikit-learn<2,>=0.24->sdmetrics) (2.2.0)\n",
      "Requirement already satisfied: joblib>=0.11 in c:\\users\\0614_\\anaconda3\\lib\\site-packages (from scikit-learn<2,>=0.24->sdmetrics) (1.1.1)\n",
      "Requirement already satisfied: colorama in c:\\users\\0614_\\anaconda3\\lib\\site-packages (from tqdm<5,>=4.15->sdmetrics) (0.4.6)\n",
      "Requirement already satisfied: contourpy>=1.0.1 in c:\\users\\0614_\\anaconda3\\lib\\site-packages (from matplotlib<4,>=3.4.0->copulas<0.10,>=0.9.0->sdmetrics) (1.0.5)\n",
      "Requirement already satisfied: kiwisolver>=1.0.1 in c:\\users\\0614_\\anaconda3\\lib\\site-packages (from matplotlib<4,>=3.4.0->copulas<0.10,>=0.9.0->sdmetrics) (1.4.4)\n",
      "Requirement already satisfied: cycler>=0.10 in c:\\users\\0614_\\anaconda3\\lib\\site-packages (from matplotlib<4,>=3.4.0->copulas<0.10,>=0.9.0->sdmetrics) (0.11.0)\n",
      "Requirement already satisfied: pillow>=6.2.0 in c:\\users\\0614_\\anaconda3\\lib\\site-packages (from matplotlib<4,>=3.4.0->copulas<0.10,>=0.9.0->sdmetrics) (9.3.0)\n",
      "Requirement already satisfied: fonttools>=4.22.0 in c:\\users\\0614_\\anaconda3\\lib\\site-packages (from matplotlib<4,>=3.4.0->copulas<0.10,>=0.9.0->sdmetrics) (4.25.0)\n",
      "Requirement already satisfied: pyparsing>=2.2.1 in c:\\users\\0614_\\anaconda3\\lib\\site-packages (from matplotlib<4,>=3.4.0->copulas<0.10,>=0.9.0->sdmetrics) (3.0.9)\n",
      "Requirement already satisfied: six>=1.5 in c:\\users\\0614_\\anaconda3\\lib\\site-packages (from python-dateutil>=2.8.1->pandas>=1.1.3->sdmetrics) (1.16.0)\n",
      "Installing collected packages: plotly, copulas, sdmetrics\n",
      "  Attempting uninstall: plotly\n",
      "    Found existing installation: plotly 5.9.0\n",
      "    Uninstalling plotly-5.9.0:\n",
      "      Successfully uninstalled plotly-5.9.0\n",
      "Successfully installed copulas-0.9.2 plotly-5.18.0 sdmetrics-0.13.0\n"
     ]
    }
   ],
   "source": [
    "# !pip install sdmetrics"
   ]
  },
  {
   "cell_type": "markdown",
   "id": "05ed8695-b04c-4577-812c-c358d0211818",
   "metadata": {
    "id": "05ed8695-b04c-4577-812c-c358d0211818",
    "tags": []
   },
   "source": [
    " ## Load Data"
   ]
  },
  {
   "cell_type": "markdown",
   "id": "8d4443dc-a102-4633-a704-391d7c72c830",
   "metadata": {},
   "source": [
    "- Let’s import the necessary libraries and data files, and create data copies. "
   ]
  },
  {
   "cell_type": "code",
   "execution_count": 1,
   "id": "42da2389-e027-4ac5-8a82-df9429ed39e5",
   "metadata": {
    "executionInfo": {
     "elapsed": 707,
     "status": "ok",
     "timestamp": 1680598172864,
     "user": {
      "displayName": "김형준",
      "userId": "10277863568716562689"
     },
     "user_tz": -540
    },
    "id": "42da2389-e027-4ac5-8a82-df9429ed39e5"
   },
   "outputs": [],
   "source": [
    "import pandas as pd\n",
    "import copy"
   ]
  },
  {
   "cell_type": "code",
   "execution_count": 2,
   "id": "b793c233-cdd5-4aec-babe-3b7bf52ccc20",
   "metadata": {
    "executionInfo": {
     "elapsed": 969,
     "status": "ok",
     "timestamp": 1680598173831,
     "user": {
      "displayName": "김형준",
      "userId": "10277863568716562689"
     },
     "user_tz": -540
    },
    "id": "b793c233-cdd5-4aec-babe-3b7bf52ccc20"
   },
   "outputs": [],
   "source": [
    "# Synthetic data\n",
    "df_syn_01 = pd.read_csv('./data_sample/df_syn_en_15.csv', encoding='utf-8-sig')"
   ]
  },
  {
   "cell_type": "code",
   "execution_count": 3,
   "id": "313122ac-cce2-4571-b866-1514c76bde12",
   "metadata": {
    "executionInfo": {
     "elapsed": 5,
     "status": "ok",
     "timestamp": 1680598173831,
     "user": {
      "displayName": "김형준",
      "userId": "10277863568716562689"
     },
     "user_tz": -540
    },
    "id": "313122ac-cce2-4571-b866-1514c76bde12"
   },
   "outputs": [],
   "source": [
    "# Original data\n",
    "df_syn_base = pd.read_csv('df_syn_en.csv', encoding='utf-8-sig') "
   ]
  },
  {
   "cell_type": "code",
   "execution_count": 4,
   "id": "29153265-95f7-4a43-91aa-6ba2f9aa3fed",
   "metadata": {
    "executionInfo": {
     "elapsed": 5,
     "status": "ok",
     "timestamp": 1680598173831,
     "user": {
      "displayName": "김형준",
      "userId": "10277863568716562689"
     },
     "user_tz": -540
    },
    "id": "29153265-95f7-4a43-91aa-6ba2f9aa3fed"
   },
   "outputs": [],
   "source": [
    "copy_syn = copy.deepcopy(df_syn_01)"
   ]
  },
  {
   "cell_type": "code",
   "execution_count": 5,
   "id": "cc781fab-e070-4c1c-8ce7-9ad417988549",
   "metadata": {
    "executionInfo": {
     "elapsed": 5,
     "status": "ok",
     "timestamp": 1680598173832,
     "user": {
      "displayName": "김형준",
      "userId": "10277863568716562689"
     },
     "user_tz": -540
    },
    "id": "cc781fab-e070-4c1c-8ce7-9ad417988549",
    "tags": []
   },
   "outputs": [],
   "source": [
    "copy_base = copy.deepcopy(df_syn_base)"
   ]
  },
  {
   "cell_type": "markdown",
   "id": "6a1eb89b-8721-4311-8b88-0c8d0e0b368b",
   "metadata": {
    "id": "6a1eb89b-8721-4311-8b88-0c8d0e0b368b",
    "tags": []
   },
   "source": [
    "## Check the Coverage of Generated Data Against the Real Data"
   ]
  },
  {
   "cell_type": "markdown",
   "id": "4b3a2001",
   "metadata": {},
   "source": [
    "### Check categorical data coverage (using CategoryCoverage)"
   ]
  },
  {
   "cell_type": "markdown",
   "id": "bcf3663c-f7b0-474b-b8f1-f5d818343bb5",
   "metadata": {},
   "source": [
    "- To check the coverage of the synthetic data against the original data on categorical columns, we will use the CategoryCoverage metric. \n",
    "- This metric measures whether a synthetic column covers all the possible categories present in the corresponding original column."
   ]
  },
  {
   "cell_type": "markdown",
   "id": "wNddqi3_KyxH",
   "metadata": {
    "id": "wNddqi3_KyxH"
   },
   "source": [
    "#### Data Compatibility of CategoryCoverage\n",
    "\n",
    "- Categorical: This metric is meant for discrete, categorical data\n",
    "- Boolean: This metric is meant for boolean data\n"
   ]
  },
  {
   "cell_type": "markdown",
   "id": "lqie_t2aNmTp",
   "metadata": {
    "id": "lqie_t2aNmTp"
   },
   "source": [
    "- The plot below illustrates a scenario where the CategoryCoverage score of synthetic data on a specific categorical column in the original data is 0.6. In this plot, the synthetic data includes only 3 out of 5 unique categories present in the original data. In other words, it covers only 60% of the value range found in the original data."
   ]
  },
  {
   "cell_type": "markdown",
   "id": "bffd72dd-6c1e-4690-ac7b-1da6380f13eb",
   "metadata": {},
   "source": [
    "#### Score\n",
    "- (best) 1.0: The synthetic column contains all the unique categories present in the real column\n",
    "- (worst) 0.0: The synthetic column contains none of the categories present in the real column"
   ]
  },
  {
   "cell_type": "markdown",
   "id": "b10bda63-926e-498a-9dca-5705c72bfdb8",
   "metadata": {
    "id": "b10bda63-926e-498a-9dca-5705c72bfdb8"
   },
   "source": [
    "![Category Coverage](https://1485348715-files.gitbook.io/~/files/v0/b/gitbook-x-prod.appspot.com/o/spaces%2FrNLha4DaPNwVJ930KhmB%2Fuploads%2F2yn1OQLODOesNLVjnpe2%2FCategory%20Coverage.png?alt=media&token=e12f6f08-d3b0-4e05-9a41-58b8a28d4a4e)"
   ]
  },
  {
   "cell_type": "markdown",
   "id": "615231e0-eabf-4c97-b912-3cdcca1689ba",
   "metadata": {
    "id": "615231e0-eabf-4c97-b912-3cdcca1689ba"
   },
   "source": [
    "- The CategoryCoverage metric computes the coverage that the synthetic data has over the categories present in a categorical column of the original data. This computation is performed for each categorical column, where the metric first calculates the number of unique categories in a specific column of the original data (a). It then counts the number of those categories present in the corresponding column of the synthetic data (b). Finally, it returns the proportion of categories covered by the synthetic data to the total number of unique categories in the original data (b/a)."
   ]
  },
  {
   "cell_type": "code",
   "execution_count": 6,
   "id": "e97a1c9d-dff3-4c6f-855c-1df0c28f4cbe",
   "metadata": {
    "colab": {
     "base_uri": "https://localhost:8080/"
    },
    "executionInfo": {
     "elapsed": 2144,
     "status": "ok",
     "timestamp": 1680598175971,
     "user": {
      "displayName": "김형준",
      "userId": "10277863568716562689"
     },
     "user_tz": -540
    },
    "id": "e97a1c9d-dff3-4c6f-855c-1df0c28f4cbe",
    "outputId": "bc61be76-71ef-42b8-f5c0-62337dd2e0cf"
   },
   "outputs": [
    {
     "data": {
      "text/plain": [
       "0.6976744186046512"
      ]
     },
     "execution_count": 6,
     "metadata": {},
     "output_type": "execute_result"
    }
   ],
   "source": [
    "# Calculate the coverage score of the ‘dec_customs_code’ column\n",
    "from sdmetrics.single_column import CategoryCoverage\n",
    "\n",
    "CategoryCoverage.compute(\n",
    "    real_data=copy_base['dec_custom_code'],\n",
    "    synthetic_data=copy_syn['dec_custom_code']\n",
    ")"
   ]
  },
  {
   "cell_type": "markdown",
   "id": "8297c1fe-16d2-4e8f-813f-041500b64d49",
   "metadata": {
    "id": "8297c1fe-16d2-4e8f-813f-041500b64d49",
    "tags": []
   },
   "source": [
    "### Plot the coverage graph of category type columns"
   ]
  },
  {
   "cell_type": "markdown",
   "id": "58a76ddf-ea15-436d-8fc1-d8cbeaa0d0dd",
   "metadata": {
    "id": "58a76ddf-ea15-436d-8fc1-d8cbeaa0d0dd"
   },
   "source": [
    "- Let’s now visualize the CategoryCoverage of synthetic data for each categorical column in the original data. First, we will create a dataframe storing the CategoryCoverage scores for categorical columns."
   ]
  },
  {
   "cell_type": "code",
   "execution_count": 7,
   "id": "1be452f2-820f-4cfe-9dda-517be93518a5",
   "metadata": {
    "executionInfo": {
     "elapsed": 3,
     "status": "ok",
     "timestamp": 1680598175971,
     "user": {
      "displayName": "김형준",
      "userId": "10277863568716562689"
     },
     "user_tz": -540
    },
    "id": "1be452f2-820f-4cfe-9dda-517be93518a5"
   },
   "outputs": [],
   "source": [
    "# Generate a dataframe to store coverage scores for numerical columns\n",
    "CC_score = pd.DataFrame({'Category':[],'Score':[]})\n",
    "\n",
    "# Assign numerical columns to a variable\n",
    "Range_columns = ['dec_custom_code','imp_dec_code','imp_trd_code','imp_typ_code',\\\n",
    "                 'collect_code','typ_transport_code','dec_mark','importer','ovs_cust_code',\\\n",
    "                 'exps_carr_code','HS10','country_ship_code','country_orig_code','trff_class_code',\\\n",
    "                 'country_orig_mark_code','crime_yn','key_exposure']\n",
    "\n",
    "# Calculate coverage scores using the original data’s indices and values, and store them in the dataframe\n",
    "for idx,val in enumerate(copy_base):\n",
    "    score = 0 \n",
    "    if val in Range_columns:\n",
    "        score = CategoryCoverage.compute(\n",
    "            real_data=copy_base[val],\n",
    "            synthetic_data=copy_syn[val]\n",
    "        )\n",
    "    CC_score.loc[idx] = [val,score]"
   ]
  },
  {
   "cell_type": "markdown",
   "id": "dc6ef19a-f7bf-44ac-b7fc-87b24e4ef22f",
   "metadata": {
    "id": "dc6ef19a-f7bf-44ac-b7fc-87b24e4ef22f"
   },
   "source": [
    "- Let’s import the necessary libraries to visualize the dataframe containing coverage scores using a graph."
   ]
  },
  {
   "cell_type": "code",
   "execution_count": 8,
   "id": "43f2308d-934b-450c-8d5f-826c2b224f92",
   "metadata": {
    "executionInfo": {
     "elapsed": 691,
     "status": "ok",
     "timestamp": 1680598176659,
     "user": {
      "displayName": "김형준",
      "userId": "10277863568716562689"
     },
     "user_tz": -540
    },
    "id": "43f2308d-934b-450c-8d5f-826c2b224f92"
   },
   "outputs": [],
   "source": [
    "import seaborn as sns\n",
    "import matplotlib.pyplot as plt\n",
    "import matplotlib.font_manager as fm"
   ]
  },
  {
   "cell_type": "markdown",
   "id": "ee369a34-ae6e-4a6e-8b78-9ca9483595bc",
   "metadata": {
    "id": "ee369a34-ae6e-4a6e-8b78-9ca9483595bc"
   },
   "source": [
    "- Let’s plot a bar graph using the calculated coverage scores."
   ]
  },
  {
   "cell_type": "code",
   "execution_count": 9,
   "id": "ab538dba-375e-4755-af98-7b562749e9b9",
   "metadata": {
    "colab": {
     "base_uri": "https://localhost:8080/",
     "height": 931
    },
    "executionInfo": {
     "elapsed": 12,
     "status": "ok",
     "timestamp": 1680598176660,
     "user": {
      "displayName": "김형준",
      "userId": "10277863568716562689"
     },
     "user_tz": -540
    },
    "id": "ab538dba-375e-4755-af98-7b562749e9b9",
    "outputId": "ec9aa179-4975-4850-d009-4ec0449bf027",
    "tags": []
   },
   "outputs": [
    {
     "data": {
      "text/plain": [
       "(array([ 0,  1,  2,  3,  4,  5,  6,  7,  8,  9, 10, 11, 12, 13, 14, 15, 16]),\n",
       " [Text(0, 0, 'dec_custom_code'),\n",
       "  Text(1, 0, 'imp_dec_code'),\n",
       "  Text(2, 0, 'imp_trd_code'),\n",
       "  Text(3, 0, 'imp_typ_code'),\n",
       "  Text(4, 0, 'collect_code'),\n",
       "  Text(5, 0, 'typ_transport_code'),\n",
       "  Text(6, 0, 'dec_mark'),\n",
       "  Text(7, 0, 'importer'),\n",
       "  Text(8, 0, 'ovs_cust_code'),\n",
       "  Text(9, 0, 'exps_carr_code'),\n",
       "  Text(10, 0, 'HS10'),\n",
       "  Text(11, 0, 'country_ship_code'),\n",
       "  Text(12, 0, 'country_orig_code'),\n",
       "  Text(13, 0, 'trff_class_code'),\n",
       "  Text(14, 0, 'country_orig_mark_code'),\n",
       "  Text(15, 0, 'crime_yn'),\n",
       "  Text(16, 0, 'key_exposure')])"
      ]
     },
     "execution_count": 9,
     "metadata": {},
     "output_type": "execute_result"
    },
    {
     "data": {
      "image/png": "[encoded data removed]",
      "text/plain": [
       "<Figure size 640x480 with 1 Axes>"
      ]
     },
     "metadata": {},
     "output_type": "display_data"
    }
   ],
   "source": [
    "# Since it is impossible to get negative values from the CategoryCoverage score calculation formula, a condition was added when assigning values to the ‘data’ variable to eliminate any potential negative values  \n",
    "sns.barplot(x='Category',y ='Score', data = CC_score[CC_score['Score'] > 0])\n",
    "plt.rcParams['font.family'] = 'DejaVu Sans'\n",
    "plt.rcParams['font.size'] = 10\n",
    "plt.xticks(rotation =70)"
   ]
  },
  {
   "cell_type": "markdown",
   "id": "a6b7aa22-2651-40e0-882d-48bc428807f3",
   "metadata": {
    "id": "a6b7aa22-2651-40e0-882d-48bc428807f3",
    "tags": []
   },
   "source": [
    "### Check numerical data coverage (using RangeCoverage)"
   ]
  },
  {
   "cell_type": "markdown",
   "id": "tnncI1HrN1lk",
   "metadata": {
    "id": "tnncI1HrN1lk"
   },
   "source": [
    "- To assess the coverage of synthetic data on numeric columns of the original data, we will use the RangeCoverage metric from the sdmetrics library. This metric measures whether a synthetic column covers the full range of values present in the corresponding original column."
   ]
  },
  {
   "cell_type": "markdown",
   "id": "uNkz1cPBNEbN",
   "metadata": {
    "id": "uNkz1cPBNEbN"
   },
   "source": [
    "#### Data Compatibility of RangeCoverage\n",
    "- Numerical : This metric is meant for continuous, numerical data\n",
    "- Datetime : This metric converts datetime values into numerical values\n"
   ]
  },
  {
   "cell_type": "markdown",
   "id": "9xqFspAGNfp5",
   "metadata": {
    "id": "9xqFspAGNfp5"
   },
   "source": [
    "- The plot below illustrates a case where the RangeCoverage score of synthetic data on a specific numerical column of the original data is 0.82. Here, you can see that the synthetic data covers only a portion (82%) of the value range of the original data."
   ]
  },
  {
   "cell_type": "markdown",
   "id": "e40beb10-d9e2-4a9b-accd-7c86b29c48bd",
   "metadata": {
    "id": "e40beb10-d9e2-4a9b-accd-7c86b29c48bd"
   },
   "source": [
    "#### Score\n",
    "- (best) 1.0: The synthetic column covers the range of values present in the real column\n",
    "- (worst) 0.0: The synthetic column does not overlap at all with the range of values in the real column\n",
    "\n",
    "\n",
    "![Value](https://1485348715-files.gitbook.io/~/files/v0/b/gitbook-x-prod.appspot.com/o/spaces%2FrNLha4DaPNwVJ930KhmB%2Fuploads%2FUa21ikMRPxduAFIpovjM%2FRange%20Coverage.png?alt=media&token=bb7dca22-ad7d-4521-8523-e683588deb2b)"
   ]
  },
  {
   "cell_type": "markdown",
   "id": "1848c0f6-7b2f-41db-acf9-9863bbfa18d1",
   "metadata": {},
   "source": [
    "- Let’s calculate the RangeCoverage score for the 'trff_rate' column."
   ]
  },
  {
   "cell_type": "code",
   "execution_count": 10,
   "id": "b0543d39-533d-4e48-b8e8-100fa5db8196",
   "metadata": {
    "colab": {
     "base_uri": "https://localhost:8080/"
    },
    "executionInfo": {
     "elapsed": 8,
     "status": "ok",
     "timestamp": 1680598176660,
     "user": {
      "displayName": "김형준",
      "userId": "10277863568716562689"
     },
     "user_tz": -540
    },
    "id": "b0543d39-533d-4e48-b8e8-100fa5db8196",
    "outputId": "7d472907-f6a0-4181-b6bf-a2d438ea1f1c"
   },
   "outputs": [
    {
     "data": {
      "text/plain": [
       "0.5001988598700783"
      ]
     },
     "execution_count": 10,
     "metadata": {},
     "output_type": "execute_result"
    }
   ],
   "source": [
    "from sdmetrics.single_column import RangeCoverage\n",
    "\n",
    "RangeCoverage.compute(\n",
    "    real_data=copy_base['trff_rate'],\n",
    "    synthetic_data=copy_syn['trff_rate']\n",
    ")"
   ]
  },
  {
   "cell_type": "markdown",
   "id": "ccfc1c33-65e6-4546-82c9-9ad777f2a5d4",
   "metadata": {
    "id": "ccfc1c33-65e6-4546-82c9-9ad777f2a5d4",
    "tags": []
   },
   "source": [
    "### Plot the coverage graph of number type columns"
   ]
  },
  {
   "cell_type": "markdown",
   "id": "46a274ac-f715-464a-9818-f34710e28550",
   "metadata": {
    "id": "46a274ac-f715-464a-9818-f34710e28550"
   },
   "source": [
    "- Let’s now visualize the RangeCoverage of synthetic data for each numerical column in the original data. First, we will create a dataframe storing the RangeCoverage scores for numerical columns."
   ]
  },
  {
   "cell_type": "code",
   "execution_count": 11,
   "id": "8aa5a01d-d6f6-479e-88b4-db20d3c5718e",
   "metadata": {
    "executionInfo": {
     "elapsed": 6,
     "status": "ok",
     "timestamp": 1680598176660,
     "user": {
      "displayName": "김형준",
      "userId": "10277863568716562689"
     },
     "user_tz": -540
    },
    "id": "8aa5a01d-d6f6-479e-88b4-db20d3c5718e"
   },
   "outputs": [],
   "source": [
    "# Generate a dataframe to store coverage scores for numerical columns\n",
    "RC_score = pd.DataFrame({'Category':[],'Score':[]})\n",
    "\n",
    "# Assign numerical columns to a variable\n",
    "Range_columns = ['trff_rate','dec_weight','taxabal_price_KRW']\n",
    "\n",
    "# Calculate coverage scores using the original data’s indices and values, and store them in the dataframe\n",
    "for idx,val in enumerate(copy_base):\n",
    "    score = 0 \n",
    "    if val in Range_columns:\n",
    "        score = RangeCoverage.compute(\n",
    "            real_data=copy_base[val],\n",
    "            synthetic_data=copy_syn[val]\n",
    "        )\n",
    "    RC_score.loc[idx] = [val,score]"
   ]
  },
  {
   "cell_type": "markdown",
   "id": "378b10a6-e0b0-4953-bc5f-8d37fdaaa783",
   "metadata": {
    "id": "378b10a6-e0b0-4953-bc5f-8d37fdaaa783"
   },
   "source": [
    "- Let’s plot a bar graph using the calculated coverage scores.\n",
    "- Among the three columns, the 'trff_rate' column, which has a relatively narrow value distribution, shows a high coverage score."
   ]
  },
  {
   "cell_type": "code",
   "execution_count": 12,
   "id": "46cf65ba-9e26-497d-a272-70643bdb254b",
   "metadata": {
    "colab": {
     "base_uri": "https://localhost:8080/",
     "height": 638
    },
    "executionInfo": {
     "elapsed": 517,
     "status": "ok",
     "timestamp": 1680598177171,
     "user": {
      "displayName": "김형준",
      "userId": "10277863568716562689"
     },
     "user_tz": -540
    },
    "id": "46cf65ba-9e26-497d-a272-70643bdb254b",
    "outputId": "10357d3f-ae07-49ab-a1be-ddab9bcdfada"
   },
   "outputs": [
    {
     "data": {
      "text/plain": [
       "(array([0, 1, 2]),\n",
       " [Text(0, 0, 'trff_rate'),\n",
       "  Text(1, 0, 'dec_weight'),\n",
       "  Text(2, 0, 'taxabal_price_KRW')])"
      ]
     },
     "execution_count": 12,
     "metadata": {},
     "output_type": "execute_result"
    },
    {
     "data": {
      "image/png": "[encoded data removed]",
      "text/plain": [
       "<Figure size 640x480 with 1 Axes>"
      ]
     },
     "metadata": {},
     "output_type": "display_data"
    }
   ],
   "source": [
    "sns.barplot(x='Category',y ='Score', data = RC_score[RC_score['Score'] > 0])\n",
    "plt.rcParams['font.family'] = 'DejaVu Sans'\n",
    "plt.rcParams['font.size'] = 10\n",
    "plt.xticks(rotation =70)"
   ]
  },
  {
   "cell_type": "markdown",
   "id": "47f23990",
   "metadata": {},
   "source": [
    "## Check Data"
   ]
  },
  {
   "cell_type": "markdown",
   "id": "b4718a59-f9e1-4088-b894-ac37dab2a101",
   "metadata": {},
   "source": [
    "- Now, we will combine the 'CC_score' and 'RC_score' dataframes to create a comprehensive coverage score table.  \n",
    "- Before merging the two dataframes, we will check how each dataframe looks. Let’s first print ‘CC_score’. "
   ]
  },
  {
   "cell_type": "markdown",
   "id": "908b1e96-9c33-4135-8802-ac6d60d147a8",
   "metadata": {},
   "source": [
    "- The output shows that in some rows, the 'Score'   value is missing and represented as 0.00. \n",
    "- For the 'dec_num' and 'dec_date' columns, the scores were   not calculated due to their exclusion from the training dataset, resulting in no generation of synthetic data.  \n",
    "- Additionally, scores were not calculated for the 'tariff_rate', 'dec_weight', and 'taxabal_price_KRW' columns of the 15th, 18th, and 19th rows.\n"
   ]
  },
  {
   "cell_type": "code",
   "execution_count": 16,
   "id": "0aee254a-c0ba-4022-bf67-a728e7f46b1c",
   "metadata": {},
   "outputs": [
    {
     "data": {
      "text/html": [
       "<div>\n",
       "<style scoped>\n",
       "    .dataframe tbody tr th:only-of-type {\n",
       "        vertical-align: middle;\n",
       "    }\n",
       "\n",
       "    .dataframe tbody tr th {\n",
       "        vertical-align: top;\n",
       "    }\n",
       "\n",
       "    .dataframe thead th {\n",
       "        text-align: right;\n",
       "    }\n",
       "</style>\n",
       "<table border=\"1\" class=\"dataframe\">\n",
       "  <thead>\n",
       "    <tr style=\"text-align: right;\">\n",
       "      <th></th>\n",
       "      <th>Category</th>\n",
       "      <th>Score</th>\n",
       "    </tr>\n",
       "  </thead>\n",
       "  <tbody>\n",
       "    <tr>\n",
       "      <th>0</th>\n",
       "      <td>dec_num</td>\n",
       "      <td>0.000000</td>\n",
       "    </tr>\n",
       "    <tr>\n",
       "      <th>1</th>\n",
       "      <td>dec_date</td>\n",
       "      <td>0.000000</td>\n",
       "    </tr>\n",
       "    <tr>\n",
       "      <th>2</th>\n",
       "      <td>dec_custom_code</td>\n",
       "      <td>0.697674</td>\n",
       "    </tr>\n",
       "    <tr>\n",
       "      <th>3</th>\n",
       "      <td>imp_dec_code</td>\n",
       "      <td>0.333333</td>\n",
       "    </tr>\n",
       "    <tr>\n",
       "      <th>4</th>\n",
       "      <td>imp_trd_code</td>\n",
       "      <td>0.607143</td>\n",
       "    </tr>\n",
       "    <tr>\n",
       "      <th>5</th>\n",
       "      <td>imp_typ_code</td>\n",
       "      <td>0.785714</td>\n",
       "    </tr>\n",
       "    <tr>\n",
       "      <th>6</th>\n",
       "      <td>collect_code</td>\n",
       "      <td>0.900000</td>\n",
       "    </tr>\n",
       "    <tr>\n",
       "      <th>7</th>\n",
       "      <td>typ_transport_code</td>\n",
       "      <td>0.833333</td>\n",
       "    </tr>\n",
       "    <tr>\n",
       "      <th>8</th>\n",
       "      <td>dec_mark</td>\n",
       "      <td>0.378837</td>\n",
       "    </tr>\n",
       "    <tr>\n",
       "      <th>9</th>\n",
       "      <td>importer</td>\n",
       "      <td>0.057520</td>\n",
       "    </tr>\n",
       "    <tr>\n",
       "      <th>10</th>\n",
       "      <td>ovs_cust_code</td>\n",
       "      <td>0.060241</td>\n",
       "    </tr>\n",
       "    <tr>\n",
       "      <th>11</th>\n",
       "      <td>exps_carr_code</td>\n",
       "      <td>0.395062</td>\n",
       "    </tr>\n",
       "    <tr>\n",
       "      <th>12</th>\n",
       "      <td>HS10</td>\n",
       "      <td>0.164137</td>\n",
       "    </tr>\n",
       "    <tr>\n",
       "      <th>13</th>\n",
       "      <td>country_ship_code</td>\n",
       "      <td>0.460784</td>\n",
       "    </tr>\n",
       "    <tr>\n",
       "      <th>14</th>\n",
       "      <td>country_orig_code</td>\n",
       "      <td>0.453782</td>\n",
       "    </tr>\n",
       "    <tr>\n",
       "      <th>15</th>\n",
       "      <td>trff_rate</td>\n",
       "      <td>0.000000</td>\n",
       "    </tr>\n",
       "    <tr>\n",
       "      <th>16</th>\n",
       "      <td>trff_class_code</td>\n",
       "      <td>0.510204</td>\n",
       "    </tr>\n",
       "    <tr>\n",
       "      <th>17</th>\n",
       "      <td>country_orig_mark_code</td>\n",
       "      <td>1.000000</td>\n",
       "    </tr>\n",
       "    <tr>\n",
       "      <th>18</th>\n",
       "      <td>dec_weight</td>\n",
       "      <td>0.000000</td>\n",
       "    </tr>\n",
       "    <tr>\n",
       "      <th>19</th>\n",
       "      <td>taxabal_price_KRW</td>\n",
       "      <td>0.000000</td>\n",
       "    </tr>\n",
       "    <tr>\n",
       "      <th>20</th>\n",
       "      <td>crime_yn</td>\n",
       "      <td>1.000000</td>\n",
       "    </tr>\n",
       "    <tr>\n",
       "      <th>21</th>\n",
       "      <td>key_exposure</td>\n",
       "      <td>1.000000</td>\n",
       "    </tr>\n",
       "  </tbody>\n",
       "</table>\n",
       "</div>"
      ],
      "text/plain": [
       "                  Category     Score\n",
       "0                  dec_num  0.000000\n",
       "1                 dec_date  0.000000\n",
       "2          dec_custom_code  0.697674\n",
       "3             imp_dec_code  0.333333\n",
       "4             imp_trd_code  0.607143\n",
       "5             imp_typ_code  0.785714\n",
       "6             collect_code  0.900000\n",
       "7       typ_transport_code  0.833333\n",
       "8                 dec_mark  0.378837\n",
       "9                 importer  0.057520\n",
       "10           ovs_cust_code  0.060241\n",
       "11          exps_carr_code  0.395062\n",
       "12                    HS10  0.164137\n",
       "13       country_ship_code  0.460784\n",
       "14       country_orig_code  0.453782\n",
       "15               trff_rate  0.000000\n",
       "16         trff_class_code  0.510204\n",
       "17  country_orig_mark_code  1.000000\n",
       "18              dec_weight  0.000000\n",
       "19       taxabal_price_KRW  0.000000\n",
       "20                crime_yn  1.000000\n",
       "21            key_exposure  1.000000"
      ]
     },
     "execution_count": 16,
     "metadata": {},
     "output_type": "execute_result"
    }
   ],
   "source": [
    "CC_score"
   ]
  },
  {
   "cell_type": "markdown",
   "id": "79db9520-17ff-4858-b41c-7e50b7a56713",
   "metadata": {},
   "source": [
    "- Let’s print ‘RC_score’. "
   ]
  },
  {
   "cell_type": "markdown",
   "id": "b11e706f-7cb8-432e-9ed4-5817d02eeae9",
   "metadata": {},
   "source": [
    "- The 'RC_score' dataframe has the same indices and 'Category' values as the 'CC_score' dataframe, and has 'Score' values that are not zero for the 'tariff_rate', 'dec_weight', and 'taxabal_price_KRW' columns of the 15th, 18th, and 19th rows."
   ]
  },
  {
   "cell_type": "code",
   "execution_count": 17,
   "id": "3c3f5e06-dcbf-4d1c-963d-3d960867326f",
   "metadata": {},
   "outputs": [
    {
     "data": {
      "text/html": [
       "<div>\n",
       "<style scoped>\n",
       "    .dataframe tbody tr th:only-of-type {\n",
       "        vertical-align: middle;\n",
       "    }\n",
       "\n",
       "    .dataframe tbody tr th {\n",
       "        vertical-align: top;\n",
       "    }\n",
       "\n",
       "    .dataframe thead th {\n",
       "        text-align: right;\n",
       "    }\n",
       "</style>\n",
       "<table border=\"1\" class=\"dataframe\">\n",
       "  <thead>\n",
       "    <tr style=\"text-align: right;\">\n",
       "      <th></th>\n",
       "      <th>Category</th>\n",
       "      <th>Score</th>\n",
       "    </tr>\n",
       "  </thead>\n",
       "  <tbody>\n",
       "    <tr>\n",
       "      <th>0</th>\n",
       "      <td>dec_num</td>\n",
       "      <td>0.000000</td>\n",
       "    </tr>\n",
       "    <tr>\n",
       "      <th>1</th>\n",
       "      <td>dec_date</td>\n",
       "      <td>0.000000</td>\n",
       "    </tr>\n",
       "    <tr>\n",
       "      <th>2</th>\n",
       "      <td>dec_custom_code</td>\n",
       "      <td>0.000000</td>\n",
       "    </tr>\n",
       "    <tr>\n",
       "      <th>3</th>\n",
       "      <td>imp_dec_code</td>\n",
       "      <td>0.000000</td>\n",
       "    </tr>\n",
       "    <tr>\n",
       "      <th>4</th>\n",
       "      <td>imp_trd_code</td>\n",
       "      <td>0.000000</td>\n",
       "    </tr>\n",
       "    <tr>\n",
       "      <th>5</th>\n",
       "      <td>imp_typ_code</td>\n",
       "      <td>0.000000</td>\n",
       "    </tr>\n",
       "    <tr>\n",
       "      <th>6</th>\n",
       "      <td>collect_code</td>\n",
       "      <td>0.000000</td>\n",
       "    </tr>\n",
       "    <tr>\n",
       "      <th>7</th>\n",
       "      <td>typ_transport_code</td>\n",
       "      <td>0.000000</td>\n",
       "    </tr>\n",
       "    <tr>\n",
       "      <th>8</th>\n",
       "      <td>dec_mark</td>\n",
       "      <td>0.000000</td>\n",
       "    </tr>\n",
       "    <tr>\n",
       "      <th>9</th>\n",
       "      <td>importer</td>\n",
       "      <td>0.000000</td>\n",
       "    </tr>\n",
       "    <tr>\n",
       "      <th>10</th>\n",
       "      <td>ovs_cust_code</td>\n",
       "      <td>0.000000</td>\n",
       "    </tr>\n",
       "    <tr>\n",
       "      <th>11</th>\n",
       "      <td>exps_carr_code</td>\n",
       "      <td>0.000000</td>\n",
       "    </tr>\n",
       "    <tr>\n",
       "      <th>12</th>\n",
       "      <td>HS10</td>\n",
       "      <td>0.000000</td>\n",
       "    </tr>\n",
       "    <tr>\n",
       "      <th>13</th>\n",
       "      <td>country_ship_code</td>\n",
       "      <td>0.000000</td>\n",
       "    </tr>\n",
       "    <tr>\n",
       "      <th>14</th>\n",
       "      <td>country_orig_code</td>\n",
       "      <td>0.000000</td>\n",
       "    </tr>\n",
       "    <tr>\n",
       "      <th>15</th>\n",
       "      <td>trff_rate</td>\n",
       "      <td>0.500199</td>\n",
       "    </tr>\n",
       "    <tr>\n",
       "      <th>16</th>\n",
       "      <td>trff_class_code</td>\n",
       "      <td>0.000000</td>\n",
       "    </tr>\n",
       "    <tr>\n",
       "      <th>17</th>\n",
       "      <td>country_orig_mark_code</td>\n",
       "      <td>0.000000</td>\n",
       "    </tr>\n",
       "    <tr>\n",
       "      <th>18</th>\n",
       "      <td>dec_weight</td>\n",
       "      <td>0.166597</td>\n",
       "    </tr>\n",
       "    <tr>\n",
       "      <th>19</th>\n",
       "      <td>taxabal_price_KRW</td>\n",
       "      <td>0.064372</td>\n",
       "    </tr>\n",
       "    <tr>\n",
       "      <th>20</th>\n",
       "      <td>crime_yn</td>\n",
       "      <td>0.000000</td>\n",
       "    </tr>\n",
       "    <tr>\n",
       "      <th>21</th>\n",
       "      <td>key_exposure</td>\n",
       "      <td>0.000000</td>\n",
       "    </tr>\n",
       "  </tbody>\n",
       "</table>\n",
       "</div>"
      ],
      "text/plain": [
       "                  Category     Score\n",
       "0                  dec_num  0.000000\n",
       "1                 dec_date  0.000000\n",
       "2          dec_custom_code  0.000000\n",
       "3             imp_dec_code  0.000000\n",
       "4             imp_trd_code  0.000000\n",
       "5             imp_typ_code  0.000000\n",
       "6             collect_code  0.000000\n",
       "7       typ_transport_code  0.000000\n",
       "8                 dec_mark  0.000000\n",
       "9                 importer  0.000000\n",
       "10           ovs_cust_code  0.000000\n",
       "11          exps_carr_code  0.000000\n",
       "12                    HS10  0.000000\n",
       "13       country_ship_code  0.000000\n",
       "14       country_orig_code  0.000000\n",
       "15               trff_rate  0.500199\n",
       "16         trff_class_code  0.000000\n",
       "17  country_orig_mark_code  0.000000\n",
       "18              dec_weight  0.166597\n",
       "19       taxabal_price_KRW  0.064372\n",
       "20                crime_yn  0.000000\n",
       "21            key_exposure  0.000000"
      ]
     },
     "execution_count": 17,
     "metadata": {},
     "output_type": "execute_result"
    }
   ],
   "source": [
    "RC_score"
   ]
  },
  {
   "cell_type": "markdown",
   "id": "0118dd67-1e07-40ae-ad6a-920be1a96a40",
   "metadata": {
    "id": "0118dd67-1e07-40ae-ad6a-920be1a96a40",
    "tags": []
   },
   "source": [
    "## Combining the Results"
   ]
  },
  {
   "cell_type": "markdown",
   "id": "05684122-88dc-49f6-a025-16c9e3ef51aa",
   "metadata": {
    "id": "05684122-88dc-49f6-a025-16c9e3ef51aa"
   },
   "source": [
    "### Combine two result dataframes"
   ]
  },
  {
   "cell_type": "markdown",
   "id": "344d6878-e280-4254-8289-f57b82ce0236",
   "metadata": {},
   "source": [
    "- Now, we will combine the ‘CC_score’ and ‘RC_score’ to create a complete coverage score table. Let’s merge the two dataframes using the indices of categories that need to be merged (15, 18, 19)."
   ]
  },
  {
   "cell_type": "code",
   "execution_count": 18,
   "id": "df33bfdb-ca70-4859-8d5f-9a1769349867",
   "metadata": {
    "executionInfo": {
     "elapsed": 8,
     "status": "ok",
     "timestamp": 1680598177171,
     "user": {
      "displayName": "김형준",
      "userId": "10277863568716562689"
     },
     "user_tz": -540
    },
    "id": "df33bfdb-ca70-4859-8d5f-9a1769349867"
   },
   "outputs": [],
   "source": [
    "# Assign values from the 'Score' column of ‘RC_score’ at rows 15, 18, and 19 to the corresponding rows in the 'Score' column of ‘CC_score’\n",
    "CC_score.loc[[15,18,19],'Score'] = RC_score.loc[[15,18,19],'Score']"
   ]
  },
  {
   "cell_type": "markdown",
   "id": "9ef8b3e7-b619-4e92-b887-f25d41ca839f",
   "metadata": {
    "id": "9ef8b3e7-b619-4e92-b887-f25d41ca839f"
   },
   "source": [
    "- Now, we will visualize the coverage scores of all columns. For the 'imp_dec_code' column, a low coverage score is expected due to the bias in the original data. Let’s check once again the count of values in the 'imp_dec_code' column of the original data."
   ]
  },
  {
   "cell_type": "code",
   "execution_count": 19,
   "id": "449da253-cc9f-441f-b650-ac51e955ee81",
   "metadata": {
    "colab": {
     "base_uri": "https://localhost:8080/"
    },
    "executionInfo": {
     "elapsed": 8,
     "status": "ok",
     "timestamp": 1680598177172,
     "user": {
      "displayName": "김형준",
      "userId": "10277863568716562689"
     },
     "user_tz": -540
    },
    "id": "449da253-cc9f-441f-b650-ac51e955ee81",
    "outputId": "05741ee6-16d5-4493-bb55-81f737c5e270"
   },
   "outputs": [
    {
     "data": {
      "text/plain": [
       "B    53992\n",
       "D        7\n",
       "A        1\n",
       "Name: imp_dec_code, dtype: int64"
      ]
     },
     "execution_count": 19,
     "metadata": {},
     "output_type": "execute_result"
    }
   ],
   "source": [
    "# Count the number of occurrences of each unique value in the ‘imp_dec_code’ column\n",
    "copy_base['imp_dec_code'].value_counts()"
   ]
  },
  {
   "cell_type": "code",
   "execution_count": 20,
   "id": "63589e0f-7c0c-4c52-9e19-7311563d8f19",
   "metadata": {},
   "outputs": [],
   "source": [
    "Total_score = CC_score"
   ]
  },
  {
   "cell_type": "markdown",
   "id": "c4726129-5ada-4569-b3a4-5d907d6d6380",
   "metadata": {},
   "source": [
    "- Let’s visualize the coverage scores of all columns using a bar plot."
   ]
  },
  {
   "cell_type": "code",
   "execution_count": 21,
   "id": "f5c4be00-c1ad-4f73-99f9-315d23194163",
   "metadata": {
    "colab": {
     "base_uri": "https://localhost:8080/",
     "height": 1000
    },
    "executionInfo": {
     "elapsed": 1120,
     "status": "ok",
     "timestamp": 1680598178286,
     "user": {
      "displayName": "김형준",
      "userId": "10277863568716562689"
     },
     "user_tz": -540
    },
    "id": "f5c4be00-c1ad-4f73-99f9-315d23194163",
    "outputId": "2177cf7c-7a94-4d89-b1ac-2ee21af07552",
    "tags": []
   },
   "outputs": [
    {
     "data": {
      "text/plain": [
       "(array([ 0,  1,  2,  3,  4,  5,  6,  7,  8,  9, 10, 11, 12, 13, 14, 15, 16,\n",
       "        17, 18, 19]),\n",
       " [Text(0, 0, 'dec_custom_code'),\n",
       "  Text(1, 0, 'imp_dec_code'),\n",
       "  Text(2, 0, 'imp_trd_code'),\n",
       "  Text(3, 0, 'imp_typ_code'),\n",
       "  Text(4, 0, 'collect_code'),\n",
       "  Text(5, 0, 'typ_transport_code'),\n",
       "  Text(6, 0, 'dec_mark'),\n",
       "  Text(7, 0, 'importer'),\n",
       "  Text(8, 0, 'ovs_cust_code'),\n",
       "  Text(9, 0, 'exps_carr_code'),\n",
       "  Text(10, 0, 'HS10'),\n",
       "  Text(11, 0, 'country_ship_code'),\n",
       "  Text(12, 0, 'country_orig_code'),\n",
       "  Text(13, 0, 'trff_rate'),\n",
       "  Text(14, 0, 'trff_class_code'),\n",
       "  Text(15, 0, 'country_orig_mark_code'),\n",
       "  Text(16, 0, 'dec_weight'),\n",
       "  Text(17, 0, 'taxabal_price_KRW'),\n",
       "  Text(18, 0, 'crime_yn'),\n",
       "  Text(19, 0, 'key_exposure')])"
      ]
     },
     "execution_count": 21,
     "metadata": {},
     "output_type": "execute_result"
    },
    {
     "data": {
      "image/png": "[encoded data removed]",
      "text/plain": [
       "<Figure size 1000x1000 with 1 Axes>"
      ]
     },
     "metadata": {},
     "output_type": "display_data"
    }
   ],
   "source": [
    "plt.figure(figsize=(10,10))\n",
    "colors = sns.color_palette('Greys', 1)\n",
    "sns.barplot(x='Category',y ='Score', data = Total_score[Total_score['Score'] > 0])\n",
    "plt.rcParams['font.family'] = 'DejaVu Sans'\n",
    "plt.rcParams['font.size'] = 10\n",
    "plt.xticks(rotation =70)"
   ]
  },
  {
   "cell_type": "markdown",
   "id": "e4870019-355c-4332-af95-1e82ac3f87d0",
   "metadata": {},
   "source": [
    "- We can see that the categorical columns with a small number of unique values, such as 'country_orig_mark_code', 'crime_yn', and 'key_exposure', tend to have high coverage scores. \n",
    "- As expected, the coverage score of the 'imp_dec_code' column is low.\n",
    "\n"
   ]
  }
 ],
 "metadata": {
  "colab": {
   "provenance": [],
   "toc_visible": true
  },
  "kernelspec": {
   "display_name": "Python 3 (ipykernel)",
   "language": "python",
   "name": "python3"
  },
  "language_info": {
   "codemirror_mode": {
    "name": "ipython",
    "version": 3
   },
   "file_extension": ".py",
   "mimetype": "text/x-python",
   "name": "python",
   "nbconvert_exporter": "python",
   "pygments_lexer": "ipython3",
   "version": "3.9.13"
  }
 },
 "nbformat": 4,
 "nbformat_minor": 5
}
