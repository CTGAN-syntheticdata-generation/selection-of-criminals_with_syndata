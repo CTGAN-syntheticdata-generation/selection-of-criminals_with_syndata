{
 "cells": [
  {
   "cell_type": "code",
   "execution_count": 2,
   "id": "fb9fc5b9",
   "metadata": {
    "colab": {
     "base_uri": "https://localhost:8080/"
    },
    "executionInfo": {
     "elapsed": 3677,
     "status": "ok",
     "timestamp": 1680598222305,
     "user": {
      "displayName": "김형준",
      "userId": "10277863568716562689"
     },
     "user_tz": -540
    },
    "id": "5e45ec11-977e-4440-90ae-358ed2c00f85",
    "outputId": "0692e3d5-ba59-4312-b829-af5aa1b0140a"
   },
   "outputs": [
    {
     "name": "stdout",
     "output_type": "stream",
     "text": [
      "Drive already mounted at /content/drive; to attempt to forcibly remount, call drive.mount(\"/content/drive\", force_remount=True).\n"
     ]
    }
   ],
   "source": [
    "from google.colab import drive\n",
    "drive.mount('/content/drive')"
   ]
  },
  {
   "cell_type": "code",
   "execution_count": 3,
   "id": "d101ce72",
   "metadata": {
    "colab": {
     "base_uri": "https://localhost:8080/"
    },
    "executionInfo": {
     "elapsed": 6,
     "status": "ok",
     "timestamp": 1680598222306,
     "user": {
      "displayName": "김형준",
      "userId": "10277863568716562689"
     },
     "user_tz": -540
    },
    "id": "2f2d17ce-8a5c-432c-b73e-ea3cc520e0d1",
    "outputId": "c559c487-f0bf-464b-8a67-cd747dd101a2"
   },
   "outputs": [
    {
     "name": "stdout",
     "output_type": "stream",
     "text": [
      "/content/drive/MyDrive/Selection-of-criminals_with_syndata/CTGAN_syndata_generaton\n"
     ]
    }
   ],
   "source": [
    "cd \"/content/drive/MyDrive/Selection-of-criminals_with_syndata/CTGAN_syndata_generaton\" "
   ]
  },
  {
   "cell_type": "markdown",
   "id": "c7d4ac26",
   "metadata": {
    "id": "4b89332a-f3dd-4bac-a1a4-28892cea5b92",
    "tags": []
   },
   "source": [
    "# 4. Review Generated Data Similarity(Regression)"
   ]
  },
  {
   "cell_type": "markdown",
   "id": "59e43b00",
   "metadata": {
    "id": "81e05ba9-19b2-40af-9124-c84da1997094",
    "tags": []
   },
   "source": [
    "## Check Statistical Similarity using Regression Model\n",
    "\n",
    "- To check whether synthetic data retains the statistical similarity of the original data, we will create a regression model.\n",
    "- We will use previously generated synthetic import declaration dataset.\n",
    "- It is composed of several attributes for import declaration, and attributes to check violations.\n",
    "- After training three regression models of real and synthetic data, we will select data with high risk of crimes using the result.\n",
    "- Generate data to check detection rate.\n",
    "- Using each data's violation result, calculate data's detection rate.\n",
    "- Using the result, check the statistical similarity."
   ]
  },
  {
   "cell_type": "markdown",
   "id": "b4223873",
   "metadata": {
    "id": "d7da02a3-ca72-4a33-a375-05e8cf624fc6",
    "jp-MarkdownHeadingCollapsed": true,
    "tags": []
   },
   "source": [
    "## Import Library\n",
    "- Load libraries."
   ]
  },
  {
   "cell_type": "code",
   "execution_count": 4,
   "id": "05c4141c",
   "metadata": {
    "executionInfo": {
     "elapsed": 810,
     "status": "ok",
     "timestamp": 1680598223113,
     "user": {
      "displayName": "김형준",
      "userId": "10277863568716562689"
     },
     "user_tz": -540
    },
    "id": "533b72ac-3121-413d-8689-82819812cc7f"
   },
   "outputs": [],
   "source": [
    "import pandas as pd\n",
    "import copy\n",
    "import numpy as np\n",
    "from sklearn.model_selection import train_test_split\n",
    "from sklearn.preprocessing import LabelEncoder\n",
    "\n",
    "import seaborn as sns\n",
    "from matplotlib import pyplot as plt "
   ]
  },
  {
   "cell_type": "code",
   "execution_count": 5,
   "id": "354cce13",
   "metadata": {
    "executionInfo": {
     "elapsed": 11,
     "status": "ok",
     "timestamp": 1680598223114,
     "user": {
      "displayName": "김형준",
      "userId": "10277863568716562689"
     },
     "user_tz": -540
    },
    "id": "37a9f6d0-73ee-469f-b964-3b2b9bf106e0"
   },
   "outputs": [],
   "source": [
    "import time\n",
    "import warnings\n",
    "warnings.filterwarnings(\"ignore\")"
   ]
  },
  {
   "cell_type": "code",
   "execution_count": 6,
   "id": "cdaf0b97",
   "metadata": {
    "colab": {
     "base_uri": "https://localhost:8080/",
     "height": 35
    },
    "executionInfo": {
     "elapsed": 11,
     "status": "ok",
     "timestamp": 1680598223114,
     "user": {
      "displayName": "김형준",
      "userId": "10277863568716562689"
     },
     "user_tz": -540
    },
    "id": "68ae4128-2f45-4775-9dbf-0a1196efde01",
    "outputId": "165f425f-7a6b-4aa3-f395-bc7907b6a806"
   },
   "outputs": [
    {
     "data": {
      "text/html": [
       "<style>.container { width:100% !important; }</style>"
      ],
      "text/plain": [
       "<IPython.core.display.HTML object>"
      ]
     },
     "metadata": {},
     "output_type": "display_data"
    },
    {
     "name": "stdout",
     "output_type": "stream",
     "text": [
      "ready to run\n"
     ]
    }
   ],
   "source": [
    "#Jupyter Cell Full Screen View\n",
    "from IPython.core.display import display, HTML\n",
    "display(HTML(\"<style>.container { width:100% !important; }</style>\"))\n",
    "# useful for debuging (print the results of both formulas and functions entered in one cell of Jupyter)\n",
    "#from IPython.core.interactiveshell import InteractiveShell\n",
    "#InteractiveShell.ast_node_interactivity = \"all\"\n",
    "# Each column width at maximum (print all column contents)\n",
    "pd.set_option('display.max_colwidth', -1)\n",
    "# Show up to 500 rows\n",
    "pd.set_option('display.max_rows', 500)\n",
    "# Display up to 500 columns\n",
    "pd.set_option('display.max_columns', 500)\n",
    "# Total length of data frame\n",
    "pd.set_option('display.width', 1000)\n",
    "\n",
    "print('ready to run')\n",
    "# logging starttime \n",
    "startTime = time.time()"
   ]
  },
  {
   "cell_type": "markdown",
   "id": "b6e9913e",
   "metadata": {
    "id": "5c06dab4-bc2b-4b3f-a1d6-8a3ae949ef23",
    "jp-MarkdownHeadingCollapsed": true,
    "tags": []
   },
   "source": [
    "## Declaring Functions"
   ]
  },
  {
   "cell_type": "markdown",
   "id": "0e43ea73",
   "metadata": {
    "id": "2f5e45ee-7829-4a1e-aa2b-cce873082a86"
   },
   "source": [
    "- Training models using several algorithms have a lot of repetitive tasks, so we will declare and use functions.\n",
    "- In this exercise, there are a lot of repetitions while training each three models for two datasets. Therefore, we increased the readability of the code through functions."
   ]
  },
  {
   "cell_type": "markdown",
   "id": "dd0bb2d3",
   "metadata": {
    "id": "3bdbb440-b632-43ef-ba6e-1da47033c280"
   },
   "source": [
    "### Declaring Variables\n",
    "- Declare variables used for preprocessing.\n",
    "- Separate category type and numeric type columns."
   ]
  },
  {
   "cell_type": "code",
   "execution_count": 7,
   "id": "6c0f902a",
   "metadata": {
    "executionInfo": {
     "elapsed": 9,
     "status": "ok",
     "timestamp": 1680598223114,
     "user": {
      "displayName": "김형준",
      "userId": "10277863568716562689"
     },
     "user_tz": -540
    },
    "id": "943f3fef-4768-4e91-8815-a2a3e0451ea6"
   },
   "outputs": [],
   "source": [
    "category_cols = ['imp_dec_code','dec_custom_code','imp_trd_code','imp_typ_code',\\\n",
    "                 'collect_code','typ_transport_code','dec_mark','importer','ovs_cust_code',\\\n",
    "                 'exps_carr_code','HS10','country_ship_code','country_orig_code','trff_class_code',\\\n",
    "                 'country_orig_mark_code','crime_yn','key_exposure']"
   ]
  },
  {
   "cell_type": "code",
   "execution_count": 8,
   "id": "6a081284",
   "metadata": {
    "executionInfo": {
     "elapsed": 10,
     "status": "ok",
     "timestamp": 1680598223115,
     "user": {
      "displayName": "김형준",
      "userId": "10277863568716562689"
     },
     "user_tz": -540
    },
    "id": "a53cf07c-981f-4673-9b13-65a47fbf4ee8"
   },
   "outputs": [],
   "source": [
    "number_cols = ['trff_rate','dec_weight','taxabal_price_KRW']"
   ]
  },
  {
   "cell_type": "markdown",
   "id": "80953260",
   "metadata": {
    "id": "a9e4e6ed-a5df-4e61-aabb-a670fa61e4de"
   },
   "source": [
    "### Min-max Normalization Function\n",
    "- Normalize using min-max normalization function."
   ]
  },
  {
   "cell_type": "code",
   "execution_count": 9,
   "id": "db1be5a9",
   "metadata": {
    "executionInfo": {
     "elapsed": 9,
     "status": "ok",
     "timestamp": 1680598223115,
     "user": {
      "displayName": "김형준",
      "userId": "10277863568716562689"
     },
     "user_tz": -540
    },
    "id": "f432a550-521e-4902-bd60-2778ec7eb85a"
   },
   "outputs": [],
   "source": [
    "def normalize(column):\n",
    "    return (column - column.min())/(column.max() - column.min())"
   ]
  },
  {
   "cell_type": "markdown",
   "id": "8d161579",
   "metadata": {
    "id": "c0652507-e5c3-42be-81d2-13a1202c9d23",
    "jp-MarkdownHeadingCollapsed": true,
    "tags": []
   },
   "source": [
    "### Function for Data Preprocessing\n",
    "- Execute functions for data preprocessing."
   ]
  },
  {
   "cell_type": "code",
   "execution_count": 10,
   "id": "beb18ae0",
   "metadata": {
    "executionInfo": {
     "elapsed": 9,
     "status": "ok",
     "timestamp": 1680598223115,
     "user": {
      "displayName": "김형준",
      "userId": "10277863568716562689"
     },
     "user_tz": -540
    },
    "id": "aeed1239-9bd8-4de9-b7e3-7835fd8bbb3b"
   },
   "outputs": [],
   "source": [
    "def df_preprocessing(df):\n",
    "    # To use data safely, we copy the data.\n",
    "    copy_df = copy.deepcopy(df)\n",
    "\n",
    "    # Prepare for processing by separating data by data type\n",
    "    copy_df_category = copy_df[category_cols]\n",
    "    copy_df_number = copy_df[number_cols]\n",
    "    \n",
    "    #Load encoding object.\n",
    "    encoder = LabelEncoder()\n",
    "\n",
    "    #Encode dataframe holding categorical data.\n",
    "    for column_name,item in copy_df_category.iteritems(): \n",
    "        encoder.fit(item)\n",
    "        labels = encoder.transform(item)\n",
    "        copy_df_category[column_name] = labels\n",
    "        \n",
    "    #Perform min-max normalization for the dataframe with numerical data.\n",
    "    copy_df_number_norm = copy_df_number.apply(normalize)\n",
    "    \n",
    "    #Output two data.\n",
    "    return copy_df_category, copy_df_number_norm"
   ]
  },
  {
   "cell_type": "markdown",
   "id": "60916cfd",
   "metadata": {
    "id": "49f31a4c-bad8-4218-9dd0-6ed3e49f88b1"
   },
   "source": [
    "### Function that Separates Data into Training Data and Test Data"
   ]
  },
  {
   "cell_type": "markdown",
   "id": "120ad6a2",
   "metadata": {
    "id": "7f21adaa-b0bd-4d9e-bc89-d818e2b39341"
   },
   "source": [
    "- We will use train_test_split, a preprocessing function included in scikit-learn.\n",
    "- Target column is 'crime_yn', which denotes whether a crime occurred or not.\n",
    "- Remove target column 'crime_yn' from the training columns.\n",
    "- As part of training columns, 'key_exposure' has too high of correlation to 'crime_yn', making it hard to make use of other columns. Thus, we remove 'key_exposure' from the training columns.\n",
    "- Remove 'imp_dec_code' from the training columns, which we have previously confirmed having low correlation.\n",
    "- Finally, we split training data and test data by ratio of 8:2."
   ]
  },
  {
   "cell_type": "code",
   "execution_count": 1,
   "id": "f2e4b8e5",
   "metadata": {
    "executionInfo": {
     "elapsed": 9,
     "status": "ok",
     "timestamp": 1680598223116,
     "user": {
      "displayName": "김형준",
      "userId": "10277863568716562689"
     },
     "user_tz": -540
    },
    "id": "be7000ff-237f-42d9-85cc-57f07839608c"
   },
   "outputs": [],
   "source": [
    "def df_splist(df):\n",
    "\n",
    "    #Set target.\n",
    "    y = df['crime_yn']\n",
    "    #Delete data that have correlation too high/low to the target data.\n",
    "    X = df.drop(columns=['crime_yn','key_exposure','imp_dec_code'])\n",
    "    #Separate the data.\n",
    "    X_train, X_test, y_train, y_test = train_test_split(X, y, test_size=0.2, random_state=42)\n",
    "    \n",
    "    return X_train, X_test, y_train, y_test"
   ]
  },
  {
   "cell_type": "markdown",
   "id": "bdd32b3e",
   "metadata": {
    "id": "40b60c89-6e22-4652-996a-207b7660488b"
   },
   "source": [
    "### Function for Calculating Crime Rate Against the Group with Upper 5% Regression Value in the Given Data\n",
    "- Calculate crime rate against the group with upper 5% regression value."
   ]
  },
  {
   "cell_type": "code",
   "execution_count": 12,
   "id": "91c35c9d",
   "metadata": {
    "executionInfo": {
     "elapsed": 9,
     "status": "ok",
     "timestamp": 1680598223116,
     "user": {
      "displayName": "김형준",
      "userId": "10277863568716562689"
     },
     "user_tz": -540
    },
    "id": "a462622f-2de2-4c7c-89d3-7d19cb300f23"
   },
   "outputs": [],
   "source": [
    "def reg_top_5per(df_reg, target_y):\n",
    "    \n",
    "    #Pick out data values that correspond to upper 5% using conditional expression, then insert into the result variable.\n",
    "    top_5percent = df_reg['pred'].quantile(0.95)\n",
    "    result = df_reg[df_reg['pred'] > top_5percent]\n",
    "    #Pick out values that correspond to upper 5% index from the target values, then insert into the y_test_top5 variable.\n",
    "    y_test_top5 = target_y[target_y.index.isin(result['index'])]\n",
    "    #For quicker calculation, create a dataframe with 'crime_yn' column having y_test_top5 values.\n",
    "    y_test_top5_df = pd.DataFrame({'crime_yn' :y_test_top5})\n",
    "    #Calculate crime rate by dividing count of variables where crime_yn==1 by the total variable count \n",
    "    top_5_crimerate = y_test_top5_df[y_test_top5_df['crime_yn']==1].count() / y_test_top5_df.count()\n",
    "    \n",
    "    return top_5_crimerate"
   ]
  },
  {
   "cell_type": "markdown",
   "id": "d3e57baa",
   "metadata": {
    "id": "90ed7fd5-6118-485f-8a0d-d9bd6381c884"
   },
   "source": [
    "### Function that Calculates the Crime Rate of the Group with Top 10% Regression Value in the Given Data\n",
    "- Calculates the crime rate in the group with top 10% regression value."
   ]
  },
  {
   "cell_type": "code",
   "execution_count": 13,
   "id": "354524a2",
   "metadata": {
    "executionInfo": {
     "elapsed": 10,
     "status": "ok",
     "timestamp": 1680598223117,
     "user": {
      "displayName": "김형준",
      "userId": "10277863568716562689"
     },
     "user_tz": -540
    },
    "id": "b225b7cd-0cef-41ec-a580-6b6b4afdd4c6"
   },
   "outputs": [],
   "source": [
    "def reg_top_10per(df_reg, target_y):\n",
    "    \n",
    "    #Pick out data values that correspond to upper 10% using conditional expression, then insert into result variable.\n",
    "    top_10percent = df_reg['pred'].quantile(0.90)\n",
    "    result = df_reg[df_reg['pred'] > top_10percent]\n",
    "    #Pick out values that correspond to upper 10% index from the target values, then insert into y_test_top10 variable.\n",
    "    y_test_top10 = target_y[target_y.index.isin(result['index'])]\n",
    "    #For quicker calculation, create a dataframe with 'crime_yn' column having y_test_top10 values.\n",
    "    y_test_top10_df = pd.DataFrame({'crime_yn' :y_test_top10})\n",
    "    #Calculate crime rate by dividing count of variables where crime_yn==1 by the total vriable count \n",
    "    top_10_crimerate = y_test_top10_df[y_test_top10_df['crime_yn']==1].count() / y_test_top10_df.count()\n",
    "    \n",
    "    return top_10_crimerate"
   ]
  },
  {
   "cell_type": "markdown",
   "id": "d6ef4cb1",
   "metadata": {
    "id": "0f32c257-cce4-455a-b92b-9d2572a16cfe",
    "jp-MarkdownHeadingCollapsed": true,
    "tags": []
   },
   "source": [
    "## Loading Data / Preprocessing Data"
   ]
  },
  {
   "cell_type": "markdown",
   "id": "0e71635d",
   "metadata": {
    "id": "82c4ca7e-8223-409e-ac9f-c1c35340c65d"
   },
   "source": [
    "- To train the AI model, we generally divide the training set and test set by 8:2 ratio.\n",
    "- One set containes training data and target data.\n",
    "- This means that we need 4 dataframes in order to train one model.\n",
    "- Since we are going to train two dataset(real data and synthetic data), we are going to create 8 dataframes in this exercise."
   ]
  },
  {
   "cell_type": "markdown",
   "id": "7db58343",
   "metadata": {
    "id": "i9T90buqPUGg"
   },
   "source": [
    "Real data (X_train, X_test, y_train, y_test) -> 4 dataframes\n",
    "<br>Synthetic data (X_syn_train, X_syn_test, y_syn_train, y_syn_test) -> 4 dataframes\n"
   ]
  },
  {
   "cell_type": "markdown",
   "id": "f9dd8900",
   "metadata": {
    "id": "23514163-79c8-486c-8e49-138abdc94480",
    "tags": []
   },
   "source": [
    "### Real Data"
   ]
  },
  {
   "cell_type": "markdown",
   "id": "e9d005a6",
   "metadata": {
    "id": "b09a0740-15f2-43f6-b3a9-6ccc26877f58"
   },
   "source": [
    "- Load real data and perform preprocessing. Also separate into training set and test set."
   ]
  },
  {
   "cell_type": "code",
   "execution_count": 14,
   "id": "3445a717",
   "metadata": {
    "executionInfo": {
     "elapsed": 620,
     "status": "ok",
     "timestamp": 1680598223728,
     "user": {
      "displayName": "김형준",
      "userId": "10277863568716562689"
     },
     "user_tz": -540
    },
    "id": "0feddd48-56b1-4fce-af28-6ba4555a5334"
   },
   "outputs": [],
   "source": [
    "df_base = pd.read_csv('df_syn_en.csv', encoding='utf-8-sig') #New synthetic data."
   ]
  },
  {
   "cell_type": "markdown",
   "id": "32a5a42e",
   "metadata": {
    "id": "161944c0-0d32-42ad-bdee-c3211a4c16c2"
   },
   "source": [
    "- We continue by copying the loaded data."
   ]
  },
  {
   "cell_type": "code",
   "execution_count": 15,
   "id": "01693cc0",
   "metadata": {
    "executionInfo": {
     "elapsed": 3,
     "status": "ok",
     "timestamp": 1680598223729,
     "user": {
      "displayName": "김형준",
      "userId": "10277863568716562689"
     },
     "user_tz": -540
    },
    "id": "bb44aa73-6b18-41c3-9aa3-8e362078e304"
   },
   "outputs": [],
   "source": [
    "copy_base = copy.deepcopy(df_base)"
   ]
  },
  {
   "cell_type": "markdown",
   "id": "20542459",
   "metadata": {
    "id": "075536ff-932e-45b1-8b8d-dfd86bdfcc59"
   },
   "source": [
    "- We use the preprocessing function to preprocess and separate mixed data."
   ]
  },
  {
   "cell_type": "code",
   "execution_count": 16,
   "id": "e3287ccf",
   "metadata": {
    "executionInfo": {
     "elapsed": 654,
     "status": "ok",
     "timestamp": 1680598224380,
     "user": {
      "displayName": "김형준",
      "userId": "10277863568716562689"
     },
     "user_tz": -540
    },
    "id": "cddb8232-9af6-4efe-90ff-fec7be9e5ea9"
   },
   "outputs": [],
   "source": [
    "copy_base_category, copy_base_number_norm = df_preprocessing(copy_base)"
   ]
  },
  {
   "cell_type": "markdown",
   "id": "c468fc0f",
   "metadata": {
    "id": "29fd5462-1352-4d6d-8738-9a3f8cb57920"
   },
   "source": [
    "#### Combining Data"
   ]
  },
  {
   "cell_type": "markdown",
   "id": "3c879095",
   "metadata": {
    "id": "415a10b9-be56-4fc1-8d23-0802eed75baf"
   },
   "source": [
    "- Combine preprocessed data into a single table."
   ]
  },
  {
   "cell_type": "code",
   "execution_count": 17,
   "id": "3b3186a5",
   "metadata": {
    "executionInfo": {
     "elapsed": 14,
     "status": "ok",
     "timestamp": 1680598224381,
     "user": {
      "displayName": "김형준",
      "userId": "10277863568716562689"
     },
     "user_tz": -540
    },
    "id": "27828aa8-1878-4f12-b105-2f603f62ad94"
   },
   "outputs": [],
   "source": [
    "copy_base_total = pd.concat([copy_base_category,copy_base_number_norm], axis=1)"
   ]
  },
  {
   "cell_type": "markdown",
   "id": "18e6087b",
   "metadata": {
    "id": "9a7864a6-a714-4640-9892-d41b4e5c6739"
   },
   "source": [
    "#### Separate Training Data and Test Data\n",
    "- Separate into training data and test data."
   ]
  },
  {
   "cell_type": "code",
   "execution_count": 18,
   "id": "eceeb06d",
   "metadata": {
    "executionInfo": {
     "elapsed": 13,
     "status": "ok",
     "timestamp": 1680598224381,
     "user": {
      "displayName": "김형준",
      "userId": "10277863568716562689"
     },
     "user_tz": -540
    },
    "id": "54740373-4206-44ef-8c4a-db50eb994029"
   },
   "outputs": [],
   "source": [
    "X_train, X_test, y_train, y_test = df_splist(copy_base_total)"
   ]
  },
  {
   "cell_type": "markdown",
   "id": "c3c8f80e",
   "metadata": {
    "id": "07fd7012-f1fa-45af-a3d3-8a21fe62c236",
    "tags": []
   },
   "source": [
    "### Synthetic Data"
   ]
  },
  {
   "cell_type": "markdown",
   "id": "2b881b3f",
   "metadata": {
    "id": "46644e80-0521-43e3-afd3-038a44d505fd"
   },
   "source": [
    "- We repeat the process of data preprocessing and separation of training set and test set, similar to what we did previously against the real data. "
   ]
  },
  {
   "cell_type": "code",
   "execution_count": 19,
   "id": "2b98731e",
   "metadata": {
    "executionInfo": {
     "elapsed": 13,
     "status": "ok",
     "timestamp": 1680598224381,
     "user": {
      "displayName": "김형준",
      "userId": "10277863568716562689"
     },
     "user_tz": -540
    },
    "id": "1059b400-34ce-4a29-a12a-93239053ecfc"
   },
   "outputs": [],
   "source": [
    "df_syn = pd.read_csv('./data_sample/df_syn_en_14.csv', encoding='utf-8-sig') #New synthetic data"
   ]
  },
  {
   "cell_type": "markdown",
   "id": "f9431ae0",
   "metadata": {
    "id": "c898a12d-bf54-49c0-b2a7-ba68f6c1a031"
   },
   "source": [
    "- We continue by copying loaded data."
   ]
  },
  {
   "cell_type": "code",
   "execution_count": 20,
   "id": "4a06d44d",
   "metadata": {
    "executionInfo": {
     "elapsed": 14,
     "status": "ok",
     "timestamp": 1680598224382,
     "user": {
      "displayName": "김형준",
      "userId": "10277863568716562689"
     },
     "user_tz": -540
    },
    "id": "c1e2cb33-f04e-4c04-b70d-2fecae8a77a9"
   },
   "outputs": [],
   "source": [
    "copy_syn = copy.deepcopy(df_syn)"
   ]
  },
  {
   "cell_type": "markdown",
   "id": "39bff0af",
   "metadata": {
    "id": "ff9443ec-b21e-46d4-8bc4-5b15c09edc37"
   },
   "source": [
    "- We use preprocessing functions to preprocess and separate mixed data."
   ]
  },
  {
   "cell_type": "code",
   "execution_count": 21,
   "id": "3c4f5e97",
   "metadata": {
    "executionInfo": {
     "elapsed": 13,
     "status": "ok",
     "timestamp": 1680598224382,
     "user": {
      "displayName": "김형준",
      "userId": "10277863568716562689"
     },
     "user_tz": -540
    },
    "id": "04c5ac02-a7a8-4eee-aee5-03b7711dbb3a"
   },
   "outputs": [],
   "source": [
    "copy_syn_category, copy_syn_number_norm = df_preprocessing(copy_syn)"
   ]
  },
  {
   "cell_type": "markdown",
   "id": "b954ca84",
   "metadata": {
    "id": "e4cdd0fc-28bc-4c81-9843-cc773724c379"
   },
   "source": [
    "#### Combining Data"
   ]
  },
  {
   "cell_type": "markdown",
   "id": "107903c6",
   "metadata": {
    "id": "7712a36e-0ffc-48c0-ae19-f83c3dfacacc"
   },
   "source": [
    "- Combine preprocessed data into a single table."
   ]
  },
  {
   "cell_type": "code",
   "execution_count": 22,
   "id": "771754d4",
   "metadata": {
    "executionInfo": {
     "elapsed": 13,
     "status": "ok",
     "timestamp": 1680598224382,
     "user": {
      "displayName": "김형준",
      "userId": "10277863568716562689"
     },
     "user_tz": -540
    },
    "id": "c5f67b8d-1911-4d36-861f-5af2d12d2adc"
   },
   "outputs": [],
   "source": [
    "copy_syn_total = pd.concat([copy_syn_category,copy_syn_number_norm], axis=1)"
   ]
  },
  {
   "cell_type": "markdown",
   "id": "a77df307",
   "metadata": {
    "id": "a79a0388-3735-49c0-bccc-ecdad76c2da4"
   },
   "source": [
    "#### Separation of Training Data and Test Data\n",
    "- Separate training data and test data."
   ]
  },
  {
   "cell_type": "code",
   "execution_count": 23,
   "id": "b287cc64",
   "metadata": {
    "executionInfo": {
     "elapsed": 14,
     "status": "ok",
     "timestamp": 1680598224383,
     "user": {
      "displayName": "김형준",
      "userId": "10277863568716562689"
     },
     "user_tz": -540
    },
    "id": "7b9eb55f-d1ee-45d8-a47d-653c8f6979e1"
   },
   "outputs": [],
   "source": [
    "X_syn_train, X_syn_test, y_syn_train, y_syn_test = df_splist(copy_syn_total)"
   ]
  },
  {
   "cell_type": "markdown",
   "id": "730c5b31",
   "metadata": {
    "id": "4ce79955-41e4-48af-b369-9070769f9158",
    "tags": []
   },
   "source": [
    "## Evaluating Model\n",
    "- The model outputs the probability of crime against each data as a value between 0 and 1.  We compared against the real crime rate of import declarations with top 5% and 10% of probability of crime, and used as the performance metric.\n",
    "\n",
    "- This performance metric compared how similar the crime detection rate compares to the real data. Also, it is used to compare statistical similarity of the two dataset by comparing the crime detection rate of top 5% dataset and top 10% dataset."
   ]
  },
  {
   "cell_type": "markdown",
   "id": "9a823f56",
   "metadata": {
    "id": "aed7f4cf-0d7a-4231-9628-1a64899a4102",
    "jp-MarkdownHeadingCollapsed": true,
    "tags": []
   },
   "source": [
    "### Linear Regression Analysis"
   ]
  },
  {
   "cell_type": "markdown",
   "id": "6f488c14",
   "metadata": {
    "id": "34ee91ef-efdd-4e86-9f49-18842dfdae2d"
   },
   "source": [
    "- Linear regression is a statistical method used to model the relationship between a dependent variable and one or more independent variables.\n",
    "- We assume linear relationship between the variables, and use method of least square to approximate regression parameters.\n",
    "- Linear regression is used for prediction and inference in various fields, but we need to carefully consider assumptions and limitations. "
   ]
  },
  {
   "cell_type": "code",
   "execution_count": 24,
   "id": "629ad12f",
   "metadata": {
    "executionInfo": {
     "elapsed": 13,
     "status": "ok",
     "timestamp": 1680598224383,
     "user": {
      "displayName": "김형준",
      "userId": "10277863568716562689"
     },
     "user_tz": -540
    },
    "id": "8b82971f-0ecd-435d-99f9-afb3c5d24760"
   },
   "outputs": [],
   "source": [
    "from sklearn.linear_model import LinearRegression"
   ]
  },
  {
   "cell_type": "markdown",
   "id": "86392f12",
   "metadata": {
    "id": "6661becc-b2e3-4d6a-9982-78d8918c5d88",
    "tags": []
   },
   "source": [
    "#### Real Data (X_train, X_test, y_train, y_test)"
   ]
  },
  {
   "cell_type": "markdown",
   "id": "bfe07cb0",
   "metadata": {
    "id": "37b2aa7f-5f67-477c-8528-caf93d93bd23",
    "jp-MarkdownHeadingCollapsed": true,
    "tags": []
   },
   "source": [
    "- We train real data for the regression model."
   ]
  },
  {
   "cell_type": "code",
   "execution_count": 25,
   "id": "9c2dec0c",
   "metadata": {
    "colab": {
     "base_uri": "https://localhost:8080/",
     "height": 75
    },
    "executionInfo": {
     "elapsed": 13,
     "status": "ok",
     "timestamp": 1680598224383,
     "user": {
      "displayName": "김형준",
      "userId": "10277863568716562689"
     },
     "user_tz": -540
    },
    "id": "1e774912-d3cb-4255-8356-1982f974b9d1",
    "outputId": "b9055eff-b1b8-44de-cfef-e139d3a23dc7",
    "tags": []
   },
   "outputs": [
    {
     "data": {
      "text/html": [
       "<style>#sk-container-id-1 {color: black;background-color: white;}#sk-container-id-1 pre{padding: 0;}#sk-container-id-1 div.sk-toggleable {background-color: white;}#sk-container-id-1 label.sk-toggleable__label {cursor: pointer;display: block;width: 100%;margin-bottom: 0;padding: 0.3em;box-sizing: border-box;text-align: center;}#sk-container-id-1 label.sk-toggleable__label-arrow:before {content: \"▸\";float: left;margin-right: 0.25em;color: #696969;}#sk-container-id-1 label.sk-toggleable__label-arrow:hover:before {color: black;}#sk-container-id-1 div.sk-estimator:hover label.sk-toggleable__label-arrow:before {color: black;}#sk-container-id-1 div.sk-toggleable__content {max-height: 0;max-width: 0;overflow: hidden;text-align: left;background-color: #f0f8ff;}#sk-container-id-1 div.sk-toggleable__content pre {margin: 0.2em;color: black;border-radius: 0.25em;background-color: #f0f8ff;}#sk-container-id-1 input.sk-toggleable__control:checked~div.sk-toggleable__content {max-height: 200px;max-width: 100%;overflow: auto;}#sk-container-id-1 input.sk-toggleable__control:checked~label.sk-toggleable__label-arrow:before {content: \"▾\";}#sk-container-id-1 div.sk-estimator input.sk-toggleable__control:checked~label.sk-toggleable__label {background-color: #d4ebff;}#sk-container-id-1 div.sk-label input.sk-toggleable__control:checked~label.sk-toggleable__label {background-color: #d4ebff;}#sk-container-id-1 input.sk-hidden--visually {border: 0;clip: rect(1px 1px 1px 1px);clip: rect(1px, 1px, 1px, 1px);height: 1px;margin: -1px;overflow: hidden;padding: 0;position: absolute;width: 1px;}#sk-container-id-1 div.sk-estimator {font-family: monospace;background-color: #f0f8ff;border: 1px dotted black;border-radius: 0.25em;box-sizing: border-box;margin-bottom: 0.5em;}#sk-container-id-1 div.sk-estimator:hover {background-color: #d4ebff;}#sk-container-id-1 div.sk-parallel-item::after {content: \"\";width: 100%;border-bottom: 1px solid gray;flex-grow: 1;}#sk-container-id-1 div.sk-label:hover label.sk-toggleable__label {background-color: #d4ebff;}#sk-container-id-1 div.sk-serial::before {content: \"\";position: absolute;border-left: 1px solid gray;box-sizing: border-box;top: 0;bottom: 0;left: 50%;z-index: 0;}#sk-container-id-1 div.sk-serial {display: flex;flex-direction: column;align-items: center;background-color: white;padding-right: 0.2em;padding-left: 0.2em;position: relative;}#sk-container-id-1 div.sk-item {position: relative;z-index: 1;}#sk-container-id-1 div.sk-parallel {display: flex;align-items: stretch;justify-content: center;background-color: white;position: relative;}#sk-container-id-1 div.sk-item::before, #sk-container-id-1 div.sk-parallel-item::before {content: \"\";position: absolute;border-left: 1px solid gray;box-sizing: border-box;top: 0;bottom: 0;left: 50%;z-index: -1;}#sk-container-id-1 div.sk-parallel-item {display: flex;flex-direction: column;z-index: 1;position: relative;background-color: white;}#sk-container-id-1 div.sk-parallel-item:first-child::after {align-self: flex-end;width: 50%;}#sk-container-id-1 div.sk-parallel-item:last-child::after {align-self: flex-start;width: 50%;}#sk-container-id-1 div.sk-parallel-item:only-child::after {width: 0;}#sk-container-id-1 div.sk-dashed-wrapped {border: 1px dashed gray;margin: 0 0.4em 0.5em 0.4em;box-sizing: border-box;padding-bottom: 0.4em;background-color: white;}#sk-container-id-1 div.sk-label label {font-family: monospace;font-weight: bold;display: inline-block;line-height: 1.2em;}#sk-container-id-1 div.sk-label-container {text-align: center;}#sk-container-id-1 div.sk-container {/* jupyter's `normalize.less` sets `[hidden] { display: none; }` but bootstrap.min.css set `[hidden] { display: none !important; }` so we also need the `!important` here to be able to override the default hidden behavior on the sphinx rendered scikit-learn.org. See: https://github.com/scikit-learn/scikit-learn/issues/21755 */display: inline-block !important;position: relative;}#sk-container-id-1 div.sk-text-repr-fallback {display: none;}</style><div id=\"sk-container-id-1\" class=\"sk-top-container\"><div class=\"sk-text-repr-fallback\"><pre>LinearRegression()</pre><b>In a Jupyter environment, please rerun this cell to show the HTML representation or trust the notebook. <br />On GitHub, the HTML representation is unable to render, please try loading this page with nbviewer.org.</b></div><div class=\"sk-container\" hidden><div class=\"sk-item\"><div class=\"sk-estimator sk-toggleable\"><input class=\"sk-toggleable__control sk-hidden--visually\" id=\"sk-estimator-id-1\" type=\"checkbox\" checked><label for=\"sk-estimator-id-1\" class=\"sk-toggleable__label sk-toggleable__label-arrow\">LinearRegression</label><div class=\"sk-toggleable__content\"><pre>LinearRegression()</pre></div></div></div></div></div>"
      ],
      "text/plain": [
       "LinearRegression()"
      ]
     },
     "execution_count": 25,
     "metadata": {},
     "output_type": "execute_result"
    }
   ],
   "source": [
    "lr = LinearRegression()\n",
    "lr.fit(X_train, y_train)"
   ]
  },
  {
   "cell_type": "markdown",
   "id": "25da490f",
   "metadata": {
    "id": "b22123b8-b867-4f6c-a873-a95e460f3437"
   },
   "source": [
    " R<sup>2</sup>\n",
    "- A technique for calculating  R<sup>2</sup> score of regression.\n",
    "- Closer the value is to 0, weaker linear relationship between x and y.\n",
    "- We can see that there is a weak linear relationship between the independent variable and the dependent variable in this data."
   ]
  },
  {
   "cell_type": "code",
   "execution_count": 26,
   "id": "bb338556",
   "metadata": {
    "colab": {
     "base_uri": "https://localhost:8080/"
    },
    "executionInfo": {
     "elapsed": 12,
     "status": "ok",
     "timestamp": 1680598224383,
     "user": {
      "displayName": "김형준",
      "userId": "10277863568716562689"
     },
     "user_tz": -540
    },
    "id": "ff5d572a-1298-4b62-81cf-b40c72290e47",
    "outputId": "a72d838b-7bed-4e78-f1d0-e98f745e53b6"
   },
   "outputs": [
    {
     "name": "stdout",
     "output_type": "stream",
     "text": [
      "Model score: 0.009809196173191426\n"
     ]
    }
   ],
   "source": [
    "score = lr.score(X_test, y_test)\n",
    "print(\"Model score:\", score)"
   ]
  },
  {
   "cell_type": "markdown",
   "id": "9f2306e3",
   "metadata": {
    "id": "1bb5f4fe-62dd-42b4-a139-f23248d10161",
    "tags": []
   },
   "source": [
    "Predicted value of real data\n",
    "\n",
    "- Output predicted regression value by inputting test data into a model, which is trained with real data.\n",
    "- The model outputs the probability of crime against each data as a value between 0 and 1, and used the crime detection rate of top 5% and 10% items as the evaluation metric."
   ]
  },
  {
   "cell_type": "code",
   "execution_count": 27,
   "id": "990831b7",
   "metadata": {
    "executionInfo": {
     "elapsed": 3,
     "status": "ok",
     "timestamp": 1680598225041,
     "user": {
      "displayName": "김형준",
      "userId": "10277863568716562689"
     },
     "user_tz": -540
    },
    "id": "f160df75-7d18-40e4-9803-7a2868cf82db"
   },
   "outputs": [],
   "source": [
    "y_pred = lr.predict(X_test)\n",
    "index = X_test.index.tolist()\n",
    "df = pd.DataFrame({'index' : index ,'pred': y_pred})"
   ]
  },
  {
   "cell_type": "markdown",
   "id": "28d31653",
   "metadata": {
    "id": "bb506120-f749-4b08-b3ad-de5696a733b0"
   },
   "source": [
    "Crime detection rate of top 5% crime regression prediction value against real data\n",
    "\n",
    "- We select top 5% data from the predicted values, and determine whether crime occurred or not."
   ]
  },
  {
   "cell_type": "code",
   "execution_count": 28,
   "id": "2bd0de3b",
   "metadata": {
    "executionInfo": {
     "elapsed": 2,
     "status": "ok",
     "timestamp": 1680598225041,
     "user": {
      "displayName": "김형준",
      "userId": "10277863568716562689"
     },
     "user_tz": -540
    },
    "id": "14d13bc4-bdc9-40d3-93e9-7a3d79cd5d3f"
   },
   "outputs": [],
   "source": [
    "base_5 = reg_top_5per(df,y_test)"
   ]
  },
  {
   "cell_type": "markdown",
   "id": "052a379a",
   "metadata": {
    "id": "bd73cc04-99fc-41ac-a61b-324fb81868a1"
   },
   "source": [
    "Crime detection rate of top 10% crime regression prediction value against real data\n",
    "\n",
    "- We select top 10% data from the predicted values, and determine whether crime occurred or not."
   ]
  },
  {
   "cell_type": "code",
   "execution_count": 29,
   "id": "fcfc2541",
   "metadata": {
    "executionInfo": {
     "elapsed": 2,
     "status": "ok",
     "timestamp": 1680598225041,
     "user": {
      "displayName": "김형준",
      "userId": "10277863568716562689"
     },
     "user_tz": -540
    },
    "id": "40c35527-e44f-426f-b271-bf02c6eaad26"
   },
   "outputs": [],
   "source": [
    "base_10 = reg_top_10per(df,y_test)"
   ]
  },
  {
   "cell_type": "markdown",
   "id": "39641af6",
   "metadata": {
    "id": "3ef414b1-b925-446f-a1bb-b19fa4a8a8c1",
    "tags": []
   },
   "source": [
    "#### Synthetic Data (X_syn_train, X_syn_test, y_syn_train, y_syn_test)"
   ]
  },
  {
   "cell_type": "markdown",
   "id": "8098c9c4",
   "metadata": {
    "id": "bdd1242a-427f-4f5d-b29b-f8d93ec53bc4",
    "tags": []
   },
   "source": [
    "Synthetic data regression model training\n",
    "- Train regression model with synthetic data."
   ]
  },
  {
   "cell_type": "code",
   "execution_count": 30,
   "id": "188da112",
   "metadata": {
    "colab": {
     "base_uri": "https://localhost:8080/",
     "height": 75
    },
    "executionInfo": {
     "elapsed": 11,
     "status": "ok",
     "timestamp": 1680598225503,
     "user": {
      "displayName": "김형준",
      "userId": "10277863568716562689"
     },
     "user_tz": -540
    },
    "id": "66ff0172-af4d-4875-ab71-5175b6d2d0fa",
    "outputId": "7538ba4b-b057-424d-f737-cef4aebf5687",
    "tags": []
   },
   "outputs": [
    {
     "data": {
      "text/html": [
       "<style>#sk-container-id-2 {color: black;background-color: white;}#sk-container-id-2 pre{padding: 0;}#sk-container-id-2 div.sk-toggleable {background-color: white;}#sk-container-id-2 label.sk-toggleable__label {cursor: pointer;display: block;width: 100%;margin-bottom: 0;padding: 0.3em;box-sizing: border-box;text-align: center;}#sk-container-id-2 label.sk-toggleable__label-arrow:before {content: \"▸\";float: left;margin-right: 0.25em;color: #696969;}#sk-container-id-2 label.sk-toggleable__label-arrow:hover:before {color: black;}#sk-container-id-2 div.sk-estimator:hover label.sk-toggleable__label-arrow:before {color: black;}#sk-container-id-2 div.sk-toggleable__content {max-height: 0;max-width: 0;overflow: hidden;text-align: left;background-color: #f0f8ff;}#sk-container-id-2 div.sk-toggleable__content pre {margin: 0.2em;color: black;border-radius: 0.25em;background-color: #f0f8ff;}#sk-container-id-2 input.sk-toggleable__control:checked~div.sk-toggleable__content {max-height: 200px;max-width: 100%;overflow: auto;}#sk-container-id-2 input.sk-toggleable__control:checked~label.sk-toggleable__label-arrow:before {content: \"▾\";}#sk-container-id-2 div.sk-estimator input.sk-toggleable__control:checked~label.sk-toggleable__label {background-color: #d4ebff;}#sk-container-id-2 div.sk-label input.sk-toggleable__control:checked~label.sk-toggleable__label {background-color: #d4ebff;}#sk-container-id-2 input.sk-hidden--visually {border: 0;clip: rect(1px 1px 1px 1px);clip: rect(1px, 1px, 1px, 1px);height: 1px;margin: -1px;overflow: hidden;padding: 0;position: absolute;width: 1px;}#sk-container-id-2 div.sk-estimator {font-family: monospace;background-color: #f0f8ff;border: 1px dotted black;border-radius: 0.25em;box-sizing: border-box;margin-bottom: 0.5em;}#sk-container-id-2 div.sk-estimator:hover {background-color: #d4ebff;}#sk-container-id-2 div.sk-parallel-item::after {content: \"\";width: 100%;border-bottom: 1px solid gray;flex-grow: 1;}#sk-container-id-2 div.sk-label:hover label.sk-toggleable__label {background-color: #d4ebff;}#sk-container-id-2 div.sk-serial::before {content: \"\";position: absolute;border-left: 1px solid gray;box-sizing: border-box;top: 0;bottom: 0;left: 50%;z-index: 0;}#sk-container-id-2 div.sk-serial {display: flex;flex-direction: column;align-items: center;background-color: white;padding-right: 0.2em;padding-left: 0.2em;position: relative;}#sk-container-id-2 div.sk-item {position: relative;z-index: 1;}#sk-container-id-2 div.sk-parallel {display: flex;align-items: stretch;justify-content: center;background-color: white;position: relative;}#sk-container-id-2 div.sk-item::before, #sk-container-id-2 div.sk-parallel-item::before {content: \"\";position: absolute;border-left: 1px solid gray;box-sizing: border-box;top: 0;bottom: 0;left: 50%;z-index: -1;}#sk-container-id-2 div.sk-parallel-item {display: flex;flex-direction: column;z-index: 1;position: relative;background-color: white;}#sk-container-id-2 div.sk-parallel-item:first-child::after {align-self: flex-end;width: 50%;}#sk-container-id-2 div.sk-parallel-item:last-child::after {align-self: flex-start;width: 50%;}#sk-container-id-2 div.sk-parallel-item:only-child::after {width: 0;}#sk-container-id-2 div.sk-dashed-wrapped {border: 1px dashed gray;margin: 0 0.4em 0.5em 0.4em;box-sizing: border-box;padding-bottom: 0.4em;background-color: white;}#sk-container-id-2 div.sk-label label {font-family: monospace;font-weight: bold;display: inline-block;line-height: 1.2em;}#sk-container-id-2 div.sk-label-container {text-align: center;}#sk-container-id-2 div.sk-container {/* jupyter's `normalize.less` sets `[hidden] { display: none; }` but bootstrap.min.css set `[hidden] { display: none !important; }` so we also need the `!important` here to be able to override the default hidden behavior on the sphinx rendered scikit-learn.org. See: https://github.com/scikit-learn/scikit-learn/issues/21755 */display: inline-block !important;position: relative;}#sk-container-id-2 div.sk-text-repr-fallback {display: none;}</style><div id=\"sk-container-id-2\" class=\"sk-top-container\"><div class=\"sk-text-repr-fallback\"><pre>LinearRegression()</pre><b>In a Jupyter environment, please rerun this cell to show the HTML representation or trust the notebook. <br />On GitHub, the HTML representation is unable to render, please try loading this page with nbviewer.org.</b></div><div class=\"sk-container\" hidden><div class=\"sk-item\"><div class=\"sk-estimator sk-toggleable\"><input class=\"sk-toggleable__control sk-hidden--visually\" id=\"sk-estimator-id-2\" type=\"checkbox\" checked><label for=\"sk-estimator-id-2\" class=\"sk-toggleable__label sk-toggleable__label-arrow\">LinearRegression</label><div class=\"sk-toggleable__content\"><pre>LinearRegression()</pre></div></div></div></div></div>"
      ],
      "text/plain": [
       "LinearRegression()"
      ]
     },
     "execution_count": 30,
     "metadata": {},
     "output_type": "execute_result"
    }
   ],
   "source": [
    "lr_syn = LinearRegression()\n",
    "lr_syn.fit(X_syn_train, y_syn_train)"
   ]
  },
  {
   "cell_type": "markdown",
   "id": "51e57529",
   "metadata": {
    "id": "ec8b983c-4643-4d1d-a9f4-c8fa910db808"
   },
   "source": [
    "- As it has low value, we can see that the synthetic data also have weak linear relationship between the dependent variable and the independent variable."
   ]
  },
  {
   "cell_type": "code",
   "execution_count": 31,
   "id": "5aabd4b6",
   "metadata": {
    "colab": {
     "base_uri": "https://localhost:8080/"
    },
    "executionInfo": {
     "elapsed": 9,
     "status": "ok",
     "timestamp": 1680598225503,
     "user": {
      "displayName": "김형준",
      "userId": "10277863568716562689"
     },
     "user_tz": -540
    },
    "id": "f108be76-cfde-4a2d-ad11-9b05d40bde38",
    "outputId": "0aad1cd1-5172-4ec3-d80a-3a16981fde2a"
   },
   "outputs": [
    {
     "name": "stdout",
     "output_type": "stream",
     "text": [
      "Model score: -0.027774698230059514\n"
     ]
    }
   ],
   "source": [
    "score = lr_syn.score(X_syn_test, y_syn_test)\n",
    "print(\"Model score:\", score)"
   ]
  },
  {
   "cell_type": "markdown",
   "id": "8df6384a",
   "metadata": {
    "id": "14145d1e-849b-4621-a7b1-91f838b56be7",
    "tags": []
   },
   "source": [
    "Predicted value for synthetic data\n",
    "\n",
    "- Using the model trained with synthetic data, output predicted regression value by inputting test data.\n",
    "- Model outputs the probability of crime against each data as a value between 0 and 1. The crime detection rates against top 5% and 10% items were used as the evaluation metric."
   ]
  },
  {
   "cell_type": "code",
   "execution_count": 32,
   "id": "498906eb",
   "metadata": {
    "executionInfo": {
     "elapsed": 4,
     "status": "ok",
     "timestamp": 1680598225503,
     "user": {
      "displayName": "김형준",
      "userId": "10277863568716562689"
     },
     "user_tz": -540
    },
    "id": "69219db5-527c-40cb-9044-7436de2b4e81"
   },
   "outputs": [],
   "source": [
    "y_syn_pred = lr_syn.predict(X_syn_test)\n",
    "index = X_syn_test.index.tolist()\n",
    "df = pd.DataFrame({'index' : index ,'pred': y_syn_pred})"
   ]
  },
  {
   "cell_type": "markdown",
   "id": "dda5440e",
   "metadata": {
    "id": "10a5d4a7-ad95-48bd-936a-3b70e498aac8"
   },
   "source": [
    "Detection rate of top 5% crime regression predicted value against synthetic data \n",
    "- Using data of only top 5% predicted value, determine whether a crime occurred or not."
   ]
  },
  {
   "cell_type": "code",
   "execution_count": 33,
   "id": "7a6b486c",
   "metadata": {
    "executionInfo": {
     "elapsed": 5,
     "status": "ok",
     "timestamp": 1680598225504,
     "user": {
      "displayName": "김형준",
      "userId": "10277863568716562689"
     },
     "user_tz": -540
    },
    "id": "f24b8c25-8582-45ab-a75b-e7ffd14125f6"
   },
   "outputs": [],
   "source": [
    "syn_5 = reg_top_5per(df,y_syn_test)"
   ]
  },
  {
   "cell_type": "markdown",
   "id": "0dcbe719",
   "metadata": {
    "id": "9d9bd91d-98bc-4744-b6e9-97947691c59a"
   },
   "source": [
    "Detection rate of top 10% crime regression predicted value against synthetic data \n",
    "- Using data of only top 10% predicted value, determine whether a crime occurred or not."
   ]
  },
  {
   "cell_type": "code",
   "execution_count": 34,
   "id": "d38de4f5",
   "metadata": {
    "executionInfo": {
     "elapsed": 5,
     "status": "ok",
     "timestamp": 1680598225504,
     "user": {
      "displayName": "김형준",
      "userId": "10277863568716562689"
     },
     "user_tz": -540
    },
    "id": "1240e53a-2a48-44eb-adeb-dfefd214d18f",
    "tags": []
   },
   "outputs": [],
   "source": [
    "syn_10 = reg_top_10per(df,y_syn_test)"
   ]
  },
  {
   "cell_type": "markdown",
   "id": "58b3e364",
   "metadata": {
    "id": "d17a5435-14e7-4da8-ba61-b504f996deca",
    "tags": []
   },
   "source": [
    "####  Detection Rate Summary - Linear Regression Analysis\n"
   ]
  },
  {
   "cell_type": "markdown",
   "id": "cd253b81",
   "metadata": {
    "id": "m43gJJjASs55"
   },
   "source": [
    "- There is little difference in detection rate.\n",
    "- Although there is little difference, detection rate decreases similarly going from 5% group to 10% group.\n",
    "- We can infer that there is a similar distribution."
   ]
  },
  {
   "cell_type": "code",
   "execution_count": 35,
   "id": "ca4ff93b",
   "metadata": {
    "executionInfo": {
     "elapsed": 4,
     "status": "ok",
     "timestamp": 1680598226570,
     "user": {
      "displayName": "김형준",
      "userId": "10277863568716562689"
     },
     "user_tz": -540
    },
    "id": "0d92f743-aca3-4205-8647-24d0a1b63124"
   },
   "outputs": [],
   "source": [
    "df_result_lr = pd.DataFrame({'category': 'LinearRegression','base_5' : base_5, 'base_10': base_10,'syn_5': syn_5,'syn_10': syn_10})"
   ]
  },
  {
   "cell_type": "code",
   "execution_count": 36,
   "id": "7930f3ac",
   "metadata": {
    "colab": {
     "base_uri": "https://localhost:8080/",
     "height": 81
    },
    "executionInfo": {
     "elapsed": 4,
     "status": "ok",
     "timestamp": 1680598226571,
     "user": {
      "displayName": "김형준",
      "userId": "10277863568716562689"
     },
     "user_tz": -540
    },
    "id": "0a0fbadd-f1a6-49c3-b414-77b151ce2b28",
    "outputId": "a1d7b151-dadd-44ed-db1d-55d1adde6c4b"
   },
   "outputs": [
    {
     "data": {
      "text/html": [
       "\n",
       "  <div id=\"df-d818162c-f9ee-40f6-b3e9-92e90c814318\">\n",
       "    <div class=\"colab-df-container\">\n",
       "      <div>\n",
       "<style scoped>\n",
       "    .dataframe tbody tr th:only-of-type {\n",
       "        vertical-align: middle;\n",
       "    }\n",
       "\n",
       "    .dataframe tbody tr th {\n",
       "        vertical-align: top;\n",
       "    }\n",
       "\n",
       "    .dataframe thead th {\n",
       "        text-align: right;\n",
       "    }\n",
       "</style>\n",
       "<table border=\"1\" class=\"dataframe\">\n",
       "  <thead>\n",
       "    <tr style=\"text-align: right;\">\n",
       "      <th></th>\n",
       "      <th>category</th>\n",
       "      <th>base_5</th>\n",
       "      <th>base_10</th>\n",
       "      <th>syn_5</th>\n",
       "      <th>syn_10</th>\n",
       "    </tr>\n",
       "  </thead>\n",
       "  <tbody>\n",
       "    <tr>\n",
       "      <th>crime_yn</th>\n",
       "      <td>LinearRegression</td>\n",
       "      <td>0.353704</td>\n",
       "      <td>0.311111</td>\n",
       "      <td>0.375</td>\n",
       "      <td>0.28125</td>\n",
       "    </tr>\n",
       "  </tbody>\n",
       "</table>\n",
       "</div>\n",
       "      <button class=\"colab-df-convert\" onclick=\"convertToInteractive('df-d818162c-f9ee-40f6-b3e9-92e90c814318')\"\n",
       "              title=\"Convert this dataframe to an interactive table.\"\n",
       "              style=\"display:none;\">\n",
       "        \n",
       "  <svg xmlns=\"http://www.w3.org/2000/svg\" height=\"24px\"viewBox=\"0 0 24 24\"\n",
       "       width=\"24px\">\n",
       "    <path d=\"M0 0h24v24H0V0z\" fill=\"none\"/>\n",
       "    <path d=\"M18.56 5.44l.94 2.06.94-2.06 2.06-.94-2.06-.94-.94-2.06-.94 2.06-2.06.94zm-11 1L8.5 8.5l.94-2.06 2.06-.94-2.06-.94L8.5 2.5l-.94 2.06-2.06.94zm10 10l.94 2.06.94-2.06 2.06-.94-2.06-.94-.94-2.06-.94 2.06-2.06.94z\"/><path d=\"M17.41 7.96l-1.37-1.37c-.4-.4-.92-.59-1.43-.59-.52 0-1.04.2-1.43.59L10.3 9.45l-7.72 7.72c-.78.78-.78 2.05 0 2.83L4 21.41c.39.39.9.59 1.41.59.51 0 1.02-.2 1.41-.59l7.78-7.78 2.81-2.81c.8-.78.8-2.07 0-2.86zM5.41 20L4 18.59l7.72-7.72 1.47 1.35L5.41 20z\"/>\n",
       "  </svg>\n",
       "      </button>\n",
       "      \n",
       "  <style>\n",
       "    .colab-df-container {\n",
       "      display:flex;\n",
       "      flex-wrap:wrap;\n",
       "      gap: 12px;\n",
       "    }\n",
       "\n",
       "    .colab-df-convert {\n",
       "      background-color: #E8F0FE;\n",
       "      border: none;\n",
       "      border-radius: 50%;\n",
       "      cursor: pointer;\n",
       "      display: none;\n",
       "      fill: #1967D2;\n",
       "      height: 32px;\n",
       "      padding: 0 0 0 0;\n",
       "      width: 32px;\n",
       "    }\n",
       "\n",
       "    .colab-df-convert:hover {\n",
       "      background-color: #E2EBFA;\n",
       "      box-shadow: 0px 1px 2px rgba(60, 64, 67, 0.3), 0px 1px 3px 1px rgba(60, 64, 67, 0.15);\n",
       "      fill: #174EA6;\n",
       "    }\n",
       "\n",
       "    [theme=dark] .colab-df-convert {\n",
       "      background-color: #3B4455;\n",
       "      fill: #D2E3FC;\n",
       "    }\n",
       "\n",
       "    [theme=dark] .colab-df-convert:hover {\n",
       "      background-color: #434B5C;\n",
       "      box-shadow: 0px 1px 3px 1px rgba(0, 0, 0, 0.15);\n",
       "      filter: drop-shadow(0px 1px 2px rgba(0, 0, 0, 0.3));\n",
       "      fill: #FFFFFF;\n",
       "    }\n",
       "  </style>\n",
       "\n",
       "      <script>\n",
       "        const buttonEl =\n",
       "          document.querySelector('#df-d818162c-f9ee-40f6-b3e9-92e90c814318 button.colab-df-convert');\n",
       "        buttonEl.style.display =\n",
       "          google.colab.kernel.accessAllowed ? 'block' : 'none';\n",
       "\n",
       "        async function convertToInteractive(key) {\n",
       "          const element = document.querySelector('#df-d818162c-f9ee-40f6-b3e9-92e90c814318');\n",
       "          const dataTable =\n",
       "            await google.colab.kernel.invokeFunction('convertToInteractive',\n",
       "                                                     [key], {});\n",
       "          if (!dataTable) return;\n",
       "\n",
       "          const docLinkHtml = 'Like what you see? Visit the ' +\n",
       "            '<a target=\"_blank\" href=https://colab.research.google.com/notebooks/data_table.ipynb>data table notebook</a>'\n",
       "            + ' to learn more about interactive tables.';\n",
       "          element.innerHTML = '';\n",
       "          dataTable['output_type'] = 'display_data';\n",
       "          await google.colab.output.renderOutput(dataTable, element);\n",
       "          const docLink = document.createElement('div');\n",
       "          docLink.innerHTML = docLinkHtml;\n",
       "          element.appendChild(docLink);\n",
       "        }\n",
       "      </script>\n",
       "    </div>\n",
       "  </div>\n",
       "  "
      ],
      "text/plain": [
       "                  category    base_5   base_10   syn_5   syn_10\n",
       "crime_yn  LinearRegression  0.353704  0.311111  0.375  0.28125"
      ]
     },
     "execution_count": 36,
     "metadata": {},
     "output_type": "execute_result"
    }
   ],
   "source": [
    "df_result_lr"
   ]
  },
  {
   "cell_type": "markdown",
   "id": "bd349b4e",
   "metadata": {
    "id": "54798da4-7aef-46be-8f4d-c47b8cafeb5a",
    "jp-MarkdownHeadingCollapsed": true,
    "tags": []
   },
   "source": [
    "### Random Forest"
   ]
  },
  {
   "cell_type": "markdown",
   "id": "deb7c3df",
   "metadata": {
    "id": "eeeec381-bd2e-430f-bb6a-6c46f933bdc4"
   },
   "source": [
    "Random forest is a machine learning algorithm that builds several decision trees and collects predictions. This is used to increase accuracy and reduce overfitting.\n",
    "\n",
    "Here are the main characteristics:\n",
    "- Random selection of samples and features for building each trees.\n",
    "- Ensemble training for increasing predictability.\n",
    "- Ability to process high-dimension large dataset."
   ]
  },
  {
   "cell_type": "code",
   "execution_count": 37,
   "id": "2be43133",
   "metadata": {
    "executionInfo": {
     "elapsed": 2,
     "status": "ok",
     "timestamp": 1680598227091,
     "user": {
      "displayName": "김형준",
      "userId": "10277863568716562689"
     },
     "user_tz": -540
    },
    "id": "a104c6bb-b482-4bc6-8c96-75d35c8dd0bf"
   },
   "outputs": [],
   "source": [
    "from sklearn.ensemble import RandomForestRegressor"
   ]
  },
  {
   "cell_type": "markdown",
   "id": "7df5015b",
   "metadata": {
    "id": "fbcc2d6b-ad66-431a-8d4c-47a456b4b0e1",
    "tags": []
   },
   "source": [
    "#### Real Data(X_train, X_test, y_train, y_test)"
   ]
  },
  {
   "cell_type": "markdown",
   "id": "1f098d1e",
   "metadata": {
    "id": "8cdc000b-6c9f-4a8f-883b-f15796a5529e",
    "jp-MarkdownHeadingCollapsed": true,
    "tags": []
   },
   "source": [
    "Real data random forest regression model training\n",
    "- Train real data using random forest regression model."
   ]
  },
  {
   "cell_type": "code",
   "execution_count": 38,
   "id": "d370cd4a",
   "metadata": {
    "executionInfo": {
     "elapsed": 3,
     "status": "ok",
     "timestamp": 1680598227092,
     "user": {
      "displayName": "김형준",
      "userId": "10277863568716562689"
     },
     "user_tz": -540
    },
    "id": "b75f3fdb-309d-4dc3-8078-7ba17a87a1b9"
   },
   "outputs": [],
   "source": [
    "rf = RandomForestRegressor(n_estimators=70, random_state=42)"
   ]
  },
  {
   "cell_type": "code",
   "execution_count": 39,
   "id": "c505b0f4",
   "metadata": {
    "colab": {
     "base_uri": "https://localhost:8080/",
     "height": 75
    },
    "executionInfo": {
     "elapsed": 30599,
     "status": "ok",
     "timestamp": 1680598257688,
     "user": {
      "displayName": "김형준",
      "userId": "10277863568716562689"
     },
     "user_tz": -540
    },
    "id": "e508e2f6-7b4d-4210-81b5-700b34a2f2b6",
    "outputId": "0466a218-2d6b-412f-b876-1135e4325ef4"
   },
   "outputs": [
    {
     "data": {
      "text/html": [
       "<style>#sk-container-id-3 {color: black;background-color: white;}#sk-container-id-3 pre{padding: 0;}#sk-container-id-3 div.sk-toggleable {background-color: white;}#sk-container-id-3 label.sk-toggleable__label {cursor: pointer;display: block;width: 100%;margin-bottom: 0;padding: 0.3em;box-sizing: border-box;text-align: center;}#sk-container-id-3 label.sk-toggleable__label-arrow:before {content: \"▸\";float: left;margin-right: 0.25em;color: #696969;}#sk-container-id-3 label.sk-toggleable__label-arrow:hover:before {color: black;}#sk-container-id-3 div.sk-estimator:hover label.sk-toggleable__label-arrow:before {color: black;}#sk-container-id-3 div.sk-toggleable__content {max-height: 0;max-width: 0;overflow: hidden;text-align: left;background-color: #f0f8ff;}#sk-container-id-3 div.sk-toggleable__content pre {margin: 0.2em;color: black;border-radius: 0.25em;background-color: #f0f8ff;}#sk-container-id-3 input.sk-toggleable__control:checked~div.sk-toggleable__content {max-height: 200px;max-width: 100%;overflow: auto;}#sk-container-id-3 input.sk-toggleable__control:checked~label.sk-toggleable__label-arrow:before {content: \"▾\";}#sk-container-id-3 div.sk-estimator input.sk-toggleable__control:checked~label.sk-toggleable__label {background-color: #d4ebff;}#sk-container-id-3 div.sk-label input.sk-toggleable__control:checked~label.sk-toggleable__label {background-color: #d4ebff;}#sk-container-id-3 input.sk-hidden--visually {border: 0;clip: rect(1px 1px 1px 1px);clip: rect(1px, 1px, 1px, 1px);height: 1px;margin: -1px;overflow: hidden;padding: 0;position: absolute;width: 1px;}#sk-container-id-3 div.sk-estimator {font-family: monospace;background-color: #f0f8ff;border: 1px dotted black;border-radius: 0.25em;box-sizing: border-box;margin-bottom: 0.5em;}#sk-container-id-3 div.sk-estimator:hover {background-color: #d4ebff;}#sk-container-id-3 div.sk-parallel-item::after {content: \"\";width: 100%;border-bottom: 1px solid gray;flex-grow: 1;}#sk-container-id-3 div.sk-label:hover label.sk-toggleable__label {background-color: #d4ebff;}#sk-container-id-3 div.sk-serial::before {content: \"\";position: absolute;border-left: 1px solid gray;box-sizing: border-box;top: 0;bottom: 0;left: 50%;z-index: 0;}#sk-container-id-3 div.sk-serial {display: flex;flex-direction: column;align-items: center;background-color: white;padding-right: 0.2em;padding-left: 0.2em;position: relative;}#sk-container-id-3 div.sk-item {position: relative;z-index: 1;}#sk-container-id-3 div.sk-parallel {display: flex;align-items: stretch;justify-content: center;background-color: white;position: relative;}#sk-container-id-3 div.sk-item::before, #sk-container-id-3 div.sk-parallel-item::before {content: \"\";position: absolute;border-left: 1px solid gray;box-sizing: border-box;top: 0;bottom: 0;left: 50%;z-index: -1;}#sk-container-id-3 div.sk-parallel-item {display: flex;flex-direction: column;z-index: 1;position: relative;background-color: white;}#sk-container-id-3 div.sk-parallel-item:first-child::after {align-self: flex-end;width: 50%;}#sk-container-id-3 div.sk-parallel-item:last-child::after {align-self: flex-start;width: 50%;}#sk-container-id-3 div.sk-parallel-item:only-child::after {width: 0;}#sk-container-id-3 div.sk-dashed-wrapped {border: 1px dashed gray;margin: 0 0.4em 0.5em 0.4em;box-sizing: border-box;padding-bottom: 0.4em;background-color: white;}#sk-container-id-3 div.sk-label label {font-family: monospace;font-weight: bold;display: inline-block;line-height: 1.2em;}#sk-container-id-3 div.sk-label-container {text-align: center;}#sk-container-id-3 div.sk-container {/* jupyter's `normalize.less` sets `[hidden] { display: none; }` but bootstrap.min.css set `[hidden] { display: none !important; }` so we also need the `!important` here to be able to override the default hidden behavior on the sphinx rendered scikit-learn.org. See: https://github.com/scikit-learn/scikit-learn/issues/21755 */display: inline-block !important;position: relative;}#sk-container-id-3 div.sk-text-repr-fallback {display: none;}</style><div id=\"sk-container-id-3\" class=\"sk-top-container\"><div class=\"sk-text-repr-fallback\"><pre>RandomForestRegressor(n_estimators=70, random_state=42)</pre><b>In a Jupyter environment, please rerun this cell to show the HTML representation or trust the notebook. <br />On GitHub, the HTML representation is unable to render, please try loading this page with nbviewer.org.</b></div><div class=\"sk-container\" hidden><div class=\"sk-item\"><div class=\"sk-estimator sk-toggleable\"><input class=\"sk-toggleable__control sk-hidden--visually\" id=\"sk-estimator-id-3\" type=\"checkbox\" checked><label for=\"sk-estimator-id-3\" class=\"sk-toggleable__label sk-toggleable__label-arrow\">RandomForestRegressor</label><div class=\"sk-toggleable__content\"><pre>RandomForestRegressor(n_estimators=70, random_state=42)</pre></div></div></div></div></div>"
      ],
      "text/plain": [
       "RandomForestRegressor(n_estimators=70, random_state=42)"
      ]
     },
     "execution_count": 39,
     "metadata": {},
     "output_type": "execute_result"
    }
   ],
   "source": [
    "rf.fit(X_train, y_train)"
   ]
  },
  {
   "cell_type": "markdown",
   "id": "72210a1f",
   "metadata": {
    "id": "829c16ed-afc5-4d72-8b34-301f8fa2361e",
    "jp-MarkdownHeadingCollapsed": true,
    "tags": []
   },
   "source": [
    "Real data predicted value.\n",
    "- Calculate real data predicted value."
   ]
  },
  {
   "cell_type": "code",
   "execution_count": 40,
   "id": "59fe5102",
   "metadata": {
    "executionInfo": {
     "elapsed": 6,
     "status": "ok",
     "timestamp": 1680598257688,
     "user": {
      "displayName": "김형준",
      "userId": "10277863568716562689"
     },
     "user_tz": -540
    },
    "id": "62ae69e8-eae7-4597-91b2-435cb6620be8"
   },
   "outputs": [],
   "source": [
    "y_pred = rf.predict(X_test)"
   ]
  },
  {
   "cell_type": "code",
   "execution_count": 41,
   "id": "b5ae877c",
   "metadata": {
    "executionInfo": {
     "elapsed": 6,
     "status": "ok",
     "timestamp": 1680598257689,
     "user": {
      "displayName": "김형준",
      "userId": "10277863568716562689"
     },
     "user_tz": -540
    },
    "id": "04a07399-3145-4ab5-bae1-17bbf9ee581d",
    "tags": []
   },
   "outputs": [],
   "source": [
    "index = X_test.index.tolist()"
   ]
  },
  {
   "cell_type": "code",
   "execution_count": 42,
   "id": "8cbb5b49",
   "metadata": {
    "executionInfo": {
     "elapsed": 6,
     "status": "ok",
     "timestamp": 1680598257689,
     "user": {
      "displayName": "김형준",
      "userId": "10277863568716562689"
     },
     "user_tz": -540
    },
    "id": "4e72088f-9e9c-49ea-a90c-75ba23f88257",
    "tags": []
   },
   "outputs": [],
   "source": [
    "df = pd.DataFrame({'index' : index ,'pred': y_pred})"
   ]
  },
  {
   "cell_type": "markdown",
   "id": "f40758df",
   "metadata": {
    "id": "be2af327-74dc-497e-bb3a-071eedf733cd"
   },
   "source": [
    "Detection rate of top 5% crime regression predicted value against real data \n",
    "- Determine whether crime occurred or not by selecting only top 5% predicted value."
   ]
  },
  {
   "cell_type": "code",
   "execution_count": 43,
   "id": "0c95fbf6",
   "metadata": {
    "executionInfo": {
     "elapsed": 6,
     "status": "ok",
     "timestamp": 1680598257689,
     "user": {
      "displayName": "김형준",
      "userId": "10277863568716562689"
     },
     "user_tz": -540
    },
    "id": "436fc04d-7d49-4113-aa62-ceb288c7aad2"
   },
   "outputs": [],
   "source": [
    "base_5 = reg_top_5per(df,y_test)"
   ]
  },
  {
   "cell_type": "markdown",
   "id": "45fc75d5",
   "metadata": {
    "id": "e146921f-a217-40e7-8082-0cf369a7e5e2"
   },
   "source": [
    "Detection rate of top 10% crime regression predicted value against real data \n",
    "- Determine whether crime occurred or not by selecting only top 10% predicted value."
   ]
  },
  {
   "cell_type": "code",
   "execution_count": 44,
   "id": "74842b25",
   "metadata": {
    "executionInfo": {
     "elapsed": 6,
     "status": "ok",
     "timestamp": 1680598257690,
     "user": {
      "displayName": "김형준",
      "userId": "10277863568716562689"
     },
     "user_tz": -540
    },
    "id": "eb52dadc-f079-4411-bc09-8346181bcbd9"
   },
   "outputs": [],
   "source": [
    "base_10 = reg_top_10per(df,y_test)"
   ]
  },
  {
   "cell_type": "markdown",
   "id": "7d057a7f",
   "metadata": {
    "id": "d27a7d5c-c382-4c28-b15e-a441481fdde2",
    "tags": []
   },
   "source": [
    "#### Synthetic Data(X_syn_train, X_syn_test, y_syn_train, y_syn_test)"
   ]
  },
  {
   "cell_type": "markdown",
   "id": "68475e1e",
   "metadata": {
    "id": "3641a779-f89c-4e43-9f6f-c4bb834030ff",
    "jp-MarkdownHeadingCollapsed": true,
    "tags": []
   },
   "source": [
    "Synthetic data random forest regression model training\n",
    "- Train synthetic data using random forest regression model."
   ]
  },
  {
   "cell_type": "code",
   "execution_count": 45,
   "id": "307ddd8b",
   "metadata": {
    "executionInfo": {
     "elapsed": 6,
     "status": "ok",
     "timestamp": 1680598257690,
     "user": {
      "displayName": "김형준",
      "userId": "10277863568716562689"
     },
     "user_tz": -540
    },
    "id": "276f6d2f-43a1-40af-80e3-18837ccc4f50"
   },
   "outputs": [],
   "source": [
    "rf_syn = RandomForestRegressor(n_estimators=70, random_state=42)"
   ]
  },
  {
   "cell_type": "code",
   "execution_count": 46,
   "id": "2d9b1e2b",
   "metadata": {
    "colab": {
     "base_uri": "https://localhost:8080/",
     "height": 75
    },
    "executionInfo": {
     "elapsed": 835,
     "status": "ok",
     "timestamp": 1680598258520,
     "user": {
      "displayName": "김형준",
      "userId": "10277863568716562689"
     },
     "user_tz": -540
    },
    "id": "e291cdaa-8a41-4d71-8a22-4e97f5ebff73",
    "outputId": "89b765c5-2995-49f7-b558-1a203af125bb"
   },
   "outputs": [
    {
     "data": {
      "text/html": [
       "<style>#sk-container-id-4 {color: black;background-color: white;}#sk-container-id-4 pre{padding: 0;}#sk-container-id-4 div.sk-toggleable {background-color: white;}#sk-container-id-4 label.sk-toggleable__label {cursor: pointer;display: block;width: 100%;margin-bottom: 0;padding: 0.3em;box-sizing: border-box;text-align: center;}#sk-container-id-4 label.sk-toggleable__label-arrow:before {content: \"▸\";float: left;margin-right: 0.25em;color: #696969;}#sk-container-id-4 label.sk-toggleable__label-arrow:hover:before {color: black;}#sk-container-id-4 div.sk-estimator:hover label.sk-toggleable__label-arrow:before {color: black;}#sk-container-id-4 div.sk-toggleable__content {max-height: 0;max-width: 0;overflow: hidden;text-align: left;background-color: #f0f8ff;}#sk-container-id-4 div.sk-toggleable__content pre {margin: 0.2em;color: black;border-radius: 0.25em;background-color: #f0f8ff;}#sk-container-id-4 input.sk-toggleable__control:checked~div.sk-toggleable__content {max-height: 200px;max-width: 100%;overflow: auto;}#sk-container-id-4 input.sk-toggleable__control:checked~label.sk-toggleable__label-arrow:before {content: \"▾\";}#sk-container-id-4 div.sk-estimator input.sk-toggleable__control:checked~label.sk-toggleable__label {background-color: #d4ebff;}#sk-container-id-4 div.sk-label input.sk-toggleable__control:checked~label.sk-toggleable__label {background-color: #d4ebff;}#sk-container-id-4 input.sk-hidden--visually {border: 0;clip: rect(1px 1px 1px 1px);clip: rect(1px, 1px, 1px, 1px);height: 1px;margin: -1px;overflow: hidden;padding: 0;position: absolute;width: 1px;}#sk-container-id-4 div.sk-estimator {font-family: monospace;background-color: #f0f8ff;border: 1px dotted black;border-radius: 0.25em;box-sizing: border-box;margin-bottom: 0.5em;}#sk-container-id-4 div.sk-estimator:hover {background-color: #d4ebff;}#sk-container-id-4 div.sk-parallel-item::after {content: \"\";width: 100%;border-bottom: 1px solid gray;flex-grow: 1;}#sk-container-id-4 div.sk-label:hover label.sk-toggleable__label {background-color: #d4ebff;}#sk-container-id-4 div.sk-serial::before {content: \"\";position: absolute;border-left: 1px solid gray;box-sizing: border-box;top: 0;bottom: 0;left: 50%;z-index: 0;}#sk-container-id-4 div.sk-serial {display: flex;flex-direction: column;align-items: center;background-color: white;padding-right: 0.2em;padding-left: 0.2em;position: relative;}#sk-container-id-4 div.sk-item {position: relative;z-index: 1;}#sk-container-id-4 div.sk-parallel {display: flex;align-items: stretch;justify-content: center;background-color: white;position: relative;}#sk-container-id-4 div.sk-item::before, #sk-container-id-4 div.sk-parallel-item::before {content: \"\";position: absolute;border-left: 1px solid gray;box-sizing: border-box;top: 0;bottom: 0;left: 50%;z-index: -1;}#sk-container-id-4 div.sk-parallel-item {display: flex;flex-direction: column;z-index: 1;position: relative;background-color: white;}#sk-container-id-4 div.sk-parallel-item:first-child::after {align-self: flex-end;width: 50%;}#sk-container-id-4 div.sk-parallel-item:last-child::after {align-self: flex-start;width: 50%;}#sk-container-id-4 div.sk-parallel-item:only-child::after {width: 0;}#sk-container-id-4 div.sk-dashed-wrapped {border: 1px dashed gray;margin: 0 0.4em 0.5em 0.4em;box-sizing: border-box;padding-bottom: 0.4em;background-color: white;}#sk-container-id-4 div.sk-label label {font-family: monospace;font-weight: bold;display: inline-block;line-height: 1.2em;}#sk-container-id-4 div.sk-label-container {text-align: center;}#sk-container-id-4 div.sk-container {/* jupyter's `normalize.less` sets `[hidden] { display: none; }` but bootstrap.min.css set `[hidden] { display: none !important; }` so we also need the `!important` here to be able to override the default hidden behavior on the sphinx rendered scikit-learn.org. See: https://github.com/scikit-learn/scikit-learn/issues/21755 */display: inline-block !important;position: relative;}#sk-container-id-4 div.sk-text-repr-fallback {display: none;}</style><div id=\"sk-container-id-4\" class=\"sk-top-container\"><div class=\"sk-text-repr-fallback\"><pre>RandomForestRegressor(n_estimators=70, random_state=42)</pre><b>In a Jupyter environment, please rerun this cell to show the HTML representation or trust the notebook. <br />On GitHub, the HTML representation is unable to render, please try loading this page with nbviewer.org.</b></div><div class=\"sk-container\" hidden><div class=\"sk-item\"><div class=\"sk-estimator sk-toggleable\"><input class=\"sk-toggleable__control sk-hidden--visually\" id=\"sk-estimator-id-4\" type=\"checkbox\" checked><label for=\"sk-estimator-id-4\" class=\"sk-toggleable__label sk-toggleable__label-arrow\">RandomForestRegressor</label><div class=\"sk-toggleable__content\"><pre>RandomForestRegressor(n_estimators=70, random_state=42)</pre></div></div></div></div></div>"
      ],
      "text/plain": [
       "RandomForestRegressor(n_estimators=70, random_state=42)"
      ]
     },
     "execution_count": 46,
     "metadata": {},
     "output_type": "execute_result"
    }
   ],
   "source": [
    "rf_syn.fit(X_syn_train, y_syn_train)"
   ]
  },
  {
   "cell_type": "markdown",
   "id": "ea6c0d22",
   "metadata": {
    "id": "43c8d1b3-0a84-40e5-8e74-86de748b94f4",
    "tags": []
   },
   "source": [
    "Synthetic data predicted value\n",
    "- Calculate Synthetic data predicted value."
   ]
  },
  {
   "cell_type": "code",
   "execution_count": 47,
   "id": "49d67d50",
   "metadata": {
    "executionInfo": {
     "elapsed": 9,
     "status": "ok",
     "timestamp": 1680598258520,
     "user": {
      "displayName": "김형준",
      "userId": "10277863568716562689"
     },
     "user_tz": -540
    },
    "id": "4399cb82-96e3-4f61-bab1-de66851d94a6"
   },
   "outputs": [],
   "source": [
    "y_syn_pred = rf_syn.predict(X_syn_test)"
   ]
  },
  {
   "cell_type": "code",
   "execution_count": 48,
   "id": "b9ad22da",
   "metadata": {
    "executionInfo": {
     "elapsed": 9,
     "status": "ok",
     "timestamp": 1680598258521,
     "user": {
      "displayName": "김형준",
      "userId": "10277863568716562689"
     },
     "user_tz": -540
    },
    "id": "d05250b4-bd98-4725-9a28-fbacaff7ca26",
    "tags": []
   },
   "outputs": [],
   "source": [
    "index = X_syn_test.index.tolist()"
   ]
  },
  {
   "cell_type": "code",
   "execution_count": 49,
   "id": "f001791f",
   "metadata": {
    "executionInfo": {
     "elapsed": 9,
     "status": "ok",
     "timestamp": 1680598258521,
     "user": {
      "displayName": "김형준",
      "userId": "10277863568716562689"
     },
     "user_tz": -540
    },
    "id": "6658a205-f33c-4336-bc79-6783207ac3e9",
    "tags": []
   },
   "outputs": [],
   "source": [
    "df = pd.DataFrame({'index' : index ,'pred': y_syn_pred})"
   ]
  },
  {
   "cell_type": "markdown",
   "id": "b63fd959",
   "metadata": {
    "id": "7dee82b2-a46b-48b5-9f72-ab85476303c5"
   },
   "source": [
    "Detection rate of top 5% crime regression predicted value against synthetic data \n",
    "- Determine whether crime occurred or not by selecting only top 5% predicted value."
   ]
  },
  {
   "cell_type": "code",
   "execution_count": 50,
   "id": "03ed9649",
   "metadata": {
    "executionInfo": {
     "elapsed": 8,
     "status": "ok",
     "timestamp": 1680598258521,
     "user": {
      "displayName": "김형준",
      "userId": "10277863568716562689"
     },
     "user_tz": -540
    },
    "id": "69cd99cc-001f-419e-a0d2-db63085219da"
   },
   "outputs": [],
   "source": [
    "syn_5 = reg_top_5per(df,y_syn_test)"
   ]
  },
  {
   "cell_type": "markdown",
   "id": "de77e23f",
   "metadata": {
    "id": "83072e0a-22f7-4005-836c-7491e5c478e0"
   },
   "source": [
    "Detection rate of top 10% crime regression predicted value against synthetic data \n",
    "- Determine whether crime occurred or not by selecting only top 10% predicted value."
   ]
  },
  {
   "cell_type": "code",
   "execution_count": 51,
   "id": "a6afa46f",
   "metadata": {
    "executionInfo": {
     "elapsed": 8,
     "status": "ok",
     "timestamp": 1680598258521,
     "user": {
      "displayName": "김형준",
      "userId": "10277863568716562689"
     },
     "user_tz": -540
    },
    "id": "fa972642-400b-49de-be81-60f2b1aa391c",
    "tags": []
   },
   "outputs": [],
   "source": [
    "syn_10 = reg_top_10per(df,y_syn_test)"
   ]
  },
  {
   "cell_type": "markdown",
   "id": "affc2704",
   "metadata": {
    "id": "74e5fc3c-6882-47af-8bad-3d7b9ebee11b",
    "tags": []
   },
   "source": [
    "#### Detection Rate Summary - Random Forest"
   ]
  },
  {
   "cell_type": "markdown",
   "id": "8d282725",
   "metadata": {
    "id": "vOcocrKUWLaP"
   },
   "source": [
    "- We can see that synthetic data works well even for random forest.\n",
    "- Similar to regression analysis, we see that the detection rate is similar. Also, we see that the detection rate decrease similarly from 5% group to 10% group."
   ]
  },
  {
   "cell_type": "code",
   "execution_count": 52,
   "id": "6300580c",
   "metadata": {
    "executionInfo": {
     "elapsed": 9,
     "status": "ok",
     "timestamp": 1680598258522,
     "user": {
      "displayName": "김형준",
      "userId": "10277863568716562689"
     },
     "user_tz": -540
    },
    "id": "598a99f3-b794-4d08-b034-9d92850f2cd6"
   },
   "outputs": [],
   "source": [
    "df_result_rf = pd.DataFrame({'category': 'RandomForestRegressor','base_5' : base_5, 'base_10': base_10,'syn_5': syn_5,'syn_10': syn_10})"
   ]
  },
  {
   "cell_type": "code",
   "execution_count": 53,
   "id": "0bd5c313",
   "metadata": {
    "colab": {
     "base_uri": "https://localhost:8080/",
     "height": 81
    },
    "executionInfo": {
     "elapsed": 9,
     "status": "ok",
     "timestamp": 1680598258522,
     "user": {
      "displayName": "김형준",
      "userId": "10277863568716562689"
     },
     "user_tz": -540
    },
    "id": "dfcbeb9f-b218-45ed-8eab-5ec36c79d0a9",
    "outputId": "ed07daa0-f1ab-492c-e51c-70618d165a83"
   },
   "outputs": [
    {
     "data": {
      "text/html": [
       "\n",
       "  <div id=\"df-66448886-b1df-4f25-b4f6-0bb6d647163b\">\n",
       "    <div class=\"colab-df-container\">\n",
       "      <div>\n",
       "<style scoped>\n",
       "    .dataframe tbody tr th:only-of-type {\n",
       "        vertical-align: middle;\n",
       "    }\n",
       "\n",
       "    .dataframe tbody tr th {\n",
       "        vertical-align: top;\n",
       "    }\n",
       "\n",
       "    .dataframe thead th {\n",
       "        text-align: right;\n",
       "    }\n",
       "</style>\n",
       "<table border=\"1\" class=\"dataframe\">\n",
       "  <thead>\n",
       "    <tr style=\"text-align: right;\">\n",
       "      <th></th>\n",
       "      <th>category</th>\n",
       "      <th>base_5</th>\n",
       "      <th>base_10</th>\n",
       "      <th>syn_5</th>\n",
       "      <th>syn_10</th>\n",
       "    </tr>\n",
       "  </thead>\n",
       "  <tbody>\n",
       "    <tr>\n",
       "      <th>crime_yn</th>\n",
       "      <td>RandomForestRegressor</td>\n",
       "      <td>0.937618</td>\n",
       "      <td>0.871747</td>\n",
       "      <td>0.733333</td>\n",
       "      <td>0.433333</td>\n",
       "    </tr>\n",
       "  </tbody>\n",
       "</table>\n",
       "</div>\n",
       "      <button class=\"colab-df-convert\" onclick=\"convertToInteractive('df-66448886-b1df-4f25-b4f6-0bb6d647163b')\"\n",
       "              title=\"Convert this dataframe to an interactive table.\"\n",
       "              style=\"display:none;\">\n",
       "        \n",
       "  <svg xmlns=\"http://www.w3.org/2000/svg\" height=\"24px\"viewBox=\"0 0 24 24\"\n",
       "       width=\"24px\">\n",
       "    <path d=\"M0 0h24v24H0V0z\" fill=\"none\"/>\n",
       "    <path d=\"M18.56 5.44l.94 2.06.94-2.06 2.06-.94-2.06-.94-.94-2.06-.94 2.06-2.06.94zm-11 1L8.5 8.5l.94-2.06 2.06-.94-2.06-.94L8.5 2.5l-.94 2.06-2.06.94zm10 10l.94 2.06.94-2.06 2.06-.94-2.06-.94-.94-2.06-.94 2.06-2.06.94z\"/><path d=\"M17.41 7.96l-1.37-1.37c-.4-.4-.92-.59-1.43-.59-.52 0-1.04.2-1.43.59L10.3 9.45l-7.72 7.72c-.78.78-.78 2.05 0 2.83L4 21.41c.39.39.9.59 1.41.59.51 0 1.02-.2 1.41-.59l7.78-7.78 2.81-2.81c.8-.78.8-2.07 0-2.86zM5.41 20L4 18.59l7.72-7.72 1.47 1.35L5.41 20z\"/>\n",
       "  </svg>\n",
       "      </button>\n",
       "      \n",
       "  <style>\n",
       "    .colab-df-container {\n",
       "      display:flex;\n",
       "      flex-wrap:wrap;\n",
       "      gap: 12px;\n",
       "    }\n",
       "\n",
       "    .colab-df-convert {\n",
       "      background-color: #E8F0FE;\n",
       "      border: none;\n",
       "      border-radius: 50%;\n",
       "      cursor: pointer;\n",
       "      display: none;\n",
       "      fill: #1967D2;\n",
       "      height: 32px;\n",
       "      padding: 0 0 0 0;\n",
       "      width: 32px;\n",
       "    }\n",
       "\n",
       "    .colab-df-convert:hover {\n",
       "      background-color: #E2EBFA;\n",
       "      box-shadow: 0px 1px 2px rgba(60, 64, 67, 0.3), 0px 1px 3px 1px rgba(60, 64, 67, 0.15);\n",
       "      fill: #174EA6;\n",
       "    }\n",
       "\n",
       "    [theme=dark] .colab-df-convert {\n",
       "      background-color: #3B4455;\n",
       "      fill: #D2E3FC;\n",
       "    }\n",
       "\n",
       "    [theme=dark] .colab-df-convert:hover {\n",
       "      background-color: #434B5C;\n",
       "      box-shadow: 0px 1px 3px 1px rgba(0, 0, 0, 0.15);\n",
       "      filter: drop-shadow(0px 1px 2px rgba(0, 0, 0, 0.3));\n",
       "      fill: #FFFFFF;\n",
       "    }\n",
       "  </style>\n",
       "\n",
       "      <script>\n",
       "        const buttonEl =\n",
       "          document.querySelector('#df-66448886-b1df-4f25-b4f6-0bb6d647163b button.colab-df-convert');\n",
       "        buttonEl.style.display =\n",
       "          google.colab.kernel.accessAllowed ? 'block' : 'none';\n",
       "\n",
       "        async function convertToInteractive(key) {\n",
       "          const element = document.querySelector('#df-66448886-b1df-4f25-b4f6-0bb6d647163b');\n",
       "          const dataTable =\n",
       "            await google.colab.kernel.invokeFunction('convertToInteractive',\n",
       "                                                     [key], {});\n",
       "          if (!dataTable) return;\n",
       "\n",
       "          const docLinkHtml = 'Like what you see? Visit the ' +\n",
       "            '<a target=\"_blank\" href=https://colab.research.google.com/notebooks/data_table.ipynb>data table notebook</a>'\n",
       "            + ' to learn more about interactive tables.';\n",
       "          element.innerHTML = '';\n",
       "          dataTable['output_type'] = 'display_data';\n",
       "          await google.colab.output.renderOutput(dataTable, element);\n",
       "          const docLink = document.createElement('div');\n",
       "          docLink.innerHTML = docLinkHtml;\n",
       "          element.appendChild(docLink);\n",
       "        }\n",
       "      </script>\n",
       "    </div>\n",
       "  </div>\n",
       "  "
      ],
      "text/plain": [
       "                       category    base_5   base_10     syn_5    syn_10\n",
       "crime_yn  RandomForestRegressor  0.937618  0.871747  0.733333  0.433333"
      ]
     },
     "execution_count": 53,
     "metadata": {},
     "output_type": "execute_result"
    }
   ],
   "source": [
    "df_result_rf"
   ]
  },
  {
   "cell_type": "markdown",
   "id": "bc563f17",
   "metadata": {
    "id": "46800ae8-23f3-498c-9dda-3aa3480a2dde",
    "jp-MarkdownHeadingCollapsed": true,
    "tags": []
   },
   "source": [
    "### xgBoost"
   ]
  },
  {
   "cell_type": "markdown",
   "id": "33808e7c",
   "metadata": {
    "id": "2863a556-cd0d-4253-b198-66431d690275"
   },
   "source": [
    "Last algorithm is xgBoost. \n",
    "\n",
    "xgBoost is a powerful machine learning algorithm designed to improve the performance of gradient boosting algorithm.\n",
    "\n",
    "Main features is as follows:\n",
    "\n",
    "- Parallel processing and hardware optimization for fast and efficient model training.\n",
    "- Overfitting prevention and normalization technology for better generalization.\n",
    "- By default provides handling for missing values and feature selection processing."
   ]
  },
  {
   "cell_type": "code",
   "execution_count": 54,
   "id": "c0353c97",
   "metadata": {
    "executionInfo": {
     "elapsed": 9,
     "status": "ok",
     "timestamp": 1680598258523,
     "user": {
      "displayName": "김형준",
      "userId": "10277863568716562689"
     },
     "user_tz": -540
    },
    "id": "c1e44c89-854e-4fb9-9d23-5004b122967a"
   },
   "outputs": [],
   "source": [
    "import xgboost as xgb"
   ]
  },
  {
   "cell_type": "markdown",
   "id": "2632f11d",
   "metadata": {
    "id": "4e925aa5-f515-4a0c-af2d-8ad5b61e82a9",
    "tags": []
   },
   "source": [
    "#### Real Data (X_train, X_test, y_train, y_test)"
   ]
  },
  {
   "cell_type": "markdown",
   "id": "5f4b4fd4",
   "metadata": {
    "id": "2e407891-0b31-4f94-a77a-bb990518855d",
    "jp-MarkdownHeadingCollapsed": true,
    "tags": []
   },
   "source": [
    "Real data xgBoost regression model training\n",
    "- Train real data using xgBoost regression model."
   ]
  },
  {
   "cell_type": "code",
   "execution_count": 55,
   "id": "3d9c5dbb",
   "metadata": {
    "executionInfo": {
     "elapsed": 974,
     "status": "ok",
     "timestamp": 1680598259489,
     "user": {
      "displayName": "김형준",
      "userId": "10277863568716562689"
     },
     "user_tz": -540
    },
    "id": "9a9c410a-a3c3-40ed-8374-6d1b1b02dae4"
   },
   "outputs": [],
   "source": [
    "dtrain = xgb.DMatrix(X_train, label=y_train)\n",
    "dtest = xgb.DMatrix(X_test, label=y_test)"
   ]
  },
  {
   "cell_type": "code",
   "execution_count": 56,
   "id": "d32bb2ae",
   "metadata": {
    "executionInfo": {
     "elapsed": 2,
     "status": "ok",
     "timestamp": 1680598259489,
     "user": {
      "displayName": "김형준",
      "userId": "10277863568716562689"
     },
     "user_tz": -540
    },
    "id": "45eed8a1-17ea-438b-8574-caf61f78edb7"
   },
   "outputs": [],
   "source": [
    "params = {\n",
    "    \"max_depth\": 2,\n",
    "    \"eta\": 0.1,\n",
    "    \"subsample\": 0.5,\n",
    "    \"colsample_bytree\": 0.5,\n",
    "    \"objective\": \"reg:squarederror\",\n",
    "    \"eval_metric\": \"rmse\",\n",
    "}\n",
    "num_round = 100"
   ]
  },
  {
   "cell_type": "code",
   "execution_count": 57,
   "id": "ba297ad1",
   "metadata": {
    "executionInfo": {
     "elapsed": 290,
     "status": "ok",
     "timestamp": 1680598259778,
     "user": {
      "displayName": "김형준",
      "userId": "10277863568716562689"
     },
     "user_tz": -540
    },
    "id": "9313ab37-3c80-4fb7-9f16-d9593f6845ac"
   },
   "outputs": [],
   "source": [
    "xgb_model = xgb.train(params, dtrain, num_round)"
   ]
  },
  {
   "cell_type": "markdown",
   "id": "5c2a5c86",
   "metadata": {
    "id": "87ac3839-973a-4802-b26f-4bcf25cc24ec",
    "jp-MarkdownHeadingCollapsed": true,
    "tags": []
   },
   "source": [
    "Real data predicted value\n",
    "- Calculate real data predicted value."
   ]
  },
  {
   "cell_type": "code",
   "execution_count": 58,
   "id": "04ffa3a3",
   "metadata": {
    "executionInfo": {
     "elapsed": 6,
     "status": "ok",
     "timestamp": 1680598259778,
     "user": {
      "displayName": "김형준",
      "userId": "10277863568716562689"
     },
     "user_tz": -540
    },
    "id": "a559ae4b-3fef-4234-9336-96d7b6ce614d"
   },
   "outputs": [],
   "source": [
    "y_pred = xgb_model.predict(dtest)"
   ]
  },
  {
   "cell_type": "code",
   "execution_count": 59,
   "id": "c44a9440",
   "metadata": {
    "executionInfo": {
     "elapsed": 7,
     "status": "ok",
     "timestamp": 1680598259779,
     "user": {
      "displayName": "김형준",
      "userId": "10277863568716562689"
     },
     "user_tz": -540
    },
    "id": "e434ba83-9de5-43a6-bb1b-144ad7bca9a0",
    "tags": []
   },
   "outputs": [],
   "source": [
    "index = X_test.index.tolist()"
   ]
  },
  {
   "cell_type": "code",
   "execution_count": 60,
   "id": "f8e6aaab",
   "metadata": {
    "executionInfo": {
     "elapsed": 6,
     "status": "ok",
     "timestamp": 1680598259779,
     "user": {
      "displayName": "김형준",
      "userId": "10277863568716562689"
     },
     "user_tz": -540
    },
    "id": "3a309b52-c9cc-45d2-be40-23ac673317f3",
    "tags": []
   },
   "outputs": [],
   "source": [
    "df = pd.DataFrame({'index' : index ,'pred': y_pred})"
   ]
  },
  {
   "cell_type": "markdown",
   "id": "a000b206",
   "metadata": {
    "id": "f0d75e76-7c6e-4a5c-9d18-960c5b97485c"
   },
   "source": [
    "Detection rate of top 5% crime regression predicted value against real data \n",
    "- Determine whether crime occurred or not by selecting only top 5% predicted value."
   ]
  },
  {
   "cell_type": "code",
   "execution_count": 61,
   "id": "fe651748",
   "metadata": {
    "executionInfo": {
     "elapsed": 6,
     "status": "ok",
     "timestamp": 1680598259779,
     "user": {
      "displayName": "김형준",
      "userId": "10277863568716562689"
     },
     "user_tz": -540
    },
    "id": "dab86c7b-6faf-4a10-b71b-c9d473014325"
   },
   "outputs": [],
   "source": [
    "base_5 = reg_top_5per(df,y_test)"
   ]
  },
  {
   "cell_type": "markdown",
   "id": "f35be360",
   "metadata": {
    "id": "f620eac3-505c-4745-9001-9616f9dd8912"
   },
   "source": [
    "Detection rate of top 10% crime regression predicted value against real data \n",
    "- Determine whether crime occurred or not by selecting only top 10% predicted value."
   ]
  },
  {
   "cell_type": "code",
   "execution_count": 62,
   "id": "41de707d",
   "metadata": {
    "executionInfo": {
     "elapsed": 6,
     "status": "ok",
     "timestamp": 1680598259779,
     "user": {
      "displayName": "김형준",
      "userId": "10277863568716562689"
     },
     "user_tz": -540
    },
    "id": "f5837978-6e7e-4873-82d5-ab38f2e978e9"
   },
   "outputs": [],
   "source": [
    "base_10 = reg_top_10per(df,y_test)"
   ]
  },
  {
   "cell_type": "markdown",
   "id": "6ff32cb6",
   "metadata": {
    "id": "ee5cffe0-353e-468b-8c7b-366f6346e05c",
    "tags": []
   },
   "source": [
    "#### Synthetic Data (X_syn_train, X_syn_test, y_syn_train, y_syn_test)"
   ]
  },
  {
   "cell_type": "markdown",
   "id": "84645004",
   "metadata": {
    "id": "f259f524-afe0-447d-8bb5-aeff602b6f50"
   },
   "source": [
    "Synthetic data xgBoost regression model training\n",
    "- Unlike other models, we perform training by inputting DMatrix type data as part of xgb."
   ]
  },
  {
   "cell_type": "code",
   "execution_count": 63,
   "id": "b294c303",
   "metadata": {
    "executionInfo": {
     "elapsed": 7,
     "status": "ok",
     "timestamp": 1680598259780,
     "user": {
      "displayName": "김형준",
      "userId": "10277863568716562689"
     },
     "user_tz": -540
    },
    "id": "97e2c252-aa99-4d83-97f8-7eaa2fd791a0"
   },
   "outputs": [],
   "source": [
    "dtrain_syn = xgb.DMatrix(X_syn_train, label=y_syn_train)\n",
    "dtest_syn = xgb.DMatrix(X_syn_test, label=y_syn_test)"
   ]
  },
  {
   "cell_type": "markdown",
   "id": "e4fca255",
   "metadata": {
    "id": "00579caa-68e0-40e6-83d7-7155fdce6c8f"
   },
   "source": [
    "Parameters for training the model.\n",
    "\n",
    "We can also find appropriate training method by adjusting parameter values."
   ]
  },
  {
   "cell_type": "code",
   "execution_count": 64,
   "id": "94d6b5c2",
   "metadata": {
    "executionInfo": {
     "elapsed": 6,
     "status": "ok",
     "timestamp": 1680598259780,
     "user": {
      "displayName": "김형준",
      "userId": "10277863568716562689"
     },
     "user_tz": -540
    },
    "id": "146e88c6-a16c-4d9f-8c41-67a38ad5cdc7"
   },
   "outputs": [],
   "source": [
    "params = {\n",
    "    \"max_depth\": 2,\n",
    "    \"eta\": 0.1,\n",
    "    \"subsample\": 0.5,\n",
    "    \"colsample_bytree\": 0.5,\n",
    "    \"objective\": \"reg:squarederror\",\n",
    "    \"eval_metric\": \"rmse\",\n",
    "}\n",
    "num_round = 100"
   ]
  },
  {
   "cell_type": "markdown",
   "id": "c090981f",
   "metadata": {
    "id": "732b6088-befe-4627-b054-6d604d13f21c"
   },
   "source": [
    "Train by inputting parameters, data and execution count."
   ]
  },
  {
   "cell_type": "code",
   "execution_count": 65,
   "id": "aab3e56b",
   "metadata": {
    "executionInfo": {
     "elapsed": 6,
     "status": "ok",
     "timestamp": 1680598259780,
     "user": {
      "displayName": "김형준",
      "userId": "10277863568716562689"
     },
     "user_tz": -540
    },
    "id": "b2a104c0-8914-46d1-8bf1-1edbb706dcea"
   },
   "outputs": [],
   "source": [
    "xgb_model_syn = xgb.train(params, dtrain_syn, num_round)"
   ]
  },
  {
   "cell_type": "markdown",
   "id": "eaab43fc",
   "metadata": {
    "id": "fb75d0e0-3567-43b3-8d14-a425bef55014",
    "tags": []
   },
   "source": [
    "Synthetic data predicted value.\n",
    "- Calculate synthetic data predicted value."
   ]
  },
  {
   "cell_type": "code",
   "execution_count": 66,
   "id": "76c392f7",
   "metadata": {
    "executionInfo": {
     "elapsed": 6,
     "status": "ok",
     "timestamp": 1680598259780,
     "user": {
      "displayName": "김형준",
      "userId": "10277863568716562689"
     },
     "user_tz": -540
    },
    "id": "9855aeb5-6b1c-484d-ba18-1dade42b0e0e"
   },
   "outputs": [],
   "source": [
    "y_syn_pred = xgb_model_syn.predict(dtest_syn)"
   ]
  },
  {
   "cell_type": "code",
   "execution_count": 67,
   "id": "c8cc657c",
   "metadata": {
    "executionInfo": {
     "elapsed": 7,
     "status": "ok",
     "timestamp": 1680598259781,
     "user": {
      "displayName": "김형준",
      "userId": "10277863568716562689"
     },
     "user_tz": -540
    },
    "id": "3a412152-9828-4387-8dba-d1dc1ba06dc6",
    "tags": []
   },
   "outputs": [],
   "source": [
    "index = X_syn_test.index.tolist()"
   ]
  },
  {
   "cell_type": "code",
   "execution_count": 68,
   "id": "6fcad8ba",
   "metadata": {
    "executionInfo": {
     "elapsed": 270,
     "status": "ok",
     "timestamp": 1680598260045,
     "user": {
      "displayName": "김형준",
      "userId": "10277863568716562689"
     },
     "user_tz": -540
    },
    "id": "92295972-8062-4c21-a27c-044e6ce2cd9c",
    "tags": []
   },
   "outputs": [],
   "source": [
    "df = pd.DataFrame({'index' : index ,'pred': y_syn_pred})"
   ]
  },
  {
   "cell_type": "markdown",
   "id": "f8445422",
   "metadata": {
    "id": "8209c28a-25f9-4dca-9456-cdae9f72f17e"
   },
   "source": [
    "Detection rate of top 5% crime regression predicted value against synthetic data \n",
    "- Determine whether crime occurred or not by selecting only top 5% predicted value."
   ]
  },
  {
   "cell_type": "code",
   "execution_count": 69,
   "id": "de5719b2",
   "metadata": {
    "executionInfo": {
     "elapsed": 270,
     "status": "ok",
     "timestamp": 1680598260045,
     "user": {
      "displayName": "김형준",
      "userId": "10277863568716562689"
     },
     "user_tz": -540
    },
    "id": "b1e6797b-c339-443b-8f15-3f0f5b122c18"
   },
   "outputs": [],
   "source": [
    "syn_5 = reg_top_5per(df,y_syn_test)"
   ]
  },
  {
   "cell_type": "markdown",
   "id": "35267002",
   "metadata": {
    "id": "ebbc1164-4e70-4a09-b701-040de522da71"
   },
   "source": [
    "Detection rate of top 10% crime regression predicted value against synthetic data \n",
    "- Determine whether crime occurred or not by selecting only top 10% predicted value."
   ]
  },
  {
   "cell_type": "code",
   "execution_count": 70,
   "id": "eca680dd",
   "metadata": {
    "executionInfo": {
     "elapsed": 9,
     "status": "ok",
     "timestamp": 1680598260045,
     "user": {
      "displayName": "김형준",
      "userId": "10277863568716562689"
     },
     "user_tz": -540
    },
    "id": "da7d144b-cef5-42b0-8654-e9123cce0208",
    "tags": []
   },
   "outputs": [],
   "source": [
    "syn_10 = reg_top_10per(df,y_syn_test)"
   ]
  },
  {
   "cell_type": "markdown",
   "id": "aedbf893",
   "metadata": {
    "id": "326e742f-fccb-4a25-8092-f5068dc2b780",
    "tags": []
   },
   "source": [
    "#### Detection Rate Summary - xgBoost \n"
   ]
  },
  {
   "cell_type": "markdown",
   "id": "17bf7046",
   "metadata": {
    "id": "LxQlFl3RXD8H"
   },
   "source": [
    "- Detection rate decreases proportionally from 5% group to 10% group."
   ]
  },
  {
   "cell_type": "code",
   "execution_count": 71,
   "id": "41f70a6a",
   "metadata": {
    "executionInfo": {
     "elapsed": 10,
     "status": "ok",
     "timestamp": 1680598260046,
     "user": {
      "displayName": "김형준",
      "userId": "10277863568716562689"
     },
     "user_tz": -540
    },
    "id": "77260034-21e4-4f4d-8219-db97e7a86da5"
   },
   "outputs": [],
   "source": [
    "df_result_xgb = pd.DataFrame({'category': 'xgboost','base_5' : base_5, 'base_10': base_10,'syn_5': syn_5,'syn_10': syn_10})"
   ]
  },
  {
   "cell_type": "code",
   "execution_count": 72,
   "id": "10557445",
   "metadata": {
    "colab": {
     "base_uri": "https://localhost:8080/",
     "height": 81
    },
    "executionInfo": {
     "elapsed": 9,
     "status": "ok",
     "timestamp": 1680598260046,
     "user": {
      "displayName": "김형준",
      "userId": "10277863568716562689"
     },
     "user_tz": -540
    },
    "id": "669b7450-58f7-48a4-adc4-51018fe42c1e",
    "outputId": "13896353-b552-49a5-df4d-a1d444dd7c5c"
   },
   "outputs": [
    {
     "data": {
      "text/html": [
       "\n",
       "  <div id=\"df-0eb6ec31-c642-41f8-bdc3-246305346958\">\n",
       "    <div class=\"colab-df-container\">\n",
       "      <div>\n",
       "<style scoped>\n",
       "    .dataframe tbody tr th:only-of-type {\n",
       "        vertical-align: middle;\n",
       "    }\n",
       "\n",
       "    .dataframe tbody tr th {\n",
       "        vertical-align: top;\n",
       "    }\n",
       "\n",
       "    .dataframe thead th {\n",
       "        text-align: right;\n",
       "    }\n",
       "</style>\n",
       "<table border=\"1\" class=\"dataframe\">\n",
       "  <thead>\n",
       "    <tr style=\"text-align: right;\">\n",
       "      <th></th>\n",
       "      <th>category</th>\n",
       "      <th>base_5</th>\n",
       "      <th>base_10</th>\n",
       "      <th>syn_5</th>\n",
       "      <th>syn_10</th>\n",
       "    </tr>\n",
       "  </thead>\n",
       "  <tbody>\n",
       "    <tr>\n",
       "      <th>crime_yn</th>\n",
       "      <td>xgboost</td>\n",
       "      <td>0.401852</td>\n",
       "      <td>0.390741</td>\n",
       "      <td>0.5625</td>\n",
       "      <td>0.375</td>\n",
       "    </tr>\n",
       "  </tbody>\n",
       "</table>\n",
       "</div>\n",
       "      <button class=\"colab-df-convert\" onclick=\"convertToInteractive('df-0eb6ec31-c642-41f8-bdc3-246305346958')\"\n",
       "              title=\"Convert this dataframe to an interactive table.\"\n",
       "              style=\"display:none;\">\n",
       "        \n",
       "  <svg xmlns=\"http://www.w3.org/2000/svg\" height=\"24px\"viewBox=\"0 0 24 24\"\n",
       "       width=\"24px\">\n",
       "    <path d=\"M0 0h24v24H0V0z\" fill=\"none\"/>\n",
       "    <path d=\"M18.56 5.44l.94 2.06.94-2.06 2.06-.94-2.06-.94-.94-2.06-.94 2.06-2.06.94zm-11 1L8.5 8.5l.94-2.06 2.06-.94-2.06-.94L8.5 2.5l-.94 2.06-2.06.94zm10 10l.94 2.06.94-2.06 2.06-.94-2.06-.94-.94-2.06-.94 2.06-2.06.94z\"/><path d=\"M17.41 7.96l-1.37-1.37c-.4-.4-.92-.59-1.43-.59-.52 0-1.04.2-1.43.59L10.3 9.45l-7.72 7.72c-.78.78-.78 2.05 0 2.83L4 21.41c.39.39.9.59 1.41.59.51 0 1.02-.2 1.41-.59l7.78-7.78 2.81-2.81c.8-.78.8-2.07 0-2.86zM5.41 20L4 18.59l7.72-7.72 1.47 1.35L5.41 20z\"/>\n",
       "  </svg>\n",
       "      </button>\n",
       "      \n",
       "  <style>\n",
       "    .colab-df-container {\n",
       "      display:flex;\n",
       "      flex-wrap:wrap;\n",
       "      gap: 12px;\n",
       "    }\n",
       "\n",
       "    .colab-df-convert {\n",
       "      background-color: #E8F0FE;\n",
       "      border: none;\n",
       "      border-radius: 50%;\n",
       "      cursor: pointer;\n",
       "      display: none;\n",
       "      fill: #1967D2;\n",
       "      height: 32px;\n",
       "      padding: 0 0 0 0;\n",
       "      width: 32px;\n",
       "    }\n",
       "\n",
       "    .colab-df-convert:hover {\n",
       "      background-color: #E2EBFA;\n",
       "      box-shadow: 0px 1px 2px rgba(60, 64, 67, 0.3), 0px 1px 3px 1px rgba(60, 64, 67, 0.15);\n",
       "      fill: #174EA6;\n",
       "    }\n",
       "\n",
       "    [theme=dark] .colab-df-convert {\n",
       "      background-color: #3B4455;\n",
       "      fill: #D2E3FC;\n",
       "    }\n",
       "\n",
       "    [theme=dark] .colab-df-convert:hover {\n",
       "      background-color: #434B5C;\n",
       "      box-shadow: 0px 1px 3px 1px rgba(0, 0, 0, 0.15);\n",
       "      filter: drop-shadow(0px 1px 2px rgba(0, 0, 0, 0.3));\n",
       "      fill: #FFFFFF;\n",
       "    }\n",
       "  </style>\n",
       "\n",
       "      <script>\n",
       "        const buttonEl =\n",
       "          document.querySelector('#df-0eb6ec31-c642-41f8-bdc3-246305346958 button.colab-df-convert');\n",
       "        buttonEl.style.display =\n",
       "          google.colab.kernel.accessAllowed ? 'block' : 'none';\n",
       "\n",
       "        async function convertToInteractive(key) {\n",
       "          const element = document.querySelector('#df-0eb6ec31-c642-41f8-bdc3-246305346958');\n",
       "          const dataTable =\n",
       "            await google.colab.kernel.invokeFunction('convertToInteractive',\n",
       "                                                     [key], {});\n",
       "          if (!dataTable) return;\n",
       "\n",
       "          const docLinkHtml = 'Like what you see? Visit the ' +\n",
       "            '<a target=\"_blank\" href=https://colab.research.google.com/notebooks/data_table.ipynb>data table notebook</a>'\n",
       "            + ' to learn more about interactive tables.';\n",
       "          element.innerHTML = '';\n",
       "          dataTable['output_type'] = 'display_data';\n",
       "          await google.colab.output.renderOutput(dataTable, element);\n",
       "          const docLink = document.createElement('div');\n",
       "          docLink.innerHTML = docLinkHtml;\n",
       "          element.appendChild(docLink);\n",
       "        }\n",
       "      </script>\n",
       "    </div>\n",
       "  </div>\n",
       "  "
      ],
      "text/plain": [
       "         category    base_5   base_10   syn_5  syn_10\n",
       "crime_yn  xgboost  0.401852  0.390741  0.5625  0.375 "
      ]
     },
     "execution_count": 72,
     "metadata": {},
     "output_type": "execute_result"
    }
   ],
   "source": [
    "df_result_xgb"
   ]
  },
  {
   "cell_type": "markdown",
   "id": "755a3c27",
   "metadata": {
    "id": "8ee84321-f619-4ab1-a10b-f24972684e1b"
   },
   "source": [
    "## Detection Rate Summary for Each Model"
   ]
  },
  {
   "cell_type": "markdown",
   "id": "575a6e7d",
   "metadata": {
    "id": "6c8ed2f4-a2ff-42ad-a353-850fb109a841"
   },
   "source": [
    "- We summarized detection rate using representative models.\n",
    "- We can see that the detection rate in 5% group and 10% group decreased when using synthetic data.\n",
    "- This means that we can get results with similar trends to real data when you use the same algorithm to perform training.\n",
    "- These numbers are only one example.\n",
    "- The statistical properties could change by various parameters such as amount of extracted data for CTGAN, or amount of generated data.\n",
    "- We need to find appropriate algorithm and parameter for each project."
   ]
  },
  {
   "cell_type": "code",
   "execution_count": 73,
   "id": "8255aca1",
   "metadata": {
    "executionInfo": {
     "elapsed": 8,
     "status": "ok",
     "timestamp": 1680598260046,
     "user": {
      "displayName": "김형준",
      "userId": "10277863568716562689"
     },
     "user_tz": -540
    },
    "id": "a5027324-4345-4704-8c62-74ec0decfa58"
   },
   "outputs": [],
   "source": [
    "total_result = pd.concat([df_result_lr, df_result_rf, df_result_xgb])"
   ]
  },
  {
   "cell_type": "code",
   "execution_count": 74,
   "id": "c1fdfd56",
   "metadata": {
    "executionInfo": {
     "elapsed": 9,
     "status": "ok",
     "timestamp": 1680598260047,
     "user": {
      "displayName": "김형준",
      "userId": "10277863568716562689"
     },
     "user_tz": -540
    },
    "id": "d5171186-2623-4ac7-810a-1853183d9104"
   },
   "outputs": [],
   "source": [
    "total_result = total_result.reset_index(drop=True)"
   ]
  },
  {
   "cell_type": "code",
   "execution_count": 75,
   "id": "45d326ce",
   "metadata": {
    "colab": {
     "base_uri": "https://localhost:8080/",
     "height": 143
    },
    "executionInfo": {
     "elapsed": 9,
     "status": "ok",
     "timestamp": 1680598260047,
     "user": {
      "displayName": "김형준",
      "userId": "10277863568716562689"
     },
     "user_tz": -540
    },
    "id": "889008fa-7764-4a63-89a1-f0b5cd9cf422",
    "outputId": "696daa8e-cb6b-4fe0-f35a-8e8b4f14a2d4"
   },
   "outputs": [
    {
     "data": {
      "text/html": [
       "\n",
       "  <div id=\"df-ad934aa8-43eb-401e-b482-38a12451d00a\">\n",
       "    <div class=\"colab-df-container\">\n",
       "      <div>\n",
       "<style scoped>\n",
       "    .dataframe tbody tr th:only-of-type {\n",
       "        vertical-align: middle;\n",
       "    }\n",
       "\n",
       "    .dataframe tbody tr th {\n",
       "        vertical-align: top;\n",
       "    }\n",
       "\n",
       "    .dataframe thead th {\n",
       "        text-align: right;\n",
       "    }\n",
       "</style>\n",
       "<table border=\"1\" class=\"dataframe\">\n",
       "  <thead>\n",
       "    <tr style=\"text-align: right;\">\n",
       "      <th></th>\n",
       "      <th>category</th>\n",
       "      <th>base_5</th>\n",
       "      <th>base_10</th>\n",
       "      <th>syn_5</th>\n",
       "      <th>syn_10</th>\n",
       "    </tr>\n",
       "  </thead>\n",
       "  <tbody>\n",
       "    <tr>\n",
       "      <th>0</th>\n",
       "      <td>LinearRegression</td>\n",
       "      <td>0.353704</td>\n",
       "      <td>0.311111</td>\n",
       "      <td>0.375</td>\n",
       "      <td>0.28125</td>\n",
       "    </tr>\n",
       "    <tr>\n",
       "      <th>1</th>\n",
       "      <td>RandomForestRegressor</td>\n",
       "      <td>0.937618</td>\n",
       "      <td>0.871747</td>\n",
       "      <td>0.733333</td>\n",
       "      <td>0.433333</td>\n",
       "    </tr>\n",
       "    <tr>\n",
       "      <th>2</th>\n",
       "      <td>xgboost</td>\n",
       "      <td>0.401852</td>\n",
       "      <td>0.390741</td>\n",
       "      <td>0.562500</td>\n",
       "      <td>0.375000</td>\n",
       "    </tr>\n",
       "  </tbody>\n",
       "</table>\n",
       "</div>\n",
       "      <button class=\"colab-df-convert\" onclick=\"convertToInteractive('df-ad934aa8-43eb-401e-b482-38a12451d00a')\"\n",
       "              title=\"Convert this dataframe to an interactive table.\"\n",
       "              style=\"display:none;\">\n",
       "        \n",
       "  <svg xmlns=\"http://www.w3.org/2000/svg\" height=\"24px\"viewBox=\"0 0 24 24\"\n",
       "       width=\"24px\">\n",
       "    <path d=\"M0 0h24v24H0V0z\" fill=\"none\"/>\n",
       "    <path d=\"M18.56 5.44l.94 2.06.94-2.06 2.06-.94-2.06-.94-.94-2.06-.94 2.06-2.06.94zm-11 1L8.5 8.5l.94-2.06 2.06-.94-2.06-.94L8.5 2.5l-.94 2.06-2.06.94zm10 10l.94 2.06.94-2.06 2.06-.94-2.06-.94-.94-2.06-.94 2.06-2.06.94z\"/><path d=\"M17.41 7.96l-1.37-1.37c-.4-.4-.92-.59-1.43-.59-.52 0-1.04.2-1.43.59L10.3 9.45l-7.72 7.72c-.78.78-.78 2.05 0 2.83L4 21.41c.39.39.9.59 1.41.59.51 0 1.02-.2 1.41-.59l7.78-7.78 2.81-2.81c.8-.78.8-2.07 0-2.86zM5.41 20L4 18.59l7.72-7.72 1.47 1.35L5.41 20z\"/>\n",
       "  </svg>\n",
       "      </button>\n",
       "      \n",
       "  <style>\n",
       "    .colab-df-container {\n",
       "      display:flex;\n",
       "      flex-wrap:wrap;\n",
       "      gap: 12px;\n",
       "    }\n",
       "\n",
       "    .colab-df-convert {\n",
       "      background-color: #E8F0FE;\n",
       "      border: none;\n",
       "      border-radius: 50%;\n",
       "      cursor: pointer;\n",
       "      display: none;\n",
       "      fill: #1967D2;\n",
       "      height: 32px;\n",
       "      padding: 0 0 0 0;\n",
       "      width: 32px;\n",
       "    }\n",
       "\n",
       "    .colab-df-convert:hover {\n",
       "      background-color: #E2EBFA;\n",
       "      box-shadow: 0px 1px 2px rgba(60, 64, 67, 0.3), 0px 1px 3px 1px rgba(60, 64, 67, 0.15);\n",
       "      fill: #174EA6;\n",
       "    }\n",
       "\n",
       "    [theme=dark] .colab-df-convert {\n",
       "      background-color: #3B4455;\n",
       "      fill: #D2E3FC;\n",
       "    }\n",
       "\n",
       "    [theme=dark] .colab-df-convert:hover {\n",
       "      background-color: #434B5C;\n",
       "      box-shadow: 0px 1px 3px 1px rgba(0, 0, 0, 0.15);\n",
       "      filter: drop-shadow(0px 1px 2px rgba(0, 0, 0, 0.3));\n",
       "      fill: #FFFFFF;\n",
       "    }\n",
       "  </style>\n",
       "\n",
       "      <script>\n",
       "        const buttonEl =\n",
       "          document.querySelector('#df-ad934aa8-43eb-401e-b482-38a12451d00a button.colab-df-convert');\n",
       "        buttonEl.style.display =\n",
       "          google.colab.kernel.accessAllowed ? 'block' : 'none';\n",
       "\n",
       "        async function convertToInteractive(key) {\n",
       "          const element = document.querySelector('#df-ad934aa8-43eb-401e-b482-38a12451d00a');\n",
       "          const dataTable =\n",
       "            await google.colab.kernel.invokeFunction('convertToInteractive',\n",
       "                                                     [key], {});\n",
       "          if (!dataTable) return;\n",
       "\n",
       "          const docLinkHtml = 'Like what you see? Visit the ' +\n",
       "            '<a target=\"_blank\" href=https://colab.research.google.com/notebooks/data_table.ipynb>data table notebook</a>'\n",
       "            + ' to learn more about interactive tables.';\n",
       "          element.innerHTML = '';\n",
       "          dataTable['output_type'] = 'display_data';\n",
       "          await google.colab.output.renderOutput(dataTable, element);\n",
       "          const docLink = document.createElement('div');\n",
       "          docLink.innerHTML = docLinkHtml;\n",
       "          element.appendChild(docLink);\n",
       "        }\n",
       "      </script>\n",
       "    </div>\n",
       "  </div>\n",
       "  "
      ],
      "text/plain": [
       "                category    base_5   base_10     syn_5    syn_10\n",
       "0  LinearRegression       0.353704  0.311111  0.375  0.28125\n",
       "1  RandomForestRegressor  0.937618  0.871747  0.733333  0.433333\n",
       "2  xgboost                0.401852  0.390741  0.562500  0.375000"
      ]
     },
     "execution_count": 75,
     "metadata": {},
     "output_type": "execute_result"
    }
   ],
   "source": [
    "total_result"
   ]
  }
 ],
 "metadata": {
  "colab": {
   "provenance": [],
   "toc_visible": true
  },
  "kernelspec": {
   "display_name": "Python 3 (ipykernel)",
   "language": "python",
   "name": "python3"
  },
  "language_info": {
   "codemirror_mode": {
    "name": "ipython",
    "version": 3
   },
   "file_extension": ".py",
   "mimetype": "text/x-python",
   "name": "python",
   "nbconvert_exporter": "python",
   "pygments_lexer": "ipython3",
   "version": "3.9.7"
  }
 },
 "nbformat": 4,
 "nbformat_minor": 5
}
