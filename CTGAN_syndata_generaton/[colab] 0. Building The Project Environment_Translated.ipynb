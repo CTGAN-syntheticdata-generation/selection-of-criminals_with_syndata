{
 "cells": [
  {
   "cell_type": "markdown",
   "id": "efe4fdcc",
   "metadata": {},
   "source": [
    "# 0. Configuring Project Environment "
   ]
  },
  {
   "cell_type": "markdown",
   "id": "5f6095ee",
   "metadata": {},
   "source": [
    "## Using Colab and Github"
   ]
  },
  {
   "cell_type": "markdown",
   "id": "df882e27",
   "metadata": {},
   "source": [
    "### Mouting Drive to Colab\n",
    "- Access your Google account drive.\n",
    "- Once receiving authentication request, agree and continue.\n",
    "- As you follow in order, the drive folder will be created on the left category.\n",
    "- If it is not created, refresh to view the drive folder."
   ]
  },
  {
   "cell_type": "code",
   "execution_count": 1,
   "id": "be9232ec",
   "metadata": {},
   "outputs": [
    {
     "ename": "ModuleNotFoundError",
     "evalue": "No module named 'google'",
     "output_type": "error",
     "traceback": [
      "\u001b[1;31m---------------------------------------------------------------------------\u001b[0m",
      "\u001b[1;31mModuleNotFoundError\u001b[0m                       Traceback (most recent call last)",
      "Cell \u001b[1;32mIn[1], line 1\u001b[0m\n\u001b[1;32m----> 1\u001b[0m \u001b[38;5;28;01mfrom\u001b[39;00m \u001b[38;5;21;01mgoogle\u001b[39;00m\u001b[38;5;21;01m.\u001b[39;00m\u001b[38;5;21;01mcolab\u001b[39;00m \u001b[38;5;28;01mimport\u001b[39;00m drive\n\u001b[0;32m      2\u001b[0m drive\u001b[38;5;241m.\u001b[39mmount(\u001b[38;5;124m'\u001b[39m\u001b[38;5;124m/content/drive\u001b[39m\u001b[38;5;124m'\u001b[39m)\n",
      "\u001b[1;31mModuleNotFoundError\u001b[0m: No module named 'google'"
     ]
    }
   ],
   "source": [
    "from google.colab import drive\n",
    "drive.mount('/content/drive')"
   ]
  },
  {
   "cell_type": "markdown",
   "id": "078bac20",
   "metadata": {},
   "source": [
    "- Set the current location to drive's MyDrive folder.\n",
    "- We will load the project that we will work on here."
   ]
  },
  {
   "cell_type": "code",
   "execution_count": null,
   "id": "236762d5",
   "metadata": {},
   "outputs": [],
   "source": [
    "cd \"/content/drive/MyDrive\""
   ]
  },
  {
   "cell_type": "markdown",
   "id": "fa76aa7f",
   "metadata": {},
   "source": [
    "### Loading Projects from GitHub"
   ]
  },
  {
   "cell_type": "markdown",
   "id": "a192f7de",
   "metadata": {},
   "source": [
    "- Import exercise project through Github. "
   ]
  },
  {
   "cell_type": "code",
   "execution_count": null,
   "id": "5cfeefb0",
   "metadata": {},
   "outputs": [],
   "source": [
    "!git clone https://github.com/CTGAN-syntheticdata-generation/Selection-of-criminals_with_syndata.git"
   ]
  },
  {
   "cell_type": "markdown",
   "id": "6559e5a6",
   "metadata": {},
   "source": [
    "- Change current location to the folder where the exercise data are."
   ]
  },
  {
   "cell_type": "code",
   "execution_count": null,
   "id": "1bf8e83b",
   "metadata": {},
   "outputs": [],
   "source": [
    "cd \"/content/drive/MyDrive/Selection-of-criminals_with_syndata/CTGAN_syndata_generaton\" "
   ]
  }
 ],
 "metadata": {
  "kernelspec": {
   "display_name": "Python 3 (ipykernel)",
   "language": "python",
   "name": "python3"
  },
  "language_info": {
   "codemirror_mode": {
    "name": "ipython",
    "version": 3
   },
   "file_extension": ".py",
   "mimetype": "text/x-python",
   "name": "python",
   "nbconvert_exporter": "python",
   "pygments_lexer": "ipython3",
   "version": "3.9.7"
  }
 },
 "nbformat": 4,
 "nbformat_minor": 5
}
